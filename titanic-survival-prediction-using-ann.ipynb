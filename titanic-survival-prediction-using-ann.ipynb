{
 "cells": [
  {
   "cell_type": "markdown",
   "id": "23f035cd",
   "metadata": {
    "papermill": {
     "duration": 0.009333,
     "end_time": "2023-12-10T18:25:32.255917",
     "exception": false,
     "start_time": "2023-12-10T18:25:32.246584",
     "status": "completed"
    },
    "tags": []
   },
   "source": [
    "<div style=\"color:white;\n",
    "            display:fill;\n",
    "            border-radius:15px;\n",
    "            background-color:BLACK;\n",
    "            font-size:100%;\n",
    "            font-family:Verdana;\n",
    "            letter-spacing:1px\">\n",
    "    <h3 style='padding: 20px;\n",
    "              color:CYAN;\n",
    "              text-align:center;'>\n",
    "        Titanic Survival Prediction\n",
    "    </h3>\n",
    "    </div>"
   ]
  },
  {
   "cell_type": "markdown",
   "id": "63ddf81c",
   "metadata": {
    "papermill": {
     "duration": 0.008055,
     "end_time": "2023-12-10T18:25:32.272458",
     "exception": false,
     "start_time": "2023-12-10T18:25:32.264403",
     "status": "completed"
    },
    "tags": []
   },
   "source": [
    "![](https://media.tenor.com/9Di9mmafWd4AAAAM/titanic.gif)"
   ]
  },
  {
   "cell_type": "markdown",
   "id": "a6372f2c",
   "metadata": {
    "papermill": {
     "duration": 0.007936,
     "end_time": "2023-12-10T18:25:32.288704",
     "exception": false,
     "start_time": "2023-12-10T18:25:32.280768",
     "status": "completed"
    },
    "tags": []
   },
   "source": [
    "<div style=\"color:white;\n",
    "            display:fill;\n",
    "            border-radius:15px;\n",
    "            background-color:BLACK;\n",
    "            font-size:100%;\n",
    "            font-family:Verdana;\n",
    "            letter-spacing:1px\">\n",
    "    <h3 style='padding: 20px;\n",
    "              color:CYAN;\n",
    "              text-align:center;'>\n",
    "        TABLE OF CONTENT\n",
    "    </h3>\n",
    "    </div>"
   ]
  },
  {
   "cell_type": "markdown",
   "id": "7f844c03",
   "metadata": {
    "papermill": {
     "duration": 0.007886,
     "end_time": "2023-12-10T18:25:32.304921",
     "exception": false,
     "start_time": "2023-12-10T18:25:32.297035",
     "status": "completed"
    },
    "tags": []
   },
   "source": [
    "* **Importing Libraries and Loading Data**\n",
    "\n",
    "* **Data Information and Data Cleaning**\n",
    "\n",
    "* **Building The Model**\n",
    "\n",
    "* **Conclusion**"
   ]
  },
  {
   "cell_type": "markdown",
   "id": "2b89b688",
   "metadata": {
    "papermill": {
     "duration": 0.008228,
     "end_time": "2023-12-10T18:25:32.321348",
     "exception": false,
     "start_time": "2023-12-10T18:25:32.313120",
     "status": "completed"
    },
    "tags": []
   },
   "source": [
    "<div style=\"color:white;\n",
    "            display:fill;\n",
    "            border-radius:15px;\n",
    "            background-color:BLACK;\n",
    "            font-size:100%;\n",
    "            font-family:Verdana;\n",
    "            letter-spacing:1px\">\n",
    "    <h3 style='padding: 20px;\n",
    "              color:CYAN;\n",
    "              text-align:center;'>\n",
    "        Importing Libraries\n",
    "    </h3>\n",
    "    </div>"
   ]
  },
  {
   "cell_type": "code",
   "execution_count": 1,
   "id": "082efb03",
   "metadata": {
    "execution": {
     "iopub.execute_input": "2023-12-10T18:25:32.341216Z",
     "iopub.status.busy": "2023-12-10T18:25:32.340702Z",
     "iopub.status.idle": "2023-12-10T18:25:48.860626Z",
     "shell.execute_reply": "2023-12-10T18:25:48.859479Z"
    },
    "papermill": {
     "duration": 16.532568,
     "end_time": "2023-12-10T18:25:48.863314",
     "exception": false,
     "start_time": "2023-12-10T18:25:32.330746",
     "status": "completed"
    },
    "tags": []
   },
   "outputs": [],
   "source": [
    "import numpy as np\n",
    "import pandas as pd\n",
    "import matplotlib.pyplot as plt\n",
    "import seaborn as sns\n",
    "import plotly.express as px\n",
    "from plotly.offline import init_notebook_mode, iplot, plot\n",
    "from sklearn.preprocessing import MinMaxScaler\n",
    "\n",
    "from tensorflow.keras.layers import Dense\n",
    "from tensorflow.keras.models import Sequential\n",
    "from sklearn.model_selection import train_test_split\n",
    "\n",
    "import warnings\n",
    "warnings.filterwarnings(\"ignore\")"
   ]
  },
  {
   "cell_type": "code",
   "execution_count": 2,
   "id": "570ef40a",
   "metadata": {
    "execution": {
     "iopub.execute_input": "2023-12-10T18:25:48.882831Z",
     "iopub.status.busy": "2023-12-10T18:25:48.881842Z",
     "iopub.status.idle": "2023-12-10T18:25:48.905420Z",
     "shell.execute_reply": "2023-12-10T18:25:48.904333Z"
    },
    "papermill": {
     "duration": 0.036075,
     "end_time": "2023-12-10T18:25:48.908045",
     "exception": false,
     "start_time": "2023-12-10T18:25:48.871970",
     "status": "completed"
    },
    "tags": []
   },
   "outputs": [],
   "source": [
    "df = pd.read_csv('../input/test-file/tested.csv')"
   ]
  },
  {
   "cell_type": "markdown",
   "id": "727b877c",
   "metadata": {
    "papermill": {
     "duration": 0.00811,
     "end_time": "2023-12-10T18:25:48.924508",
     "exception": false,
     "start_time": "2023-12-10T18:25:48.916398",
     "status": "completed"
    },
    "tags": []
   },
   "source": [
    "<div style=\"color:white;\n",
    "            display:fill;\n",
    "            border-radius:15px;\n",
    "            background-color:BLACK;\n",
    "            font-size:100%;\n",
    "            font-family:Verdana;\n",
    "            letter-spacing:1px\">\n",
    "    <h3 style='padding: 20px;\n",
    "              color:CYAN;\n",
    "              text-align:center;'>\n",
    "        Data Information and Data Cleaning\n",
    "    </h3>\n",
    "    </div>"
   ]
  },
  {
   "cell_type": "code",
   "execution_count": 3,
   "id": "c2f137b9",
   "metadata": {
    "execution": {
     "iopub.execute_input": "2023-12-10T18:25:48.943187Z",
     "iopub.status.busy": "2023-12-10T18:25:48.942468Z",
     "iopub.status.idle": "2023-12-10T18:25:48.949534Z",
     "shell.execute_reply": "2023-12-10T18:25:48.948790Z"
    },
    "papermill": {
     "duration": 0.018889,
     "end_time": "2023-12-10T18:25:48.951705",
     "exception": false,
     "start_time": "2023-12-10T18:25:48.932816",
     "status": "completed"
    },
    "tags": []
   },
   "outputs": [
    {
     "data": {
      "text/plain": [
       "Index(['PassengerId', 'Survived', 'Pclass', 'Name', 'Sex', 'Age', 'SibSp',\n",
       "       'Parch', 'Ticket', 'Fare', 'Cabin', 'Embarked'],\n",
       "      dtype='object')"
      ]
     },
     "execution_count": 3,
     "metadata": {},
     "output_type": "execute_result"
    }
   ],
   "source": [
    "df.columns"
   ]
  },
  {
   "cell_type": "code",
   "execution_count": 4,
   "id": "026648ae",
   "metadata": {
    "execution": {
     "iopub.execute_input": "2023-12-10T18:25:48.970820Z",
     "iopub.status.busy": "2023-12-10T18:25:48.970368Z",
     "iopub.status.idle": "2023-12-10T18:25:48.996721Z",
     "shell.execute_reply": "2023-12-10T18:25:48.995581Z"
    },
    "papermill": {
     "duration": 0.038695,
     "end_time": "2023-12-10T18:25:48.999071",
     "exception": false,
     "start_time": "2023-12-10T18:25:48.960376",
     "status": "completed"
    },
    "tags": []
   },
   "outputs": [
    {
     "data": {
      "text/html": [
       "<div>\n",
       "<style scoped>\n",
       "    .dataframe tbody tr th:only-of-type {\n",
       "        vertical-align: middle;\n",
       "    }\n",
       "\n",
       "    .dataframe tbody tr th {\n",
       "        vertical-align: top;\n",
       "    }\n",
       "\n",
       "    .dataframe thead th {\n",
       "        text-align: right;\n",
       "    }\n",
       "</style>\n",
       "<table border=\"1\" class=\"dataframe\">\n",
       "  <thead>\n",
       "    <tr style=\"text-align: right;\">\n",
       "      <th></th>\n",
       "      <th>PassengerId</th>\n",
       "      <th>Survived</th>\n",
       "      <th>Pclass</th>\n",
       "      <th>Name</th>\n",
       "      <th>Sex</th>\n",
       "      <th>Age</th>\n",
       "      <th>SibSp</th>\n",
       "      <th>Parch</th>\n",
       "      <th>Ticket</th>\n",
       "      <th>Fare</th>\n",
       "      <th>Cabin</th>\n",
       "      <th>Embarked</th>\n",
       "    </tr>\n",
       "  </thead>\n",
       "  <tbody>\n",
       "    <tr>\n",
       "      <th>0</th>\n",
       "      <td>892</td>\n",
       "      <td>0</td>\n",
       "      <td>3</td>\n",
       "      <td>Kelly, Mr. James</td>\n",
       "      <td>male</td>\n",
       "      <td>34.5</td>\n",
       "      <td>0</td>\n",
       "      <td>0</td>\n",
       "      <td>330911</td>\n",
       "      <td>7.8292</td>\n",
       "      <td>NaN</td>\n",
       "      <td>Q</td>\n",
       "    </tr>\n",
       "    <tr>\n",
       "      <th>1</th>\n",
       "      <td>893</td>\n",
       "      <td>1</td>\n",
       "      <td>3</td>\n",
       "      <td>Wilkes, Mrs. James (Ellen Needs)</td>\n",
       "      <td>female</td>\n",
       "      <td>47.0</td>\n",
       "      <td>1</td>\n",
       "      <td>0</td>\n",
       "      <td>363272</td>\n",
       "      <td>7.0000</td>\n",
       "      <td>NaN</td>\n",
       "      <td>S</td>\n",
       "    </tr>\n",
       "    <tr>\n",
       "      <th>2</th>\n",
       "      <td>894</td>\n",
       "      <td>0</td>\n",
       "      <td>2</td>\n",
       "      <td>Myles, Mr. Thomas Francis</td>\n",
       "      <td>male</td>\n",
       "      <td>62.0</td>\n",
       "      <td>0</td>\n",
       "      <td>0</td>\n",
       "      <td>240276</td>\n",
       "      <td>9.6875</td>\n",
       "      <td>NaN</td>\n",
       "      <td>Q</td>\n",
       "    </tr>\n",
       "    <tr>\n",
       "      <th>3</th>\n",
       "      <td>895</td>\n",
       "      <td>0</td>\n",
       "      <td>3</td>\n",
       "      <td>Wirz, Mr. Albert</td>\n",
       "      <td>male</td>\n",
       "      <td>27.0</td>\n",
       "      <td>0</td>\n",
       "      <td>0</td>\n",
       "      <td>315154</td>\n",
       "      <td>8.6625</td>\n",
       "      <td>NaN</td>\n",
       "      <td>S</td>\n",
       "    </tr>\n",
       "    <tr>\n",
       "      <th>4</th>\n",
       "      <td>896</td>\n",
       "      <td>1</td>\n",
       "      <td>3</td>\n",
       "      <td>Hirvonen, Mrs. Alexander (Helga E Lindqvist)</td>\n",
       "      <td>female</td>\n",
       "      <td>22.0</td>\n",
       "      <td>1</td>\n",
       "      <td>1</td>\n",
       "      <td>3101298</td>\n",
       "      <td>12.2875</td>\n",
       "      <td>NaN</td>\n",
       "      <td>S</td>\n",
       "    </tr>\n",
       "  </tbody>\n",
       "</table>\n",
       "</div>"
      ],
      "text/plain": [
       "   PassengerId  Survived  Pclass  \\\n",
       "0          892         0       3   \n",
       "1          893         1       3   \n",
       "2          894         0       2   \n",
       "3          895         0       3   \n",
       "4          896         1       3   \n",
       "\n",
       "                                           Name     Sex   Age  SibSp  Parch  \\\n",
       "0                              Kelly, Mr. James    male  34.5      0      0   \n",
       "1              Wilkes, Mrs. James (Ellen Needs)  female  47.0      1      0   \n",
       "2                     Myles, Mr. Thomas Francis    male  62.0      0      0   \n",
       "3                              Wirz, Mr. Albert    male  27.0      0      0   \n",
       "4  Hirvonen, Mrs. Alexander (Helga E Lindqvist)  female  22.0      1      1   \n",
       "\n",
       "    Ticket     Fare Cabin Embarked  \n",
       "0   330911   7.8292   NaN        Q  \n",
       "1   363272   7.0000   NaN        S  \n",
       "2   240276   9.6875   NaN        Q  \n",
       "3   315154   8.6625   NaN        S  \n",
       "4  3101298  12.2875   NaN        S  "
      ]
     },
     "execution_count": 4,
     "metadata": {},
     "output_type": "execute_result"
    }
   ],
   "source": [
    "df.head()"
   ]
  },
  {
   "cell_type": "code",
   "execution_count": 5,
   "id": "1246b34c",
   "metadata": {
    "execution": {
     "iopub.execute_input": "2023-12-10T18:25:49.019292Z",
     "iopub.status.busy": "2023-12-10T18:25:49.018369Z",
     "iopub.status.idle": "2023-12-10T18:25:49.034975Z",
     "shell.execute_reply": "2023-12-10T18:25:49.033913Z"
    },
    "papermill": {
     "duration": 0.029181,
     "end_time": "2023-12-10T18:25:49.037360",
     "exception": false,
     "start_time": "2023-12-10T18:25:49.008179",
     "status": "completed"
    },
    "tags": []
   },
   "outputs": [
    {
     "data": {
      "text/html": [
       "<div>\n",
       "<style scoped>\n",
       "    .dataframe tbody tr th:only-of-type {\n",
       "        vertical-align: middle;\n",
       "    }\n",
       "\n",
       "    .dataframe tbody tr th {\n",
       "        vertical-align: top;\n",
       "    }\n",
       "\n",
       "    .dataframe thead th {\n",
       "        text-align: right;\n",
       "    }\n",
       "</style>\n",
       "<table border=\"1\" class=\"dataframe\">\n",
       "  <thead>\n",
       "    <tr style=\"text-align: right;\">\n",
       "      <th></th>\n",
       "      <th>Missing Values</th>\n",
       "      <th>Percentage</th>\n",
       "    </tr>\n",
       "  </thead>\n",
       "  <tbody>\n",
       "    <tr>\n",
       "      <th>PassengerId</th>\n",
       "      <td>0</td>\n",
       "      <td>0.0%</td>\n",
       "    </tr>\n",
       "    <tr>\n",
       "      <th>Survived</th>\n",
       "      <td>0</td>\n",
       "      <td>0.0%</td>\n",
       "    </tr>\n",
       "    <tr>\n",
       "      <th>Pclass</th>\n",
       "      <td>0</td>\n",
       "      <td>0.0%</td>\n",
       "    </tr>\n",
       "    <tr>\n",
       "      <th>Name</th>\n",
       "      <td>0</td>\n",
       "      <td>0.0%</td>\n",
       "    </tr>\n",
       "    <tr>\n",
       "      <th>Sex</th>\n",
       "      <td>0</td>\n",
       "      <td>0.0%</td>\n",
       "    </tr>\n",
       "    <tr>\n",
       "      <th>Age</th>\n",
       "      <td>86</td>\n",
       "      <td>20.57%</td>\n",
       "    </tr>\n",
       "    <tr>\n",
       "      <th>SibSp</th>\n",
       "      <td>0</td>\n",
       "      <td>0.0%</td>\n",
       "    </tr>\n",
       "    <tr>\n",
       "      <th>Parch</th>\n",
       "      <td>0</td>\n",
       "      <td>0.0%</td>\n",
       "    </tr>\n",
       "    <tr>\n",
       "      <th>Ticket</th>\n",
       "      <td>0</td>\n",
       "      <td>0.0%</td>\n",
       "    </tr>\n",
       "    <tr>\n",
       "      <th>Fare</th>\n",
       "      <td>1</td>\n",
       "      <td>0.24%</td>\n",
       "    </tr>\n",
       "    <tr>\n",
       "      <th>Cabin</th>\n",
       "      <td>327</td>\n",
       "      <td>78.23%</td>\n",
       "    </tr>\n",
       "    <tr>\n",
       "      <th>Embarked</th>\n",
       "      <td>0</td>\n",
       "      <td>0.0%</td>\n",
       "    </tr>\n",
       "  </tbody>\n",
       "</table>\n",
       "</div>"
      ],
      "text/plain": [
       "             Missing Values Percentage\n",
       "PassengerId               0       0.0%\n",
       "Survived                  0       0.0%\n",
       "Pclass                    0       0.0%\n",
       "Name                      0       0.0%\n",
       "Sex                       0       0.0%\n",
       "Age                      86     20.57%\n",
       "SibSp                     0       0.0%\n",
       "Parch                     0       0.0%\n",
       "Ticket                    0       0.0%\n",
       "Fare                      1      0.24%\n",
       "Cabin                   327     78.23%\n",
       "Embarked                  0       0.0%"
      ]
     },
     "execution_count": 5,
     "metadata": {},
     "output_type": "execute_result"
    }
   ],
   "source": [
    "def missing_values_percent(dataframe):\n",
    "    missing_values = dataframe.isna().sum()\n",
    "    percentage_missing = (missing_values / len(dataframe) * 100).round(2)\n",
    "\n",
    "    result_movie = pd.DataFrame({'Missing Values': missing_values, 'Percentage': percentage_missing})\n",
    "    result_movie['Percentage'] = result_movie['Percentage'].astype(str) + '%'\n",
    "\n",
    "    return result_movie\n",
    "\n",
    "\n",
    "result = missing_values_percent(df)\n",
    "result"
   ]
  },
  {
   "cell_type": "code",
   "execution_count": 6,
   "id": "cb01828f",
   "metadata": {
    "execution": {
     "iopub.execute_input": "2023-12-10T18:25:49.058226Z",
     "iopub.status.busy": "2023-12-10T18:25:49.057253Z",
     "iopub.status.idle": "2023-12-10T18:25:49.066797Z",
     "shell.execute_reply": "2023-12-10T18:25:49.065655Z"
    },
    "papermill": {
     "duration": 0.022103,
     "end_time": "2023-12-10T18:25:49.068968",
     "exception": false,
     "start_time": "2023-12-10T18:25:49.046865",
     "status": "completed"
    },
    "tags": []
   },
   "outputs": [],
   "source": [
    "df = df.dropna()"
   ]
  },
  {
   "cell_type": "code",
   "execution_count": 7,
   "id": "da1402d4",
   "metadata": {
    "execution": {
     "iopub.execute_input": "2023-12-10T18:25:49.089289Z",
     "iopub.status.busy": "2023-12-10T18:25:49.088372Z",
     "iopub.status.idle": "2023-12-10T18:25:49.098655Z",
     "shell.execute_reply": "2023-12-10T18:25:49.097867Z"
    },
    "papermill": {
     "duration": 0.022893,
     "end_time": "2023-12-10T18:25:49.101014",
     "exception": false,
     "start_time": "2023-12-10T18:25:49.078121",
     "status": "completed"
    },
    "tags": []
   },
   "outputs": [],
   "source": [
    "gender_mapping = {'male': 0, 'female': 1}\n",
    "df['Sex'] = df['Sex'].map(gender_mapping)"
   ]
  },
  {
   "cell_type": "code",
   "execution_count": 8,
   "id": "0d6ca223",
   "metadata": {
    "execution": {
     "iopub.execute_input": "2023-12-10T18:25:49.121542Z",
     "iopub.status.busy": "2023-12-10T18:25:49.120833Z",
     "iopub.status.idle": "2023-12-10T18:25:49.137546Z",
     "shell.execute_reply": "2023-12-10T18:25:49.136789Z"
    },
    "papermill": {
     "duration": 0.029297,
     "end_time": "2023-12-10T18:25:49.139664",
     "exception": false,
     "start_time": "2023-12-10T18:25:49.110367",
     "status": "completed"
    },
    "tags": []
   },
   "outputs": [
    {
     "data": {
      "text/html": [
       "<div>\n",
       "<style scoped>\n",
       "    .dataframe tbody tr th:only-of-type {\n",
       "        vertical-align: middle;\n",
       "    }\n",
       "\n",
       "    .dataframe tbody tr th {\n",
       "        vertical-align: top;\n",
       "    }\n",
       "\n",
       "    .dataframe thead th {\n",
       "        text-align: right;\n",
       "    }\n",
       "</style>\n",
       "<table border=\"1\" class=\"dataframe\">\n",
       "  <thead>\n",
       "    <tr style=\"text-align: right;\">\n",
       "      <th></th>\n",
       "      <th>PassengerId</th>\n",
       "      <th>Survived</th>\n",
       "      <th>Pclass</th>\n",
       "      <th>Name</th>\n",
       "      <th>Sex</th>\n",
       "      <th>Age</th>\n",
       "      <th>SibSp</th>\n",
       "      <th>Parch</th>\n",
       "      <th>Ticket</th>\n",
       "      <th>Fare</th>\n",
       "      <th>Cabin</th>\n",
       "      <th>Embarked</th>\n",
       "    </tr>\n",
       "  </thead>\n",
       "  <tbody>\n",
       "    <tr>\n",
       "      <th>12</th>\n",
       "      <td>904</td>\n",
       "      <td>1</td>\n",
       "      <td>1</td>\n",
       "      <td>Snyder, Mrs. John Pillsbury (Nelle Stevenson)</td>\n",
       "      <td>1</td>\n",
       "      <td>23.0</td>\n",
       "      <td>1</td>\n",
       "      <td>0</td>\n",
       "      <td>21228</td>\n",
       "      <td>82.2667</td>\n",
       "      <td>B45</td>\n",
       "      <td>S</td>\n",
       "    </tr>\n",
       "    <tr>\n",
       "      <th>14</th>\n",
       "      <td>906</td>\n",
       "      <td>1</td>\n",
       "      <td>1</td>\n",
       "      <td>Chaffee, Mrs. Herbert Fuller (Carrie Constance...</td>\n",
       "      <td>1</td>\n",
       "      <td>47.0</td>\n",
       "      <td>1</td>\n",
       "      <td>0</td>\n",
       "      <td>W.E.P. 5734</td>\n",
       "      <td>61.1750</td>\n",
       "      <td>E31</td>\n",
       "      <td>S</td>\n",
       "    </tr>\n",
       "    <tr>\n",
       "      <th>24</th>\n",
       "      <td>916</td>\n",
       "      <td>1</td>\n",
       "      <td>1</td>\n",
       "      <td>Ryerson, Mrs. Arthur Larned (Emily Maria Borie)</td>\n",
       "      <td>1</td>\n",
       "      <td>48.0</td>\n",
       "      <td>1</td>\n",
       "      <td>3</td>\n",
       "      <td>PC 17608</td>\n",
       "      <td>262.3750</td>\n",
       "      <td>B57 B59 B63 B66</td>\n",
       "      <td>C</td>\n",
       "    </tr>\n",
       "    <tr>\n",
       "      <th>26</th>\n",
       "      <td>918</td>\n",
       "      <td>1</td>\n",
       "      <td>1</td>\n",
       "      <td>Ostby, Miss. Helene Ragnhild</td>\n",
       "      <td>1</td>\n",
       "      <td>22.0</td>\n",
       "      <td>0</td>\n",
       "      <td>1</td>\n",
       "      <td>113509</td>\n",
       "      <td>61.9792</td>\n",
       "      <td>B36</td>\n",
       "      <td>C</td>\n",
       "    </tr>\n",
       "    <tr>\n",
       "      <th>28</th>\n",
       "      <td>920</td>\n",
       "      <td>0</td>\n",
       "      <td>1</td>\n",
       "      <td>Brady, Mr. John Bertram</td>\n",
       "      <td>0</td>\n",
       "      <td>41.0</td>\n",
       "      <td>0</td>\n",
       "      <td>0</td>\n",
       "      <td>113054</td>\n",
       "      <td>30.5000</td>\n",
       "      <td>A21</td>\n",
       "      <td>S</td>\n",
       "    </tr>\n",
       "  </tbody>\n",
       "</table>\n",
       "</div>"
      ],
      "text/plain": [
       "    PassengerId  Survived  Pclass  \\\n",
       "12          904         1       1   \n",
       "14          906         1       1   \n",
       "24          916         1       1   \n",
       "26          918         1       1   \n",
       "28          920         0       1   \n",
       "\n",
       "                                                 Name  Sex   Age  SibSp  \\\n",
       "12      Snyder, Mrs. John Pillsbury (Nelle Stevenson)    1  23.0      1   \n",
       "14  Chaffee, Mrs. Herbert Fuller (Carrie Constance...    1  47.0      1   \n",
       "24    Ryerson, Mrs. Arthur Larned (Emily Maria Borie)    1  48.0      1   \n",
       "26                       Ostby, Miss. Helene Ragnhild    1  22.0      0   \n",
       "28                            Brady, Mr. John Bertram    0  41.0      0   \n",
       "\n",
       "    Parch       Ticket      Fare            Cabin Embarked  \n",
       "12      0        21228   82.2667              B45        S  \n",
       "14      0  W.E.P. 5734   61.1750              E31        S  \n",
       "24      3     PC 17608  262.3750  B57 B59 B63 B66        C  \n",
       "26      1       113509   61.9792              B36        C  \n",
       "28      0       113054   30.5000              A21        S  "
      ]
     },
     "execution_count": 8,
     "metadata": {},
     "output_type": "execute_result"
    }
   ],
   "source": [
    "df.head()"
   ]
  },
  {
   "cell_type": "code",
   "execution_count": 9,
   "id": "3100260d",
   "metadata": {
    "execution": {
     "iopub.execute_input": "2023-12-10T18:25:49.160929Z",
     "iopub.status.busy": "2023-12-10T18:25:49.159847Z",
     "iopub.status.idle": "2023-12-10T18:25:49.165566Z",
     "shell.execute_reply": "2023-12-10T18:25:49.164689Z"
    },
    "papermill": {
     "duration": 0.018774,
     "end_time": "2023-12-10T18:25:49.167863",
     "exception": false,
     "start_time": "2023-12-10T18:25:49.149089",
     "status": "completed"
    },
    "tags": []
   },
   "outputs": [],
   "source": [
    "df['Age'] = df['Age'].round().astype(int)"
   ]
  },
  {
   "cell_type": "code",
   "execution_count": 10,
   "id": "bcce2867",
   "metadata": {
    "execution": {
     "iopub.execute_input": "2023-12-10T18:25:49.189155Z",
     "iopub.status.busy": "2023-12-10T18:25:49.188773Z",
     "iopub.status.idle": "2023-12-10T18:25:49.194508Z",
     "shell.execute_reply": "2023-12-10T18:25:49.193333Z"
    },
    "papermill": {
     "duration": 0.019076,
     "end_time": "2023-12-10T18:25:49.197036",
     "exception": false,
     "start_time": "2023-12-10T18:25:49.177960",
     "status": "completed"
    },
    "tags": []
   },
   "outputs": [],
   "source": [
    "df['Fare'] = df['Fare'].round().astype(int)"
   ]
  },
  {
   "cell_type": "code",
   "execution_count": 11,
   "id": "2b31608e",
   "metadata": {
    "execution": {
     "iopub.execute_input": "2023-12-10T18:25:49.218305Z",
     "iopub.status.busy": "2023-12-10T18:25:49.217565Z",
     "iopub.status.idle": "2023-12-10T18:25:49.233692Z",
     "shell.execute_reply": "2023-12-10T18:25:49.232903Z"
    },
    "papermill": {
     "duration": 0.029247,
     "end_time": "2023-12-10T18:25:49.235813",
     "exception": false,
     "start_time": "2023-12-10T18:25:49.206566",
     "status": "completed"
    },
    "tags": []
   },
   "outputs": [
    {
     "data": {
      "text/html": [
       "<div>\n",
       "<style scoped>\n",
       "    .dataframe tbody tr th:only-of-type {\n",
       "        vertical-align: middle;\n",
       "    }\n",
       "\n",
       "    .dataframe tbody tr th {\n",
       "        vertical-align: top;\n",
       "    }\n",
       "\n",
       "    .dataframe thead th {\n",
       "        text-align: right;\n",
       "    }\n",
       "</style>\n",
       "<table border=\"1\" class=\"dataframe\">\n",
       "  <thead>\n",
       "    <tr style=\"text-align: right;\">\n",
       "      <th></th>\n",
       "      <th>PassengerId</th>\n",
       "      <th>Survived</th>\n",
       "      <th>Pclass</th>\n",
       "      <th>Name</th>\n",
       "      <th>Sex</th>\n",
       "      <th>Age</th>\n",
       "      <th>SibSp</th>\n",
       "      <th>Parch</th>\n",
       "      <th>Ticket</th>\n",
       "      <th>Fare</th>\n",
       "      <th>Cabin</th>\n",
       "      <th>Embarked</th>\n",
       "    </tr>\n",
       "  </thead>\n",
       "  <tbody>\n",
       "    <tr>\n",
       "      <th>12</th>\n",
       "      <td>904</td>\n",
       "      <td>1</td>\n",
       "      <td>1</td>\n",
       "      <td>Snyder, Mrs. John Pillsbury (Nelle Stevenson)</td>\n",
       "      <td>1</td>\n",
       "      <td>23</td>\n",
       "      <td>1</td>\n",
       "      <td>0</td>\n",
       "      <td>21228</td>\n",
       "      <td>82</td>\n",
       "      <td>B45</td>\n",
       "      <td>S</td>\n",
       "    </tr>\n",
       "    <tr>\n",
       "      <th>14</th>\n",
       "      <td>906</td>\n",
       "      <td>1</td>\n",
       "      <td>1</td>\n",
       "      <td>Chaffee, Mrs. Herbert Fuller (Carrie Constance...</td>\n",
       "      <td>1</td>\n",
       "      <td>47</td>\n",
       "      <td>1</td>\n",
       "      <td>0</td>\n",
       "      <td>W.E.P. 5734</td>\n",
       "      <td>61</td>\n",
       "      <td>E31</td>\n",
       "      <td>S</td>\n",
       "    </tr>\n",
       "    <tr>\n",
       "      <th>24</th>\n",
       "      <td>916</td>\n",
       "      <td>1</td>\n",
       "      <td>1</td>\n",
       "      <td>Ryerson, Mrs. Arthur Larned (Emily Maria Borie)</td>\n",
       "      <td>1</td>\n",
       "      <td>48</td>\n",
       "      <td>1</td>\n",
       "      <td>3</td>\n",
       "      <td>PC 17608</td>\n",
       "      <td>262</td>\n",
       "      <td>B57 B59 B63 B66</td>\n",
       "      <td>C</td>\n",
       "    </tr>\n",
       "    <tr>\n",
       "      <th>26</th>\n",
       "      <td>918</td>\n",
       "      <td>1</td>\n",
       "      <td>1</td>\n",
       "      <td>Ostby, Miss. Helene Ragnhild</td>\n",
       "      <td>1</td>\n",
       "      <td>22</td>\n",
       "      <td>0</td>\n",
       "      <td>1</td>\n",
       "      <td>113509</td>\n",
       "      <td>62</td>\n",
       "      <td>B36</td>\n",
       "      <td>C</td>\n",
       "    </tr>\n",
       "    <tr>\n",
       "      <th>28</th>\n",
       "      <td>920</td>\n",
       "      <td>0</td>\n",
       "      <td>1</td>\n",
       "      <td>Brady, Mr. John Bertram</td>\n",
       "      <td>0</td>\n",
       "      <td>41</td>\n",
       "      <td>0</td>\n",
       "      <td>0</td>\n",
       "      <td>113054</td>\n",
       "      <td>30</td>\n",
       "      <td>A21</td>\n",
       "      <td>S</td>\n",
       "    </tr>\n",
       "  </tbody>\n",
       "</table>\n",
       "</div>"
      ],
      "text/plain": [
       "    PassengerId  Survived  Pclass  \\\n",
       "12          904         1       1   \n",
       "14          906         1       1   \n",
       "24          916         1       1   \n",
       "26          918         1       1   \n",
       "28          920         0       1   \n",
       "\n",
       "                                                 Name  Sex  Age  SibSp  Parch  \\\n",
       "12      Snyder, Mrs. John Pillsbury (Nelle Stevenson)    1   23      1      0   \n",
       "14  Chaffee, Mrs. Herbert Fuller (Carrie Constance...    1   47      1      0   \n",
       "24    Ryerson, Mrs. Arthur Larned (Emily Maria Borie)    1   48      1      3   \n",
       "26                       Ostby, Miss. Helene Ragnhild    1   22      0      1   \n",
       "28                            Brady, Mr. John Bertram    0   41      0      0   \n",
       "\n",
       "         Ticket  Fare            Cabin Embarked  \n",
       "12        21228    82              B45        S  \n",
       "14  W.E.P. 5734    61              E31        S  \n",
       "24     PC 17608   262  B57 B59 B63 B66        C  \n",
       "26       113509    62              B36        C  \n",
       "28       113054    30              A21        S  "
      ]
     },
     "execution_count": 11,
     "metadata": {},
     "output_type": "execute_result"
    }
   ],
   "source": [
    "df.head()"
   ]
  },
  {
   "cell_type": "code",
   "execution_count": 12,
   "id": "ad35f28e",
   "metadata": {
    "execution": {
     "iopub.execute_input": "2023-12-10T18:25:49.257933Z",
     "iopub.status.busy": "2023-12-10T18:25:49.257213Z",
     "iopub.status.idle": "2023-12-10T18:25:49.262946Z",
     "shell.execute_reply": "2023-12-10T18:25:49.262051Z"
    },
    "papermill": {
     "duration": 0.019288,
     "end_time": "2023-12-10T18:25:49.265166",
     "exception": false,
     "start_time": "2023-12-10T18:25:49.245878",
     "status": "completed"
    },
    "tags": []
   },
   "outputs": [],
   "source": [
    "df.drop(['PassengerId','Name','Ticket','Cabin', 'Embarked'],axis=1, inplace=True)"
   ]
  },
  {
   "cell_type": "code",
   "execution_count": 13,
   "id": "c35032ff",
   "metadata": {
    "execution": {
     "iopub.execute_input": "2023-12-10T18:25:49.286956Z",
     "iopub.status.busy": "2023-12-10T18:25:49.286521Z",
     "iopub.status.idle": "2023-12-10T18:25:49.308233Z",
     "shell.execute_reply": "2023-12-10T18:25:49.307197Z"
    },
    "papermill": {
     "duration": 0.036134,
     "end_time": "2023-12-10T18:25:49.311244",
     "exception": false,
     "start_time": "2023-12-10T18:25:49.275110",
     "status": "completed"
    },
    "tags": []
   },
   "outputs": [
    {
     "name": "stdout",
     "output_type": "stream",
     "text": [
      "<class 'pandas.core.frame.DataFrame'>\n",
      "Index: 87 entries, 12 to 414\n",
      "Data columns (total 7 columns):\n",
      " #   Column    Non-Null Count  Dtype\n",
      "---  ------    --------------  -----\n",
      " 0   Survived  87 non-null     int64\n",
      " 1   Pclass    87 non-null     int64\n",
      " 2   Sex       87 non-null     int64\n",
      " 3   Age       87 non-null     int64\n",
      " 4   SibSp     87 non-null     int64\n",
      " 5   Parch     87 non-null     int64\n",
      " 6   Fare      87 non-null     int64\n",
      "dtypes: int64(7)\n",
      "memory usage: 5.4 KB\n"
     ]
    }
   ],
   "source": [
    "df.info()"
   ]
  },
  {
   "cell_type": "markdown",
   "id": "916b37e9",
   "metadata": {
    "papermill": {
     "duration": 0.01015,
     "end_time": "2023-12-10T18:25:49.331519",
     "exception": false,
     "start_time": "2023-12-10T18:25:49.321369",
     "status": "completed"
    },
    "tags": []
   },
   "source": [
    "<div style=\"color:white;\n",
    "            display:fill;\n",
    "            border-radius:15px;\n",
    "            background-color:BLACK;\n",
    "            font-size:100%;\n",
    "            font-family:Verdana;\n",
    "            letter-spacing:1px\">\n",
    "    <h3 style='padding: 20px;\n",
    "              color:CYAN;\n",
    "              text-align:center;'>\n",
    "        Building Model\n",
    "    </h3>\n",
    "    </div>"
   ]
  },
  {
   "cell_type": "code",
   "execution_count": 14,
   "id": "2f36f7fc",
   "metadata": {
    "execution": {
     "iopub.execute_input": "2023-12-10T18:25:49.353348Z",
     "iopub.status.busy": "2023-12-10T18:25:49.352945Z",
     "iopub.status.idle": "2023-12-10T18:25:49.359386Z",
     "shell.execute_reply": "2023-12-10T18:25:49.358228Z"
    },
    "papermill": {
     "duration": 0.020159,
     "end_time": "2023-12-10T18:25:49.361723",
     "exception": false,
     "start_time": "2023-12-10T18:25:49.341564",
     "status": "completed"
    },
    "tags": []
   },
   "outputs": [],
   "source": [
    "X = df.drop('Survived', axis=1)\n",
    "y = df['Survived']"
   ]
  },
  {
   "cell_type": "code",
   "execution_count": 15,
   "id": "180ae6ff",
   "metadata": {
    "execution": {
     "iopub.execute_input": "2023-12-10T18:25:49.384241Z",
     "iopub.status.busy": "2023-12-10T18:25:49.383125Z",
     "iopub.status.idle": "2023-12-10T18:25:49.394441Z",
     "shell.execute_reply": "2023-12-10T18:25:49.393593Z"
    },
    "papermill": {
     "duration": 0.024948,
     "end_time": "2023-12-10T18:25:49.396897",
     "exception": false,
     "start_time": "2023-12-10T18:25:49.371949",
     "status": "completed"
    },
    "tags": []
   },
   "outputs": [],
   "source": [
    "scaler = MinMaxScaler()\n",
    "X = scaler.fit_transform(X)\n",
    "y = scaler.fit_transform(y.values.reshape(-1, 1))"
   ]
  },
  {
   "cell_type": "code",
   "execution_count": 16,
   "id": "e56f29f3",
   "metadata": {
    "execution": {
     "iopub.execute_input": "2023-12-10T18:25:49.419115Z",
     "iopub.status.busy": "2023-12-10T18:25:49.418384Z",
     "iopub.status.idle": "2023-12-10T18:25:49.426029Z",
     "shell.execute_reply": "2023-12-10T18:25:49.424955Z"
    },
    "papermill": {
     "duration": 0.022063,
     "end_time": "2023-12-10T18:25:49.429054",
     "exception": false,
     "start_time": "2023-12-10T18:25:49.406991",
     "status": "completed"
    },
    "tags": []
   },
   "outputs": [
    {
     "name": "stdout",
     "output_type": "stream",
     "text": [
      "(69, 6)\n",
      "(69, 1)\n",
      "(18, 6)\n",
      "(18, 1)\n"
     ]
    }
   ],
   "source": [
    "X_train, X_test, y_train, y_test = train_test_split(X, y, test_size=0.2, random_state=0)\n",
    "\n",
    "print(X_train.shape)\n",
    "print(y_train.shape)\n",
    "print(X_test.shape)\n",
    "print(y_test.shape)"
   ]
  },
  {
   "cell_type": "code",
   "execution_count": 17,
   "id": "a0200b0f",
   "metadata": {
    "execution": {
     "iopub.execute_input": "2023-12-10T18:25:49.451680Z",
     "iopub.status.busy": "2023-12-10T18:25:49.450620Z",
     "iopub.status.idle": "2023-12-10T18:25:49.666571Z",
     "shell.execute_reply": "2023-12-10T18:25:49.663755Z"
    },
    "papermill": {
     "duration": 0.235222,
     "end_time": "2023-12-10T18:25:49.674447",
     "exception": false,
     "start_time": "2023-12-10T18:25:49.439225",
     "status": "completed"
    },
    "tags": []
   },
   "outputs": [
    {
     "name": "stdout",
     "output_type": "stream",
     "text": [
      "Model: \"sequential\"\n",
      "_________________________________________________________________\n",
      " Layer (type)                Output Shape              Param #   \n",
      "=================================================================\n",
      " dense (Dense)               (None, 10)                70        \n",
      "                                                                 \n",
      " dense_1 (Dense)             (None, 10)                110       \n",
      "                                                                 \n",
      " dense_2 (Dense)             (None, 1)                 11        \n",
      "                                                                 \n",
      "=================================================================\n",
      "Total params: 191 (764.00 Byte)\n",
      "Trainable params: 191 (764.00 Byte)\n",
      "Non-trainable params: 0 (0.00 Byte)\n",
      "_________________________________________________________________\n"
     ]
    }
   ],
   "source": [
    "model = Sequential()\n",
    "model.add(Dense(10, activation='relu', input_dim=6))\n",
    "model.add(Dense(10, activation='relu'))\n",
    "model.add(Dense(1, activation='linear'))\n",
    "\n",
    "model.compile(optimizer='adam', loss='mean_squared_error', metrics=['mean_absolute_error'])\n",
    "model.summary()"
   ]
  },
  {
   "cell_type": "code",
   "execution_count": 18,
   "id": "96f528bf",
   "metadata": {
    "execution": {
     "iopub.execute_input": "2023-12-10T18:25:49.698795Z",
     "iopub.status.busy": "2023-12-10T18:25:49.698353Z",
     "iopub.status.idle": "2023-12-10T18:25:51.752509Z",
     "shell.execute_reply": "2023-12-10T18:25:51.751638Z"
    },
    "papermill": {
     "duration": 2.069468,
     "end_time": "2023-12-10T18:25:51.755138",
     "exception": false,
     "start_time": "2023-12-10T18:25:49.685670",
     "status": "completed"
    },
    "tags": []
   },
   "outputs": [
    {
     "name": "stdout",
     "output_type": "stream",
     "text": [
      "Epoch 1/20\n",
      "2/2 [==============================] - 1s 237ms/step - loss: 0.6599 - mean_absolute_error: 0.6621 - val_loss: 0.5620 - val_mean_absolute_error: 0.5787\n",
      "Epoch 2/20\n",
      "2/2 [==============================] - 0s 31ms/step - loss: 0.6320 - mean_absolute_error: 0.6429 - val_loss: 0.5402 - val_mean_absolute_error: 0.5613\n",
      "Epoch 3/20\n",
      "2/2 [==============================] - 0s 48ms/step - loss: 0.6087 - mean_absolute_error: 0.6244 - val_loss: 0.5192 - val_mean_absolute_error: 0.5440\n",
      "Epoch 4/20\n",
      "2/2 [==============================] - 0s 49ms/step - loss: 0.5855 - mean_absolute_error: 0.6062 - val_loss: 0.4989 - val_mean_absolute_error: 0.5273\n",
      "Epoch 5/20\n",
      "2/2 [==============================] - 0s 33ms/step - loss: 0.5611 - mean_absolute_error: 0.5878 - val_loss: 0.4797 - val_mean_absolute_error: 0.5123\n",
      "Epoch 6/20\n",
      "2/2 [==============================] - 0s 31ms/step - loss: 0.5407 - mean_absolute_error: 0.5721 - val_loss: 0.4611 - val_mean_absolute_error: 0.4999\n",
      "Epoch 7/20\n",
      "2/2 [==============================] - 0s 31ms/step - loss: 0.5195 - mean_absolute_error: 0.5598 - val_loss: 0.4435 - val_mean_absolute_error: 0.4879\n",
      "Epoch 8/20\n",
      "2/2 [==============================] - 0s 48ms/step - loss: 0.5011 - mean_absolute_error: 0.5479 - val_loss: 0.4273 - val_mean_absolute_error: 0.4771\n",
      "Epoch 9/20\n",
      "2/2 [==============================] - 0s 29ms/step - loss: 0.4817 - mean_absolute_error: 0.5366 - val_loss: 0.4127 - val_mean_absolute_error: 0.4688\n",
      "Epoch 10/20\n",
      "2/2 [==============================] - 0s 30ms/step - loss: 0.4644 - mean_absolute_error: 0.5260 - val_loss: 0.3987 - val_mean_absolute_error: 0.4615\n",
      "Epoch 11/20\n",
      "2/2 [==============================] - 0s 31ms/step - loss: 0.4475 - mean_absolute_error: 0.5171 - val_loss: 0.3859 - val_mean_absolute_error: 0.4570\n",
      "Epoch 12/20\n",
      "2/2 [==============================] - 0s 33ms/step - loss: 0.4325 - mean_absolute_error: 0.5123 - val_loss: 0.3736 - val_mean_absolute_error: 0.4546\n",
      "Epoch 13/20\n",
      "2/2 [==============================] - 0s 31ms/step - loss: 0.4183 - mean_absolute_error: 0.5084 - val_loss: 0.3619 - val_mean_absolute_error: 0.4521\n",
      "Epoch 14/20\n",
      "2/2 [==============================] - 0s 30ms/step - loss: 0.4059 - mean_absolute_error: 0.5058 - val_loss: 0.3512 - val_mean_absolute_error: 0.4496\n",
      "Epoch 15/20\n",
      "2/2 [==============================] - 0s 29ms/step - loss: 0.3932 - mean_absolute_error: 0.5023 - val_loss: 0.3418 - val_mean_absolute_error: 0.4471\n",
      "Epoch 16/20\n",
      "2/2 [==============================] - 0s 30ms/step - loss: 0.3814 - mean_absolute_error: 0.4984 - val_loss: 0.3332 - val_mean_absolute_error: 0.4448\n",
      "Epoch 17/20\n",
      "2/2 [==============================] - 0s 32ms/step - loss: 0.3717 - mean_absolute_error: 0.4962 - val_loss: 0.3249 - val_mean_absolute_error: 0.4428\n",
      "Epoch 18/20\n",
      "2/2 [==============================] - 0s 47ms/step - loss: 0.3611 - mean_absolute_error: 0.4927 - val_loss: 0.3171 - val_mean_absolute_error: 0.4408\n",
      "Epoch 19/20\n",
      "2/2 [==============================] - 0s 31ms/step - loss: 0.3526 - mean_absolute_error: 0.4909 - val_loss: 0.3096 - val_mean_absolute_error: 0.4388\n",
      "Epoch 20/20\n",
      "2/2 [==============================] - 0s 30ms/step - loss: 0.3441 - mean_absolute_error: 0.4887 - val_loss: 0.3024 - val_mean_absolute_error: 0.4367\n"
     ]
    }
   ],
   "source": [
    "past = model.fit(X_train, y_train, epochs=20, validation_split=0.2)"
   ]
  },
  {
   "cell_type": "code",
   "execution_count": 19,
   "id": "36101390",
   "metadata": {
    "execution": {
     "iopub.execute_input": "2023-12-10T18:25:51.791819Z",
     "iopub.status.busy": "2023-12-10T18:25:51.791148Z",
     "iopub.status.idle": "2023-12-10T18:25:51.948797Z",
     "shell.execute_reply": "2023-12-10T18:25:51.947922Z"
    },
    "papermill": {
     "duration": 0.179396,
     "end_time": "2023-12-10T18:25:51.951566",
     "exception": false,
     "start_time": "2023-12-10T18:25:51.772170",
     "status": "completed"
    },
    "tags": []
   },
   "outputs": [
    {
     "name": "stdout",
     "output_type": "stream",
     "text": [
      "1/1 [==============================] - 0s 103ms/step\n"
     ]
    }
   ],
   "source": [
    "y_pred = model.predict(X_test)"
   ]
  },
  {
   "cell_type": "code",
   "execution_count": 20,
   "id": "9d71688c",
   "metadata": {
    "execution": {
     "iopub.execute_input": "2023-12-10T18:25:51.988252Z",
     "iopub.status.busy": "2023-12-10T18:25:51.987726Z",
     "iopub.status.idle": "2023-12-10T18:25:51.994584Z",
     "shell.execute_reply": "2023-12-10T18:25:51.993487Z"
    },
    "papermill": {
     "duration": 0.028974,
     "end_time": "2023-12-10T18:25:51.997979",
     "exception": false,
     "start_time": "2023-12-10T18:25:51.969005",
     "status": "completed"
    },
    "tags": []
   },
   "outputs": [
    {
     "name": "stdout",
     "output_type": "stream",
     "text": [
      "R2 Score= 0.10369899676635774\n"
     ]
    }
   ],
   "source": [
    "from sklearn.metrics import r2_score\n",
    "\n",
    "R2 = r2_score(y_test, y_pred)\n",
    "print(\"R2 Score=\",R2 )"
   ]
  }
 ],
 "metadata": {
  "kaggle": {
   "accelerator": "none",
   "dataSources": [
    {
     "datasetId": 826163,
     "sourceId": 2879186,
     "sourceType": "datasetVersion"
    }
   ],
   "dockerImageVersionId": 30615,
   "isGpuEnabled": false,
   "isInternetEnabled": true,
   "language": "python",
   "sourceType": "notebook"
  },
  "kernelspec": {
   "display_name": "Python 3",
   "language": "python",
   "name": "python3"
  },
  "language_info": {
   "codemirror_mode": {
    "name": "ipython",
    "version": 3
   },
   "file_extension": ".py",
   "mimetype": "text/x-python",
   "name": "python",
   "nbconvert_exporter": "python",
   "pygments_lexer": "ipython3",
   "version": "3.10.12"
  },
  "papermill": {
   "default_parameters": {},
   "duration": 24.845106,
   "end_time": "2023-12-10T18:25:53.641214",
   "environment_variables": {},
   "exception": null,
   "input_path": "__notebook__.ipynb",
   "output_path": "__notebook__.ipynb",
   "parameters": {},
   "start_time": "2023-12-10T18:25:28.796108",
   "version": "2.4.0"
  }
 },
 "nbformat": 4,
 "nbformat_minor": 5
}
