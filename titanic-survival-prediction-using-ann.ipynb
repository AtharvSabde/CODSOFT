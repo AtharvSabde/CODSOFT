{
 "cells": [
  {
   "cell_type": "markdown",
   "id": "1cb2f0a2",
   "metadata": {
    "papermill": {
     "duration": 0.006243,
     "end_time": "2023-12-10T18:20:22.865430",
     "exception": false,
     "start_time": "2023-12-10T18:20:22.859187",
     "status": "completed"
    },
    "tags": []
   },
   "source": [
    "<div style=\"color:white;\n",
    "            display:fill;\n",
    "            border-radius:15px;\n",
    "            background-color:BLACK;\n",
    "            font-size:100%;\n",
    "            font-family:Verdana;\n",
    "            letter-spacing:1px\">\n",
    "    <h3 style='padding: 20px;\n",
    "              color:CYAN;\n",
    "              text-align:center;'>\n",
    "        Titanic Survival Prediction\n",
    "    </h3>\n",
    "    </div>"
   ]
  },
  {
   "cell_type": "markdown",
   "id": "a88f5f34",
   "metadata": {
    "papermill": {
     "duration": 0.004907,
     "end_time": "2023-12-10T18:20:22.875705",
     "exception": false,
     "start_time": "2023-12-10T18:20:22.870798",
     "status": "completed"
    },
    "tags": []
   },
   "source": [
    "![](https://media.tenor.com/9Di9mmafWd4AAAAM/titanic.gif)"
   ]
  },
  {
   "cell_type": "markdown",
   "id": "dac361ee",
   "metadata": {
    "papermill": {
     "duration": 0.004902,
     "end_time": "2023-12-10T18:20:22.885947",
     "exception": false,
     "start_time": "2023-12-10T18:20:22.881045",
     "status": "completed"
    },
    "tags": []
   },
   "source": [
    "<div style=\"color:white;\n",
    "            display:fill;\n",
    "            border-radius:15px;\n",
    "            background-color:BLACK;\n",
    "            font-size:100%;\n",
    "            font-family:Verdana;\n",
    "            letter-spacing:1px\">\n",
    "    <h3 style='padding: 20px;\n",
    "              color:CYAN;\n",
    "              text-align:center;'>\n",
    "        TABLE OF CONTENT\n",
    "    </h3>\n",
    "    </div>"
   ]
  },
  {
   "cell_type": "markdown",
   "id": "d4f8f092",
   "metadata": {
    "papermill": {
     "duration": 0.004872,
     "end_time": "2023-12-10T18:20:22.896033",
     "exception": false,
     "start_time": "2023-12-10T18:20:22.891161",
     "status": "completed"
    },
    "tags": []
   },
   "source": [
    "* **Importing Libraries and Loading Data**\n",
    "\n",
    "* **Data Information and Data Cleaning**\n",
    "\n",
    "* **Building The Model**\n",
    "\n",
    "* **Conclusion**"
   ]
  },
  {
   "cell_type": "markdown",
   "id": "beddc175",
   "metadata": {
    "papermill": {
     "duration": 0.006315,
     "end_time": "2023-12-10T18:20:22.907512",
     "exception": false,
     "start_time": "2023-12-10T18:20:22.901197",
     "status": "completed"
    },
    "tags": []
   },
   "source": [
    "<div style=\"color:white;\n",
    "            display:fill;\n",
    "            border-radius:15px;\n",
    "            background-color:BLACK;\n",
    "            font-size:100%;\n",
    "            font-family:Verdana;\n",
    "            letter-spacing:1px\">\n",
    "    <h3 style='padding: 20px;\n",
    "              color:CYAN;\n",
    "              text-align:center;'>\n",
    "        Importing Libraries\n",
    "    </h3>\n",
    "    </div>"
   ]
  },
  {
   "cell_type": "code",
   "execution_count": 1,
   "id": "3ce9a320",
   "metadata": {
    "execution": {
     "iopub.execute_input": "2023-12-10T18:20:22.921379Z",
     "iopub.status.busy": "2023-12-10T18:20:22.920576Z",
     "iopub.status.idle": "2023-12-10T18:20:38.597773Z",
     "shell.execute_reply": "2023-12-10T18:20:38.596376Z"
    },
    "papermill": {
     "duration": 15.687349,
     "end_time": "2023-12-10T18:20:38.600566",
     "exception": false,
     "start_time": "2023-12-10T18:20:22.913217",
     "status": "completed"
    },
    "tags": []
   },
   "outputs": [],
   "source": [
    "import numpy as np\n",
    "import pandas as pd\n",
    "import matplotlib.pyplot as plt\n",
    "import seaborn as sns\n",
    "import plotly.express as px\n",
    "from plotly.offline import init_notebook_mode, iplot, plot\n",
    "from sklearn.preprocessing import MinMaxScaler\n",
    "\n",
    "from tensorflow.keras.layers import Dense\n",
    "from tensorflow.keras.models import Sequential\n",
    "from sklearn.model_selection import train_test_split\n",
    "\n",
    "import warnings\n",
    "warnings.filterwarnings(\"ignore\")"
   ]
  },
  {
   "cell_type": "code",
   "execution_count": 2,
   "id": "df42427e",
   "metadata": {
    "execution": {
     "iopub.execute_input": "2023-12-10T18:20:38.615079Z",
     "iopub.status.busy": "2023-12-10T18:20:38.613906Z",
     "iopub.status.idle": "2023-12-10T18:20:38.637508Z",
     "shell.execute_reply": "2023-12-10T18:20:38.636745Z"
    },
    "papermill": {
     "duration": 0.033166,
     "end_time": "2023-12-10T18:20:38.639792",
     "exception": false,
     "start_time": "2023-12-10T18:20:38.606626",
     "status": "completed"
    },
    "tags": []
   },
   "outputs": [],
   "source": [
    "df = pd.read_csv('../input/test-file/tested.csv')"
   ]
  },
  {
   "cell_type": "markdown",
   "id": "2b8e02f3",
   "metadata": {
    "papermill": {
     "duration": 0.007327,
     "end_time": "2023-12-10T18:20:38.652916",
     "exception": false,
     "start_time": "2023-12-10T18:20:38.645589",
     "status": "completed"
    },
    "tags": []
   },
   "source": [
    "<div style=\"color:white;\n",
    "            display:fill;\n",
    "            border-radius:15px;\n",
    "            background-color:BLACK;\n",
    "            font-size:100%;\n",
    "            font-family:Verdana;\n",
    "            letter-spacing:1px\">\n",
    "    <h3 style='padding: 20px;\n",
    "              color:CYAN;\n",
    "              text-align:center;'>\n",
    "        Data Information and Data Cleaning\n",
    "    </h3>\n",
    "    </div>"
   ]
  },
  {
   "cell_type": "code",
   "execution_count": 3,
   "id": "a4f3bd92",
   "metadata": {
    "execution": {
     "iopub.execute_input": "2023-12-10T18:20:38.671021Z",
     "iopub.status.busy": "2023-12-10T18:20:38.670083Z",
     "iopub.status.idle": "2023-12-10T18:20:38.677640Z",
     "shell.execute_reply": "2023-12-10T18:20:38.676932Z"
    },
    "papermill": {
     "duration": 0.018679,
     "end_time": "2023-12-10T18:20:38.680011",
     "exception": false,
     "start_time": "2023-12-10T18:20:38.661332",
     "status": "completed"
    },
    "tags": []
   },
   "outputs": [
    {
     "data": {
      "text/plain": [
       "Index(['PassengerId', 'Survived', 'Pclass', 'Name', 'Sex', 'Age', 'SibSp',\n",
       "       'Parch', 'Ticket', 'Fare', 'Cabin', 'Embarked'],\n",
       "      dtype='object')"
      ]
     },
     "execution_count": 3,
     "metadata": {},
     "output_type": "execute_result"
    }
   ],
   "source": [
    "df.columns"
   ]
  },
  {
   "cell_type": "code",
   "execution_count": 4,
   "id": "e1485ebc",
   "metadata": {
    "execution": {
     "iopub.execute_input": "2023-12-10T18:20:38.694612Z",
     "iopub.status.busy": "2023-12-10T18:20:38.693880Z",
     "iopub.status.idle": "2023-12-10T18:20:38.719604Z",
     "shell.execute_reply": "2023-12-10T18:20:38.718845Z"
    },
    "papermill": {
     "duration": 0.035226,
     "end_time": "2023-12-10T18:20:38.721423",
     "exception": false,
     "start_time": "2023-12-10T18:20:38.686197",
     "status": "completed"
    },
    "tags": []
   },
   "outputs": [
    {
     "data": {
      "text/html": [
       "<div>\n",
       "<style scoped>\n",
       "    .dataframe tbody tr th:only-of-type {\n",
       "        vertical-align: middle;\n",
       "    }\n",
       "\n",
       "    .dataframe tbody tr th {\n",
       "        vertical-align: top;\n",
       "    }\n",
       "\n",
       "    .dataframe thead th {\n",
       "        text-align: right;\n",
       "    }\n",
       "</style>\n",
       "<table border=\"1\" class=\"dataframe\">\n",
       "  <thead>\n",
       "    <tr style=\"text-align: right;\">\n",
       "      <th></th>\n",
       "      <th>PassengerId</th>\n",
       "      <th>Survived</th>\n",
       "      <th>Pclass</th>\n",
       "      <th>Name</th>\n",
       "      <th>Sex</th>\n",
       "      <th>Age</th>\n",
       "      <th>SibSp</th>\n",
       "      <th>Parch</th>\n",
       "      <th>Ticket</th>\n",
       "      <th>Fare</th>\n",
       "      <th>Cabin</th>\n",
       "      <th>Embarked</th>\n",
       "    </tr>\n",
       "  </thead>\n",
       "  <tbody>\n",
       "    <tr>\n",
       "      <th>0</th>\n",
       "      <td>892</td>\n",
       "      <td>0</td>\n",
       "      <td>3</td>\n",
       "      <td>Kelly, Mr. James</td>\n",
       "      <td>male</td>\n",
       "      <td>34.5</td>\n",
       "      <td>0</td>\n",
       "      <td>0</td>\n",
       "      <td>330911</td>\n",
       "      <td>7.8292</td>\n",
       "      <td>NaN</td>\n",
       "      <td>Q</td>\n",
       "    </tr>\n",
       "    <tr>\n",
       "      <th>1</th>\n",
       "      <td>893</td>\n",
       "      <td>1</td>\n",
       "      <td>3</td>\n",
       "      <td>Wilkes, Mrs. James (Ellen Needs)</td>\n",
       "      <td>female</td>\n",
       "      <td>47.0</td>\n",
       "      <td>1</td>\n",
       "      <td>0</td>\n",
       "      <td>363272</td>\n",
       "      <td>7.0000</td>\n",
       "      <td>NaN</td>\n",
       "      <td>S</td>\n",
       "    </tr>\n",
       "    <tr>\n",
       "      <th>2</th>\n",
       "      <td>894</td>\n",
       "      <td>0</td>\n",
       "      <td>2</td>\n",
       "      <td>Myles, Mr. Thomas Francis</td>\n",
       "      <td>male</td>\n",
       "      <td>62.0</td>\n",
       "      <td>0</td>\n",
       "      <td>0</td>\n",
       "      <td>240276</td>\n",
       "      <td>9.6875</td>\n",
       "      <td>NaN</td>\n",
       "      <td>Q</td>\n",
       "    </tr>\n",
       "    <tr>\n",
       "      <th>3</th>\n",
       "      <td>895</td>\n",
       "      <td>0</td>\n",
       "      <td>3</td>\n",
       "      <td>Wirz, Mr. Albert</td>\n",
       "      <td>male</td>\n",
       "      <td>27.0</td>\n",
       "      <td>0</td>\n",
       "      <td>0</td>\n",
       "      <td>315154</td>\n",
       "      <td>8.6625</td>\n",
       "      <td>NaN</td>\n",
       "      <td>S</td>\n",
       "    </tr>\n",
       "    <tr>\n",
       "      <th>4</th>\n",
       "      <td>896</td>\n",
       "      <td>1</td>\n",
       "      <td>3</td>\n",
       "      <td>Hirvonen, Mrs. Alexander (Helga E Lindqvist)</td>\n",
       "      <td>female</td>\n",
       "      <td>22.0</td>\n",
       "      <td>1</td>\n",
       "      <td>1</td>\n",
       "      <td>3101298</td>\n",
       "      <td>12.2875</td>\n",
       "      <td>NaN</td>\n",
       "      <td>S</td>\n",
       "    </tr>\n",
       "  </tbody>\n",
       "</table>\n",
       "</div>"
      ],
      "text/plain": [
       "   PassengerId  Survived  Pclass  \\\n",
       "0          892         0       3   \n",
       "1          893         1       3   \n",
       "2          894         0       2   \n",
       "3          895         0       3   \n",
       "4          896         1       3   \n",
       "\n",
       "                                           Name     Sex   Age  SibSp  Parch  \\\n",
       "0                              Kelly, Mr. James    male  34.5      0      0   \n",
       "1              Wilkes, Mrs. James (Ellen Needs)  female  47.0      1      0   \n",
       "2                     Myles, Mr. Thomas Francis    male  62.0      0      0   \n",
       "3                              Wirz, Mr. Albert    male  27.0      0      0   \n",
       "4  Hirvonen, Mrs. Alexander (Helga E Lindqvist)  female  22.0      1      1   \n",
       "\n",
       "    Ticket     Fare Cabin Embarked  \n",
       "0   330911   7.8292   NaN        Q  \n",
       "1   363272   7.0000   NaN        S  \n",
       "2   240276   9.6875   NaN        Q  \n",
       "3   315154   8.6625   NaN        S  \n",
       "4  3101298  12.2875   NaN        S  "
      ]
     },
     "execution_count": 4,
     "metadata": {},
     "output_type": "execute_result"
    }
   ],
   "source": [
    "df.head()"
   ]
  },
  {
   "cell_type": "code",
   "execution_count": 5,
   "id": "aa26cc50",
   "metadata": {
    "execution": {
     "iopub.execute_input": "2023-12-10T18:20:38.736100Z",
     "iopub.status.busy": "2023-12-10T18:20:38.735257Z",
     "iopub.status.idle": "2023-12-10T18:20:38.750558Z",
     "shell.execute_reply": "2023-12-10T18:20:38.749226Z"
    },
    "papermill": {
     "duration": 0.025528,
     "end_time": "2023-12-10T18:20:38.753026",
     "exception": false,
     "start_time": "2023-12-10T18:20:38.727498",
     "status": "completed"
    },
    "tags": []
   },
   "outputs": [
    {
     "data": {
      "text/html": [
       "<div>\n",
       "<style scoped>\n",
       "    .dataframe tbody tr th:only-of-type {\n",
       "        vertical-align: middle;\n",
       "    }\n",
       "\n",
       "    .dataframe tbody tr th {\n",
       "        vertical-align: top;\n",
       "    }\n",
       "\n",
       "    .dataframe thead th {\n",
       "        text-align: right;\n",
       "    }\n",
       "</style>\n",
       "<table border=\"1\" class=\"dataframe\">\n",
       "  <thead>\n",
       "    <tr style=\"text-align: right;\">\n",
       "      <th></th>\n",
       "      <th>Missing Values</th>\n",
       "      <th>Percentage</th>\n",
       "    </tr>\n",
       "  </thead>\n",
       "  <tbody>\n",
       "    <tr>\n",
       "      <th>PassengerId</th>\n",
       "      <td>0</td>\n",
       "      <td>0.0%</td>\n",
       "    </tr>\n",
       "    <tr>\n",
       "      <th>Survived</th>\n",
       "      <td>0</td>\n",
       "      <td>0.0%</td>\n",
       "    </tr>\n",
       "    <tr>\n",
       "      <th>Pclass</th>\n",
       "      <td>0</td>\n",
       "      <td>0.0%</td>\n",
       "    </tr>\n",
       "    <tr>\n",
       "      <th>Name</th>\n",
       "      <td>0</td>\n",
       "      <td>0.0%</td>\n",
       "    </tr>\n",
       "    <tr>\n",
       "      <th>Sex</th>\n",
       "      <td>0</td>\n",
       "      <td>0.0%</td>\n",
       "    </tr>\n",
       "    <tr>\n",
       "      <th>Age</th>\n",
       "      <td>86</td>\n",
       "      <td>20.57%</td>\n",
       "    </tr>\n",
       "    <tr>\n",
       "      <th>SibSp</th>\n",
       "      <td>0</td>\n",
       "      <td>0.0%</td>\n",
       "    </tr>\n",
       "    <tr>\n",
       "      <th>Parch</th>\n",
       "      <td>0</td>\n",
       "      <td>0.0%</td>\n",
       "    </tr>\n",
       "    <tr>\n",
       "      <th>Ticket</th>\n",
       "      <td>0</td>\n",
       "      <td>0.0%</td>\n",
       "    </tr>\n",
       "    <tr>\n",
       "      <th>Fare</th>\n",
       "      <td>1</td>\n",
       "      <td>0.24%</td>\n",
       "    </tr>\n",
       "    <tr>\n",
       "      <th>Cabin</th>\n",
       "      <td>327</td>\n",
       "      <td>78.23%</td>\n",
       "    </tr>\n",
       "    <tr>\n",
       "      <th>Embarked</th>\n",
       "      <td>0</td>\n",
       "      <td>0.0%</td>\n",
       "    </tr>\n",
       "  </tbody>\n",
       "</table>\n",
       "</div>"
      ],
      "text/plain": [
       "             Missing Values Percentage\n",
       "PassengerId               0       0.0%\n",
       "Survived                  0       0.0%\n",
       "Pclass                    0       0.0%\n",
       "Name                      0       0.0%\n",
       "Sex                       0       0.0%\n",
       "Age                      86     20.57%\n",
       "SibSp                     0       0.0%\n",
       "Parch                     0       0.0%\n",
       "Ticket                    0       0.0%\n",
       "Fare                      1      0.24%\n",
       "Cabin                   327     78.23%\n",
       "Embarked                  0       0.0%"
      ]
     },
     "execution_count": 5,
     "metadata": {},
     "output_type": "execute_result"
    }
   ],
   "source": [
    "def missing_values_percent(dataframe):\n",
    "    missing_values = dataframe.isna().sum()\n",
    "    percentage_missing = (missing_values / len(dataframe) * 100).round(2)\n",
    "\n",
    "    result_movie = pd.DataFrame({'Missing Values': missing_values, 'Percentage': percentage_missing})\n",
    "    result_movie['Percentage'] = result_movie['Percentage'].astype(str) + '%'\n",
    "\n",
    "    return result_movie\n",
    "\n",
    "\n",
    "result = missing_values_percent(df)\n",
    "result"
   ]
  },
  {
   "cell_type": "code",
   "execution_count": 6,
   "id": "2fce4fd3",
   "metadata": {
    "execution": {
     "iopub.execute_input": "2023-12-10T18:20:38.767585Z",
     "iopub.status.busy": "2023-12-10T18:20:38.767077Z",
     "iopub.status.idle": "2023-12-10T18:20:38.778959Z",
     "shell.execute_reply": "2023-12-10T18:20:38.777602Z"
    },
    "papermill": {
     "duration": 0.022377,
     "end_time": "2023-12-10T18:20:38.781790",
     "exception": false,
     "start_time": "2023-12-10T18:20:38.759413",
     "status": "completed"
    },
    "tags": []
   },
   "outputs": [],
   "source": [
    "df = df.dropna()"
   ]
  },
  {
   "cell_type": "code",
   "execution_count": 7,
   "id": "900e6c41",
   "metadata": {
    "execution": {
     "iopub.execute_input": "2023-12-10T18:20:38.796939Z",
     "iopub.status.busy": "2023-12-10T18:20:38.796442Z",
     "iopub.status.idle": "2023-12-10T18:20:38.808662Z",
     "shell.execute_reply": "2023-12-10T18:20:38.807299Z"
    },
    "papermill": {
     "duration": 0.022378,
     "end_time": "2023-12-10T18:20:38.810754",
     "exception": false,
     "start_time": "2023-12-10T18:20:38.788376",
     "status": "completed"
    },
    "tags": []
   },
   "outputs": [],
   "source": [
    "gender_mapping = {'male': 0, 'female': 1}\n",
    "df['Sex'] = df['Sex'].map(gender_mapping)"
   ]
  },
  {
   "cell_type": "code",
   "execution_count": 8,
   "id": "08fbc2e8",
   "metadata": {
    "execution": {
     "iopub.execute_input": "2023-12-10T18:20:38.826093Z",
     "iopub.status.busy": "2023-12-10T18:20:38.824964Z",
     "iopub.status.idle": "2023-12-10T18:20:38.840773Z",
     "shell.execute_reply": "2023-12-10T18:20:38.839215Z"
    },
    "papermill": {
     "duration": 0.025525,
     "end_time": "2023-12-10T18:20:38.842832",
     "exception": false,
     "start_time": "2023-12-10T18:20:38.817307",
     "status": "completed"
    },
    "tags": []
   },
   "outputs": [
    {
     "data": {
      "text/html": [
       "<div>\n",
       "<style scoped>\n",
       "    .dataframe tbody tr th:only-of-type {\n",
       "        vertical-align: middle;\n",
       "    }\n",
       "\n",
       "    .dataframe tbody tr th {\n",
       "        vertical-align: top;\n",
       "    }\n",
       "\n",
       "    .dataframe thead th {\n",
       "        text-align: right;\n",
       "    }\n",
       "</style>\n",
       "<table border=\"1\" class=\"dataframe\">\n",
       "  <thead>\n",
       "    <tr style=\"text-align: right;\">\n",
       "      <th></th>\n",
       "      <th>PassengerId</th>\n",
       "      <th>Survived</th>\n",
       "      <th>Pclass</th>\n",
       "      <th>Name</th>\n",
       "      <th>Sex</th>\n",
       "      <th>Age</th>\n",
       "      <th>SibSp</th>\n",
       "      <th>Parch</th>\n",
       "      <th>Ticket</th>\n",
       "      <th>Fare</th>\n",
       "      <th>Cabin</th>\n",
       "      <th>Embarked</th>\n",
       "    </tr>\n",
       "  </thead>\n",
       "  <tbody>\n",
       "    <tr>\n",
       "      <th>12</th>\n",
       "      <td>904</td>\n",
       "      <td>1</td>\n",
       "      <td>1</td>\n",
       "      <td>Snyder, Mrs. John Pillsbury (Nelle Stevenson)</td>\n",
       "      <td>1</td>\n",
       "      <td>23.0</td>\n",
       "      <td>1</td>\n",
       "      <td>0</td>\n",
       "      <td>21228</td>\n",
       "      <td>82.2667</td>\n",
       "      <td>B45</td>\n",
       "      <td>S</td>\n",
       "    </tr>\n",
       "    <tr>\n",
       "      <th>14</th>\n",
       "      <td>906</td>\n",
       "      <td>1</td>\n",
       "      <td>1</td>\n",
       "      <td>Chaffee, Mrs. Herbert Fuller (Carrie Constance...</td>\n",
       "      <td>1</td>\n",
       "      <td>47.0</td>\n",
       "      <td>1</td>\n",
       "      <td>0</td>\n",
       "      <td>W.E.P. 5734</td>\n",
       "      <td>61.1750</td>\n",
       "      <td>E31</td>\n",
       "      <td>S</td>\n",
       "    </tr>\n",
       "    <tr>\n",
       "      <th>24</th>\n",
       "      <td>916</td>\n",
       "      <td>1</td>\n",
       "      <td>1</td>\n",
       "      <td>Ryerson, Mrs. Arthur Larned (Emily Maria Borie)</td>\n",
       "      <td>1</td>\n",
       "      <td>48.0</td>\n",
       "      <td>1</td>\n",
       "      <td>3</td>\n",
       "      <td>PC 17608</td>\n",
       "      <td>262.3750</td>\n",
       "      <td>B57 B59 B63 B66</td>\n",
       "      <td>C</td>\n",
       "    </tr>\n",
       "    <tr>\n",
       "      <th>26</th>\n",
       "      <td>918</td>\n",
       "      <td>1</td>\n",
       "      <td>1</td>\n",
       "      <td>Ostby, Miss. Helene Ragnhild</td>\n",
       "      <td>1</td>\n",
       "      <td>22.0</td>\n",
       "      <td>0</td>\n",
       "      <td>1</td>\n",
       "      <td>113509</td>\n",
       "      <td>61.9792</td>\n",
       "      <td>B36</td>\n",
       "      <td>C</td>\n",
       "    </tr>\n",
       "    <tr>\n",
       "      <th>28</th>\n",
       "      <td>920</td>\n",
       "      <td>0</td>\n",
       "      <td>1</td>\n",
       "      <td>Brady, Mr. John Bertram</td>\n",
       "      <td>0</td>\n",
       "      <td>41.0</td>\n",
       "      <td>0</td>\n",
       "      <td>0</td>\n",
       "      <td>113054</td>\n",
       "      <td>30.5000</td>\n",
       "      <td>A21</td>\n",
       "      <td>S</td>\n",
       "    </tr>\n",
       "  </tbody>\n",
       "</table>\n",
       "</div>"
      ],
      "text/plain": [
       "    PassengerId  Survived  Pclass  \\\n",
       "12          904         1       1   \n",
       "14          906         1       1   \n",
       "24          916         1       1   \n",
       "26          918         1       1   \n",
       "28          920         0       1   \n",
       "\n",
       "                                                 Name  Sex   Age  SibSp  \\\n",
       "12      Snyder, Mrs. John Pillsbury (Nelle Stevenson)    1  23.0      1   \n",
       "14  Chaffee, Mrs. Herbert Fuller (Carrie Constance...    1  47.0      1   \n",
       "24    Ryerson, Mrs. Arthur Larned (Emily Maria Borie)    1  48.0      1   \n",
       "26                       Ostby, Miss. Helene Ragnhild    1  22.0      0   \n",
       "28                            Brady, Mr. John Bertram    0  41.0      0   \n",
       "\n",
       "    Parch       Ticket      Fare            Cabin Embarked  \n",
       "12      0        21228   82.2667              B45        S  \n",
       "14      0  W.E.P. 5734   61.1750              E31        S  \n",
       "24      3     PC 17608  262.3750  B57 B59 B63 B66        C  \n",
       "26      1       113509   61.9792              B36        C  \n",
       "28      0       113054   30.5000              A21        S  "
      ]
     },
     "execution_count": 8,
     "metadata": {},
     "output_type": "execute_result"
    }
   ],
   "source": [
    "df.head()"
   ]
  },
  {
   "cell_type": "code",
   "execution_count": 9,
   "id": "f95214f1",
   "metadata": {
    "execution": {
     "iopub.execute_input": "2023-12-10T18:20:38.857561Z",
     "iopub.status.busy": "2023-12-10T18:20:38.856325Z",
     "iopub.status.idle": "2023-12-10T18:20:38.862450Z",
     "shell.execute_reply": "2023-12-10T18:20:38.861741Z"
    },
    "papermill": {
     "duration": 0.015073,
     "end_time": "2023-12-10T18:20:38.864090",
     "exception": false,
     "start_time": "2023-12-10T18:20:38.849017",
     "status": "completed"
    },
    "tags": []
   },
   "outputs": [],
   "source": [
    "df['Age'] = df['Age'].round().astype(int)"
   ]
  },
  {
   "cell_type": "code",
   "execution_count": 10,
   "id": "90222a61",
   "metadata": {
    "execution": {
     "iopub.execute_input": "2023-12-10T18:20:38.879726Z",
     "iopub.status.busy": "2023-12-10T18:20:38.878918Z",
     "iopub.status.idle": "2023-12-10T18:20:38.886280Z",
     "shell.execute_reply": "2023-12-10T18:20:38.885096Z"
    },
    "papermill": {
     "duration": 0.01833,
     "end_time": "2023-12-10T18:20:38.889367",
     "exception": false,
     "start_time": "2023-12-10T18:20:38.871037",
     "status": "completed"
    },
    "tags": []
   },
   "outputs": [],
   "source": [
    "df['Fare'] = df['Fare'].round().astype(int)"
   ]
  },
  {
   "cell_type": "code",
   "execution_count": 11,
   "id": "79812777",
   "metadata": {
    "execution": {
     "iopub.execute_input": "2023-12-10T18:20:38.906267Z",
     "iopub.status.busy": "2023-12-10T18:20:38.905771Z",
     "iopub.status.idle": "2023-12-10T18:20:38.921439Z",
     "shell.execute_reply": "2023-12-10T18:20:38.920552Z"
    },
    "papermill": {
     "duration": 0.026998,
     "end_time": "2023-12-10T18:20:38.923270",
     "exception": false,
     "start_time": "2023-12-10T18:20:38.896272",
     "status": "completed"
    },
    "tags": []
   },
   "outputs": [
    {
     "data": {
      "text/html": [
       "<div>\n",
       "<style scoped>\n",
       "    .dataframe tbody tr th:only-of-type {\n",
       "        vertical-align: middle;\n",
       "    }\n",
       "\n",
       "    .dataframe tbody tr th {\n",
       "        vertical-align: top;\n",
       "    }\n",
       "\n",
       "    .dataframe thead th {\n",
       "        text-align: right;\n",
       "    }\n",
       "</style>\n",
       "<table border=\"1\" class=\"dataframe\">\n",
       "  <thead>\n",
       "    <tr style=\"text-align: right;\">\n",
       "      <th></th>\n",
       "      <th>PassengerId</th>\n",
       "      <th>Survived</th>\n",
       "      <th>Pclass</th>\n",
       "      <th>Name</th>\n",
       "      <th>Sex</th>\n",
       "      <th>Age</th>\n",
       "      <th>SibSp</th>\n",
       "      <th>Parch</th>\n",
       "      <th>Ticket</th>\n",
       "      <th>Fare</th>\n",
       "      <th>Cabin</th>\n",
       "      <th>Embarked</th>\n",
       "    </tr>\n",
       "  </thead>\n",
       "  <tbody>\n",
       "    <tr>\n",
       "      <th>12</th>\n",
       "      <td>904</td>\n",
       "      <td>1</td>\n",
       "      <td>1</td>\n",
       "      <td>Snyder, Mrs. John Pillsbury (Nelle Stevenson)</td>\n",
       "      <td>1</td>\n",
       "      <td>23</td>\n",
       "      <td>1</td>\n",
       "      <td>0</td>\n",
       "      <td>21228</td>\n",
       "      <td>82</td>\n",
       "      <td>B45</td>\n",
       "      <td>S</td>\n",
       "    </tr>\n",
       "    <tr>\n",
       "      <th>14</th>\n",
       "      <td>906</td>\n",
       "      <td>1</td>\n",
       "      <td>1</td>\n",
       "      <td>Chaffee, Mrs. Herbert Fuller (Carrie Constance...</td>\n",
       "      <td>1</td>\n",
       "      <td>47</td>\n",
       "      <td>1</td>\n",
       "      <td>0</td>\n",
       "      <td>W.E.P. 5734</td>\n",
       "      <td>61</td>\n",
       "      <td>E31</td>\n",
       "      <td>S</td>\n",
       "    </tr>\n",
       "    <tr>\n",
       "      <th>24</th>\n",
       "      <td>916</td>\n",
       "      <td>1</td>\n",
       "      <td>1</td>\n",
       "      <td>Ryerson, Mrs. Arthur Larned (Emily Maria Borie)</td>\n",
       "      <td>1</td>\n",
       "      <td>48</td>\n",
       "      <td>1</td>\n",
       "      <td>3</td>\n",
       "      <td>PC 17608</td>\n",
       "      <td>262</td>\n",
       "      <td>B57 B59 B63 B66</td>\n",
       "      <td>C</td>\n",
       "    </tr>\n",
       "    <tr>\n",
       "      <th>26</th>\n",
       "      <td>918</td>\n",
       "      <td>1</td>\n",
       "      <td>1</td>\n",
       "      <td>Ostby, Miss. Helene Ragnhild</td>\n",
       "      <td>1</td>\n",
       "      <td>22</td>\n",
       "      <td>0</td>\n",
       "      <td>1</td>\n",
       "      <td>113509</td>\n",
       "      <td>62</td>\n",
       "      <td>B36</td>\n",
       "      <td>C</td>\n",
       "    </tr>\n",
       "    <tr>\n",
       "      <th>28</th>\n",
       "      <td>920</td>\n",
       "      <td>0</td>\n",
       "      <td>1</td>\n",
       "      <td>Brady, Mr. John Bertram</td>\n",
       "      <td>0</td>\n",
       "      <td>41</td>\n",
       "      <td>0</td>\n",
       "      <td>0</td>\n",
       "      <td>113054</td>\n",
       "      <td>30</td>\n",
       "      <td>A21</td>\n",
       "      <td>S</td>\n",
       "    </tr>\n",
       "  </tbody>\n",
       "</table>\n",
       "</div>"
      ],
      "text/plain": [
       "    PassengerId  Survived  Pclass  \\\n",
       "12          904         1       1   \n",
       "14          906         1       1   \n",
       "24          916         1       1   \n",
       "26          918         1       1   \n",
       "28          920         0       1   \n",
       "\n",
       "                                                 Name  Sex  Age  SibSp  Parch  \\\n",
       "12      Snyder, Mrs. John Pillsbury (Nelle Stevenson)    1   23      1      0   \n",
       "14  Chaffee, Mrs. Herbert Fuller (Carrie Constance...    1   47      1      0   \n",
       "24    Ryerson, Mrs. Arthur Larned (Emily Maria Borie)    1   48      1      3   \n",
       "26                       Ostby, Miss. Helene Ragnhild    1   22      0      1   \n",
       "28                            Brady, Mr. John Bertram    0   41      0      0   \n",
       "\n",
       "         Ticket  Fare            Cabin Embarked  \n",
       "12        21228    82              B45        S  \n",
       "14  W.E.P. 5734    61              E31        S  \n",
       "24     PC 17608   262  B57 B59 B63 B66        C  \n",
       "26       113509    62              B36        C  \n",
       "28       113054    30              A21        S  "
      ]
     },
     "execution_count": 11,
     "metadata": {},
     "output_type": "execute_result"
    }
   ],
   "source": [
    "df.head()"
   ]
  },
  {
   "cell_type": "code",
   "execution_count": 12,
   "id": "2818c4a5",
   "metadata": {
    "execution": {
     "iopub.execute_input": "2023-12-10T18:20:38.938347Z",
     "iopub.status.busy": "2023-12-10T18:20:38.937890Z",
     "iopub.status.idle": "2023-12-10T18:20:38.944139Z",
     "shell.execute_reply": "2023-12-10T18:20:38.942844Z"
    },
    "papermill": {
     "duration": 0.015836,
     "end_time": "2023-12-10T18:20:38.945787",
     "exception": false,
     "start_time": "2023-12-10T18:20:38.929951",
     "status": "completed"
    },
    "tags": []
   },
   "outputs": [],
   "source": [
    "df.drop(['PassengerId','Name','Ticket','Cabin', 'Embarked'],axis=1, inplace=True)"
   ]
  },
  {
   "cell_type": "code",
   "execution_count": 13,
   "id": "5e66b28f",
   "metadata": {
    "execution": {
     "iopub.execute_input": "2023-12-10T18:20:38.960828Z",
     "iopub.status.busy": "2023-12-10T18:20:38.960072Z",
     "iopub.status.idle": "2023-12-10T18:20:38.990944Z",
     "shell.execute_reply": "2023-12-10T18:20:38.988740Z"
    },
    "papermill": {
     "duration": 0.043507,
     "end_time": "2023-12-10T18:20:38.995644",
     "exception": false,
     "start_time": "2023-12-10T18:20:38.952137",
     "status": "completed"
    },
    "tags": []
   },
   "outputs": [
    {
     "name": "stdout",
     "output_type": "stream",
     "text": [
      "<class 'pandas.core.frame.DataFrame'>\n",
      "Index: 87 entries, 12 to 414\n",
      "Data columns (total 7 columns):\n",
      " #   Column    Non-Null Count  Dtype\n",
      "---  ------    --------------  -----\n",
      " 0   Survived  87 non-null     int64\n",
      " 1   Pclass    87 non-null     int64\n",
      " 2   Sex       87 non-null     int64\n",
      " 3   Age       87 non-null     int64\n",
      " 4   SibSp     87 non-null     int64\n",
      " 5   Parch     87 non-null     int64\n",
      " 6   Fare      87 non-null     int64\n",
      "dtypes: int64(7)\n",
      "memory usage: 5.4 KB\n"
     ]
    }
   ],
   "source": [
    "df.info()"
   ]
  },
  {
   "cell_type": "markdown",
   "id": "7a3b1fae",
   "metadata": {
    "papermill": {
     "duration": 0.008697,
     "end_time": "2023-12-10T18:20:39.015883",
     "exception": false,
     "start_time": "2023-12-10T18:20:39.007186",
     "status": "completed"
    },
    "tags": []
   },
   "source": [
    "<div style=\"color:white;\n",
    "            display:fill;\n",
    "            border-radius:15px;\n",
    "            background-color:BLACK;\n",
    "            font-size:100%;\n",
    "            font-family:Verdana;\n",
    "            letter-spacing:1px\">\n",
    "    <h3 style='padding: 20px;\n",
    "              color:CYAN;\n",
    "              text-align:center;'>\n",
    "        Building Model\n",
    "    </h3>\n",
    "    </div>"
   ]
  },
  {
   "cell_type": "code",
   "execution_count": 14,
   "id": "cd628599",
   "metadata": {
    "execution": {
     "iopub.execute_input": "2023-12-10T18:20:39.038156Z",
     "iopub.status.busy": "2023-12-10T18:20:39.037552Z",
     "iopub.status.idle": "2023-12-10T18:20:39.044625Z",
     "shell.execute_reply": "2023-12-10T18:20:39.043596Z"
    },
    "papermill": {
     "duration": 0.022909,
     "end_time": "2023-12-10T18:20:39.048280",
     "exception": false,
     "start_time": "2023-12-10T18:20:39.025371",
     "status": "completed"
    },
    "tags": []
   },
   "outputs": [],
   "source": [
    "X = df.drop('Survived', axis=1)\n",
    "y = df['Survived']"
   ]
  },
  {
   "cell_type": "code",
   "execution_count": 15,
   "id": "eebf8e97",
   "metadata": {
    "execution": {
     "iopub.execute_input": "2023-12-10T18:20:39.067182Z",
     "iopub.status.busy": "2023-12-10T18:20:39.066284Z",
     "iopub.status.idle": "2023-12-10T18:20:39.077460Z",
     "shell.execute_reply": "2023-12-10T18:20:39.076458Z"
    },
    "papermill": {
     "duration": 0.023134,
     "end_time": "2023-12-10T18:20:39.080187",
     "exception": false,
     "start_time": "2023-12-10T18:20:39.057053",
     "status": "completed"
    },
    "tags": []
   },
   "outputs": [],
   "source": [
    "scaler = MinMaxScaler()\n",
    "X = scaler.fit_transform(X)\n",
    "y = scaler.fit_transform(y.values.reshape(-1, 1))"
   ]
  },
  {
   "cell_type": "code",
   "execution_count": 16,
   "id": "9da01796",
   "metadata": {
    "execution": {
     "iopub.execute_input": "2023-12-10T18:20:39.100576Z",
     "iopub.status.busy": "2023-12-10T18:20:39.099830Z",
     "iopub.status.idle": "2023-12-10T18:20:39.106488Z",
     "shell.execute_reply": "2023-12-10T18:20:39.105735Z"
    },
    "papermill": {
     "duration": 0.019345,
     "end_time": "2023-12-10T18:20:39.109238",
     "exception": false,
     "start_time": "2023-12-10T18:20:39.089893",
     "status": "completed"
    },
    "tags": []
   },
   "outputs": [
    {
     "name": "stdout",
     "output_type": "stream",
     "text": [
      "(69, 6)\n",
      "(69, 1)\n",
      "(18, 6)\n",
      "(18, 1)\n"
     ]
    }
   ],
   "source": [
    "X_train, X_test, y_train, y_test = train_test_split(X, y, test_size=0.2, random_state=0)\n",
    "\n",
    "print(X_train.shape)\n",
    "print(y_train.shape)\n",
    "print(X_test.shape)\n",
    "print(y_test.shape)"
   ]
  },
  {
   "cell_type": "code",
   "execution_count": 17,
   "id": "6e50b8ba",
   "metadata": {
    "execution": {
     "iopub.execute_input": "2023-12-10T18:20:39.125819Z",
     "iopub.status.busy": "2023-12-10T18:20:39.125088Z",
     "iopub.status.idle": "2023-12-10T18:20:39.340731Z",
     "shell.execute_reply": "2023-12-10T18:20:39.339623Z"
    },
    "papermill": {
     "duration": 0.226684,
     "end_time": "2023-12-10T18:20:39.343249",
     "exception": false,
     "start_time": "2023-12-10T18:20:39.116565",
     "status": "completed"
    },
    "tags": []
   },
   "outputs": [
    {
     "name": "stdout",
     "output_type": "stream",
     "text": [
      "Model: \"sequential\"\n",
      "_________________________________________________________________\n",
      " Layer (type)                Output Shape              Param #   \n",
      "=================================================================\n",
      " dense (Dense)               (None, 10)                70        \n",
      "                                                                 \n",
      " dense_1 (Dense)             (None, 10)                110       \n",
      "                                                                 \n",
      " dense_2 (Dense)             (None, 1)                 11        \n",
      "                                                                 \n",
      "=================================================================\n",
      "Total params: 191 (764.00 Byte)\n",
      "Trainable params: 191 (764.00 Byte)\n",
      "Non-trainable params: 0 (0.00 Byte)\n",
      "_________________________________________________________________\n"
     ]
    }
   ],
   "source": [
    "model = Sequential()\n",
    "model.add(Dense(10, activation='relu', input_dim=6))\n",
    "model.add(Dense(10, activation='relu'))\n",
    "model.add(Dense(1, activation='linear'))\n",
    "\n",
    "model.compile(optimizer='adam', loss='mean_squared_error', metrics=['mean_absolute_error'])\n",
    "model.summary()"
   ]
  },
  {
   "cell_type": "code",
   "execution_count": 18,
   "id": "0a00560d",
   "metadata": {
    "execution": {
     "iopub.execute_input": "2023-12-10T18:20:39.360467Z",
     "iopub.status.busy": "2023-12-10T18:20:39.359988Z",
     "iopub.status.idle": "2023-12-10T18:20:41.552535Z",
     "shell.execute_reply": "2023-12-10T18:20:41.550576Z"
    },
    "papermill": {
     "duration": 2.206093,
     "end_time": "2023-12-10T18:20:41.556806",
     "exception": false,
     "start_time": "2023-12-10T18:20:39.350713",
     "status": "completed"
    },
    "tags": []
   },
   "outputs": [
    {
     "name": "stdout",
     "output_type": "stream",
     "text": [
      "Epoch 1/25\n",
      "2/2 [==============================] - 1s 193ms/step - loss: 0.4623 - mean_absolute_error: 0.5381 - val_loss: 0.4023 - val_mean_absolute_error: 0.4823\n",
      "Epoch 2/25\n",
      "2/2 [==============================] - 0s 38ms/step - loss: 0.4383 - mean_absolute_error: 0.5182 - val_loss: 0.3819 - val_mean_absolute_error: 0.4652\n",
      "Epoch 3/25\n",
      "2/2 [==============================] - 0s 36ms/step - loss: 0.4165 - mean_absolute_error: 0.5009 - val_loss: 0.3625 - val_mean_absolute_error: 0.4521\n",
      "Epoch 4/25\n",
      "2/2 [==============================] - 0s 35ms/step - loss: 0.3959 - mean_absolute_error: 0.4854 - val_loss: 0.3434 - val_mean_absolute_error: 0.4415\n",
      "Epoch 5/25\n",
      "2/2 [==============================] - 0s 36ms/step - loss: 0.3761 - mean_absolute_error: 0.4723 - val_loss: 0.3253 - val_mean_absolute_error: 0.4310\n",
      "Epoch 6/25\n",
      "2/2 [==============================] - 0s 32ms/step - loss: 0.3573 - mean_absolute_error: 0.4623 - val_loss: 0.3085 - val_mean_absolute_error: 0.4216\n",
      "Epoch 7/25\n",
      "2/2 [==============================] - 0s 37ms/step - loss: 0.3417 - mean_absolute_error: 0.4554 - val_loss: 0.2934 - val_mean_absolute_error: 0.4136\n",
      "Epoch 8/25\n",
      "2/2 [==============================] - 0s 31ms/step - loss: 0.3243 - mean_absolute_error: 0.4467 - val_loss: 0.2794 - val_mean_absolute_error: 0.4069\n",
      "Epoch 9/25\n",
      "2/2 [==============================] - 0s 35ms/step - loss: 0.3102 - mean_absolute_error: 0.4417 - val_loss: 0.2660 - val_mean_absolute_error: 0.4004\n",
      "Epoch 10/25\n",
      "2/2 [==============================] - 0s 37ms/step - loss: 0.2961 - mean_absolute_error: 0.4361 - val_loss: 0.2533 - val_mean_absolute_error: 0.3939\n",
      "Epoch 11/25\n",
      "2/2 [==============================] - 0s 49ms/step - loss: 0.2834 - mean_absolute_error: 0.4314 - val_loss: 0.2416 - val_mean_absolute_error: 0.3877\n",
      "Epoch 12/25\n",
      "2/2 [==============================] - 0s 31ms/step - loss: 0.2707 - mean_absolute_error: 0.4262 - val_loss: 0.2303 - val_mean_absolute_error: 0.3816\n",
      "Epoch 13/25\n",
      "2/2 [==============================] - 0s 33ms/step - loss: 0.2595 - mean_absolute_error: 0.4217 - val_loss: 0.2197 - val_mean_absolute_error: 0.3756\n",
      "Epoch 14/25\n",
      "2/2 [==============================] - 0s 35ms/step - loss: 0.2485 - mean_absolute_error: 0.4169 - val_loss: 0.2102 - val_mean_absolute_error: 0.3700\n",
      "Epoch 15/25\n",
      "2/2 [==============================] - 0s 50ms/step - loss: 0.2382 - mean_absolute_error: 0.4121 - val_loss: 0.2010 - val_mean_absolute_error: 0.3643\n",
      "Epoch 16/25\n",
      "2/2 [==============================] - 0s 38ms/step - loss: 0.2275 - mean_absolute_error: 0.4059 - val_loss: 0.1923 - val_mean_absolute_error: 0.3586\n",
      "Epoch 17/25\n",
      "2/2 [==============================] - 0s 29ms/step - loss: 0.2183 - mean_absolute_error: 0.4016 - val_loss: 0.1835 - val_mean_absolute_error: 0.3527\n",
      "Epoch 18/25\n",
      "2/2 [==============================] - 0s 40ms/step - loss: 0.2086 - mean_absolute_error: 0.3956 - val_loss: 0.1752 - val_mean_absolute_error: 0.3467\n",
      "Epoch 19/25\n",
      "2/2 [==============================] - 0s 31ms/step - loss: 0.2002 - mean_absolute_error: 0.3905 - val_loss: 0.1672 - val_mean_absolute_error: 0.3406\n",
      "Epoch 20/25\n",
      "2/2 [==============================] - 0s 27ms/step - loss: 0.1915 - mean_absolute_error: 0.3853 - val_loss: 0.1595 - val_mean_absolute_error: 0.3344\n",
      "Epoch 21/25\n",
      "2/2 [==============================] - 0s 36ms/step - loss: 0.1826 - mean_absolute_error: 0.3789 - val_loss: 0.1520 - val_mean_absolute_error: 0.3282\n",
      "Epoch 22/25\n",
      "2/2 [==============================] - 0s 39ms/step - loss: 0.1744 - mean_absolute_error: 0.3728 - val_loss: 0.1450 - val_mean_absolute_error: 0.3220\n",
      "Epoch 23/25\n",
      "2/2 [==============================] - 0s 33ms/step - loss: 0.1665 - mean_absolute_error: 0.3667 - val_loss: 0.1382 - val_mean_absolute_error: 0.3157\n",
      "Epoch 24/25\n",
      "2/2 [==============================] - 0s 36ms/step - loss: 0.1591 - mean_absolute_error: 0.3604 - val_loss: 0.1316 - val_mean_absolute_error: 0.3092\n",
      "Epoch 25/25\n",
      "2/2 [==============================] - 0s 38ms/step - loss: 0.1517 - mean_absolute_error: 0.3539 - val_loss: 0.1254 - val_mean_absolute_error: 0.3026\n"
     ]
    }
   ],
   "source": [
    "past = model.fit(X_train, y_train, epochs=25, validation_split=0.2)"
   ]
  },
  {
   "cell_type": "code",
   "execution_count": 19,
   "id": "45a78616",
   "metadata": {
    "execution": {
     "iopub.execute_input": "2023-12-10T18:20:41.584813Z",
     "iopub.status.busy": "2023-12-10T18:20:41.584319Z",
     "iopub.status.idle": "2023-12-10T18:20:41.756766Z",
     "shell.execute_reply": "2023-12-10T18:20:41.754395Z"
    },
    "papermill": {
     "duration": 0.19034,
     "end_time": "2023-12-10T18:20:41.760268",
     "exception": false,
     "start_time": "2023-12-10T18:20:41.569928",
     "status": "completed"
    },
    "tags": []
   },
   "outputs": [
    {
     "name": "stdout",
     "output_type": "stream",
     "text": [
      "1/1 [==============================] - 0s 105ms/step\n"
     ]
    }
   ],
   "source": [
    "y_pred = model.predict(X_test)"
   ]
  },
  {
   "cell_type": "code",
   "execution_count": 20,
   "id": "36d88861",
   "metadata": {
    "execution": {
     "iopub.execute_input": "2023-12-10T18:20:41.788729Z",
     "iopub.status.busy": "2023-12-10T18:20:41.788227Z",
     "iopub.status.idle": "2023-12-10T18:20:41.796866Z",
     "shell.execute_reply": "2023-12-10T18:20:41.795426Z"
    },
    "papermill": {
     "duration": 0.025045,
     "end_time": "2023-12-10T18:20:41.799257",
     "exception": false,
     "start_time": "2023-12-10T18:20:41.774212",
     "status": "completed"
    },
    "tags": []
   },
   "outputs": [
    {
     "name": "stdout",
     "output_type": "stream",
     "text": [
      "R2 Score= 0.524788370866364\n"
     ]
    }
   ],
   "source": [
    "from sklearn.metrics import r2_score\n",
    "\n",
    "R2 = r2_score(y_test, y_pred)\n",
    "print(\"R2 Score=\",R2 )"
   ]
  }
 ],
 "metadata": {
  "kaggle": {
   "accelerator": "none",
   "dataSources": [
    {
     "datasetId": 826163,
     "sourceId": 2879186,
     "sourceType": "datasetVersion"
    }
   ],
   "dockerImageVersionId": 30615,
   "isGpuEnabled": false,
   "isInternetEnabled": true,
   "language": "python",
   "sourceType": "notebook"
  },
  "kernelspec": {
   "display_name": "Python 3",
   "language": "python",
   "name": "python3"
  },
  "language_info": {
   "codemirror_mode": {
    "name": "ipython",
    "version": 3
   },
   "file_extension": ".py",
   "mimetype": "text/x-python",
   "name": "python",
   "nbconvert_exporter": "python",
   "pygments_lexer": "ipython3",
   "version": "3.10.12"
  },
  "papermill": {
   "default_parameters": {},
   "duration": 24.266779,
   "end_time": "2023-12-10T18:20:44.326227",
   "environment_variables": {},
   "exception": null,
   "input_path": "__notebook__.ipynb",
   "output_path": "__notebook__.ipynb",
   "parameters": {},
   "start_time": "2023-12-10T18:20:20.059448",
   "version": "2.4.0"
  }
 },
 "nbformat": 4,
 "nbformat_minor": 5
}
