{
 "cells": [
  {
   "cell_type": "markdown",
   "id": "61de8444",
   "metadata": {
    "papermill": {
     "duration": 0.006524,
     "end_time": "2023-12-10T18:22:48.577304",
     "exception": false,
     "start_time": "2023-12-10T18:22:48.570780",
     "status": "completed"
    },
    "tags": []
   },
   "source": [
    "<div style=\"color:white;\n",
    "            display:fill;\n",
    "            border-radius:15px;\n",
    "            background-color:BLACK;\n",
    "            font-size:100%;\n",
    "            font-family:Verdana;\n",
    "            letter-spacing:1px\">\n",
    "    <h3 style='padding: 20px;\n",
    "              color:CYAN;\n",
    "              text-align:center;'>\n",
    "        Titanic Survival Prediction\n",
    "    </h3>\n",
    "    </div>"
   ]
  },
  {
   "cell_type": "markdown",
   "id": "26b92054",
   "metadata": {
    "papermill": {
     "duration": 0.0058,
     "end_time": "2023-12-10T18:22:48.589367",
     "exception": false,
     "start_time": "2023-12-10T18:22:48.583567",
     "status": "completed"
    },
    "tags": []
   },
   "source": [
    "![](https://media.tenor.com/9Di9mmafWd4AAAAM/titanic.gif)"
   ]
  },
  {
   "cell_type": "markdown",
   "id": "730ed102",
   "metadata": {
    "papermill": {
     "duration": 0.00555,
     "end_time": "2023-12-10T18:22:48.600836",
     "exception": false,
     "start_time": "2023-12-10T18:22:48.595286",
     "status": "completed"
    },
    "tags": []
   },
   "source": [
    "<div style=\"color:white;\n",
    "            display:fill;\n",
    "            border-radius:15px;\n",
    "            background-color:BLACK;\n",
    "            font-size:100%;\n",
    "            font-family:Verdana;\n",
    "            letter-spacing:1px\">\n",
    "    <h3 style='padding: 20px;\n",
    "              color:CYAN;\n",
    "              text-align:center;'>\n",
    "        TABLE OF CONTENT\n",
    "    </h3>\n",
    "    </div>"
   ]
  },
  {
   "cell_type": "markdown",
   "id": "9143d490",
   "metadata": {
    "papermill": {
     "duration": 0.005526,
     "end_time": "2023-12-10T18:22:48.612353",
     "exception": false,
     "start_time": "2023-12-10T18:22:48.606827",
     "status": "completed"
    },
    "tags": []
   },
   "source": [
    "* **Importing Libraries and Loading Data**\n",
    "\n",
    "* **Data Information and Data Cleaning**\n",
    "\n",
    "* **Building The Model**\n",
    "\n",
    "* **Conclusion**"
   ]
  },
  {
   "cell_type": "markdown",
   "id": "07e7bd81",
   "metadata": {
    "papermill": {
     "duration": 0.005661,
     "end_time": "2023-12-10T18:22:48.623796",
     "exception": false,
     "start_time": "2023-12-10T18:22:48.618135",
     "status": "completed"
    },
    "tags": []
   },
   "source": [
    "<div style=\"color:white;\n",
    "            display:fill;\n",
    "            border-radius:15px;\n",
    "            background-color:BLACK;\n",
    "            font-size:100%;\n",
    "            font-family:Verdana;\n",
    "            letter-spacing:1px\">\n",
    "    <h3 style='padding: 20px;\n",
    "              color:CYAN;\n",
    "              text-align:center;'>\n",
    "        Importing Libraries\n",
    "    </h3>\n",
    "    </div>"
   ]
  },
  {
   "cell_type": "code",
   "execution_count": 1,
   "id": "f85408b2",
   "metadata": {
    "execution": {
     "iopub.execute_input": "2023-12-10T18:22:48.637519Z",
     "iopub.status.busy": "2023-12-10T18:22:48.637018Z",
     "iopub.status.idle": "2023-12-10T18:23:04.285542Z",
     "shell.execute_reply": "2023-12-10T18:23:04.283763Z"
    },
    "papermill": {
     "duration": 15.658449,
     "end_time": "2023-12-10T18:23:04.288112",
     "exception": false,
     "start_time": "2023-12-10T18:22:48.629663",
     "status": "completed"
    },
    "tags": []
   },
   "outputs": [],
   "source": [
    "import numpy as np\n",
    "import pandas as pd\n",
    "import matplotlib.pyplot as plt\n",
    "import seaborn as sns\n",
    "import plotly.express as px\n",
    "from plotly.offline import init_notebook_mode, iplot, plot\n",
    "from sklearn.preprocessing import MinMaxScaler\n",
    "\n",
    "from tensorflow.keras.layers import Dense\n",
    "from tensorflow.keras.models import Sequential\n",
    "from sklearn.model_selection import train_test_split\n",
    "\n",
    "import warnings\n",
    "warnings.filterwarnings(\"ignore\")"
   ]
  },
  {
   "cell_type": "code",
   "execution_count": 2,
   "id": "f17de08c",
   "metadata": {
    "execution": {
     "iopub.execute_input": "2023-12-10T18:23:04.302427Z",
     "iopub.status.busy": "2023-12-10T18:23:04.301685Z",
     "iopub.status.idle": "2023-12-10T18:23:04.324478Z",
     "shell.execute_reply": "2023-12-10T18:23:04.323405Z"
    },
    "papermill": {
     "duration": 0.032422,
     "end_time": "2023-12-10T18:23:04.326861",
     "exception": false,
     "start_time": "2023-12-10T18:23:04.294439",
     "status": "completed"
    },
    "tags": []
   },
   "outputs": [],
   "source": [
    "df = pd.read_csv('../input/test-file/tested.csv')"
   ]
  },
  {
   "cell_type": "markdown",
   "id": "42d2280b",
   "metadata": {
    "papermill": {
     "duration": 0.005816,
     "end_time": "2023-12-10T18:23:04.338784",
     "exception": false,
     "start_time": "2023-12-10T18:23:04.332968",
     "status": "completed"
    },
    "tags": []
   },
   "source": [
    "<div style=\"color:white;\n",
    "            display:fill;\n",
    "            border-radius:15px;\n",
    "            background-color:BLACK;\n",
    "            font-size:100%;\n",
    "            font-family:Verdana;\n",
    "            letter-spacing:1px\">\n",
    "    <h3 style='padding: 20px;\n",
    "              color:CYAN;\n",
    "              text-align:center;'>\n",
    "        Data Information and Data Cleaning\n",
    "    </h3>\n",
    "    </div>"
   ]
  },
  {
   "cell_type": "code",
   "execution_count": 3,
   "id": "cad4e0f0",
   "metadata": {
    "execution": {
     "iopub.execute_input": "2023-12-10T18:23:04.354679Z",
     "iopub.status.busy": "2023-12-10T18:23:04.353638Z",
     "iopub.status.idle": "2023-12-10T18:23:04.363092Z",
     "shell.execute_reply": "2023-12-10T18:23:04.362032Z"
    },
    "papermill": {
     "duration": 0.020642,
     "end_time": "2023-12-10T18:23:04.365355",
     "exception": false,
     "start_time": "2023-12-10T18:23:04.344713",
     "status": "completed"
    },
    "tags": []
   },
   "outputs": [
    {
     "data": {
      "text/plain": [
       "Index(['PassengerId', 'Survived', 'Pclass', 'Name', 'Sex', 'Age', 'SibSp',\n",
       "       'Parch', 'Ticket', 'Fare', 'Cabin', 'Embarked'],\n",
       "      dtype='object')"
      ]
     },
     "execution_count": 3,
     "metadata": {},
     "output_type": "execute_result"
    }
   ],
   "source": [
    "df.columns"
   ]
  },
  {
   "cell_type": "code",
   "execution_count": 4,
   "id": "794856cb",
   "metadata": {
    "execution": {
     "iopub.execute_input": "2023-12-10T18:23:04.384939Z",
     "iopub.status.busy": "2023-12-10T18:23:04.383350Z",
     "iopub.status.idle": "2023-12-10T18:23:04.418392Z",
     "shell.execute_reply": "2023-12-10T18:23:04.416921Z"
    },
    "papermill": {
     "duration": 0.048053,
     "end_time": "2023-12-10T18:23:04.420999",
     "exception": false,
     "start_time": "2023-12-10T18:23:04.372946",
     "status": "completed"
    },
    "tags": []
   },
   "outputs": [
    {
     "data": {
      "text/html": [
       "<div>\n",
       "<style scoped>\n",
       "    .dataframe tbody tr th:only-of-type {\n",
       "        vertical-align: middle;\n",
       "    }\n",
       "\n",
       "    .dataframe tbody tr th {\n",
       "        vertical-align: top;\n",
       "    }\n",
       "\n",
       "    .dataframe thead th {\n",
       "        text-align: right;\n",
       "    }\n",
       "</style>\n",
       "<table border=\"1\" class=\"dataframe\">\n",
       "  <thead>\n",
       "    <tr style=\"text-align: right;\">\n",
       "      <th></th>\n",
       "      <th>PassengerId</th>\n",
       "      <th>Survived</th>\n",
       "      <th>Pclass</th>\n",
       "      <th>Name</th>\n",
       "      <th>Sex</th>\n",
       "      <th>Age</th>\n",
       "      <th>SibSp</th>\n",
       "      <th>Parch</th>\n",
       "      <th>Ticket</th>\n",
       "      <th>Fare</th>\n",
       "      <th>Cabin</th>\n",
       "      <th>Embarked</th>\n",
       "    </tr>\n",
       "  </thead>\n",
       "  <tbody>\n",
       "    <tr>\n",
       "      <th>0</th>\n",
       "      <td>892</td>\n",
       "      <td>0</td>\n",
       "      <td>3</td>\n",
       "      <td>Kelly, Mr. James</td>\n",
       "      <td>male</td>\n",
       "      <td>34.5</td>\n",
       "      <td>0</td>\n",
       "      <td>0</td>\n",
       "      <td>330911</td>\n",
       "      <td>7.8292</td>\n",
       "      <td>NaN</td>\n",
       "      <td>Q</td>\n",
       "    </tr>\n",
       "    <tr>\n",
       "      <th>1</th>\n",
       "      <td>893</td>\n",
       "      <td>1</td>\n",
       "      <td>3</td>\n",
       "      <td>Wilkes, Mrs. James (Ellen Needs)</td>\n",
       "      <td>female</td>\n",
       "      <td>47.0</td>\n",
       "      <td>1</td>\n",
       "      <td>0</td>\n",
       "      <td>363272</td>\n",
       "      <td>7.0000</td>\n",
       "      <td>NaN</td>\n",
       "      <td>S</td>\n",
       "    </tr>\n",
       "    <tr>\n",
       "      <th>2</th>\n",
       "      <td>894</td>\n",
       "      <td>0</td>\n",
       "      <td>2</td>\n",
       "      <td>Myles, Mr. Thomas Francis</td>\n",
       "      <td>male</td>\n",
       "      <td>62.0</td>\n",
       "      <td>0</td>\n",
       "      <td>0</td>\n",
       "      <td>240276</td>\n",
       "      <td>9.6875</td>\n",
       "      <td>NaN</td>\n",
       "      <td>Q</td>\n",
       "    </tr>\n",
       "    <tr>\n",
       "      <th>3</th>\n",
       "      <td>895</td>\n",
       "      <td>0</td>\n",
       "      <td>3</td>\n",
       "      <td>Wirz, Mr. Albert</td>\n",
       "      <td>male</td>\n",
       "      <td>27.0</td>\n",
       "      <td>0</td>\n",
       "      <td>0</td>\n",
       "      <td>315154</td>\n",
       "      <td>8.6625</td>\n",
       "      <td>NaN</td>\n",
       "      <td>S</td>\n",
       "    </tr>\n",
       "    <tr>\n",
       "      <th>4</th>\n",
       "      <td>896</td>\n",
       "      <td>1</td>\n",
       "      <td>3</td>\n",
       "      <td>Hirvonen, Mrs. Alexander (Helga E Lindqvist)</td>\n",
       "      <td>female</td>\n",
       "      <td>22.0</td>\n",
       "      <td>1</td>\n",
       "      <td>1</td>\n",
       "      <td>3101298</td>\n",
       "      <td>12.2875</td>\n",
       "      <td>NaN</td>\n",
       "      <td>S</td>\n",
       "    </tr>\n",
       "  </tbody>\n",
       "</table>\n",
       "</div>"
      ],
      "text/plain": [
       "   PassengerId  Survived  Pclass  \\\n",
       "0          892         0       3   \n",
       "1          893         1       3   \n",
       "2          894         0       2   \n",
       "3          895         0       3   \n",
       "4          896         1       3   \n",
       "\n",
       "                                           Name     Sex   Age  SibSp  Parch  \\\n",
       "0                              Kelly, Mr. James    male  34.5      0      0   \n",
       "1              Wilkes, Mrs. James (Ellen Needs)  female  47.0      1      0   \n",
       "2                     Myles, Mr. Thomas Francis    male  62.0      0      0   \n",
       "3                              Wirz, Mr. Albert    male  27.0      0      0   \n",
       "4  Hirvonen, Mrs. Alexander (Helga E Lindqvist)  female  22.0      1      1   \n",
       "\n",
       "    Ticket     Fare Cabin Embarked  \n",
       "0   330911   7.8292   NaN        Q  \n",
       "1   363272   7.0000   NaN        S  \n",
       "2   240276   9.6875   NaN        Q  \n",
       "3   315154   8.6625   NaN        S  \n",
       "4  3101298  12.2875   NaN        S  "
      ]
     },
     "execution_count": 4,
     "metadata": {},
     "output_type": "execute_result"
    }
   ],
   "source": [
    "df.head()"
   ]
  },
  {
   "cell_type": "code",
   "execution_count": 5,
   "id": "b7a929f1",
   "metadata": {
    "execution": {
     "iopub.execute_input": "2023-12-10T18:23:04.440432Z",
     "iopub.status.busy": "2023-12-10T18:23:04.439692Z",
     "iopub.status.idle": "2023-12-10T18:23:04.454296Z",
     "shell.execute_reply": "2023-12-10T18:23:04.453412Z"
    },
    "papermill": {
     "duration": 0.02735,
     "end_time": "2023-12-10T18:23:04.456703",
     "exception": false,
     "start_time": "2023-12-10T18:23:04.429353",
     "status": "completed"
    },
    "tags": []
   },
   "outputs": [
    {
     "data": {
      "text/html": [
       "<div>\n",
       "<style scoped>\n",
       "    .dataframe tbody tr th:only-of-type {\n",
       "        vertical-align: middle;\n",
       "    }\n",
       "\n",
       "    .dataframe tbody tr th {\n",
       "        vertical-align: top;\n",
       "    }\n",
       "\n",
       "    .dataframe thead th {\n",
       "        text-align: right;\n",
       "    }\n",
       "</style>\n",
       "<table border=\"1\" class=\"dataframe\">\n",
       "  <thead>\n",
       "    <tr style=\"text-align: right;\">\n",
       "      <th></th>\n",
       "      <th>Missing Values</th>\n",
       "      <th>Percentage</th>\n",
       "    </tr>\n",
       "  </thead>\n",
       "  <tbody>\n",
       "    <tr>\n",
       "      <th>PassengerId</th>\n",
       "      <td>0</td>\n",
       "      <td>0.0%</td>\n",
       "    </tr>\n",
       "    <tr>\n",
       "      <th>Survived</th>\n",
       "      <td>0</td>\n",
       "      <td>0.0%</td>\n",
       "    </tr>\n",
       "    <tr>\n",
       "      <th>Pclass</th>\n",
       "      <td>0</td>\n",
       "      <td>0.0%</td>\n",
       "    </tr>\n",
       "    <tr>\n",
       "      <th>Name</th>\n",
       "      <td>0</td>\n",
       "      <td>0.0%</td>\n",
       "    </tr>\n",
       "    <tr>\n",
       "      <th>Sex</th>\n",
       "      <td>0</td>\n",
       "      <td>0.0%</td>\n",
       "    </tr>\n",
       "    <tr>\n",
       "      <th>Age</th>\n",
       "      <td>86</td>\n",
       "      <td>20.57%</td>\n",
       "    </tr>\n",
       "    <tr>\n",
       "      <th>SibSp</th>\n",
       "      <td>0</td>\n",
       "      <td>0.0%</td>\n",
       "    </tr>\n",
       "    <tr>\n",
       "      <th>Parch</th>\n",
       "      <td>0</td>\n",
       "      <td>0.0%</td>\n",
       "    </tr>\n",
       "    <tr>\n",
       "      <th>Ticket</th>\n",
       "      <td>0</td>\n",
       "      <td>0.0%</td>\n",
       "    </tr>\n",
       "    <tr>\n",
       "      <th>Fare</th>\n",
       "      <td>1</td>\n",
       "      <td>0.24%</td>\n",
       "    </tr>\n",
       "    <tr>\n",
       "      <th>Cabin</th>\n",
       "      <td>327</td>\n",
       "      <td>78.23%</td>\n",
       "    </tr>\n",
       "    <tr>\n",
       "      <th>Embarked</th>\n",
       "      <td>0</td>\n",
       "      <td>0.0%</td>\n",
       "    </tr>\n",
       "  </tbody>\n",
       "</table>\n",
       "</div>"
      ],
      "text/plain": [
       "             Missing Values Percentage\n",
       "PassengerId               0       0.0%\n",
       "Survived                  0       0.0%\n",
       "Pclass                    0       0.0%\n",
       "Name                      0       0.0%\n",
       "Sex                       0       0.0%\n",
       "Age                      86     20.57%\n",
       "SibSp                     0       0.0%\n",
       "Parch                     0       0.0%\n",
       "Ticket                    0       0.0%\n",
       "Fare                      1      0.24%\n",
       "Cabin                   327     78.23%\n",
       "Embarked                  0       0.0%"
      ]
     },
     "execution_count": 5,
     "metadata": {},
     "output_type": "execute_result"
    }
   ],
   "source": [
    "def missing_values_percent(dataframe):\n",
    "    missing_values = dataframe.isna().sum()\n",
    "    percentage_missing = (missing_values / len(dataframe) * 100).round(2)\n",
    "\n",
    "    result_movie = pd.DataFrame({'Missing Values': missing_values, 'Percentage': percentage_missing})\n",
    "    result_movie['Percentage'] = result_movie['Percentage'].astype(str) + '%'\n",
    "\n",
    "    return result_movie\n",
    "\n",
    "\n",
    "result = missing_values_percent(df)\n",
    "result"
   ]
  },
  {
   "cell_type": "code",
   "execution_count": 6,
   "id": "ac81af60",
   "metadata": {
    "execution": {
     "iopub.execute_input": "2023-12-10T18:23:04.471881Z",
     "iopub.status.busy": "2023-12-10T18:23:04.471454Z",
     "iopub.status.idle": "2023-12-10T18:23:04.481457Z",
     "shell.execute_reply": "2023-12-10T18:23:04.480257Z"
    },
    "papermill": {
     "duration": 0.020283,
     "end_time": "2023-12-10T18:23:04.483837",
     "exception": false,
     "start_time": "2023-12-10T18:23:04.463554",
     "status": "completed"
    },
    "tags": []
   },
   "outputs": [],
   "source": [
    "df = df.dropna()"
   ]
  },
  {
   "cell_type": "code",
   "execution_count": 7,
   "id": "afbb586f",
   "metadata": {
    "execution": {
     "iopub.execute_input": "2023-12-10T18:23:04.498783Z",
     "iopub.status.busy": "2023-12-10T18:23:04.498339Z",
     "iopub.status.idle": "2023-12-10T18:23:04.509417Z",
     "shell.execute_reply": "2023-12-10T18:23:04.508391Z"
    },
    "papermill": {
     "duration": 0.021378,
     "end_time": "2023-12-10T18:23:04.511883",
     "exception": false,
     "start_time": "2023-12-10T18:23:04.490505",
     "status": "completed"
    },
    "tags": []
   },
   "outputs": [],
   "source": [
    "gender_mapping = {'male': 0, 'female': 1}\n",
    "df['Sex'] = df['Sex'].map(gender_mapping)"
   ]
  },
  {
   "cell_type": "code",
   "execution_count": 8,
   "id": "da856549",
   "metadata": {
    "execution": {
     "iopub.execute_input": "2023-12-10T18:23:04.527189Z",
     "iopub.status.busy": "2023-12-10T18:23:04.526766Z",
     "iopub.status.idle": "2023-12-10T18:23:04.543093Z",
     "shell.execute_reply": "2023-12-10T18:23:04.541904Z"
    },
    "papermill": {
     "duration": 0.026443,
     "end_time": "2023-12-10T18:23:04.545125",
     "exception": false,
     "start_time": "2023-12-10T18:23:04.518682",
     "status": "completed"
    },
    "tags": []
   },
   "outputs": [
    {
     "data": {
      "text/html": [
       "<div>\n",
       "<style scoped>\n",
       "    .dataframe tbody tr th:only-of-type {\n",
       "        vertical-align: middle;\n",
       "    }\n",
       "\n",
       "    .dataframe tbody tr th {\n",
       "        vertical-align: top;\n",
       "    }\n",
       "\n",
       "    .dataframe thead th {\n",
       "        text-align: right;\n",
       "    }\n",
       "</style>\n",
       "<table border=\"1\" class=\"dataframe\">\n",
       "  <thead>\n",
       "    <tr style=\"text-align: right;\">\n",
       "      <th></th>\n",
       "      <th>PassengerId</th>\n",
       "      <th>Survived</th>\n",
       "      <th>Pclass</th>\n",
       "      <th>Name</th>\n",
       "      <th>Sex</th>\n",
       "      <th>Age</th>\n",
       "      <th>SibSp</th>\n",
       "      <th>Parch</th>\n",
       "      <th>Ticket</th>\n",
       "      <th>Fare</th>\n",
       "      <th>Cabin</th>\n",
       "      <th>Embarked</th>\n",
       "    </tr>\n",
       "  </thead>\n",
       "  <tbody>\n",
       "    <tr>\n",
       "      <th>12</th>\n",
       "      <td>904</td>\n",
       "      <td>1</td>\n",
       "      <td>1</td>\n",
       "      <td>Snyder, Mrs. John Pillsbury (Nelle Stevenson)</td>\n",
       "      <td>1</td>\n",
       "      <td>23.0</td>\n",
       "      <td>1</td>\n",
       "      <td>0</td>\n",
       "      <td>21228</td>\n",
       "      <td>82.2667</td>\n",
       "      <td>B45</td>\n",
       "      <td>S</td>\n",
       "    </tr>\n",
       "    <tr>\n",
       "      <th>14</th>\n",
       "      <td>906</td>\n",
       "      <td>1</td>\n",
       "      <td>1</td>\n",
       "      <td>Chaffee, Mrs. Herbert Fuller (Carrie Constance...</td>\n",
       "      <td>1</td>\n",
       "      <td>47.0</td>\n",
       "      <td>1</td>\n",
       "      <td>0</td>\n",
       "      <td>W.E.P. 5734</td>\n",
       "      <td>61.1750</td>\n",
       "      <td>E31</td>\n",
       "      <td>S</td>\n",
       "    </tr>\n",
       "    <tr>\n",
       "      <th>24</th>\n",
       "      <td>916</td>\n",
       "      <td>1</td>\n",
       "      <td>1</td>\n",
       "      <td>Ryerson, Mrs. Arthur Larned (Emily Maria Borie)</td>\n",
       "      <td>1</td>\n",
       "      <td>48.0</td>\n",
       "      <td>1</td>\n",
       "      <td>3</td>\n",
       "      <td>PC 17608</td>\n",
       "      <td>262.3750</td>\n",
       "      <td>B57 B59 B63 B66</td>\n",
       "      <td>C</td>\n",
       "    </tr>\n",
       "    <tr>\n",
       "      <th>26</th>\n",
       "      <td>918</td>\n",
       "      <td>1</td>\n",
       "      <td>1</td>\n",
       "      <td>Ostby, Miss. Helene Ragnhild</td>\n",
       "      <td>1</td>\n",
       "      <td>22.0</td>\n",
       "      <td>0</td>\n",
       "      <td>1</td>\n",
       "      <td>113509</td>\n",
       "      <td>61.9792</td>\n",
       "      <td>B36</td>\n",
       "      <td>C</td>\n",
       "    </tr>\n",
       "    <tr>\n",
       "      <th>28</th>\n",
       "      <td>920</td>\n",
       "      <td>0</td>\n",
       "      <td>1</td>\n",
       "      <td>Brady, Mr. John Bertram</td>\n",
       "      <td>0</td>\n",
       "      <td>41.0</td>\n",
       "      <td>0</td>\n",
       "      <td>0</td>\n",
       "      <td>113054</td>\n",
       "      <td>30.5000</td>\n",
       "      <td>A21</td>\n",
       "      <td>S</td>\n",
       "    </tr>\n",
       "  </tbody>\n",
       "</table>\n",
       "</div>"
      ],
      "text/plain": [
       "    PassengerId  Survived  Pclass  \\\n",
       "12          904         1       1   \n",
       "14          906         1       1   \n",
       "24          916         1       1   \n",
       "26          918         1       1   \n",
       "28          920         0       1   \n",
       "\n",
       "                                                 Name  Sex   Age  SibSp  \\\n",
       "12      Snyder, Mrs. John Pillsbury (Nelle Stevenson)    1  23.0      1   \n",
       "14  Chaffee, Mrs. Herbert Fuller (Carrie Constance...    1  47.0      1   \n",
       "24    Ryerson, Mrs. Arthur Larned (Emily Maria Borie)    1  48.0      1   \n",
       "26                       Ostby, Miss. Helene Ragnhild    1  22.0      0   \n",
       "28                            Brady, Mr. John Bertram    0  41.0      0   \n",
       "\n",
       "    Parch       Ticket      Fare            Cabin Embarked  \n",
       "12      0        21228   82.2667              B45        S  \n",
       "14      0  W.E.P. 5734   61.1750              E31        S  \n",
       "24      3     PC 17608  262.3750  B57 B59 B63 B66        C  \n",
       "26      1       113509   61.9792              B36        C  \n",
       "28      0       113054   30.5000              A21        S  "
      ]
     },
     "execution_count": 8,
     "metadata": {},
     "output_type": "execute_result"
    }
   ],
   "source": [
    "df.head()"
   ]
  },
  {
   "cell_type": "code",
   "execution_count": 9,
   "id": "7491df6e",
   "metadata": {
    "execution": {
     "iopub.execute_input": "2023-12-10T18:23:04.560652Z",
     "iopub.status.busy": "2023-12-10T18:23:04.559992Z",
     "iopub.status.idle": "2023-12-10T18:23:04.566119Z",
     "shell.execute_reply": "2023-12-10T18:23:04.564992Z"
    },
    "papermill": {
     "duration": 0.016455,
     "end_time": "2023-12-10T18:23:04.568401",
     "exception": false,
     "start_time": "2023-12-10T18:23:04.551946",
     "status": "completed"
    },
    "tags": []
   },
   "outputs": [],
   "source": [
    "df['Age'] = df['Age'].round().astype(int)"
   ]
  },
  {
   "cell_type": "code",
   "execution_count": 10,
   "id": "b5df790d",
   "metadata": {
    "execution": {
     "iopub.execute_input": "2023-12-10T18:23:04.585763Z",
     "iopub.status.busy": "2023-12-10T18:23:04.584621Z",
     "iopub.status.idle": "2023-12-10T18:23:04.590228Z",
     "shell.execute_reply": "2023-12-10T18:23:04.589414Z"
    },
    "papermill": {
     "duration": 0.016289,
     "end_time": "2023-12-10T18:23:04.592674",
     "exception": false,
     "start_time": "2023-12-10T18:23:04.576385",
     "status": "completed"
    },
    "tags": []
   },
   "outputs": [],
   "source": [
    "df['Fare'] = df['Fare'].round().astype(int)"
   ]
  },
  {
   "cell_type": "code",
   "execution_count": 11,
   "id": "c7efe403",
   "metadata": {
    "execution": {
     "iopub.execute_input": "2023-12-10T18:23:04.608747Z",
     "iopub.status.busy": "2023-12-10T18:23:04.607934Z",
     "iopub.status.idle": "2023-12-10T18:23:04.623130Z",
     "shell.execute_reply": "2023-12-10T18:23:04.621977Z"
    },
    "papermill": {
     "duration": 0.025919,
     "end_time": "2023-12-10T18:23:04.625591",
     "exception": false,
     "start_time": "2023-12-10T18:23:04.599672",
     "status": "completed"
    },
    "tags": []
   },
   "outputs": [
    {
     "data": {
      "text/html": [
       "<div>\n",
       "<style scoped>\n",
       "    .dataframe tbody tr th:only-of-type {\n",
       "        vertical-align: middle;\n",
       "    }\n",
       "\n",
       "    .dataframe tbody tr th {\n",
       "        vertical-align: top;\n",
       "    }\n",
       "\n",
       "    .dataframe thead th {\n",
       "        text-align: right;\n",
       "    }\n",
       "</style>\n",
       "<table border=\"1\" class=\"dataframe\">\n",
       "  <thead>\n",
       "    <tr style=\"text-align: right;\">\n",
       "      <th></th>\n",
       "      <th>PassengerId</th>\n",
       "      <th>Survived</th>\n",
       "      <th>Pclass</th>\n",
       "      <th>Name</th>\n",
       "      <th>Sex</th>\n",
       "      <th>Age</th>\n",
       "      <th>SibSp</th>\n",
       "      <th>Parch</th>\n",
       "      <th>Ticket</th>\n",
       "      <th>Fare</th>\n",
       "      <th>Cabin</th>\n",
       "      <th>Embarked</th>\n",
       "    </tr>\n",
       "  </thead>\n",
       "  <tbody>\n",
       "    <tr>\n",
       "      <th>12</th>\n",
       "      <td>904</td>\n",
       "      <td>1</td>\n",
       "      <td>1</td>\n",
       "      <td>Snyder, Mrs. John Pillsbury (Nelle Stevenson)</td>\n",
       "      <td>1</td>\n",
       "      <td>23</td>\n",
       "      <td>1</td>\n",
       "      <td>0</td>\n",
       "      <td>21228</td>\n",
       "      <td>82</td>\n",
       "      <td>B45</td>\n",
       "      <td>S</td>\n",
       "    </tr>\n",
       "    <tr>\n",
       "      <th>14</th>\n",
       "      <td>906</td>\n",
       "      <td>1</td>\n",
       "      <td>1</td>\n",
       "      <td>Chaffee, Mrs. Herbert Fuller (Carrie Constance...</td>\n",
       "      <td>1</td>\n",
       "      <td>47</td>\n",
       "      <td>1</td>\n",
       "      <td>0</td>\n",
       "      <td>W.E.P. 5734</td>\n",
       "      <td>61</td>\n",
       "      <td>E31</td>\n",
       "      <td>S</td>\n",
       "    </tr>\n",
       "    <tr>\n",
       "      <th>24</th>\n",
       "      <td>916</td>\n",
       "      <td>1</td>\n",
       "      <td>1</td>\n",
       "      <td>Ryerson, Mrs. Arthur Larned (Emily Maria Borie)</td>\n",
       "      <td>1</td>\n",
       "      <td>48</td>\n",
       "      <td>1</td>\n",
       "      <td>3</td>\n",
       "      <td>PC 17608</td>\n",
       "      <td>262</td>\n",
       "      <td>B57 B59 B63 B66</td>\n",
       "      <td>C</td>\n",
       "    </tr>\n",
       "    <tr>\n",
       "      <th>26</th>\n",
       "      <td>918</td>\n",
       "      <td>1</td>\n",
       "      <td>1</td>\n",
       "      <td>Ostby, Miss. Helene Ragnhild</td>\n",
       "      <td>1</td>\n",
       "      <td>22</td>\n",
       "      <td>0</td>\n",
       "      <td>1</td>\n",
       "      <td>113509</td>\n",
       "      <td>62</td>\n",
       "      <td>B36</td>\n",
       "      <td>C</td>\n",
       "    </tr>\n",
       "    <tr>\n",
       "      <th>28</th>\n",
       "      <td>920</td>\n",
       "      <td>0</td>\n",
       "      <td>1</td>\n",
       "      <td>Brady, Mr. John Bertram</td>\n",
       "      <td>0</td>\n",
       "      <td>41</td>\n",
       "      <td>0</td>\n",
       "      <td>0</td>\n",
       "      <td>113054</td>\n",
       "      <td>30</td>\n",
       "      <td>A21</td>\n",
       "      <td>S</td>\n",
       "    </tr>\n",
       "  </tbody>\n",
       "</table>\n",
       "</div>"
      ],
      "text/plain": [
       "    PassengerId  Survived  Pclass  \\\n",
       "12          904         1       1   \n",
       "14          906         1       1   \n",
       "24          916         1       1   \n",
       "26          918         1       1   \n",
       "28          920         0       1   \n",
       "\n",
       "                                                 Name  Sex  Age  SibSp  Parch  \\\n",
       "12      Snyder, Mrs. John Pillsbury (Nelle Stevenson)    1   23      1      0   \n",
       "14  Chaffee, Mrs. Herbert Fuller (Carrie Constance...    1   47      1      0   \n",
       "24    Ryerson, Mrs. Arthur Larned (Emily Maria Borie)    1   48      1      3   \n",
       "26                       Ostby, Miss. Helene Ragnhild    1   22      0      1   \n",
       "28                            Brady, Mr. John Bertram    0   41      0      0   \n",
       "\n",
       "         Ticket  Fare            Cabin Embarked  \n",
       "12        21228    82              B45        S  \n",
       "14  W.E.P. 5734    61              E31        S  \n",
       "24     PC 17608   262  B57 B59 B63 B66        C  \n",
       "26       113509    62              B36        C  \n",
       "28       113054    30              A21        S  "
      ]
     },
     "execution_count": 11,
     "metadata": {},
     "output_type": "execute_result"
    }
   ],
   "source": [
    "df.head()"
   ]
  },
  {
   "cell_type": "code",
   "execution_count": 12,
   "id": "b02fd26d",
   "metadata": {
    "execution": {
     "iopub.execute_input": "2023-12-10T18:23:04.642204Z",
     "iopub.status.busy": "2023-12-10T18:23:04.641487Z",
     "iopub.status.idle": "2023-12-10T18:23:04.648983Z",
     "shell.execute_reply": "2023-12-10T18:23:04.647835Z"
    },
    "papermill": {
     "duration": 0.018429,
     "end_time": "2023-12-10T18:23:04.651350",
     "exception": false,
     "start_time": "2023-12-10T18:23:04.632921",
     "status": "completed"
    },
    "tags": []
   },
   "outputs": [],
   "source": [
    "df.drop(['PassengerId','Name','Ticket','Cabin', 'Embarked'],axis=1, inplace=True)"
   ]
  },
  {
   "cell_type": "code",
   "execution_count": 13,
   "id": "11fe25fc",
   "metadata": {
    "execution": {
     "iopub.execute_input": "2023-12-10T18:23:04.667723Z",
     "iopub.status.busy": "2023-12-10T18:23:04.667096Z",
     "iopub.status.idle": "2023-12-10T18:23:04.688376Z",
     "shell.execute_reply": "2023-12-10T18:23:04.687008Z"
    },
    "papermill": {
     "duration": 0.032507,
     "end_time": "2023-12-10T18:23:04.691017",
     "exception": false,
     "start_time": "2023-12-10T18:23:04.658510",
     "status": "completed"
    },
    "tags": []
   },
   "outputs": [
    {
     "name": "stdout",
     "output_type": "stream",
     "text": [
      "<class 'pandas.core.frame.DataFrame'>\n",
      "Index: 87 entries, 12 to 414\n",
      "Data columns (total 7 columns):\n",
      " #   Column    Non-Null Count  Dtype\n",
      "---  ------    --------------  -----\n",
      " 0   Survived  87 non-null     int64\n",
      " 1   Pclass    87 non-null     int64\n",
      " 2   Sex       87 non-null     int64\n",
      " 3   Age       87 non-null     int64\n",
      " 4   SibSp     87 non-null     int64\n",
      " 5   Parch     87 non-null     int64\n",
      " 6   Fare      87 non-null     int64\n",
      "dtypes: int64(7)\n",
      "memory usage: 5.4 KB\n"
     ]
    }
   ],
   "source": [
    "df.info()"
   ]
  },
  {
   "cell_type": "markdown",
   "id": "95ce4f6e",
   "metadata": {
    "papermill": {
     "duration": 0.007531,
     "end_time": "2023-12-10T18:23:04.705991",
     "exception": false,
     "start_time": "2023-12-10T18:23:04.698460",
     "status": "completed"
    },
    "tags": []
   },
   "source": [
    "<div style=\"color:white;\n",
    "            display:fill;\n",
    "            border-radius:15px;\n",
    "            background-color:BLACK;\n",
    "            font-size:100%;\n",
    "            font-family:Verdana;\n",
    "            letter-spacing:1px\">\n",
    "    <h3 style='padding: 20px;\n",
    "              color:CYAN;\n",
    "              text-align:center;'>\n",
    "        Building Model\n",
    "    </h3>\n",
    "    </div>"
   ]
  },
  {
   "cell_type": "code",
   "execution_count": 14,
   "id": "dc79ddc0",
   "metadata": {
    "execution": {
     "iopub.execute_input": "2023-12-10T18:23:04.722718Z",
     "iopub.status.busy": "2023-12-10T18:23:04.722055Z",
     "iopub.status.idle": "2023-12-10T18:23:04.728265Z",
     "shell.execute_reply": "2023-12-10T18:23:04.727447Z"
    },
    "papermill": {
     "duration": 0.017305,
     "end_time": "2023-12-10T18:23:04.730593",
     "exception": false,
     "start_time": "2023-12-10T18:23:04.713288",
     "status": "completed"
    },
    "tags": []
   },
   "outputs": [],
   "source": [
    "X = df.drop('Survived', axis=1)\n",
    "y = df['Survived']"
   ]
  },
  {
   "cell_type": "code",
   "execution_count": 15,
   "id": "d9b51eb3",
   "metadata": {
    "execution": {
     "iopub.execute_input": "2023-12-10T18:23:04.747758Z",
     "iopub.status.busy": "2023-12-10T18:23:04.746871Z",
     "iopub.status.idle": "2023-12-10T18:23:04.756599Z",
     "shell.execute_reply": "2023-12-10T18:23:04.755805Z"
    },
    "papermill": {
     "duration": 0.020774,
     "end_time": "2023-12-10T18:23:04.758835",
     "exception": false,
     "start_time": "2023-12-10T18:23:04.738061",
     "status": "completed"
    },
    "tags": []
   },
   "outputs": [],
   "source": [
    "scaler = MinMaxScaler()\n",
    "X = scaler.fit_transform(X)\n",
    "y = scaler.fit_transform(y.values.reshape(-1, 1))"
   ]
  },
  {
   "cell_type": "code",
   "execution_count": 16,
   "id": "55fd59d7",
   "metadata": {
    "execution": {
     "iopub.execute_input": "2023-12-10T18:23:04.775342Z",
     "iopub.status.busy": "2023-12-10T18:23:04.774699Z",
     "iopub.status.idle": "2023-12-10T18:23:04.782443Z",
     "shell.execute_reply": "2023-12-10T18:23:04.780802Z"
    },
    "papermill": {
     "duration": 0.018499,
     "end_time": "2023-12-10T18:23:04.784563",
     "exception": false,
     "start_time": "2023-12-10T18:23:04.766064",
     "status": "completed"
    },
    "tags": []
   },
   "outputs": [
    {
     "name": "stdout",
     "output_type": "stream",
     "text": [
      "(69, 6)\n",
      "(69, 1)\n",
      "(18, 6)\n",
      "(18, 1)\n"
     ]
    }
   ],
   "source": [
    "X_train, X_test, y_train, y_test = train_test_split(X, y, test_size=0.2, random_state=0)\n",
    "\n",
    "print(X_train.shape)\n",
    "print(y_train.shape)\n",
    "print(X_test.shape)\n",
    "print(y_test.shape)"
   ]
  },
  {
   "cell_type": "code",
   "execution_count": 17,
   "id": "c1d49e45",
   "metadata": {
    "execution": {
     "iopub.execute_input": "2023-12-10T18:23:04.801753Z",
     "iopub.status.busy": "2023-12-10T18:23:04.800546Z",
     "iopub.status.idle": "2023-12-10T18:23:05.015002Z",
     "shell.execute_reply": "2023-12-10T18:23:05.014175Z"
    },
    "papermill": {
     "duration": 0.227191,
     "end_time": "2023-12-10T18:23:05.019126",
     "exception": false,
     "start_time": "2023-12-10T18:23:04.791935",
     "status": "completed"
    },
    "tags": []
   },
   "outputs": [
    {
     "name": "stdout",
     "output_type": "stream",
     "text": [
      "Model: \"sequential\"\n",
      "_________________________________________________________________\n",
      " Layer (type)                Output Shape              Param #   \n",
      "=================================================================\n",
      " dense (Dense)               (None, 10)                70        \n",
      "                                                                 \n",
      " dense_1 (Dense)             (None, 10)                110       \n",
      "                                                                 \n",
      " dense_2 (Dense)             (None, 1)                 11        \n",
      "                                                                 \n",
      "=================================================================\n",
      "Total params: 191 (764.00 Byte)\n",
      "Trainable params: 191 (764.00 Byte)\n",
      "Non-trainable params: 0 (0.00 Byte)\n",
      "_________________________________________________________________\n"
     ]
    }
   ],
   "source": [
    "model = Sequential()\n",
    "model.add(Dense(10, activation='relu', input_dim=6))\n",
    "model.add(Dense(10, activation='relu'))\n",
    "model.add(Dense(1, activation='linear'))\n",
    "\n",
    "model.compile(optimizer='adam', loss='mean_squared_error', metrics=['mean_absolute_error'])\n",
    "model.summary()"
   ]
  },
  {
   "cell_type": "code",
   "execution_count": 18,
   "id": "559bae56",
   "metadata": {
    "execution": {
     "iopub.execute_input": "2023-12-10T18:23:05.037784Z",
     "iopub.status.busy": "2023-12-10T18:23:05.037404Z",
     "iopub.status.idle": "2023-12-10T18:23:07.287924Z",
     "shell.execute_reply": "2023-12-10T18:23:07.286804Z"
    },
    "papermill": {
     "duration": 2.262768,
     "end_time": "2023-12-10T18:23:07.290566",
     "exception": false,
     "start_time": "2023-12-10T18:23:05.027798",
     "status": "completed"
    },
    "tags": []
   },
   "outputs": [
    {
     "name": "stdout",
     "output_type": "stream",
     "text": [
      "Epoch 1/25\n",
      "2/2 [==============================] - 1s 231ms/step - loss: 0.4359 - mean_absolute_error: 0.5340 - val_loss: 0.3657 - val_mean_absolute_error: 0.4671\n",
      "Epoch 2/25\n",
      "2/2 [==============================] - 0s 33ms/step - loss: 0.4147 - mean_absolute_error: 0.5195 - val_loss: 0.3485 - val_mean_absolute_error: 0.4556\n",
      "Epoch 3/25\n",
      "2/2 [==============================] - 0s 36ms/step - loss: 0.3929 - mean_absolute_error: 0.5050 - val_loss: 0.3319 - val_mean_absolute_error: 0.4451\n",
      "Epoch 4/25\n",
      "2/2 [==============================] - 0s 33ms/step - loss: 0.3719 - mean_absolute_error: 0.4902 - val_loss: 0.3159 - val_mean_absolute_error: 0.4347\n",
      "Epoch 5/25\n",
      "2/2 [==============================] - 0s 33ms/step - loss: 0.3539 - mean_absolute_error: 0.4785 - val_loss: 0.3003 - val_mean_absolute_error: 0.4241\n",
      "Epoch 6/25\n",
      "2/2 [==============================] - 0s 33ms/step - loss: 0.3355 - mean_absolute_error: 0.4671 - val_loss: 0.2852 - val_mean_absolute_error: 0.4137\n",
      "Epoch 7/25\n",
      "2/2 [==============================] - 0s 36ms/step - loss: 0.3175 - mean_absolute_error: 0.4568 - val_loss: 0.2708 - val_mean_absolute_error: 0.4034\n",
      "Epoch 8/25\n",
      "2/2 [==============================] - 0s 32ms/step - loss: 0.3016 - mean_absolute_error: 0.4475 - val_loss: 0.2566 - val_mean_absolute_error: 0.3938\n",
      "Epoch 9/25\n",
      "2/2 [==============================] - 0s 32ms/step - loss: 0.2848 - mean_absolute_error: 0.4369 - val_loss: 0.2430 - val_mean_absolute_error: 0.3856\n",
      "Epoch 10/25\n",
      "2/2 [==============================] - 0s 33ms/step - loss: 0.2696 - mean_absolute_error: 0.4272 - val_loss: 0.2299 - val_mean_absolute_error: 0.3772\n",
      "Epoch 11/25\n",
      "2/2 [==============================] - 0s 33ms/step - loss: 0.2542 - mean_absolute_error: 0.4164 - val_loss: 0.2172 - val_mean_absolute_error: 0.3687\n",
      "Epoch 12/25\n",
      "2/2 [==============================] - 0s 33ms/step - loss: 0.2392 - mean_absolute_error: 0.4062 - val_loss: 0.2050 - val_mean_absolute_error: 0.3601\n",
      "Epoch 13/25\n",
      "2/2 [==============================] - 0s 33ms/step - loss: 0.2264 - mean_absolute_error: 0.3973 - val_loss: 0.1931 - val_mean_absolute_error: 0.3527\n",
      "Epoch 14/25\n",
      "2/2 [==============================] - 0s 32ms/step - loss: 0.2117 - mean_absolute_error: 0.3871 - val_loss: 0.1819 - val_mean_absolute_error: 0.3452\n",
      "Epoch 15/25\n",
      "2/2 [==============================] - 0s 34ms/step - loss: 0.1992 - mean_absolute_error: 0.3774 - val_loss: 0.1710 - val_mean_absolute_error: 0.3376\n",
      "Epoch 16/25\n",
      "2/2 [==============================] - 0s 35ms/step - loss: 0.1868 - mean_absolute_error: 0.3679 - val_loss: 0.1605 - val_mean_absolute_error: 0.3298\n",
      "Epoch 17/25\n",
      "2/2 [==============================] - 0s 34ms/step - loss: 0.1755 - mean_absolute_error: 0.3592 - val_loss: 0.1505 - val_mean_absolute_error: 0.3219\n",
      "Epoch 18/25\n",
      "2/2 [==============================] - 0s 32ms/step - loss: 0.1632 - mean_absolute_error: 0.3490 - val_loss: 0.1410 - val_mean_absolute_error: 0.3139\n",
      "Epoch 19/25\n",
      "2/2 [==============================] - 0s 31ms/step - loss: 0.1528 - mean_absolute_error: 0.3407 - val_loss: 0.1320 - val_mean_absolute_error: 0.3058\n",
      "Epoch 20/25\n",
      "2/2 [==============================] - 0s 32ms/step - loss: 0.1424 - mean_absolute_error: 0.3314 - val_loss: 0.1232 - val_mean_absolute_error: 0.2976\n",
      "Epoch 21/25\n",
      "2/2 [==============================] - 0s 32ms/step - loss: 0.1329 - mean_absolute_error: 0.3226 - val_loss: 0.1150 - val_mean_absolute_error: 0.2902\n",
      "Epoch 22/25\n",
      "2/2 [==============================] - 0s 33ms/step - loss: 0.1230 - mean_absolute_error: 0.3126 - val_loss: 0.1074 - val_mean_absolute_error: 0.2829\n",
      "Epoch 23/25\n",
      "2/2 [==============================] - 0s 33ms/step - loss: 0.1148 - mean_absolute_error: 0.3039 - val_loss: 0.1003 - val_mean_absolute_error: 0.2754\n",
      "Epoch 24/25\n",
      "2/2 [==============================] - 0s 32ms/step - loss: 0.1065 - mean_absolute_error: 0.2944 - val_loss: 0.0938 - val_mean_absolute_error: 0.2679\n",
      "Epoch 25/25\n",
      "2/2 [==============================] - 0s 31ms/step - loss: 0.0992 - mean_absolute_error: 0.2852 - val_loss: 0.0877 - val_mean_absolute_error: 0.2602\n"
     ]
    }
   ],
   "source": [
    "past = model.fit(X_train, y_train, epochs=25, validation_split=0.2)"
   ]
  },
  {
   "cell_type": "code",
   "execution_count": 19,
   "id": "758b116f",
   "metadata": {
    "execution": {
     "iopub.execute_input": "2023-12-10T18:23:07.319756Z",
     "iopub.status.busy": "2023-12-10T18:23:07.319347Z",
     "iopub.status.idle": "2023-12-10T18:23:07.489396Z",
     "shell.execute_reply": "2023-12-10T18:23:07.488219Z"
    },
    "papermill": {
     "duration": 0.187358,
     "end_time": "2023-12-10T18:23:07.492049",
     "exception": false,
     "start_time": "2023-12-10T18:23:07.304691",
     "status": "completed"
    },
    "tags": []
   },
   "outputs": [
    {
     "name": "stdout",
     "output_type": "stream",
     "text": [
      "1/1 [==============================] - 0s 95ms/step\n"
     ]
    }
   ],
   "source": [
    "y_pred = model.predict(X_test)"
   ]
  },
  {
   "cell_type": "code",
   "execution_count": 20,
   "id": "a0b98315",
   "metadata": {
    "execution": {
     "iopub.execute_input": "2023-12-10T18:23:07.520967Z",
     "iopub.status.busy": "2023-12-10T18:23:07.520260Z",
     "iopub.status.idle": "2023-12-10T18:23:07.527327Z",
     "shell.execute_reply": "2023-12-10T18:23:07.526206Z"
    },
    "papermill": {
     "duration": 0.024014,
     "end_time": "2023-12-10T18:23:07.529336",
     "exception": false,
     "start_time": "2023-12-10T18:23:07.505322",
     "status": "completed"
    },
    "tags": []
   },
   "outputs": [
    {
     "name": "stdout",
     "output_type": "stream",
     "text": [
      "R2 Score= 0.6619160129172588\n"
     ]
    }
   ],
   "source": [
    "from sklearn.metrics import r2_score\n",
    "\n",
    "R2 = r2_score(y_test, y_pred)\n",
    "print(\"R2 Score=\",R2 )"
   ]
  }
 ],
 "metadata": {
  "kaggle": {
   "accelerator": "none",
   "dataSources": [
    {
     "datasetId": 826163,
     "sourceId": 2879186,
     "sourceType": "datasetVersion"
    }
   ],
   "dockerImageVersionId": 30615,
   "isGpuEnabled": false,
   "isInternetEnabled": true,
   "language": "python",
   "sourceType": "notebook"
  },
  "kernelspec": {
   "display_name": "Python 3",
   "language": "python",
   "name": "python3"
  },
  "language_info": {
   "codemirror_mode": {
    "name": "ipython",
    "version": 3
   },
   "file_extension": ".py",
   "mimetype": "text/x-python",
   "name": "python",
   "nbconvert_exporter": "python",
   "pygments_lexer": "ipython3",
   "version": "3.10.12"
  },
  "papermill": {
   "default_parameters": {},
   "duration": 24.346026,
   "end_time": "2023-12-10T18:23:09.836581",
   "environment_variables": {},
   "exception": null,
   "input_path": "__notebook__.ipynb",
   "output_path": "__notebook__.ipynb",
   "parameters": {},
   "start_time": "2023-12-10T18:22:45.490555",
   "version": "2.4.0"
  }
 },
 "nbformat": 4,
 "nbformat_minor": 5
}
