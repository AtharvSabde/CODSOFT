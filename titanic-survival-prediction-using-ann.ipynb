{
 "cells": [
  {
   "cell_type": "markdown",
   "id": "fe18f28f",
   "metadata": {
    "papermill": {
     "duration": 0.008886,
     "end_time": "2023-12-10T18:21:32.558266",
     "exception": false,
     "start_time": "2023-12-10T18:21:32.549380",
     "status": "completed"
    },
    "tags": []
   },
   "source": [
    "<div style=\"color:white;\n",
    "            display:fill;\n",
    "            border-radius:15px;\n",
    "            background-color:BLACK;\n",
    "            font-size:100%;\n",
    "            font-family:Verdana;\n",
    "            letter-spacing:1px\">\n",
    "    <h3 style='padding: 20px;\n",
    "              color:CYAN;\n",
    "              text-align:center;'>\n",
    "        Titanic Survival Prediction\n",
    "    </h3>\n",
    "    </div>"
   ]
  },
  {
   "cell_type": "markdown",
   "id": "8ceeebae",
   "metadata": {
    "papermill": {
     "duration": 0.008138,
     "end_time": "2023-12-10T18:21:32.574941",
     "exception": false,
     "start_time": "2023-12-10T18:21:32.566803",
     "status": "completed"
    },
    "tags": []
   },
   "source": [
    "![](https://media.tenor.com/9Di9mmafWd4AAAAM/titanic.gif)"
   ]
  },
  {
   "cell_type": "markdown",
   "id": "766af87e",
   "metadata": {
    "papermill": {
     "duration": 0.008499,
     "end_time": "2023-12-10T18:21:32.591900",
     "exception": false,
     "start_time": "2023-12-10T18:21:32.583401",
     "status": "completed"
    },
    "tags": []
   },
   "source": [
    "<div style=\"color:white;\n",
    "            display:fill;\n",
    "            border-radius:15px;\n",
    "            background-color:BLACK;\n",
    "            font-size:100%;\n",
    "            font-family:Verdana;\n",
    "            letter-spacing:1px\">\n",
    "    <h3 style='padding: 20px;\n",
    "              color:CYAN;\n",
    "              text-align:center;'>\n",
    "        TABLE OF CONTENT\n",
    "    </h3>\n",
    "    </div>"
   ]
  },
  {
   "cell_type": "markdown",
   "id": "0f9cafe5",
   "metadata": {
    "papermill": {
     "duration": 0.00807,
     "end_time": "2023-12-10T18:21:32.608560",
     "exception": false,
     "start_time": "2023-12-10T18:21:32.600490",
     "status": "completed"
    },
    "tags": []
   },
   "source": [
    "* **Importing Libraries and Loading Data**\n",
    "\n",
    "* **Data Information and Data Cleaning**\n",
    "\n",
    "* **Building The Model**\n",
    "\n",
    "* **Conclusion**"
   ]
  },
  {
   "cell_type": "markdown",
   "id": "1e65c010",
   "metadata": {
    "papermill": {
     "duration": 0.008185,
     "end_time": "2023-12-10T18:21:32.625181",
     "exception": false,
     "start_time": "2023-12-10T18:21:32.616996",
     "status": "completed"
    },
    "tags": []
   },
   "source": [
    "<div style=\"color:white;\n",
    "            display:fill;\n",
    "            border-radius:15px;\n",
    "            background-color:BLACK;\n",
    "            font-size:100%;\n",
    "            font-family:Verdana;\n",
    "            letter-spacing:1px\">\n",
    "    <h3 style='padding: 20px;\n",
    "              color:CYAN;\n",
    "              text-align:center;'>\n",
    "        Importing Libraries\n",
    "    </h3>\n",
    "    </div>"
   ]
  },
  {
   "cell_type": "code",
   "execution_count": 1,
   "id": "4d689b09",
   "metadata": {
    "execution": {
     "iopub.execute_input": "2023-12-10T18:21:32.644922Z",
     "iopub.status.busy": "2023-12-10T18:21:32.643788Z",
     "iopub.status.idle": "2023-12-10T18:21:49.299664Z",
     "shell.execute_reply": "2023-12-10T18:21:49.298415Z"
    },
    "papermill": {
     "duration": 16.66898,
     "end_time": "2023-12-10T18:21:49.302594",
     "exception": false,
     "start_time": "2023-12-10T18:21:32.633614",
     "status": "completed"
    },
    "tags": []
   },
   "outputs": [],
   "source": [
    "import numpy as np\n",
    "import pandas as pd\n",
    "import matplotlib.pyplot as plt\n",
    "import seaborn as sns\n",
    "import plotly.express as px\n",
    "from plotly.offline import init_notebook_mode, iplot, plot\n",
    "from sklearn.preprocessing import MinMaxScaler\n",
    "\n",
    "from tensorflow.keras.layers import Dense\n",
    "from tensorflow.keras.models import Sequential\n",
    "from sklearn.model_selection import train_test_split\n",
    "\n",
    "import warnings\n",
    "warnings.filterwarnings(\"ignore\")"
   ]
  },
  {
   "cell_type": "code",
   "execution_count": 2,
   "id": "af7c62b7",
   "metadata": {
    "execution": {
     "iopub.execute_input": "2023-12-10T18:21:49.322417Z",
     "iopub.status.busy": "2023-12-10T18:21:49.321546Z",
     "iopub.status.idle": "2023-12-10T18:21:49.342192Z",
     "shell.execute_reply": "2023-12-10T18:21:49.341169Z"
    },
    "papermill": {
     "duration": 0.032919,
     "end_time": "2023-12-10T18:21:49.344686",
     "exception": false,
     "start_time": "2023-12-10T18:21:49.311767",
     "status": "completed"
    },
    "tags": []
   },
   "outputs": [],
   "source": [
    "df = pd.read_csv('../input/test-file/tested.csv')"
   ]
  },
  {
   "cell_type": "markdown",
   "id": "1f7517c0",
   "metadata": {
    "papermill": {
     "duration": 0.008407,
     "end_time": "2023-12-10T18:21:49.361552",
     "exception": false,
     "start_time": "2023-12-10T18:21:49.353145",
     "status": "completed"
    },
    "tags": []
   },
   "source": [
    "<div style=\"color:white;\n",
    "            display:fill;\n",
    "            border-radius:15px;\n",
    "            background-color:BLACK;\n",
    "            font-size:100%;\n",
    "            font-family:Verdana;\n",
    "            letter-spacing:1px\">\n",
    "    <h3 style='padding: 20px;\n",
    "              color:CYAN;\n",
    "              text-align:center;'>\n",
    "        Data Information and Data Cleaning\n",
    "    </h3>\n",
    "    </div>"
   ]
  },
  {
   "cell_type": "code",
   "execution_count": 3,
   "id": "1d80bef2",
   "metadata": {
    "execution": {
     "iopub.execute_input": "2023-12-10T18:21:49.380499Z",
     "iopub.status.busy": "2023-12-10T18:21:49.379815Z",
     "iopub.status.idle": "2023-12-10T18:21:49.388225Z",
     "shell.execute_reply": "2023-12-10T18:21:49.387201Z"
    },
    "papermill": {
     "duration": 0.020863,
     "end_time": "2023-12-10T18:21:49.390929",
     "exception": false,
     "start_time": "2023-12-10T18:21:49.370066",
     "status": "completed"
    },
    "tags": []
   },
   "outputs": [
    {
     "data": {
      "text/plain": [
       "Index(['PassengerId', 'Survived', 'Pclass', 'Name', 'Sex', 'Age', 'SibSp',\n",
       "       'Parch', 'Ticket', 'Fare', 'Cabin', 'Embarked'],\n",
       "      dtype='object')"
      ]
     },
     "execution_count": 3,
     "metadata": {},
     "output_type": "execute_result"
    }
   ],
   "source": [
    "df.columns"
   ]
  },
  {
   "cell_type": "code",
   "execution_count": 4,
   "id": "5d8a2f58",
   "metadata": {
    "execution": {
     "iopub.execute_input": "2023-12-10T18:21:49.410383Z",
     "iopub.status.busy": "2023-12-10T18:21:49.409960Z",
     "iopub.status.idle": "2023-12-10T18:21:49.437394Z",
     "shell.execute_reply": "2023-12-10T18:21:49.436300Z"
    },
    "papermill": {
     "duration": 0.040133,
     "end_time": "2023-12-10T18:21:49.439820",
     "exception": false,
     "start_time": "2023-12-10T18:21:49.399687",
     "status": "completed"
    },
    "tags": []
   },
   "outputs": [
    {
     "data": {
      "text/html": [
       "<div>\n",
       "<style scoped>\n",
       "    .dataframe tbody tr th:only-of-type {\n",
       "        vertical-align: middle;\n",
       "    }\n",
       "\n",
       "    .dataframe tbody tr th {\n",
       "        vertical-align: top;\n",
       "    }\n",
       "\n",
       "    .dataframe thead th {\n",
       "        text-align: right;\n",
       "    }\n",
       "</style>\n",
       "<table border=\"1\" class=\"dataframe\">\n",
       "  <thead>\n",
       "    <tr style=\"text-align: right;\">\n",
       "      <th></th>\n",
       "      <th>PassengerId</th>\n",
       "      <th>Survived</th>\n",
       "      <th>Pclass</th>\n",
       "      <th>Name</th>\n",
       "      <th>Sex</th>\n",
       "      <th>Age</th>\n",
       "      <th>SibSp</th>\n",
       "      <th>Parch</th>\n",
       "      <th>Ticket</th>\n",
       "      <th>Fare</th>\n",
       "      <th>Cabin</th>\n",
       "      <th>Embarked</th>\n",
       "    </tr>\n",
       "  </thead>\n",
       "  <tbody>\n",
       "    <tr>\n",
       "      <th>0</th>\n",
       "      <td>892</td>\n",
       "      <td>0</td>\n",
       "      <td>3</td>\n",
       "      <td>Kelly, Mr. James</td>\n",
       "      <td>male</td>\n",
       "      <td>34.5</td>\n",
       "      <td>0</td>\n",
       "      <td>0</td>\n",
       "      <td>330911</td>\n",
       "      <td>7.8292</td>\n",
       "      <td>NaN</td>\n",
       "      <td>Q</td>\n",
       "    </tr>\n",
       "    <tr>\n",
       "      <th>1</th>\n",
       "      <td>893</td>\n",
       "      <td>1</td>\n",
       "      <td>3</td>\n",
       "      <td>Wilkes, Mrs. James (Ellen Needs)</td>\n",
       "      <td>female</td>\n",
       "      <td>47.0</td>\n",
       "      <td>1</td>\n",
       "      <td>0</td>\n",
       "      <td>363272</td>\n",
       "      <td>7.0000</td>\n",
       "      <td>NaN</td>\n",
       "      <td>S</td>\n",
       "    </tr>\n",
       "    <tr>\n",
       "      <th>2</th>\n",
       "      <td>894</td>\n",
       "      <td>0</td>\n",
       "      <td>2</td>\n",
       "      <td>Myles, Mr. Thomas Francis</td>\n",
       "      <td>male</td>\n",
       "      <td>62.0</td>\n",
       "      <td>0</td>\n",
       "      <td>0</td>\n",
       "      <td>240276</td>\n",
       "      <td>9.6875</td>\n",
       "      <td>NaN</td>\n",
       "      <td>Q</td>\n",
       "    </tr>\n",
       "    <tr>\n",
       "      <th>3</th>\n",
       "      <td>895</td>\n",
       "      <td>0</td>\n",
       "      <td>3</td>\n",
       "      <td>Wirz, Mr. Albert</td>\n",
       "      <td>male</td>\n",
       "      <td>27.0</td>\n",
       "      <td>0</td>\n",
       "      <td>0</td>\n",
       "      <td>315154</td>\n",
       "      <td>8.6625</td>\n",
       "      <td>NaN</td>\n",
       "      <td>S</td>\n",
       "    </tr>\n",
       "    <tr>\n",
       "      <th>4</th>\n",
       "      <td>896</td>\n",
       "      <td>1</td>\n",
       "      <td>3</td>\n",
       "      <td>Hirvonen, Mrs. Alexander (Helga E Lindqvist)</td>\n",
       "      <td>female</td>\n",
       "      <td>22.0</td>\n",
       "      <td>1</td>\n",
       "      <td>1</td>\n",
       "      <td>3101298</td>\n",
       "      <td>12.2875</td>\n",
       "      <td>NaN</td>\n",
       "      <td>S</td>\n",
       "    </tr>\n",
       "  </tbody>\n",
       "</table>\n",
       "</div>"
      ],
      "text/plain": [
       "   PassengerId  Survived  Pclass  \\\n",
       "0          892         0       3   \n",
       "1          893         1       3   \n",
       "2          894         0       2   \n",
       "3          895         0       3   \n",
       "4          896         1       3   \n",
       "\n",
       "                                           Name     Sex   Age  SibSp  Parch  \\\n",
       "0                              Kelly, Mr. James    male  34.5      0      0   \n",
       "1              Wilkes, Mrs. James (Ellen Needs)  female  47.0      1      0   \n",
       "2                     Myles, Mr. Thomas Francis    male  62.0      0      0   \n",
       "3                              Wirz, Mr. Albert    male  27.0      0      0   \n",
       "4  Hirvonen, Mrs. Alexander (Helga E Lindqvist)  female  22.0      1      1   \n",
       "\n",
       "    Ticket     Fare Cabin Embarked  \n",
       "0   330911   7.8292   NaN        Q  \n",
       "1   363272   7.0000   NaN        S  \n",
       "2   240276   9.6875   NaN        Q  \n",
       "3   315154   8.6625   NaN        S  \n",
       "4  3101298  12.2875   NaN        S  "
      ]
     },
     "execution_count": 4,
     "metadata": {},
     "output_type": "execute_result"
    }
   ],
   "source": [
    "df.head()"
   ]
  },
  {
   "cell_type": "code",
   "execution_count": 5,
   "id": "ecf7d1b5",
   "metadata": {
    "execution": {
     "iopub.execute_input": "2023-12-10T18:21:49.459978Z",
     "iopub.status.busy": "2023-12-10T18:21:49.459541Z",
     "iopub.status.idle": "2023-12-10T18:21:49.476116Z",
     "shell.execute_reply": "2023-12-10T18:21:49.474973Z"
    },
    "papermill": {
     "duration": 0.029518,
     "end_time": "2023-12-10T18:21:49.478411",
     "exception": false,
     "start_time": "2023-12-10T18:21:49.448893",
     "status": "completed"
    },
    "tags": []
   },
   "outputs": [
    {
     "data": {
      "text/html": [
       "<div>\n",
       "<style scoped>\n",
       "    .dataframe tbody tr th:only-of-type {\n",
       "        vertical-align: middle;\n",
       "    }\n",
       "\n",
       "    .dataframe tbody tr th {\n",
       "        vertical-align: top;\n",
       "    }\n",
       "\n",
       "    .dataframe thead th {\n",
       "        text-align: right;\n",
       "    }\n",
       "</style>\n",
       "<table border=\"1\" class=\"dataframe\">\n",
       "  <thead>\n",
       "    <tr style=\"text-align: right;\">\n",
       "      <th></th>\n",
       "      <th>Missing Values</th>\n",
       "      <th>Percentage</th>\n",
       "    </tr>\n",
       "  </thead>\n",
       "  <tbody>\n",
       "    <tr>\n",
       "      <th>PassengerId</th>\n",
       "      <td>0</td>\n",
       "      <td>0.0%</td>\n",
       "    </tr>\n",
       "    <tr>\n",
       "      <th>Survived</th>\n",
       "      <td>0</td>\n",
       "      <td>0.0%</td>\n",
       "    </tr>\n",
       "    <tr>\n",
       "      <th>Pclass</th>\n",
       "      <td>0</td>\n",
       "      <td>0.0%</td>\n",
       "    </tr>\n",
       "    <tr>\n",
       "      <th>Name</th>\n",
       "      <td>0</td>\n",
       "      <td>0.0%</td>\n",
       "    </tr>\n",
       "    <tr>\n",
       "      <th>Sex</th>\n",
       "      <td>0</td>\n",
       "      <td>0.0%</td>\n",
       "    </tr>\n",
       "    <tr>\n",
       "      <th>Age</th>\n",
       "      <td>86</td>\n",
       "      <td>20.57%</td>\n",
       "    </tr>\n",
       "    <tr>\n",
       "      <th>SibSp</th>\n",
       "      <td>0</td>\n",
       "      <td>0.0%</td>\n",
       "    </tr>\n",
       "    <tr>\n",
       "      <th>Parch</th>\n",
       "      <td>0</td>\n",
       "      <td>0.0%</td>\n",
       "    </tr>\n",
       "    <tr>\n",
       "      <th>Ticket</th>\n",
       "      <td>0</td>\n",
       "      <td>0.0%</td>\n",
       "    </tr>\n",
       "    <tr>\n",
       "      <th>Fare</th>\n",
       "      <td>1</td>\n",
       "      <td>0.24%</td>\n",
       "    </tr>\n",
       "    <tr>\n",
       "      <th>Cabin</th>\n",
       "      <td>327</td>\n",
       "      <td>78.23%</td>\n",
       "    </tr>\n",
       "    <tr>\n",
       "      <th>Embarked</th>\n",
       "      <td>0</td>\n",
       "      <td>0.0%</td>\n",
       "    </tr>\n",
       "  </tbody>\n",
       "</table>\n",
       "</div>"
      ],
      "text/plain": [
       "             Missing Values Percentage\n",
       "PassengerId               0       0.0%\n",
       "Survived                  0       0.0%\n",
       "Pclass                    0       0.0%\n",
       "Name                      0       0.0%\n",
       "Sex                       0       0.0%\n",
       "Age                      86     20.57%\n",
       "SibSp                     0       0.0%\n",
       "Parch                     0       0.0%\n",
       "Ticket                    0       0.0%\n",
       "Fare                      1      0.24%\n",
       "Cabin                   327     78.23%\n",
       "Embarked                  0       0.0%"
      ]
     },
     "execution_count": 5,
     "metadata": {},
     "output_type": "execute_result"
    }
   ],
   "source": [
    "def missing_values_percent(dataframe):\n",
    "    missing_values = dataframe.isna().sum()\n",
    "    percentage_missing = (missing_values / len(dataframe) * 100).round(2)\n",
    "\n",
    "    result_movie = pd.DataFrame({'Missing Values': missing_values, 'Percentage': percentage_missing})\n",
    "    result_movie['Percentage'] = result_movie['Percentage'].astype(str) + '%'\n",
    "\n",
    "    return result_movie\n",
    "\n",
    "\n",
    "result = missing_values_percent(df)\n",
    "result"
   ]
  },
  {
   "cell_type": "code",
   "execution_count": 6,
   "id": "04f909de",
   "metadata": {
    "execution": {
     "iopub.execute_input": "2023-12-10T18:21:49.500653Z",
     "iopub.status.busy": "2023-12-10T18:21:49.500250Z",
     "iopub.status.idle": "2023-12-10T18:21:49.509609Z",
     "shell.execute_reply": "2023-12-10T18:21:49.508601Z"
    },
    "papermill": {
     "duration": 0.022161,
     "end_time": "2023-12-10T18:21:49.511866",
     "exception": false,
     "start_time": "2023-12-10T18:21:49.489705",
     "status": "completed"
    },
    "tags": []
   },
   "outputs": [],
   "source": [
    "df = df.dropna()"
   ]
  },
  {
   "cell_type": "code",
   "execution_count": 7,
   "id": "53265001",
   "metadata": {
    "execution": {
     "iopub.execute_input": "2023-12-10T18:21:49.532238Z",
     "iopub.status.busy": "2023-12-10T18:21:49.531867Z",
     "iopub.status.idle": "2023-12-10T18:21:49.543198Z",
     "shell.execute_reply": "2023-12-10T18:21:49.542284Z"
    },
    "papermill": {
     "duration": 0.024307,
     "end_time": "2023-12-10T18:21:49.545482",
     "exception": false,
     "start_time": "2023-12-10T18:21:49.521175",
     "status": "completed"
    },
    "tags": []
   },
   "outputs": [],
   "source": [
    "gender_mapping = {'male': 0, 'female': 1}\n",
    "df['Sex'] = df['Sex'].map(gender_mapping)"
   ]
  },
  {
   "cell_type": "code",
   "execution_count": 8,
   "id": "c6a77f26",
   "metadata": {
    "execution": {
     "iopub.execute_input": "2023-12-10T18:21:49.565741Z",
     "iopub.status.busy": "2023-12-10T18:21:49.565366Z",
     "iopub.status.idle": "2023-12-10T18:21:49.581148Z",
     "shell.execute_reply": "2023-12-10T18:21:49.580380Z"
    },
    "papermill": {
     "duration": 0.028374,
     "end_time": "2023-12-10T18:21:49.583159",
     "exception": false,
     "start_time": "2023-12-10T18:21:49.554785",
     "status": "completed"
    },
    "tags": []
   },
   "outputs": [
    {
     "data": {
      "text/html": [
       "<div>\n",
       "<style scoped>\n",
       "    .dataframe tbody tr th:only-of-type {\n",
       "        vertical-align: middle;\n",
       "    }\n",
       "\n",
       "    .dataframe tbody tr th {\n",
       "        vertical-align: top;\n",
       "    }\n",
       "\n",
       "    .dataframe thead th {\n",
       "        text-align: right;\n",
       "    }\n",
       "</style>\n",
       "<table border=\"1\" class=\"dataframe\">\n",
       "  <thead>\n",
       "    <tr style=\"text-align: right;\">\n",
       "      <th></th>\n",
       "      <th>PassengerId</th>\n",
       "      <th>Survived</th>\n",
       "      <th>Pclass</th>\n",
       "      <th>Name</th>\n",
       "      <th>Sex</th>\n",
       "      <th>Age</th>\n",
       "      <th>SibSp</th>\n",
       "      <th>Parch</th>\n",
       "      <th>Ticket</th>\n",
       "      <th>Fare</th>\n",
       "      <th>Cabin</th>\n",
       "      <th>Embarked</th>\n",
       "    </tr>\n",
       "  </thead>\n",
       "  <tbody>\n",
       "    <tr>\n",
       "      <th>12</th>\n",
       "      <td>904</td>\n",
       "      <td>1</td>\n",
       "      <td>1</td>\n",
       "      <td>Snyder, Mrs. John Pillsbury (Nelle Stevenson)</td>\n",
       "      <td>1</td>\n",
       "      <td>23.0</td>\n",
       "      <td>1</td>\n",
       "      <td>0</td>\n",
       "      <td>21228</td>\n",
       "      <td>82.2667</td>\n",
       "      <td>B45</td>\n",
       "      <td>S</td>\n",
       "    </tr>\n",
       "    <tr>\n",
       "      <th>14</th>\n",
       "      <td>906</td>\n",
       "      <td>1</td>\n",
       "      <td>1</td>\n",
       "      <td>Chaffee, Mrs. Herbert Fuller (Carrie Constance...</td>\n",
       "      <td>1</td>\n",
       "      <td>47.0</td>\n",
       "      <td>1</td>\n",
       "      <td>0</td>\n",
       "      <td>W.E.P. 5734</td>\n",
       "      <td>61.1750</td>\n",
       "      <td>E31</td>\n",
       "      <td>S</td>\n",
       "    </tr>\n",
       "    <tr>\n",
       "      <th>24</th>\n",
       "      <td>916</td>\n",
       "      <td>1</td>\n",
       "      <td>1</td>\n",
       "      <td>Ryerson, Mrs. Arthur Larned (Emily Maria Borie)</td>\n",
       "      <td>1</td>\n",
       "      <td>48.0</td>\n",
       "      <td>1</td>\n",
       "      <td>3</td>\n",
       "      <td>PC 17608</td>\n",
       "      <td>262.3750</td>\n",
       "      <td>B57 B59 B63 B66</td>\n",
       "      <td>C</td>\n",
       "    </tr>\n",
       "    <tr>\n",
       "      <th>26</th>\n",
       "      <td>918</td>\n",
       "      <td>1</td>\n",
       "      <td>1</td>\n",
       "      <td>Ostby, Miss. Helene Ragnhild</td>\n",
       "      <td>1</td>\n",
       "      <td>22.0</td>\n",
       "      <td>0</td>\n",
       "      <td>1</td>\n",
       "      <td>113509</td>\n",
       "      <td>61.9792</td>\n",
       "      <td>B36</td>\n",
       "      <td>C</td>\n",
       "    </tr>\n",
       "    <tr>\n",
       "      <th>28</th>\n",
       "      <td>920</td>\n",
       "      <td>0</td>\n",
       "      <td>1</td>\n",
       "      <td>Brady, Mr. John Bertram</td>\n",
       "      <td>0</td>\n",
       "      <td>41.0</td>\n",
       "      <td>0</td>\n",
       "      <td>0</td>\n",
       "      <td>113054</td>\n",
       "      <td>30.5000</td>\n",
       "      <td>A21</td>\n",
       "      <td>S</td>\n",
       "    </tr>\n",
       "  </tbody>\n",
       "</table>\n",
       "</div>"
      ],
      "text/plain": [
       "    PassengerId  Survived  Pclass  \\\n",
       "12          904         1       1   \n",
       "14          906         1       1   \n",
       "24          916         1       1   \n",
       "26          918         1       1   \n",
       "28          920         0       1   \n",
       "\n",
       "                                                 Name  Sex   Age  SibSp  \\\n",
       "12      Snyder, Mrs. John Pillsbury (Nelle Stevenson)    1  23.0      1   \n",
       "14  Chaffee, Mrs. Herbert Fuller (Carrie Constance...    1  47.0      1   \n",
       "24    Ryerson, Mrs. Arthur Larned (Emily Maria Borie)    1  48.0      1   \n",
       "26                       Ostby, Miss. Helene Ragnhild    1  22.0      0   \n",
       "28                            Brady, Mr. John Bertram    0  41.0      0   \n",
       "\n",
       "    Parch       Ticket      Fare            Cabin Embarked  \n",
       "12      0        21228   82.2667              B45        S  \n",
       "14      0  W.E.P. 5734   61.1750              E31        S  \n",
       "24      3     PC 17608  262.3750  B57 B59 B63 B66        C  \n",
       "26      1       113509   61.9792              B36        C  \n",
       "28      0       113054   30.5000              A21        S  "
      ]
     },
     "execution_count": 8,
     "metadata": {},
     "output_type": "execute_result"
    }
   ],
   "source": [
    "df.head()"
   ]
  },
  {
   "cell_type": "code",
   "execution_count": 9,
   "id": "1c35895c",
   "metadata": {
    "execution": {
     "iopub.execute_input": "2023-12-10T18:21:49.603464Z",
     "iopub.status.busy": "2023-12-10T18:21:49.603084Z",
     "iopub.status.idle": "2023-12-10T18:21:49.608910Z",
     "shell.execute_reply": "2023-12-10T18:21:49.607951Z"
    },
    "papermill": {
     "duration": 0.018822,
     "end_time": "2023-12-10T18:21:49.611127",
     "exception": false,
     "start_time": "2023-12-10T18:21:49.592305",
     "status": "completed"
    },
    "tags": []
   },
   "outputs": [],
   "source": [
    "df['Age'] = df['Age'].round().astype(int)"
   ]
  },
  {
   "cell_type": "code",
   "execution_count": 10,
   "id": "bd739329",
   "metadata": {
    "execution": {
     "iopub.execute_input": "2023-12-10T18:21:49.632187Z",
     "iopub.status.busy": "2023-12-10T18:21:49.631775Z",
     "iopub.status.idle": "2023-12-10T18:21:49.637635Z",
     "shell.execute_reply": "2023-12-10T18:21:49.636566Z"
    },
    "papermill": {
     "duration": 0.018772,
     "end_time": "2023-12-10T18:21:49.639838",
     "exception": false,
     "start_time": "2023-12-10T18:21:49.621066",
     "status": "completed"
    },
    "tags": []
   },
   "outputs": [],
   "source": [
    "df['Fare'] = df['Fare'].round().astype(int)"
   ]
  },
  {
   "cell_type": "code",
   "execution_count": 11,
   "id": "7f03c913",
   "metadata": {
    "execution": {
     "iopub.execute_input": "2023-12-10T18:21:49.660674Z",
     "iopub.status.busy": "2023-12-10T18:21:49.660267Z",
     "iopub.status.idle": "2023-12-10T18:21:49.676677Z",
     "shell.execute_reply": "2023-12-10T18:21:49.675515Z"
    },
    "papermill": {
     "duration": 0.029779,
     "end_time": "2023-12-10T18:21:49.679171",
     "exception": false,
     "start_time": "2023-12-10T18:21:49.649392",
     "status": "completed"
    },
    "tags": []
   },
   "outputs": [
    {
     "data": {
      "text/html": [
       "<div>\n",
       "<style scoped>\n",
       "    .dataframe tbody tr th:only-of-type {\n",
       "        vertical-align: middle;\n",
       "    }\n",
       "\n",
       "    .dataframe tbody tr th {\n",
       "        vertical-align: top;\n",
       "    }\n",
       "\n",
       "    .dataframe thead th {\n",
       "        text-align: right;\n",
       "    }\n",
       "</style>\n",
       "<table border=\"1\" class=\"dataframe\">\n",
       "  <thead>\n",
       "    <tr style=\"text-align: right;\">\n",
       "      <th></th>\n",
       "      <th>PassengerId</th>\n",
       "      <th>Survived</th>\n",
       "      <th>Pclass</th>\n",
       "      <th>Name</th>\n",
       "      <th>Sex</th>\n",
       "      <th>Age</th>\n",
       "      <th>SibSp</th>\n",
       "      <th>Parch</th>\n",
       "      <th>Ticket</th>\n",
       "      <th>Fare</th>\n",
       "      <th>Cabin</th>\n",
       "      <th>Embarked</th>\n",
       "    </tr>\n",
       "  </thead>\n",
       "  <tbody>\n",
       "    <tr>\n",
       "      <th>12</th>\n",
       "      <td>904</td>\n",
       "      <td>1</td>\n",
       "      <td>1</td>\n",
       "      <td>Snyder, Mrs. John Pillsbury (Nelle Stevenson)</td>\n",
       "      <td>1</td>\n",
       "      <td>23</td>\n",
       "      <td>1</td>\n",
       "      <td>0</td>\n",
       "      <td>21228</td>\n",
       "      <td>82</td>\n",
       "      <td>B45</td>\n",
       "      <td>S</td>\n",
       "    </tr>\n",
       "    <tr>\n",
       "      <th>14</th>\n",
       "      <td>906</td>\n",
       "      <td>1</td>\n",
       "      <td>1</td>\n",
       "      <td>Chaffee, Mrs. Herbert Fuller (Carrie Constance...</td>\n",
       "      <td>1</td>\n",
       "      <td>47</td>\n",
       "      <td>1</td>\n",
       "      <td>0</td>\n",
       "      <td>W.E.P. 5734</td>\n",
       "      <td>61</td>\n",
       "      <td>E31</td>\n",
       "      <td>S</td>\n",
       "    </tr>\n",
       "    <tr>\n",
       "      <th>24</th>\n",
       "      <td>916</td>\n",
       "      <td>1</td>\n",
       "      <td>1</td>\n",
       "      <td>Ryerson, Mrs. Arthur Larned (Emily Maria Borie)</td>\n",
       "      <td>1</td>\n",
       "      <td>48</td>\n",
       "      <td>1</td>\n",
       "      <td>3</td>\n",
       "      <td>PC 17608</td>\n",
       "      <td>262</td>\n",
       "      <td>B57 B59 B63 B66</td>\n",
       "      <td>C</td>\n",
       "    </tr>\n",
       "    <tr>\n",
       "      <th>26</th>\n",
       "      <td>918</td>\n",
       "      <td>1</td>\n",
       "      <td>1</td>\n",
       "      <td>Ostby, Miss. Helene Ragnhild</td>\n",
       "      <td>1</td>\n",
       "      <td>22</td>\n",
       "      <td>0</td>\n",
       "      <td>1</td>\n",
       "      <td>113509</td>\n",
       "      <td>62</td>\n",
       "      <td>B36</td>\n",
       "      <td>C</td>\n",
       "    </tr>\n",
       "    <tr>\n",
       "      <th>28</th>\n",
       "      <td>920</td>\n",
       "      <td>0</td>\n",
       "      <td>1</td>\n",
       "      <td>Brady, Mr. John Bertram</td>\n",
       "      <td>0</td>\n",
       "      <td>41</td>\n",
       "      <td>0</td>\n",
       "      <td>0</td>\n",
       "      <td>113054</td>\n",
       "      <td>30</td>\n",
       "      <td>A21</td>\n",
       "      <td>S</td>\n",
       "    </tr>\n",
       "  </tbody>\n",
       "</table>\n",
       "</div>"
      ],
      "text/plain": [
       "    PassengerId  Survived  Pclass  \\\n",
       "12          904         1       1   \n",
       "14          906         1       1   \n",
       "24          916         1       1   \n",
       "26          918         1       1   \n",
       "28          920         0       1   \n",
       "\n",
       "                                                 Name  Sex  Age  SibSp  Parch  \\\n",
       "12      Snyder, Mrs. John Pillsbury (Nelle Stevenson)    1   23      1      0   \n",
       "14  Chaffee, Mrs. Herbert Fuller (Carrie Constance...    1   47      1      0   \n",
       "24    Ryerson, Mrs. Arthur Larned (Emily Maria Borie)    1   48      1      3   \n",
       "26                       Ostby, Miss. Helene Ragnhild    1   22      0      1   \n",
       "28                            Brady, Mr. John Bertram    0   41      0      0   \n",
       "\n",
       "         Ticket  Fare            Cabin Embarked  \n",
       "12        21228    82              B45        S  \n",
       "14  W.E.P. 5734    61              E31        S  \n",
       "24     PC 17608   262  B57 B59 B63 B66        C  \n",
       "26       113509    62              B36        C  \n",
       "28       113054    30              A21        S  "
      ]
     },
     "execution_count": 11,
     "metadata": {},
     "output_type": "execute_result"
    }
   ],
   "source": [
    "df.head()"
   ]
  },
  {
   "cell_type": "code",
   "execution_count": 12,
   "id": "1a73b0af",
   "metadata": {
    "execution": {
     "iopub.execute_input": "2023-12-10T18:21:49.700780Z",
     "iopub.status.busy": "2023-12-10T18:21:49.700372Z",
     "iopub.status.idle": "2023-12-10T18:21:49.706866Z",
     "shell.execute_reply": "2023-12-10T18:21:49.705847Z"
    },
    "papermill": {
     "duration": 0.020009,
     "end_time": "2023-12-10T18:21:49.709170",
     "exception": false,
     "start_time": "2023-12-10T18:21:49.689161",
     "status": "completed"
    },
    "tags": []
   },
   "outputs": [],
   "source": [
    "df.drop(['PassengerId','Name','Ticket','Cabin', 'Embarked'],axis=1, inplace=True)"
   ]
  },
  {
   "cell_type": "code",
   "execution_count": 13,
   "id": "1567d398",
   "metadata": {
    "execution": {
     "iopub.execute_input": "2023-12-10T18:21:49.730636Z",
     "iopub.status.busy": "2023-12-10T18:21:49.730235Z",
     "iopub.status.idle": "2023-12-10T18:21:49.752408Z",
     "shell.execute_reply": "2023-12-10T18:21:49.751338Z"
    },
    "papermill": {
     "duration": 0.036625,
     "end_time": "2023-12-10T18:21:49.755705",
     "exception": false,
     "start_time": "2023-12-10T18:21:49.719080",
     "status": "completed"
    },
    "tags": []
   },
   "outputs": [
    {
     "name": "stdout",
     "output_type": "stream",
     "text": [
      "<class 'pandas.core.frame.DataFrame'>\n",
      "Index: 87 entries, 12 to 414\n",
      "Data columns (total 7 columns):\n",
      " #   Column    Non-Null Count  Dtype\n",
      "---  ------    --------------  -----\n",
      " 0   Survived  87 non-null     int64\n",
      " 1   Pclass    87 non-null     int64\n",
      " 2   Sex       87 non-null     int64\n",
      " 3   Age       87 non-null     int64\n",
      " 4   SibSp     87 non-null     int64\n",
      " 5   Parch     87 non-null     int64\n",
      " 6   Fare      87 non-null     int64\n",
      "dtypes: int64(7)\n",
      "memory usage: 5.4 KB\n"
     ]
    }
   ],
   "source": [
    "df.info()"
   ]
  },
  {
   "cell_type": "markdown",
   "id": "c69535f3",
   "metadata": {
    "papermill": {
     "duration": 0.009208,
     "end_time": "2023-12-10T18:21:49.774977",
     "exception": false,
     "start_time": "2023-12-10T18:21:49.765769",
     "status": "completed"
    },
    "tags": []
   },
   "source": [
    "<div style=\"color:white;\n",
    "            display:fill;\n",
    "            border-radius:15px;\n",
    "            background-color:BLACK;\n",
    "            font-size:100%;\n",
    "            font-family:Verdana;\n",
    "            letter-spacing:1px\">\n",
    "    <h3 style='padding: 20px;\n",
    "              color:CYAN;\n",
    "              text-align:center;'>\n",
    "        Building Model\n",
    "    </h3>\n",
    "    </div>"
   ]
  },
  {
   "cell_type": "code",
   "execution_count": 14,
   "id": "2ed6775e",
   "metadata": {
    "execution": {
     "iopub.execute_input": "2023-12-10T18:21:49.795784Z",
     "iopub.status.busy": "2023-12-10T18:21:49.795365Z",
     "iopub.status.idle": "2023-12-10T18:21:49.801320Z",
     "shell.execute_reply": "2023-12-10T18:21:49.800261Z"
    },
    "papermill": {
     "duration": 0.018987,
     "end_time": "2023-12-10T18:21:49.803420",
     "exception": false,
     "start_time": "2023-12-10T18:21:49.784433",
     "status": "completed"
    },
    "tags": []
   },
   "outputs": [],
   "source": [
    "X = df.drop('Survived', axis=1)\n",
    "y = df['Survived']"
   ]
  },
  {
   "cell_type": "code",
   "execution_count": 15,
   "id": "47884e2e",
   "metadata": {
    "execution": {
     "iopub.execute_input": "2023-12-10T18:21:49.825802Z",
     "iopub.status.busy": "2023-12-10T18:21:49.825405Z",
     "iopub.status.idle": "2023-12-10T18:21:49.836327Z",
     "shell.execute_reply": "2023-12-10T18:21:49.835234Z"
    },
    "papermill": {
     "duration": 0.024963,
     "end_time": "2023-12-10T18:21:49.838514",
     "exception": false,
     "start_time": "2023-12-10T18:21:49.813551",
     "status": "completed"
    },
    "tags": []
   },
   "outputs": [],
   "source": [
    "scaler = MinMaxScaler()\n",
    "X = scaler.fit_transform(X)\n",
    "y = scaler.fit_transform(y.values.reshape(-1, 1))"
   ]
  },
  {
   "cell_type": "code",
   "execution_count": 16,
   "id": "65fca13d",
   "metadata": {
    "execution": {
     "iopub.execute_input": "2023-12-10T18:21:49.859845Z",
     "iopub.status.busy": "2023-12-10T18:21:49.859422Z",
     "iopub.status.idle": "2023-12-10T18:21:49.867091Z",
     "shell.execute_reply": "2023-12-10T18:21:49.865931Z"
    },
    "papermill": {
     "duration": 0.020989,
     "end_time": "2023-12-10T18:21:49.869354",
     "exception": false,
     "start_time": "2023-12-10T18:21:49.848365",
     "status": "completed"
    },
    "tags": []
   },
   "outputs": [
    {
     "name": "stdout",
     "output_type": "stream",
     "text": [
      "(69, 6)\n",
      "(69, 1)\n",
      "(18, 6)\n",
      "(18, 1)\n"
     ]
    }
   ],
   "source": [
    "X_train, X_test, y_train, y_test = train_test_split(X, y, test_size=0.2, random_state=0)\n",
    "\n",
    "print(X_train.shape)\n",
    "print(y_train.shape)\n",
    "print(X_test.shape)\n",
    "print(y_test.shape)"
   ]
  },
  {
   "cell_type": "code",
   "execution_count": 17,
   "id": "525d728c",
   "metadata": {
    "execution": {
     "iopub.execute_input": "2023-12-10T18:21:49.890941Z",
     "iopub.status.busy": "2023-12-10T18:21:49.890548Z",
     "iopub.status.idle": "2023-12-10T18:21:50.092203Z",
     "shell.execute_reply": "2023-12-10T18:21:50.090326Z"
    },
    "papermill": {
     "duration": 0.221583,
     "end_time": "2023-12-10T18:21:50.100867",
     "exception": false,
     "start_time": "2023-12-10T18:21:49.879284",
     "status": "completed"
    },
    "tags": []
   },
   "outputs": [
    {
     "name": "stdout",
     "output_type": "stream",
     "text": [
      "Model: \"sequential\"\n",
      "_________________________________________________________________\n",
      " Layer (type)                Output Shape              Param #   \n",
      "=================================================================\n",
      " dense (Dense)               (None, 10)                70        \n",
      "                                                                 \n",
      " dense_1 (Dense)             (None, 10)                110       \n",
      "                                                                 \n",
      " dense_2 (Dense)             (None, 1)                 11        \n",
      "                                                                 \n",
      "=================================================================\n",
      "Total params: 191 (764.00 Byte)\n",
      "Trainable params: 191 (764.00 Byte)\n",
      "Non-trainable params: 0 (0.00 Byte)\n",
      "_________________________________________________________________\n"
     ]
    }
   ],
   "source": [
    "model = Sequential()\n",
    "model.add(Dense(10, activation='relu', input_dim=6))\n",
    "model.add(Dense(10, activation='relu'))\n",
    "model.add(Dense(1, activation='linear'))\n",
    "\n",
    "model.compile(optimizer='adam', loss='mean_squared_error', metrics=['mean_absolute_error'])\n",
    "model.summary()"
   ]
  },
  {
   "cell_type": "code",
   "execution_count": 18,
   "id": "6bc6ed08",
   "metadata": {
    "execution": {
     "iopub.execute_input": "2023-12-10T18:21:50.125354Z",
     "iopub.status.busy": "2023-12-10T18:21:50.124934Z",
     "iopub.status.idle": "2023-12-10T18:21:53.631444Z",
     "shell.execute_reply": "2023-12-10T18:21:53.630083Z"
    },
    "papermill": {
     "duration": 3.522174,
     "end_time": "2023-12-10T18:21:53.634249",
     "exception": false,
     "start_time": "2023-12-10T18:21:50.112075",
     "status": "completed"
    },
    "tags": []
   },
   "outputs": [
    {
     "name": "stdout",
     "output_type": "stream",
     "text": [
      "Epoch 1/25\n",
      "2/2 [==============================] - 1s 236ms/step - loss: 0.7484 - mean_absolute_error: 0.6949 - val_loss: 0.5911 - val_mean_absolute_error: 0.5722\n",
      "Epoch 2/25\n",
      "2/2 [==============================] - 0s 32ms/step - loss: 0.7263 - mean_absolute_error: 0.6793 - val_loss: 0.5750 - val_mean_absolute_error: 0.5595\n",
      "Epoch 3/25\n",
      "2/2 [==============================] - 0s 33ms/step - loss: 0.7049 - mean_absolute_error: 0.6648 - val_loss: 0.5593 - val_mean_absolute_error: 0.5474\n",
      "Epoch 4/25\n",
      "2/2 [==============================] - 0s 33ms/step - loss: 0.6847 - mean_absolute_error: 0.6507 - val_loss: 0.5445 - val_mean_absolute_error: 0.5358\n",
      "Epoch 5/25\n",
      "2/2 [==============================] - 0s 35ms/step - loss: 0.6668 - mean_absolute_error: 0.6372 - val_loss: 0.5302 - val_mean_absolute_error: 0.5260\n",
      "Epoch 6/25\n",
      "2/2 [==============================] - 0s 34ms/step - loss: 0.6498 - mean_absolute_error: 0.6246 - val_loss: 0.5164 - val_mean_absolute_error: 0.5171\n",
      "Epoch 7/25\n",
      "2/2 [==============================] - 0s 32ms/step - loss: 0.6326 - mean_absolute_error: 0.6137 - val_loss: 0.5033 - val_mean_absolute_error: 0.5099\n",
      "Epoch 8/25\n",
      "2/2 [==============================] - 0s 32ms/step - loss: 0.6162 - mean_absolute_error: 0.6029 - val_loss: 0.4905 - val_mean_absolute_error: 0.5038\n",
      "Epoch 9/25\n",
      "2/2 [==============================] - 0s 32ms/step - loss: 0.6002 - mean_absolute_error: 0.5936 - val_loss: 0.4776 - val_mean_absolute_error: 0.4980\n",
      "Epoch 10/25\n",
      "2/2 [==============================] - 0s 30ms/step - loss: 0.5879 - mean_absolute_error: 0.5856 - val_loss: 0.4654 - val_mean_absolute_error: 0.4924\n",
      "Epoch 11/25\n",
      "2/2 [==============================] - 0s 31ms/step - loss: 0.5761 - mean_absolute_error: 0.5785 - val_loss: 0.4538 - val_mean_absolute_error: 0.4882\n",
      "Epoch 12/25\n",
      "2/2 [==============================] - 0s 33ms/step - loss: 0.5656 - mean_absolute_error: 0.5741 - val_loss: 0.4428 - val_mean_absolute_error: 0.4854\n",
      "Epoch 13/25\n",
      "2/2 [==============================] - 0s 32ms/step - loss: 0.5552 - mean_absolute_error: 0.5701 - val_loss: 0.4326 - val_mean_absolute_error: 0.4827\n",
      "Epoch 14/25\n",
      "2/2 [==============================] - 0s 51ms/step - loss: 0.5449 - mean_absolute_error: 0.5662 - val_loss: 0.4227 - val_mean_absolute_error: 0.4797\n",
      "Epoch 15/25\n",
      "2/2 [==============================] - 0s 32ms/step - loss: 0.5348 - mean_absolute_error: 0.5623 - val_loss: 0.4133 - val_mean_absolute_error: 0.4768\n",
      "Epoch 16/25\n",
      "2/2 [==============================] - 0s 31ms/step - loss: 0.5250 - mean_absolute_error: 0.5593 - val_loss: 0.4047 - val_mean_absolute_error: 0.4740\n",
      "Epoch 17/25\n",
      "2/2 [==============================] - 0s 31ms/step - loss: 0.5143 - mean_absolute_error: 0.5551 - val_loss: 0.3972 - val_mean_absolute_error: 0.4715\n",
      "Epoch 18/25\n",
      "2/2 [==============================] - 0s 31ms/step - loss: 0.5047 - mean_absolute_error: 0.5518 - val_loss: 0.3904 - val_mean_absolute_error: 0.4693\n",
      "Epoch 19/25\n",
      "2/2 [==============================] - 0s 31ms/step - loss: 0.4954 - mean_absolute_error: 0.5479 - val_loss: 0.3832 - val_mean_absolute_error: 0.4668\n",
      "Epoch 20/25\n",
      "2/2 [==============================] - 0s 31ms/step - loss: 0.4857 - mean_absolute_error: 0.5442 - val_loss: 0.3756 - val_mean_absolute_error: 0.4641\n",
      "Epoch 21/25\n",
      "2/2 [==============================] - 0s 32ms/step - loss: 0.4765 - mean_absolute_error: 0.5404 - val_loss: 0.3684 - val_mean_absolute_error: 0.4616\n",
      "Epoch 22/25\n",
      "2/2 [==============================] - 0s 33ms/step - loss: 0.4680 - mean_absolute_error: 0.5369 - val_loss: 0.3613 - val_mean_absolute_error: 0.4591\n",
      "Epoch 23/25\n",
      "2/2 [==============================] - 0s 32ms/step - loss: 0.4588 - mean_absolute_error: 0.5328 - val_loss: 0.3543 - val_mean_absolute_error: 0.4565\n",
      "Epoch 24/25\n",
      "2/2 [==============================] - 0s 32ms/step - loss: 0.4492 - mean_absolute_error: 0.5283 - val_loss: 0.3464 - val_mean_absolute_error: 0.4534\n",
      "Epoch 25/25\n",
      "2/2 [==============================] - 0s 31ms/step - loss: 0.4398 - mean_absolute_error: 0.5241 - val_loss: 0.3382 - val_mean_absolute_error: 0.4500\n"
     ]
    }
   ],
   "source": [
    "past = model.fit(X_train, y_train, epochs=25, validation_split=0.2)"
   ]
  },
  {
   "cell_type": "code",
   "execution_count": 19,
   "id": "e6b9aa08",
   "metadata": {
    "execution": {
     "iopub.execute_input": "2023-12-10T18:21:53.673546Z",
     "iopub.status.busy": "2023-12-10T18:21:53.673109Z",
     "iopub.status.idle": "2023-12-10T18:21:53.840218Z",
     "shell.execute_reply": "2023-12-10T18:21:53.839244Z"
    },
    "papermill": {
     "duration": 0.18979,
     "end_time": "2023-12-10T18:21:53.842644",
     "exception": false,
     "start_time": "2023-12-10T18:21:53.652854",
     "status": "completed"
    },
    "tags": []
   },
   "outputs": [
    {
     "name": "stdout",
     "output_type": "stream",
     "text": [
      "1/1 [==============================] - 0s 105ms/step\n"
     ]
    }
   ],
   "source": [
    "y_pred = model.predict(X_test)"
   ]
  },
  {
   "cell_type": "code",
   "execution_count": 20,
   "id": "ec2be13e",
   "metadata": {
    "execution": {
     "iopub.execute_input": "2023-12-10T18:21:53.882645Z",
     "iopub.status.busy": "2023-12-10T18:21:53.882218Z",
     "iopub.status.idle": "2023-12-10T18:21:53.889668Z",
     "shell.execute_reply": "2023-12-10T18:21:53.888362Z"
    },
    "papermill": {
     "duration": 0.030387,
     "end_time": "2023-12-10T18:21:53.892421",
     "exception": false,
     "start_time": "2023-12-10T18:21:53.862034",
     "status": "completed"
    },
    "tags": []
   },
   "outputs": [
    {
     "name": "stdout",
     "output_type": "stream",
     "text": [
      "R2 Score= -0.22028894856833015\n"
     ]
    }
   ],
   "source": [
    "from sklearn.metrics import r2_score\n",
    "\n",
    "R2 = r2_score(y_test, y_pred)\n",
    "print(\"R2 Score=\",R2 )"
   ]
  }
 ],
 "metadata": {
  "kaggle": {
   "accelerator": "none",
   "dataSources": [
    {
     "datasetId": 826163,
     "sourceId": 2879186,
     "sourceType": "datasetVersion"
    }
   ],
   "dockerImageVersionId": 30615,
   "isGpuEnabled": false,
   "isInternetEnabled": true,
   "language": "python",
   "sourceType": "notebook"
  },
  "kernelspec": {
   "display_name": "Python 3",
   "language": "python",
   "name": "python3"
  },
  "language_info": {
   "codemirror_mode": {
    "name": "ipython",
    "version": 3
   },
   "file_extension": ".py",
   "mimetype": "text/x-python",
   "name": "python",
   "nbconvert_exporter": "python",
   "pygments_lexer": "ipython3",
   "version": "3.10.12"
  },
  "papermill": {
   "default_parameters": {},
   "duration": 27.470421,
   "end_time": "2023-12-10T18:21:56.605663",
   "environment_variables": {},
   "exception": null,
   "input_path": "__notebook__.ipynb",
   "output_path": "__notebook__.ipynb",
   "parameters": {},
   "start_time": "2023-12-10T18:21:29.135242",
   "version": "2.4.0"
  }
 },
 "nbformat": 4,
 "nbformat_minor": 5
}
