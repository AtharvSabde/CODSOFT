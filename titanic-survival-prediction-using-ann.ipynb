{
 "cells": [
  {
   "cell_type": "markdown",
   "id": "00ddd857",
   "metadata": {
    "papermill": {
     "duration": 0.009234,
     "end_time": "2023-12-10T18:18:17.141163",
     "exception": false,
     "start_time": "2023-12-10T18:18:17.131929",
     "status": "completed"
    },
    "tags": []
   },
   "source": [
    "<div style=\"color:white;\n",
    "            display:fill;\n",
    "            border-radius:15px;\n",
    "            background-color:BLACK;\n",
    "            font-size:100%;\n",
    "            font-family:Verdana;\n",
    "            letter-spacing:1px\">\n",
    "    <h3 style='padding: 20px;\n",
    "              color:CYAN;\n",
    "              text-align:center;'>\n",
    "        Titanic Survival Prediction\n",
    "    </h3>\n",
    "    </div>"
   ]
  },
  {
   "cell_type": "markdown",
   "id": "69f67f34",
   "metadata": {
    "papermill": {
     "duration": 0.00834,
     "end_time": "2023-12-10T18:18:17.158207",
     "exception": false,
     "start_time": "2023-12-10T18:18:17.149867",
     "status": "completed"
    },
    "tags": []
   },
   "source": [
    "![](https://media.tenor.com/9Di9mmafWd4AAAAM/titanic.gif)"
   ]
  },
  {
   "cell_type": "markdown",
   "id": "00053154",
   "metadata": {
    "papermill": {
     "duration": 0.008242,
     "end_time": "2023-12-10T18:18:17.174933",
     "exception": false,
     "start_time": "2023-12-10T18:18:17.166691",
     "status": "completed"
    },
    "tags": []
   },
   "source": [
    "<div style=\"color:white;\n",
    "            display:fill;\n",
    "            border-radius:15px;\n",
    "            background-color:BLACK;\n",
    "            font-size:100%;\n",
    "            font-family:Verdana;\n",
    "            letter-spacing:1px\">\n",
    "    <h3 style='padding: 20px;\n",
    "              color:CYAN;\n",
    "              text-align:center;'>\n",
    "        TABLE OF CONTENT\n",
    "    </h3>\n",
    "    </div>"
   ]
  },
  {
   "cell_type": "markdown",
   "id": "e4860d15",
   "metadata": {
    "papermill": {
     "duration": 0.008163,
     "end_time": "2023-12-10T18:18:17.191682",
     "exception": false,
     "start_time": "2023-12-10T18:18:17.183519",
     "status": "completed"
    },
    "tags": []
   },
   "source": [
    "* **Importing Libraries and Loading Data**\n",
    "\n",
    "* **Data Information and Data Cleaning**\n",
    "\n",
    "* **Building The Model**\n",
    "\n",
    "* **Conclusion**"
   ]
  },
  {
   "cell_type": "markdown",
   "id": "3bf80fda",
   "metadata": {
    "papermill": {
     "duration": 0.008247,
     "end_time": "2023-12-10T18:18:17.208408",
     "exception": false,
     "start_time": "2023-12-10T18:18:17.200161",
     "status": "completed"
    },
    "tags": []
   },
   "source": [
    "<div style=\"color:white;\n",
    "            display:fill;\n",
    "            border-radius:15px;\n",
    "            background-color:BLACK;\n",
    "            font-size:100%;\n",
    "            font-family:Verdana;\n",
    "            letter-spacing:1px\">\n",
    "    <h3 style='padding: 20px;\n",
    "              color:CYAN;\n",
    "              text-align:center;'>\n",
    "        Importing Libraries\n",
    "    </h3>\n",
    "    </div>"
   ]
  },
  {
   "cell_type": "code",
   "execution_count": 1,
   "id": "1236c329",
   "metadata": {
    "execution": {
     "iopub.execute_input": "2023-12-10T18:18:17.228463Z",
     "iopub.status.busy": "2023-12-10T18:18:17.227085Z",
     "iopub.status.idle": "2023-12-10T18:18:34.475907Z",
     "shell.execute_reply": "2023-12-10T18:18:34.474682Z"
    },
    "papermill": {
     "duration": 17.261678,
     "end_time": "2023-12-10T18:18:34.478745",
     "exception": false,
     "start_time": "2023-12-10T18:18:17.217067",
     "status": "completed"
    },
    "tags": []
   },
   "outputs": [],
   "source": [
    "import numpy as np\n",
    "import pandas as pd\n",
    "import matplotlib.pyplot as plt\n",
    "import seaborn as sns\n",
    "import plotly.express as px\n",
    "from plotly.offline import init_notebook_mode, iplot, plot\n",
    "from sklearn.preprocessing import MinMaxScaler\n",
    "\n",
    "from tensorflow.keras.layers import Dense\n",
    "from tensorflow.keras.models import Sequential\n",
    "from sklearn.model_selection import train_test_split\n",
    "\n",
    "import warnings\n",
    "warnings.filterwarnings(\"ignore\")"
   ]
  },
  {
   "cell_type": "code",
   "execution_count": 2,
   "id": "e12431f5",
   "metadata": {
    "execution": {
     "iopub.execute_input": "2023-12-10T18:18:34.498465Z",
     "iopub.status.busy": "2023-12-10T18:18:34.497586Z",
     "iopub.status.idle": "2023-12-10T18:18:34.519725Z",
     "shell.execute_reply": "2023-12-10T18:18:34.518705Z"
    },
    "papermill": {
     "duration": 0.034899,
     "end_time": "2023-12-10T18:18:34.522521",
     "exception": false,
     "start_time": "2023-12-10T18:18:34.487622",
     "status": "completed"
    },
    "tags": []
   },
   "outputs": [],
   "source": [
    "df = pd.read_csv('../input/test-file/tested.csv')"
   ]
  },
  {
   "cell_type": "markdown",
   "id": "31937e8b",
   "metadata": {
    "papermill": {
     "duration": 0.008313,
     "end_time": "2023-12-10T18:18:34.539401",
     "exception": false,
     "start_time": "2023-12-10T18:18:34.531088",
     "status": "completed"
    },
    "tags": []
   },
   "source": [
    "<div style=\"color:white;\n",
    "            display:fill;\n",
    "            border-radius:15px;\n",
    "            background-color:BLACK;\n",
    "            font-size:100%;\n",
    "            font-family:Verdana;\n",
    "            letter-spacing:1px\">\n",
    "    <h3 style='padding: 20px;\n",
    "              color:CYAN;\n",
    "              text-align:center;'>\n",
    "        Data Information and Data Cleaning\n",
    "    </h3>\n",
    "    </div>"
   ]
  },
  {
   "cell_type": "code",
   "execution_count": 3,
   "id": "c7bcdf2f",
   "metadata": {
    "execution": {
     "iopub.execute_input": "2023-12-10T18:18:34.567580Z",
     "iopub.status.busy": "2023-12-10T18:18:34.564268Z",
     "iopub.status.idle": "2023-12-10T18:18:34.578130Z",
     "shell.execute_reply": "2023-12-10T18:18:34.576906Z"
    },
    "papermill": {
     "duration": 0.032525,
     "end_time": "2023-12-10T18:18:34.580811",
     "exception": false,
     "start_time": "2023-12-10T18:18:34.548286",
     "status": "completed"
    },
    "tags": []
   },
   "outputs": [
    {
     "data": {
      "text/plain": [
       "Index(['PassengerId', 'Survived', 'Pclass', 'Name', 'Sex', 'Age', 'SibSp',\n",
       "       'Parch', 'Ticket', 'Fare', 'Cabin', 'Embarked'],\n",
       "      dtype='object')"
      ]
     },
     "execution_count": 3,
     "metadata": {},
     "output_type": "execute_result"
    }
   ],
   "source": [
    "df.columns"
   ]
  },
  {
   "cell_type": "code",
   "execution_count": 4,
   "id": "bc8b346a",
   "metadata": {
    "execution": {
     "iopub.execute_input": "2023-12-10T18:18:34.600652Z",
     "iopub.status.busy": "2023-12-10T18:18:34.599760Z",
     "iopub.status.idle": "2023-12-10T18:18:34.628939Z",
     "shell.execute_reply": "2023-12-10T18:18:34.627741Z"
    },
    "papermill": {
     "duration": 0.041986,
     "end_time": "2023-12-10T18:18:34.631503",
     "exception": false,
     "start_time": "2023-12-10T18:18:34.589517",
     "status": "completed"
    },
    "tags": []
   },
   "outputs": [
    {
     "data": {
      "text/html": [
       "<div>\n",
       "<style scoped>\n",
       "    .dataframe tbody tr th:only-of-type {\n",
       "        vertical-align: middle;\n",
       "    }\n",
       "\n",
       "    .dataframe tbody tr th {\n",
       "        vertical-align: top;\n",
       "    }\n",
       "\n",
       "    .dataframe thead th {\n",
       "        text-align: right;\n",
       "    }\n",
       "</style>\n",
       "<table border=\"1\" class=\"dataframe\">\n",
       "  <thead>\n",
       "    <tr style=\"text-align: right;\">\n",
       "      <th></th>\n",
       "      <th>PassengerId</th>\n",
       "      <th>Survived</th>\n",
       "      <th>Pclass</th>\n",
       "      <th>Name</th>\n",
       "      <th>Sex</th>\n",
       "      <th>Age</th>\n",
       "      <th>SibSp</th>\n",
       "      <th>Parch</th>\n",
       "      <th>Ticket</th>\n",
       "      <th>Fare</th>\n",
       "      <th>Cabin</th>\n",
       "      <th>Embarked</th>\n",
       "    </tr>\n",
       "  </thead>\n",
       "  <tbody>\n",
       "    <tr>\n",
       "      <th>0</th>\n",
       "      <td>892</td>\n",
       "      <td>0</td>\n",
       "      <td>3</td>\n",
       "      <td>Kelly, Mr. James</td>\n",
       "      <td>male</td>\n",
       "      <td>34.5</td>\n",
       "      <td>0</td>\n",
       "      <td>0</td>\n",
       "      <td>330911</td>\n",
       "      <td>7.8292</td>\n",
       "      <td>NaN</td>\n",
       "      <td>Q</td>\n",
       "    </tr>\n",
       "    <tr>\n",
       "      <th>1</th>\n",
       "      <td>893</td>\n",
       "      <td>1</td>\n",
       "      <td>3</td>\n",
       "      <td>Wilkes, Mrs. James (Ellen Needs)</td>\n",
       "      <td>female</td>\n",
       "      <td>47.0</td>\n",
       "      <td>1</td>\n",
       "      <td>0</td>\n",
       "      <td>363272</td>\n",
       "      <td>7.0000</td>\n",
       "      <td>NaN</td>\n",
       "      <td>S</td>\n",
       "    </tr>\n",
       "    <tr>\n",
       "      <th>2</th>\n",
       "      <td>894</td>\n",
       "      <td>0</td>\n",
       "      <td>2</td>\n",
       "      <td>Myles, Mr. Thomas Francis</td>\n",
       "      <td>male</td>\n",
       "      <td>62.0</td>\n",
       "      <td>0</td>\n",
       "      <td>0</td>\n",
       "      <td>240276</td>\n",
       "      <td>9.6875</td>\n",
       "      <td>NaN</td>\n",
       "      <td>Q</td>\n",
       "    </tr>\n",
       "    <tr>\n",
       "      <th>3</th>\n",
       "      <td>895</td>\n",
       "      <td>0</td>\n",
       "      <td>3</td>\n",
       "      <td>Wirz, Mr. Albert</td>\n",
       "      <td>male</td>\n",
       "      <td>27.0</td>\n",
       "      <td>0</td>\n",
       "      <td>0</td>\n",
       "      <td>315154</td>\n",
       "      <td>8.6625</td>\n",
       "      <td>NaN</td>\n",
       "      <td>S</td>\n",
       "    </tr>\n",
       "    <tr>\n",
       "      <th>4</th>\n",
       "      <td>896</td>\n",
       "      <td>1</td>\n",
       "      <td>3</td>\n",
       "      <td>Hirvonen, Mrs. Alexander (Helga E Lindqvist)</td>\n",
       "      <td>female</td>\n",
       "      <td>22.0</td>\n",
       "      <td>1</td>\n",
       "      <td>1</td>\n",
       "      <td>3101298</td>\n",
       "      <td>12.2875</td>\n",
       "      <td>NaN</td>\n",
       "      <td>S</td>\n",
       "    </tr>\n",
       "  </tbody>\n",
       "</table>\n",
       "</div>"
      ],
      "text/plain": [
       "   PassengerId  Survived  Pclass  \\\n",
       "0          892         0       3   \n",
       "1          893         1       3   \n",
       "2          894         0       2   \n",
       "3          895         0       3   \n",
       "4          896         1       3   \n",
       "\n",
       "                                           Name     Sex   Age  SibSp  Parch  \\\n",
       "0                              Kelly, Mr. James    male  34.5      0      0   \n",
       "1              Wilkes, Mrs. James (Ellen Needs)  female  47.0      1      0   \n",
       "2                     Myles, Mr. Thomas Francis    male  62.0      0      0   \n",
       "3                              Wirz, Mr. Albert    male  27.0      0      0   \n",
       "4  Hirvonen, Mrs. Alexander (Helga E Lindqvist)  female  22.0      1      1   \n",
       "\n",
       "    Ticket     Fare Cabin Embarked  \n",
       "0   330911   7.8292   NaN        Q  \n",
       "1   363272   7.0000   NaN        S  \n",
       "2   240276   9.6875   NaN        Q  \n",
       "3   315154   8.6625   NaN        S  \n",
       "4  3101298  12.2875   NaN        S  "
      ]
     },
     "execution_count": 4,
     "metadata": {},
     "output_type": "execute_result"
    }
   ],
   "source": [
    "df.head()"
   ]
  },
  {
   "cell_type": "code",
   "execution_count": 5,
   "id": "5fe4decf",
   "metadata": {
    "execution": {
     "iopub.execute_input": "2023-12-10T18:18:34.651981Z",
     "iopub.status.busy": "2023-12-10T18:18:34.651121Z",
     "iopub.status.idle": "2023-12-10T18:18:34.669141Z",
     "shell.execute_reply": "2023-12-10T18:18:34.668082Z"
    },
    "papermill": {
     "duration": 0.031144,
     "end_time": "2023-12-10T18:18:34.671719",
     "exception": false,
     "start_time": "2023-12-10T18:18:34.640575",
     "status": "completed"
    },
    "tags": []
   },
   "outputs": [
    {
     "data": {
      "text/html": [
       "<div>\n",
       "<style scoped>\n",
       "    .dataframe tbody tr th:only-of-type {\n",
       "        vertical-align: middle;\n",
       "    }\n",
       "\n",
       "    .dataframe tbody tr th {\n",
       "        vertical-align: top;\n",
       "    }\n",
       "\n",
       "    .dataframe thead th {\n",
       "        text-align: right;\n",
       "    }\n",
       "</style>\n",
       "<table border=\"1\" class=\"dataframe\">\n",
       "  <thead>\n",
       "    <tr style=\"text-align: right;\">\n",
       "      <th></th>\n",
       "      <th>Missing Values</th>\n",
       "      <th>Percentage</th>\n",
       "    </tr>\n",
       "  </thead>\n",
       "  <tbody>\n",
       "    <tr>\n",
       "      <th>PassengerId</th>\n",
       "      <td>0</td>\n",
       "      <td>0.0%</td>\n",
       "    </tr>\n",
       "    <tr>\n",
       "      <th>Survived</th>\n",
       "      <td>0</td>\n",
       "      <td>0.0%</td>\n",
       "    </tr>\n",
       "    <tr>\n",
       "      <th>Pclass</th>\n",
       "      <td>0</td>\n",
       "      <td>0.0%</td>\n",
       "    </tr>\n",
       "    <tr>\n",
       "      <th>Name</th>\n",
       "      <td>0</td>\n",
       "      <td>0.0%</td>\n",
       "    </tr>\n",
       "    <tr>\n",
       "      <th>Sex</th>\n",
       "      <td>0</td>\n",
       "      <td>0.0%</td>\n",
       "    </tr>\n",
       "    <tr>\n",
       "      <th>Age</th>\n",
       "      <td>86</td>\n",
       "      <td>20.57%</td>\n",
       "    </tr>\n",
       "    <tr>\n",
       "      <th>SibSp</th>\n",
       "      <td>0</td>\n",
       "      <td>0.0%</td>\n",
       "    </tr>\n",
       "    <tr>\n",
       "      <th>Parch</th>\n",
       "      <td>0</td>\n",
       "      <td>0.0%</td>\n",
       "    </tr>\n",
       "    <tr>\n",
       "      <th>Ticket</th>\n",
       "      <td>0</td>\n",
       "      <td>0.0%</td>\n",
       "    </tr>\n",
       "    <tr>\n",
       "      <th>Fare</th>\n",
       "      <td>1</td>\n",
       "      <td>0.24%</td>\n",
       "    </tr>\n",
       "    <tr>\n",
       "      <th>Cabin</th>\n",
       "      <td>327</td>\n",
       "      <td>78.23%</td>\n",
       "    </tr>\n",
       "    <tr>\n",
       "      <th>Embarked</th>\n",
       "      <td>0</td>\n",
       "      <td>0.0%</td>\n",
       "    </tr>\n",
       "  </tbody>\n",
       "</table>\n",
       "</div>"
      ],
      "text/plain": [
       "             Missing Values Percentage\n",
       "PassengerId               0       0.0%\n",
       "Survived                  0       0.0%\n",
       "Pclass                    0       0.0%\n",
       "Name                      0       0.0%\n",
       "Sex                       0       0.0%\n",
       "Age                      86     20.57%\n",
       "SibSp                     0       0.0%\n",
       "Parch                     0       0.0%\n",
       "Ticket                    0       0.0%\n",
       "Fare                      1      0.24%\n",
       "Cabin                   327     78.23%\n",
       "Embarked                  0       0.0%"
      ]
     },
     "execution_count": 5,
     "metadata": {},
     "output_type": "execute_result"
    }
   ],
   "source": [
    "def missing_values_percent(dataframe):\n",
    "    missing_values = dataframe.isna().sum()\n",
    "    percentage_missing = (missing_values / len(dataframe) * 100).round(2)\n",
    "\n",
    "    result_movie = pd.DataFrame({'Missing Values': missing_values, 'Percentage': percentage_missing})\n",
    "    result_movie['Percentage'] = result_movie['Percentage'].astype(str) + '%'\n",
    "\n",
    "    return result_movie\n",
    "\n",
    "\n",
    "result = missing_values_percent(df)\n",
    "result"
   ]
  },
  {
   "cell_type": "code",
   "execution_count": 6,
   "id": "5ac6f976",
   "metadata": {
    "execution": {
     "iopub.execute_input": "2023-12-10T18:18:34.692141Z",
     "iopub.status.busy": "2023-12-10T18:18:34.691716Z",
     "iopub.status.idle": "2023-12-10T18:18:34.701435Z",
     "shell.execute_reply": "2023-12-10T18:18:34.700336Z"
    },
    "papermill": {
     "duration": 0.022689,
     "end_time": "2023-12-10T18:18:34.703793",
     "exception": false,
     "start_time": "2023-12-10T18:18:34.681104",
     "status": "completed"
    },
    "tags": []
   },
   "outputs": [],
   "source": [
    "df = df.dropna()"
   ]
  },
  {
   "cell_type": "code",
   "execution_count": 7,
   "id": "bdef5cfa",
   "metadata": {
    "execution": {
     "iopub.execute_input": "2023-12-10T18:18:34.724699Z",
     "iopub.status.busy": "2023-12-10T18:18:34.724292Z",
     "iopub.status.idle": "2023-12-10T18:18:34.737054Z",
     "shell.execute_reply": "2023-12-10T18:18:34.735983Z"
    },
    "papermill": {
     "duration": 0.025774,
     "end_time": "2023-12-10T18:18:34.739372",
     "exception": false,
     "start_time": "2023-12-10T18:18:34.713598",
     "status": "completed"
    },
    "tags": []
   },
   "outputs": [],
   "source": [
    "gender_mapping = {'male': 0, 'female': 1}\n",
    "df['Sex'] = df['Sex'].map(gender_mapping)"
   ]
  },
  {
   "cell_type": "code",
   "execution_count": 8,
   "id": "f0a917b5",
   "metadata": {
    "execution": {
     "iopub.execute_input": "2023-12-10T18:18:34.759992Z",
     "iopub.status.busy": "2023-12-10T18:18:34.759575Z",
     "iopub.status.idle": "2023-12-10T18:18:34.777094Z",
     "shell.execute_reply": "2023-12-10T18:18:34.776251Z"
    },
    "papermill": {
     "duration": 0.030243,
     "end_time": "2023-12-10T18:18:34.779089",
     "exception": false,
     "start_time": "2023-12-10T18:18:34.748846",
     "status": "completed"
    },
    "tags": []
   },
   "outputs": [
    {
     "data": {
      "text/html": [
       "<div>\n",
       "<style scoped>\n",
       "    .dataframe tbody tr th:only-of-type {\n",
       "        vertical-align: middle;\n",
       "    }\n",
       "\n",
       "    .dataframe tbody tr th {\n",
       "        vertical-align: top;\n",
       "    }\n",
       "\n",
       "    .dataframe thead th {\n",
       "        text-align: right;\n",
       "    }\n",
       "</style>\n",
       "<table border=\"1\" class=\"dataframe\">\n",
       "  <thead>\n",
       "    <tr style=\"text-align: right;\">\n",
       "      <th></th>\n",
       "      <th>PassengerId</th>\n",
       "      <th>Survived</th>\n",
       "      <th>Pclass</th>\n",
       "      <th>Name</th>\n",
       "      <th>Sex</th>\n",
       "      <th>Age</th>\n",
       "      <th>SibSp</th>\n",
       "      <th>Parch</th>\n",
       "      <th>Ticket</th>\n",
       "      <th>Fare</th>\n",
       "      <th>Cabin</th>\n",
       "      <th>Embarked</th>\n",
       "    </tr>\n",
       "  </thead>\n",
       "  <tbody>\n",
       "    <tr>\n",
       "      <th>12</th>\n",
       "      <td>904</td>\n",
       "      <td>1</td>\n",
       "      <td>1</td>\n",
       "      <td>Snyder, Mrs. John Pillsbury (Nelle Stevenson)</td>\n",
       "      <td>1</td>\n",
       "      <td>23.0</td>\n",
       "      <td>1</td>\n",
       "      <td>0</td>\n",
       "      <td>21228</td>\n",
       "      <td>82.2667</td>\n",
       "      <td>B45</td>\n",
       "      <td>S</td>\n",
       "    </tr>\n",
       "    <tr>\n",
       "      <th>14</th>\n",
       "      <td>906</td>\n",
       "      <td>1</td>\n",
       "      <td>1</td>\n",
       "      <td>Chaffee, Mrs. Herbert Fuller (Carrie Constance...</td>\n",
       "      <td>1</td>\n",
       "      <td>47.0</td>\n",
       "      <td>1</td>\n",
       "      <td>0</td>\n",
       "      <td>W.E.P. 5734</td>\n",
       "      <td>61.1750</td>\n",
       "      <td>E31</td>\n",
       "      <td>S</td>\n",
       "    </tr>\n",
       "    <tr>\n",
       "      <th>24</th>\n",
       "      <td>916</td>\n",
       "      <td>1</td>\n",
       "      <td>1</td>\n",
       "      <td>Ryerson, Mrs. Arthur Larned (Emily Maria Borie)</td>\n",
       "      <td>1</td>\n",
       "      <td>48.0</td>\n",
       "      <td>1</td>\n",
       "      <td>3</td>\n",
       "      <td>PC 17608</td>\n",
       "      <td>262.3750</td>\n",
       "      <td>B57 B59 B63 B66</td>\n",
       "      <td>C</td>\n",
       "    </tr>\n",
       "    <tr>\n",
       "      <th>26</th>\n",
       "      <td>918</td>\n",
       "      <td>1</td>\n",
       "      <td>1</td>\n",
       "      <td>Ostby, Miss. Helene Ragnhild</td>\n",
       "      <td>1</td>\n",
       "      <td>22.0</td>\n",
       "      <td>0</td>\n",
       "      <td>1</td>\n",
       "      <td>113509</td>\n",
       "      <td>61.9792</td>\n",
       "      <td>B36</td>\n",
       "      <td>C</td>\n",
       "    </tr>\n",
       "    <tr>\n",
       "      <th>28</th>\n",
       "      <td>920</td>\n",
       "      <td>0</td>\n",
       "      <td>1</td>\n",
       "      <td>Brady, Mr. John Bertram</td>\n",
       "      <td>0</td>\n",
       "      <td>41.0</td>\n",
       "      <td>0</td>\n",
       "      <td>0</td>\n",
       "      <td>113054</td>\n",
       "      <td>30.5000</td>\n",
       "      <td>A21</td>\n",
       "      <td>S</td>\n",
       "    </tr>\n",
       "  </tbody>\n",
       "</table>\n",
       "</div>"
      ],
      "text/plain": [
       "    PassengerId  Survived  Pclass  \\\n",
       "12          904         1       1   \n",
       "14          906         1       1   \n",
       "24          916         1       1   \n",
       "26          918         1       1   \n",
       "28          920         0       1   \n",
       "\n",
       "                                                 Name  Sex   Age  SibSp  \\\n",
       "12      Snyder, Mrs. John Pillsbury (Nelle Stevenson)    1  23.0      1   \n",
       "14  Chaffee, Mrs. Herbert Fuller (Carrie Constance...    1  47.0      1   \n",
       "24    Ryerson, Mrs. Arthur Larned (Emily Maria Borie)    1  48.0      1   \n",
       "26                       Ostby, Miss. Helene Ragnhild    1  22.0      0   \n",
       "28                            Brady, Mr. John Bertram    0  41.0      0   \n",
       "\n",
       "    Parch       Ticket      Fare            Cabin Embarked  \n",
       "12      0        21228   82.2667              B45        S  \n",
       "14      0  W.E.P. 5734   61.1750              E31        S  \n",
       "24      3     PC 17608  262.3750  B57 B59 B63 B66        C  \n",
       "26      1       113509   61.9792              B36        C  \n",
       "28      0       113054   30.5000              A21        S  "
      ]
     },
     "execution_count": 8,
     "metadata": {},
     "output_type": "execute_result"
    }
   ],
   "source": [
    "df.head()"
   ]
  },
  {
   "cell_type": "code",
   "execution_count": 9,
   "id": "74f43c7d",
   "metadata": {
    "execution": {
     "iopub.execute_input": "2023-12-10T18:18:34.800385Z",
     "iopub.status.busy": "2023-12-10T18:18:34.799897Z",
     "iopub.status.idle": "2023-12-10T18:18:34.806619Z",
     "shell.execute_reply": "2023-12-10T18:18:34.805362Z"
    },
    "papermill": {
     "duration": 0.020651,
     "end_time": "2023-12-10T18:18:34.809332",
     "exception": false,
     "start_time": "2023-12-10T18:18:34.788681",
     "status": "completed"
    },
    "tags": []
   },
   "outputs": [],
   "source": [
    "df['Age'] = df['Age'].round().astype(int)"
   ]
  },
  {
   "cell_type": "code",
   "execution_count": 10,
   "id": "a23a3c1c",
   "metadata": {
    "execution": {
     "iopub.execute_input": "2023-12-10T18:18:34.831442Z",
     "iopub.status.busy": "2023-12-10T18:18:34.830988Z",
     "iopub.status.idle": "2023-12-10T18:18:34.837120Z",
     "shell.execute_reply": "2023-12-10T18:18:34.836002Z"
    },
    "papermill": {
     "duration": 0.019916,
     "end_time": "2023-12-10T18:18:34.839610",
     "exception": false,
     "start_time": "2023-12-10T18:18:34.819694",
     "status": "completed"
    },
    "tags": []
   },
   "outputs": [],
   "source": [
    "df['Fare'] = df['Fare'].round().astype(int)"
   ]
  },
  {
   "cell_type": "code",
   "execution_count": 11,
   "id": "5aa90784",
   "metadata": {
    "execution": {
     "iopub.execute_input": "2023-12-10T18:18:34.860857Z",
     "iopub.status.busy": "2023-12-10T18:18:34.860414Z",
     "iopub.status.idle": "2023-12-10T18:18:34.876595Z",
     "shell.execute_reply": "2023-12-10T18:18:34.875523Z"
    },
    "papermill": {
     "duration": 0.029815,
     "end_time": "2023-12-10T18:18:34.879153",
     "exception": false,
     "start_time": "2023-12-10T18:18:34.849338",
     "status": "completed"
    },
    "tags": []
   },
   "outputs": [
    {
     "data": {
      "text/html": [
       "<div>\n",
       "<style scoped>\n",
       "    .dataframe tbody tr th:only-of-type {\n",
       "        vertical-align: middle;\n",
       "    }\n",
       "\n",
       "    .dataframe tbody tr th {\n",
       "        vertical-align: top;\n",
       "    }\n",
       "\n",
       "    .dataframe thead th {\n",
       "        text-align: right;\n",
       "    }\n",
       "</style>\n",
       "<table border=\"1\" class=\"dataframe\">\n",
       "  <thead>\n",
       "    <tr style=\"text-align: right;\">\n",
       "      <th></th>\n",
       "      <th>PassengerId</th>\n",
       "      <th>Survived</th>\n",
       "      <th>Pclass</th>\n",
       "      <th>Name</th>\n",
       "      <th>Sex</th>\n",
       "      <th>Age</th>\n",
       "      <th>SibSp</th>\n",
       "      <th>Parch</th>\n",
       "      <th>Ticket</th>\n",
       "      <th>Fare</th>\n",
       "      <th>Cabin</th>\n",
       "      <th>Embarked</th>\n",
       "    </tr>\n",
       "  </thead>\n",
       "  <tbody>\n",
       "    <tr>\n",
       "      <th>12</th>\n",
       "      <td>904</td>\n",
       "      <td>1</td>\n",
       "      <td>1</td>\n",
       "      <td>Snyder, Mrs. John Pillsbury (Nelle Stevenson)</td>\n",
       "      <td>1</td>\n",
       "      <td>23</td>\n",
       "      <td>1</td>\n",
       "      <td>0</td>\n",
       "      <td>21228</td>\n",
       "      <td>82</td>\n",
       "      <td>B45</td>\n",
       "      <td>S</td>\n",
       "    </tr>\n",
       "    <tr>\n",
       "      <th>14</th>\n",
       "      <td>906</td>\n",
       "      <td>1</td>\n",
       "      <td>1</td>\n",
       "      <td>Chaffee, Mrs. Herbert Fuller (Carrie Constance...</td>\n",
       "      <td>1</td>\n",
       "      <td>47</td>\n",
       "      <td>1</td>\n",
       "      <td>0</td>\n",
       "      <td>W.E.P. 5734</td>\n",
       "      <td>61</td>\n",
       "      <td>E31</td>\n",
       "      <td>S</td>\n",
       "    </tr>\n",
       "    <tr>\n",
       "      <th>24</th>\n",
       "      <td>916</td>\n",
       "      <td>1</td>\n",
       "      <td>1</td>\n",
       "      <td>Ryerson, Mrs. Arthur Larned (Emily Maria Borie)</td>\n",
       "      <td>1</td>\n",
       "      <td>48</td>\n",
       "      <td>1</td>\n",
       "      <td>3</td>\n",
       "      <td>PC 17608</td>\n",
       "      <td>262</td>\n",
       "      <td>B57 B59 B63 B66</td>\n",
       "      <td>C</td>\n",
       "    </tr>\n",
       "    <tr>\n",
       "      <th>26</th>\n",
       "      <td>918</td>\n",
       "      <td>1</td>\n",
       "      <td>1</td>\n",
       "      <td>Ostby, Miss. Helene Ragnhild</td>\n",
       "      <td>1</td>\n",
       "      <td>22</td>\n",
       "      <td>0</td>\n",
       "      <td>1</td>\n",
       "      <td>113509</td>\n",
       "      <td>62</td>\n",
       "      <td>B36</td>\n",
       "      <td>C</td>\n",
       "    </tr>\n",
       "    <tr>\n",
       "      <th>28</th>\n",
       "      <td>920</td>\n",
       "      <td>0</td>\n",
       "      <td>1</td>\n",
       "      <td>Brady, Mr. John Bertram</td>\n",
       "      <td>0</td>\n",
       "      <td>41</td>\n",
       "      <td>0</td>\n",
       "      <td>0</td>\n",
       "      <td>113054</td>\n",
       "      <td>30</td>\n",
       "      <td>A21</td>\n",
       "      <td>S</td>\n",
       "    </tr>\n",
       "  </tbody>\n",
       "</table>\n",
       "</div>"
      ],
      "text/plain": [
       "    PassengerId  Survived  Pclass  \\\n",
       "12          904         1       1   \n",
       "14          906         1       1   \n",
       "24          916         1       1   \n",
       "26          918         1       1   \n",
       "28          920         0       1   \n",
       "\n",
       "                                                 Name  Sex  Age  SibSp  Parch  \\\n",
       "12      Snyder, Mrs. John Pillsbury (Nelle Stevenson)    1   23      1      0   \n",
       "14  Chaffee, Mrs. Herbert Fuller (Carrie Constance...    1   47      1      0   \n",
       "24    Ryerson, Mrs. Arthur Larned (Emily Maria Borie)    1   48      1      3   \n",
       "26                       Ostby, Miss. Helene Ragnhild    1   22      0      1   \n",
       "28                            Brady, Mr. John Bertram    0   41      0      0   \n",
       "\n",
       "         Ticket  Fare            Cabin Embarked  \n",
       "12        21228    82              B45        S  \n",
       "14  W.E.P. 5734    61              E31        S  \n",
       "24     PC 17608   262  B57 B59 B63 B66        C  \n",
       "26       113509    62              B36        C  \n",
       "28       113054    30              A21        S  "
      ]
     },
     "execution_count": 11,
     "metadata": {},
     "output_type": "execute_result"
    }
   ],
   "source": [
    "df.head()"
   ]
  },
  {
   "cell_type": "code",
   "execution_count": 12,
   "id": "158f076d",
   "metadata": {
    "execution": {
     "iopub.execute_input": "2023-12-10T18:18:34.900854Z",
     "iopub.status.busy": "2023-12-10T18:18:34.900438Z",
     "iopub.status.idle": "2023-12-10T18:18:34.907193Z",
     "shell.execute_reply": "2023-12-10T18:18:34.906096Z"
    },
    "papermill": {
     "duration": 0.020278,
     "end_time": "2023-12-10T18:18:34.909584",
     "exception": false,
     "start_time": "2023-12-10T18:18:34.889306",
     "status": "completed"
    },
    "tags": []
   },
   "outputs": [],
   "source": [
    "df.drop(['PassengerId','Name','Ticket','Cabin', 'Embarked'],axis=1, inplace=True)"
   ]
  },
  {
   "cell_type": "code",
   "execution_count": 13,
   "id": "f9c9e352",
   "metadata": {
    "execution": {
     "iopub.execute_input": "2023-12-10T18:18:34.931321Z",
     "iopub.status.busy": "2023-12-10T18:18:34.930894Z",
     "iopub.status.idle": "2023-12-10T18:18:34.956501Z",
     "shell.execute_reply": "2023-12-10T18:18:34.954854Z"
    },
    "papermill": {
     "duration": 0.039812,
     "end_time": "2023-12-10T18:18:34.959409",
     "exception": false,
     "start_time": "2023-12-10T18:18:34.919597",
     "status": "completed"
    },
    "tags": []
   },
   "outputs": [
    {
     "name": "stdout",
     "output_type": "stream",
     "text": [
      "<class 'pandas.core.frame.DataFrame'>\n",
      "Index: 87 entries, 12 to 414\n",
      "Data columns (total 7 columns):\n",
      " #   Column    Non-Null Count  Dtype\n",
      "---  ------    --------------  -----\n",
      " 0   Survived  87 non-null     int64\n",
      " 1   Pclass    87 non-null     int64\n",
      " 2   Sex       87 non-null     int64\n",
      " 3   Age       87 non-null     int64\n",
      " 4   SibSp     87 non-null     int64\n",
      " 5   Parch     87 non-null     int64\n",
      " 6   Fare      87 non-null     int64\n",
      "dtypes: int64(7)\n",
      "memory usage: 5.4 KB\n"
     ]
    }
   ],
   "source": [
    "df.info()"
   ]
  },
  {
   "cell_type": "markdown",
   "id": "d3a3d62b",
   "metadata": {
    "papermill": {
     "duration": 0.010473,
     "end_time": "2023-12-10T18:18:34.980281",
     "exception": false,
     "start_time": "2023-12-10T18:18:34.969808",
     "status": "completed"
    },
    "tags": []
   },
   "source": [
    "<div style=\"color:white;\n",
    "            display:fill;\n",
    "            border-radius:15px;\n",
    "            background-color:BLACK;\n",
    "            font-size:100%;\n",
    "            font-family:Verdana;\n",
    "            letter-spacing:1px\">\n",
    "    <h3 style='padding: 20px;\n",
    "              color:CYAN;\n",
    "              text-align:center;'>\n",
    "        Building Model\n",
    "    </h3>\n",
    "    </div>"
   ]
  },
  {
   "cell_type": "code",
   "execution_count": 14,
   "id": "cb131f3a",
   "metadata": {
    "execution": {
     "iopub.execute_input": "2023-12-10T18:18:35.002376Z",
     "iopub.status.busy": "2023-12-10T18:18:35.001943Z",
     "iopub.status.idle": "2023-12-10T18:18:35.008889Z",
     "shell.execute_reply": "2023-12-10T18:18:35.007603Z"
    },
    "papermill": {
     "duration": 0.021093,
     "end_time": "2023-12-10T18:18:35.011486",
     "exception": false,
     "start_time": "2023-12-10T18:18:34.990393",
     "status": "completed"
    },
    "tags": []
   },
   "outputs": [],
   "source": [
    "X = df.drop('Survived', axis=1)\n",
    "y = df['Survived']"
   ]
  },
  {
   "cell_type": "code",
   "execution_count": 15,
   "id": "4ce18339",
   "metadata": {
    "execution": {
     "iopub.execute_input": "2023-12-10T18:18:35.033615Z",
     "iopub.status.busy": "2023-12-10T18:18:35.033131Z",
     "iopub.status.idle": "2023-12-10T18:18:35.046099Z",
     "shell.execute_reply": "2023-12-10T18:18:35.044473Z"
    },
    "papermill": {
     "duration": 0.027069,
     "end_time": "2023-12-10T18:18:35.048755",
     "exception": false,
     "start_time": "2023-12-10T18:18:35.021686",
     "status": "completed"
    },
    "tags": []
   },
   "outputs": [],
   "source": [
    "scaler = MinMaxScaler()\n",
    "X = scaler.fit_transform(X)\n",
    "y = scaler.fit_transform(y.values.reshape(-1, 1))"
   ]
  },
  {
   "cell_type": "code",
   "execution_count": 16,
   "id": "bd6c56c1",
   "metadata": {
    "execution": {
     "iopub.execute_input": "2023-12-10T18:18:35.070756Z",
     "iopub.status.busy": "2023-12-10T18:18:35.070303Z",
     "iopub.status.idle": "2023-12-10T18:18:35.079352Z",
     "shell.execute_reply": "2023-12-10T18:18:35.077708Z"
    },
    "papermill": {
     "duration": 0.022762,
     "end_time": "2023-12-10T18:18:35.081757",
     "exception": false,
     "start_time": "2023-12-10T18:18:35.058995",
     "status": "completed"
    },
    "tags": []
   },
   "outputs": [
    {
     "name": "stdout",
     "output_type": "stream",
     "text": [
      "(69, 6)\n",
      "(69, 1)\n",
      "(18, 6)\n",
      "(18, 1)\n"
     ]
    }
   ],
   "source": [
    "X_train, X_test, y_train, y_test = train_test_split(X, y, test_size=0.2, random_state=0)\n",
    "\n",
    "print(X_train.shape)\n",
    "print(y_train.shape)\n",
    "print(X_test.shape)\n",
    "print(y_test.shape)"
   ]
  },
  {
   "cell_type": "code",
   "execution_count": 17,
   "id": "6faf463f",
   "metadata": {
    "execution": {
     "iopub.execute_input": "2023-12-10T18:18:35.104293Z",
     "iopub.status.busy": "2023-12-10T18:18:35.103845Z",
     "iopub.status.idle": "2023-12-10T18:18:35.322742Z",
     "shell.execute_reply": "2023-12-10T18:18:35.320967Z"
    },
    "papermill": {
     "duration": 0.236914,
     "end_time": "2023-12-10T18:18:35.328979",
     "exception": false,
     "start_time": "2023-12-10T18:18:35.092065",
     "status": "completed"
    },
    "tags": []
   },
   "outputs": [
    {
     "name": "stdout",
     "output_type": "stream",
     "text": [
      "Model: \"sequential\"\n",
      "_________________________________________________________________\n",
      " Layer (type)                Output Shape              Param #   \n",
      "=================================================================\n",
      " dense (Dense)               (None, 10)                70        \n",
      "                                                                 \n",
      " dense_1 (Dense)             (None, 10)                110       \n",
      "                                                                 \n",
      " dense_2 (Dense)             (None, 1)                 11        \n",
      "                                                                 \n",
      "=================================================================\n",
      "Total params: 191 (764.00 Byte)\n",
      "Trainable params: 191 (764.00 Byte)\n",
      "Non-trainable params: 0 (0.00 Byte)\n",
      "_________________________________________________________________\n"
     ]
    }
   ],
   "source": [
    "model = Sequential()\n",
    "model.add(Dense(10, activation='relu', input_dim=6))\n",
    "model.add(Dense(10, activation='relu'))\n",
    "model.add(Dense(1, activation='linear'))\n",
    "\n",
    "model.compile(optimizer='adam', loss='mean_squared_error', metrics=['mean_absolute_error'])\n",
    "model.summary()"
   ]
  },
  {
   "cell_type": "code",
   "execution_count": 18,
   "id": "13be4ebc",
   "metadata": {
    "execution": {
     "iopub.execute_input": "2023-12-10T18:18:35.354690Z",
     "iopub.status.busy": "2023-12-10T18:18:35.354249Z",
     "iopub.status.idle": "2023-12-10T18:18:37.626373Z",
     "shell.execute_reply": "2023-12-10T18:18:37.625250Z"
    },
    "papermill": {
     "duration": 2.28862,
     "end_time": "2023-12-10T18:18:37.629141",
     "exception": false,
     "start_time": "2023-12-10T18:18:35.340521",
     "status": "completed"
    },
    "tags": []
   },
   "outputs": [
    {
     "name": "stdout",
     "output_type": "stream",
     "text": [
      "Epoch 1/25\n",
      "2/2 [==============================] - 1s 238ms/step - loss: 0.6870 - mean_absolute_error: 0.6391 - val_loss: 0.6013 - val_mean_absolute_error: 0.5673\n",
      "Epoch 2/25\n",
      "2/2 [==============================] - 0s 33ms/step - loss: 0.6673 - mean_absolute_error: 0.6288 - val_loss: 0.5848 - val_mean_absolute_error: 0.5582\n",
      "Epoch 3/25\n",
      "2/2 [==============================] - 0s 32ms/step - loss: 0.6518 - mean_absolute_error: 0.6206 - val_loss: 0.5683 - val_mean_absolute_error: 0.5490\n",
      "Epoch 4/25\n",
      "2/2 [==============================] - 0s 32ms/step - loss: 0.6351 - mean_absolute_error: 0.6118 - val_loss: 0.5527 - val_mean_absolute_error: 0.5415\n",
      "Epoch 5/25\n",
      "2/2 [==============================] - 0s 33ms/step - loss: 0.6179 - mean_absolute_error: 0.6045 - val_loss: 0.5381 - val_mean_absolute_error: 0.5358\n",
      "Epoch 6/25\n",
      "2/2 [==============================] - 0s 33ms/step - loss: 0.6033 - mean_absolute_error: 0.6002 - val_loss: 0.5249 - val_mean_absolute_error: 0.5311\n",
      "Epoch 7/25\n",
      "2/2 [==============================] - 0s 33ms/step - loss: 0.5874 - mean_absolute_error: 0.5953 - val_loss: 0.5121 - val_mean_absolute_error: 0.5272\n",
      "Epoch 8/25\n",
      "2/2 [==============================] - 0s 33ms/step - loss: 0.5736 - mean_absolute_error: 0.5916 - val_loss: 0.4991 - val_mean_absolute_error: 0.5239\n",
      "Epoch 9/25\n",
      "2/2 [==============================] - 0s 32ms/step - loss: 0.5583 - mean_absolute_error: 0.5864 - val_loss: 0.4867 - val_mean_absolute_error: 0.5206\n",
      "Epoch 10/25\n",
      "2/2 [==============================] - 0s 34ms/step - loss: 0.5439 - mean_absolute_error: 0.5816 - val_loss: 0.4746 - val_mean_absolute_error: 0.5171\n",
      "Epoch 11/25\n",
      "2/2 [==============================] - 0s 34ms/step - loss: 0.5298 - mean_absolute_error: 0.5771 - val_loss: 0.4625 - val_mean_absolute_error: 0.5133\n",
      "Epoch 12/25\n",
      "2/2 [==============================] - 0s 36ms/step - loss: 0.5158 - mean_absolute_error: 0.5722 - val_loss: 0.4509 - val_mean_absolute_error: 0.5095\n",
      "Epoch 13/25\n",
      "2/2 [==============================] - 0s 34ms/step - loss: 0.5021 - mean_absolute_error: 0.5671 - val_loss: 0.4394 - val_mean_absolute_error: 0.5056\n",
      "Epoch 14/25\n",
      "2/2 [==============================] - 0s 33ms/step - loss: 0.4879 - mean_absolute_error: 0.5617 - val_loss: 0.4278 - val_mean_absolute_error: 0.5013\n",
      "Epoch 15/25\n",
      "2/2 [==============================] - 0s 32ms/step - loss: 0.4736 - mean_absolute_error: 0.5564 - val_loss: 0.4163 - val_mean_absolute_error: 0.4968\n",
      "Epoch 16/25\n",
      "2/2 [==============================] - 0s 31ms/step - loss: 0.4612 - mean_absolute_error: 0.5522 - val_loss: 0.4042 - val_mean_absolute_error: 0.4919\n",
      "Epoch 17/25\n",
      "2/2 [==============================] - 0s 32ms/step - loss: 0.4456 - mean_absolute_error: 0.5455 - val_loss: 0.3921 - val_mean_absolute_error: 0.4867\n",
      "Epoch 18/25\n",
      "2/2 [==============================] - 0s 33ms/step - loss: 0.4334 - mean_absolute_error: 0.5408 - val_loss: 0.3798 - val_mean_absolute_error: 0.4813\n",
      "Epoch 19/25\n",
      "2/2 [==============================] - 0s 32ms/step - loss: 0.4195 - mean_absolute_error: 0.5348 - val_loss: 0.3675 - val_mean_absolute_error: 0.4756\n",
      "Epoch 20/25\n",
      "2/2 [==============================] - 0s 32ms/step - loss: 0.4050 - mean_absolute_error: 0.5280 - val_loss: 0.3556 - val_mean_absolute_error: 0.4702\n",
      "Epoch 21/25\n",
      "2/2 [==============================] - 0s 32ms/step - loss: 0.3919 - mean_absolute_error: 0.5221 - val_loss: 0.3437 - val_mean_absolute_error: 0.4650\n",
      "Epoch 22/25\n",
      "2/2 [==============================] - 0s 32ms/step - loss: 0.3780 - mean_absolute_error: 0.5156 - val_loss: 0.3317 - val_mean_absolute_error: 0.4597\n",
      "Epoch 23/25\n",
      "2/2 [==============================] - 0s 31ms/step - loss: 0.3642 - mean_absolute_error: 0.5089 - val_loss: 0.3195 - val_mean_absolute_error: 0.4543\n",
      "Epoch 24/25\n",
      "2/2 [==============================] - 0s 31ms/step - loss: 0.3504 - mean_absolute_error: 0.5019 - val_loss: 0.3076 - val_mean_absolute_error: 0.4489\n",
      "Epoch 25/25\n",
      "2/2 [==============================] - 0s 33ms/step - loss: 0.3367 - mean_absolute_error: 0.4949 - val_loss: 0.2959 - val_mean_absolute_error: 0.4434\n"
     ]
    }
   ],
   "source": [
    "past = model.fit(X_train, y_train, epochs=25, validation_split=0.2)"
   ]
  },
  {
   "cell_type": "code",
   "execution_count": 19,
   "id": "fbe2159a",
   "metadata": {
    "execution": {
     "iopub.execute_input": "2023-12-10T18:18:37.668390Z",
     "iopub.status.busy": "2023-12-10T18:18:37.667915Z",
     "iopub.status.idle": "2023-12-10T18:18:37.851413Z",
     "shell.execute_reply": "2023-12-10T18:18:37.850474Z"
    },
    "papermill": {
     "duration": 0.20619,
     "end_time": "2023-12-10T18:18:37.854010",
     "exception": false,
     "start_time": "2023-12-10T18:18:37.647820",
     "status": "completed"
    },
    "tags": []
   },
   "outputs": [
    {
     "name": "stdout",
     "output_type": "stream",
     "text": [
      "1/1 [==============================] - 0s 109ms/step\n"
     ]
    }
   ],
   "source": [
    "y_pred = model.predict(X_test)"
   ]
  },
  {
   "cell_type": "code",
   "execution_count": 20,
   "id": "f7be1b26",
   "metadata": {
    "execution": {
     "iopub.execute_input": "2023-12-10T18:18:37.894425Z",
     "iopub.status.busy": "2023-12-10T18:18:37.893032Z",
     "iopub.status.idle": "2023-12-10T18:18:37.900421Z",
     "shell.execute_reply": "2023-12-10T18:18:37.899207Z"
    },
    "papermill": {
     "duration": 0.029934,
     "end_time": "2023-12-10T18:18:37.902829",
     "exception": false,
     "start_time": "2023-12-10T18:18:37.872895",
     "status": "completed"
    },
    "tags": []
   },
   "outputs": [
    {
     "name": "stdout",
     "output_type": "stream",
     "text": [
      "R2 Score= 0.11912319817953798\n"
     ]
    }
   ],
   "source": [
    "from sklearn.metrics import r2_score\n",
    "\n",
    "R2 = r2_score(y_test, y_pred)\n",
    "print(\"R2 Score=\",R2 )"
   ]
  }
 ],
 "metadata": {
  "kaggle": {
   "accelerator": "none",
   "dataSources": [
    {
     "datasetId": 826163,
     "sourceId": 2879186,
     "sourceType": "datasetVersion"
    }
   ],
   "dockerImageVersionId": 30615,
   "isGpuEnabled": false,
   "isInternetEnabled": true,
   "language": "python",
   "sourceType": "notebook"
  },
  "kernelspec": {
   "display_name": "Python 3",
   "language": "python",
   "name": "python3"
  },
  "language_info": {
   "codemirror_mode": {
    "name": "ipython",
    "version": 3
   },
   "file_extension": ".py",
   "mimetype": "text/x-python",
   "name": "python",
   "nbconvert_exporter": "python",
   "pygments_lexer": "ipython3",
   "version": "3.10.12"
  },
  "papermill": {
   "default_parameters": {},
   "duration": 26.922806,
   "end_time": "2023-12-10T18:18:39.648791",
   "environment_variables": {},
   "exception": null,
   "input_path": "__notebook__.ipynb",
   "output_path": "__notebook__.ipynb",
   "parameters": {},
   "start_time": "2023-12-10T18:18:12.725985",
   "version": "2.4.0"
  }
 },
 "nbformat": 4,
 "nbformat_minor": 5
}
