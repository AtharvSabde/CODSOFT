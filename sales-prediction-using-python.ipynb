{
 "cells": [
  {
   "cell_type": "markdown",
   "id": "fd87e5ce",
   "metadata": {
    "papermill": {
     "duration": 0.008581,
     "end_time": "2023-12-10T07:08:55.023213",
     "exception": false,
     "start_time": "2023-12-10T07:08:55.014632",
     "status": "completed"
    },
    "tags": []
   },
   "source": [
    "<div style=\"color:white;\n",
    "            display:fill;\n",
    "            border-radius:15px;\n",
    "            background-color:BLACK;\n",
    "            font-size:100%;\n",
    "            font-family:Verdana;\n",
    "            letter-spacing:1px\">\n",
    "    <h3 style='padding: 20px;\n",
    "              color:CYAN;\n",
    "              text-align:center;'>\n",
    "        Sales Prediction Using ANN\n",
    "    </h3>\n",
    "    </div>"
   ]
  },
  {
   "cell_type": "markdown",
   "id": "36f1e460",
   "metadata": {
    "papermill": {
     "duration": 0.007844,
     "end_time": "2023-12-10T07:08:55.039266",
     "exception": false,
     "start_time": "2023-12-10T07:08:55.031422",
     "status": "completed"
    },
    "tags": []
   },
   "source": [
    "* Sales prediction involves forecasting the amount of a product that customers will purchase, taking into account various factors such as advertising expenditure, target audience segmentation, and advertising platform selection.\n",
    "\n",
    "* In businesses that offer products or services, the role of a Data Scientist is crucial for predicting future sales. They utilize machine\n",
    "  learning techniques in Python to analyze and interpret data, allowing them to make informed decisions regarding advertising costs. By leveraging these predictions, businesses can optimize their advertising strategies and maximize sales potential. Let's embark onthe journey of sales prediction using machine learning in Python."
   ]
  },
  {
   "cell_type": "markdown",
   "id": "eb17e8be",
   "metadata": {
    "papermill": {
     "duration": 0.007749,
     "end_time": "2023-12-10T07:08:55.055035",
     "exception": false,
     "start_time": "2023-12-10T07:08:55.047286",
     "status": "completed"
    },
    "tags": []
   },
   "source": [
    "<div style=\"color:white;\n",
    "            display:fill;\n",
    "            border-radius:15px;\n",
    "            background-color:BLACK;\n",
    "            font-size:100%;\n",
    "            font-family:Verdana;\n",
    "            letter-spacing:1px\">\n",
    "    <h3 style='padding: 20px;\n",
    "              color:CYAN;\n",
    "              text-align:center;'>\n",
    "        TABLE OF CONTENT\n",
    "    </h3>\n",
    "    </div>"
   ]
  },
  {
   "cell_type": "markdown",
   "id": "3d9c6ad5",
   "metadata": {
    "papermill": {
     "duration": 0.007754,
     "end_time": "2023-12-10T07:08:55.070932",
     "exception": false,
     "start_time": "2023-12-10T07:08:55.063178",
     "status": "completed"
    },
    "tags": []
   },
   "source": [
    "* **Importing Libraries and Loading Data**\n",
    "\n",
    "* **Data Information and Data Cleaning**\n",
    "\n",
    "* **Data Visualisation**\n",
    "\n",
    "* **Building Artificial Neural Network**\n"
   ]
  },
  {
   "cell_type": "markdown",
   "id": "39ccb9d7",
   "metadata": {
    "papermill": {
     "duration": 0.007874,
     "end_time": "2023-12-10T07:08:55.086958",
     "exception": false,
     "start_time": "2023-12-10T07:08:55.079084",
     "status": "completed"
    },
    "tags": []
   },
   "source": [
    "<div style=\"color:white;\n",
    "            display:fill;\n",
    "            border-radius:15px;\n",
    "            background-color:BLACK;\n",
    "            font-size:100%;\n",
    "            font-family:Verdana;\n",
    "            letter-spacing:1px\">\n",
    "    <h3 style='padding: 20px;\n",
    "              color:CYAN;\n",
    "              text-align:center;'>\n",
    "        Importing Libraries\n",
    "    </h3>\n",
    "    </div>"
   ]
  },
  {
   "cell_type": "code",
   "execution_count": 1,
   "id": "cd2f3bb8",
   "metadata": {
    "execution": {
     "iopub.execute_input": "2023-12-10T07:08:55.106192Z",
     "iopub.status.busy": "2023-12-10T07:08:55.104765Z",
     "iopub.status.idle": "2023-12-10T07:09:12.390573Z",
     "shell.execute_reply": "2023-12-10T07:09:12.389180Z"
    },
    "papermill": {
     "duration": 17.298818,
     "end_time": "2023-12-10T07:09:12.393806",
     "exception": false,
     "start_time": "2023-12-10T07:08:55.094988",
     "status": "completed"
    },
    "tags": []
   },
   "outputs": [],
   "source": [
    "import numpy as np\n",
    "import pandas as pd\n",
    "import matplotlib.pyplot as plt\n",
    "import plotly.express as px\n",
    "from plotly.offline import init_notebook_mode, iplot, plot\n",
    "from sklearn.preprocessing import MinMaxScaler\n",
    "\n",
    "from tensorflow.keras.layers import Dense\n",
    "from tensorflow.keras.models import Sequential\n",
    "from sklearn.model_selection import train_test_split\n",
    "\n",
    "import warnings\n",
    "warnings.filterwarnings(\"ignore\")"
   ]
  },
  {
   "cell_type": "markdown",
   "id": "5512fbb8",
   "metadata": {
    "papermill": {
     "duration": 0.008772,
     "end_time": "2023-12-10T07:09:12.411825",
     "exception": false,
     "start_time": "2023-12-10T07:09:12.403053",
     "status": "completed"
    },
    "tags": []
   },
   "source": [
    "<div style=\"color:white;\n",
    "            display:fill;\n",
    "            border-radius:15px;\n",
    "            background-color:BLACK;\n",
    "            font-size:100%;\n",
    "            font-family:Verdana;\n",
    "            letter-spacing:1px\">\n",
    "    <h3 style='padding: 20px;\n",
    "              color:CYAN;\n",
    "              text-align:center;'>\n",
    "        Data Information and Data Cleaning\n",
    "    </h3>\n",
    "    </div>"
   ]
  },
  {
   "cell_type": "code",
   "execution_count": 2,
   "id": "87e43b90",
   "metadata": {
    "execution": {
     "iopub.execute_input": "2023-12-10T07:09:12.431631Z",
     "iopub.status.busy": "2023-12-10T07:09:12.430701Z",
     "iopub.status.idle": "2023-12-10T07:09:12.458336Z",
     "shell.execute_reply": "2023-12-10T07:09:12.456907Z"
    },
    "papermill": {
     "duration": 0.041046,
     "end_time": "2023-12-10T07:09:12.461458",
     "exception": false,
     "start_time": "2023-12-10T07:09:12.420412",
     "status": "completed"
    },
    "tags": []
   },
   "outputs": [],
   "source": [
    "df = data = pd.read_csv(\"/kaggle/input/ann-car-sales-price-prediction/car_purchasing.csv\",encoding='ISO-8859-1')"
   ]
  },
  {
   "cell_type": "code",
   "execution_count": 3,
   "id": "a1095caa",
   "metadata": {
    "execution": {
     "iopub.execute_input": "2023-12-10T07:09:12.481340Z",
     "iopub.status.busy": "2023-12-10T07:09:12.480208Z",
     "iopub.status.idle": "2023-12-10T07:09:12.488965Z",
     "shell.execute_reply": "2023-12-10T07:09:12.487647Z"
    },
    "papermill": {
     "duration": 0.021705,
     "end_time": "2023-12-10T07:09:12.491906",
     "exception": false,
     "start_time": "2023-12-10T07:09:12.470201",
     "status": "completed"
    },
    "tags": []
   },
   "outputs": [
    {
     "data": {
      "text/plain": [
       "(500, 9)"
      ]
     },
     "execution_count": 3,
     "metadata": {},
     "output_type": "execute_result"
    }
   ],
   "source": [
    "df.shape"
   ]
  },
  {
   "cell_type": "code",
   "execution_count": 4,
   "id": "afc32a9e",
   "metadata": {
    "execution": {
     "iopub.execute_input": "2023-12-10T07:09:12.512597Z",
     "iopub.status.busy": "2023-12-10T07:09:12.511428Z",
     "iopub.status.idle": "2023-12-10T07:09:12.519091Z",
     "shell.execute_reply": "2023-12-10T07:09:12.517986Z"
    },
    "papermill": {
     "duration": 0.0204,
     "end_time": "2023-12-10T07:09:12.521530",
     "exception": false,
     "start_time": "2023-12-10T07:09:12.501130",
     "status": "completed"
    },
    "tags": []
   },
   "outputs": [
    {
     "data": {
      "text/plain": [
       "Index(['customer name', 'customer e-mail', 'country', 'gender', 'age',\n",
       "       'annual Salary', 'credit card debt', 'net worth',\n",
       "       'car purchase amount'],\n",
       "      dtype='object')"
      ]
     },
     "execution_count": 4,
     "metadata": {},
     "output_type": "execute_result"
    }
   ],
   "source": [
    "df.columns"
   ]
  },
  {
   "cell_type": "code",
   "execution_count": 5,
   "id": "36fbf4e7",
   "metadata": {
    "execution": {
     "iopub.execute_input": "2023-12-10T07:09:12.541081Z",
     "iopub.status.busy": "2023-12-10T07:09:12.540633Z",
     "iopub.status.idle": "2023-12-10T07:09:12.570198Z",
     "shell.execute_reply": "2023-12-10T07:09:12.569089Z"
    },
    "papermill": {
     "duration": 0.042793,
     "end_time": "2023-12-10T07:09:12.573000",
     "exception": false,
     "start_time": "2023-12-10T07:09:12.530207",
     "status": "completed"
    },
    "tags": []
   },
   "outputs": [
    {
     "data": {
      "text/html": [
       "<div>\n",
       "<style scoped>\n",
       "    .dataframe tbody tr th:only-of-type {\n",
       "        vertical-align: middle;\n",
       "    }\n",
       "\n",
       "    .dataframe tbody tr th {\n",
       "        vertical-align: top;\n",
       "    }\n",
       "\n",
       "    .dataframe thead th {\n",
       "        text-align: right;\n",
       "    }\n",
       "</style>\n",
       "<table border=\"1\" class=\"dataframe\">\n",
       "  <thead>\n",
       "    <tr style=\"text-align: right;\">\n",
       "      <th></th>\n",
       "      <th>customer name</th>\n",
       "      <th>customer e-mail</th>\n",
       "      <th>country</th>\n",
       "      <th>gender</th>\n",
       "      <th>age</th>\n",
       "      <th>annual Salary</th>\n",
       "      <th>credit card debt</th>\n",
       "      <th>net worth</th>\n",
       "      <th>car purchase amount</th>\n",
       "    </tr>\n",
       "  </thead>\n",
       "  <tbody>\n",
       "    <tr>\n",
       "      <th>0</th>\n",
       "      <td>Martina Avila</td>\n",
       "      <td>cubilia.Curae.Phasellus@quisaccumsanconvallis.edu</td>\n",
       "      <td>Bulgaria</td>\n",
       "      <td>0</td>\n",
       "      <td>41.851720</td>\n",
       "      <td>62812.09301</td>\n",
       "      <td>11609.380910</td>\n",
       "      <td>238961.2505</td>\n",
       "      <td>35321.45877</td>\n",
       "    </tr>\n",
       "    <tr>\n",
       "      <th>1</th>\n",
       "      <td>Harlan Barnes</td>\n",
       "      <td>eu.dolor@diam.co.uk</td>\n",
       "      <td>Belize</td>\n",
       "      <td>0</td>\n",
       "      <td>40.870623</td>\n",
       "      <td>66646.89292</td>\n",
       "      <td>9572.957136</td>\n",
       "      <td>530973.9078</td>\n",
       "      <td>45115.52566</td>\n",
       "    </tr>\n",
       "    <tr>\n",
       "      <th>2</th>\n",
       "      <td>Naomi Rodriquez</td>\n",
       "      <td>vulputate.mauris.sagittis@ametconsectetueradip...</td>\n",
       "      <td>Algeria</td>\n",
       "      <td>1</td>\n",
       "      <td>43.152897</td>\n",
       "      <td>53798.55112</td>\n",
       "      <td>11160.355060</td>\n",
       "      <td>638467.1773</td>\n",
       "      <td>42925.70921</td>\n",
       "    </tr>\n",
       "    <tr>\n",
       "      <th>3</th>\n",
       "      <td>Jade Cunningham</td>\n",
       "      <td>malesuada@dignissim.com</td>\n",
       "      <td>Cook Islands</td>\n",
       "      <td>1</td>\n",
       "      <td>58.271369</td>\n",
       "      <td>79370.03798</td>\n",
       "      <td>14426.164850</td>\n",
       "      <td>548599.0524</td>\n",
       "      <td>67422.36313</td>\n",
       "    </tr>\n",
       "    <tr>\n",
       "      <th>4</th>\n",
       "      <td>Cedric Leach</td>\n",
       "      <td>felis.ullamcorper.viverra@egetmollislectus.net</td>\n",
       "      <td>Brazil</td>\n",
       "      <td>1</td>\n",
       "      <td>57.313749</td>\n",
       "      <td>59729.15130</td>\n",
       "      <td>5358.712177</td>\n",
       "      <td>560304.0671</td>\n",
       "      <td>55915.46248</td>\n",
       "    </tr>\n",
       "  </tbody>\n",
       "</table>\n",
       "</div>"
      ],
      "text/plain": [
       "     customer name                                    customer e-mail  \\\n",
       "0    Martina Avila  cubilia.Curae.Phasellus@quisaccumsanconvallis.edu   \n",
       "1    Harlan Barnes                                eu.dolor@diam.co.uk   \n",
       "2  Naomi Rodriquez  vulputate.mauris.sagittis@ametconsectetueradip...   \n",
       "3  Jade Cunningham                            malesuada@dignissim.com   \n",
       "4     Cedric Leach     felis.ullamcorper.viverra@egetmollislectus.net   \n",
       "\n",
       "        country  gender        age  annual Salary  credit card debt  \\\n",
       "0      Bulgaria       0  41.851720    62812.09301      11609.380910   \n",
       "1        Belize       0  40.870623    66646.89292       9572.957136   \n",
       "2       Algeria       1  43.152897    53798.55112      11160.355060   \n",
       "3  Cook Islands       1  58.271369    79370.03798      14426.164850   \n",
       "4        Brazil       1  57.313749    59729.15130       5358.712177   \n",
       "\n",
       "     net worth  car purchase amount  \n",
       "0  238961.2505          35321.45877  \n",
       "1  530973.9078          45115.52566  \n",
       "2  638467.1773          42925.70921  \n",
       "3  548599.0524          67422.36313  \n",
       "4  560304.0671          55915.46248  "
      ]
     },
     "execution_count": 5,
     "metadata": {},
     "output_type": "execute_result"
    }
   ],
   "source": [
    "df.head()"
   ]
  },
  {
   "cell_type": "code",
   "execution_count": 6,
   "id": "63d19ab5",
   "metadata": {
    "execution": {
     "iopub.execute_input": "2023-12-10T07:09:12.593569Z",
     "iopub.status.busy": "2023-12-10T07:09:12.593078Z",
     "iopub.status.idle": "2023-12-10T07:09:12.607332Z",
     "shell.execute_reply": "2023-12-10T07:09:12.605771Z"
    },
    "papermill": {
     "duration": 0.027906,
     "end_time": "2023-12-10T07:09:12.610094",
     "exception": false,
     "start_time": "2023-12-10T07:09:12.582188",
     "status": "completed"
    },
    "tags": []
   },
   "outputs": [],
   "source": [
    "df.drop(columns=['customer name', 'customer e-mail', 'country'], inplace=True)"
   ]
  },
  {
   "cell_type": "code",
   "execution_count": 7,
   "id": "9b660ea6",
   "metadata": {
    "execution": {
     "iopub.execute_input": "2023-12-10T07:09:12.630202Z",
     "iopub.status.busy": "2023-12-10T07:09:12.629803Z",
     "iopub.status.idle": "2023-12-10T07:09:12.640155Z",
     "shell.execute_reply": "2023-12-10T07:09:12.638654Z"
    },
    "papermill": {
     "duration": 0.023705,
     "end_time": "2023-12-10T07:09:12.642760",
     "exception": false,
     "start_time": "2023-12-10T07:09:12.619055",
     "status": "completed"
    },
    "tags": []
   },
   "outputs": [],
   "source": [
    "df.dropna(subset=['gender'], inplace = True)"
   ]
  },
  {
   "cell_type": "markdown",
   "id": "f0fa9010",
   "metadata": {
    "papermill": {
     "duration": 0.009003,
     "end_time": "2023-12-10T07:09:12.660800",
     "exception": false,
     "start_time": "2023-12-10T07:09:12.651797",
     "status": "completed"
    },
    "tags": []
   },
   "source": [
    "<div style=\"color:white;\n",
    "            display:fill;\n",
    "            border-radius:15px;\n",
    "            background-color:BLACK;\n",
    "            font-size:100%;\n",
    "            font-family:Verdana;\n",
    "            letter-spacing:1px\">\n",
    "    <h3 style='padding: 20px;\n",
    "              color:CYAN;\n",
    "              text-align:center;'>\n",
    "        Data Visualisation\n",
    "    </h3>\n",
    "    </div>"
   ]
  },
  {
   "cell_type": "code",
   "execution_count": 8,
   "id": "eebc2401",
   "metadata": {
    "execution": {
     "iopub.execute_input": "2023-12-10T07:09:12.681070Z",
     "iopub.status.busy": "2023-12-10T07:09:12.680539Z",
     "iopub.status.idle": "2023-12-10T07:09:13.026480Z",
     "shell.execute_reply": "2023-12-10T07:09:13.025333Z"
    },
    "papermill": {
     "duration": 0.359094,
     "end_time": "2023-12-10T07:09:13.028847",
     "exception": false,
     "start_time": "2023-12-10T07:09:12.669753",
     "status": "completed"
    },
    "tags": []
   },
   "outputs": [
    {
     "data": {
      "image/png": "[encoded data removed]",
      "text/plain": [
       "<Figure size 1600x1600 with 1 Axes>"
      ]
     },
     "metadata": {},
     "output_type": "display_data"
    }
   ],
   "source": [
    "label = data[\"gender\"].value_counts().index\n",
    "sizes = data[\"gender\"].value_counts()\n",
    "plt.figure(figsize = (16,16))\n",
    "plt.pie(sizes, labels= label, startangle = 0 , shadow = False , autopct='%1.1f%%')\n",
    "plt.show()"
   ]
  },
  {
   "cell_type": "code",
   "execution_count": 9,
   "id": "c3247014",
   "metadata": {
    "execution": {
     "iopub.execute_input": "2023-12-10T07:09:13.051094Z",
     "iopub.status.busy": "2023-12-10T07:09:13.050322Z",
     "iopub.status.idle": "2023-12-10T07:09:15.027449Z",
     "shell.execute_reply": "2023-12-10T07:09:15.026102Z"
    },
    "papermill": {
     "duration": 1.992748,
     "end_time": "2023-12-10T07:09:15.031408",
     "exception": false,
     "start_time": "2023-12-10T07:09:13.038660",
     "status": "completed"
    },
    "tags": []
   },
   "outputs": [
    {
     "data": {
      "text/html": [
       "        <script type=\"text/javascript\">\n",
       "        window.PlotlyConfig = {MathJaxConfig: 'local'};\n",
       "        if (window.MathJax && window.MathJax.Hub && window.MathJax.Hub.Config) {window.MathJax.Hub.Config({SVG: {font: \"STIX-Web\"}});}\n",
       "        if (typeof require !== 'undefined') {\n",
       "        require.undef(\"plotly\");\n",
       "        requirejs.config({\n",
       "            paths: {\n",
       "                'plotly': ['https://cdn.plot.ly/plotly-2.25.2.min']\n",
       "            }\n",
       "        });\n",
       "        require(['plotly'], function(Plotly) {\n",
       "            window._Plotly = Plotly;\n",
       "        });\n",
       "        }\n",
       "        </script>\n",
       "        "
      ]
     },
     "metadata": {},
     "output_type": "display_data"
    },
    {
     "data": {
      "text/html": [
       "<div>                            <div id=\"3ed9de94-a0d6-4859-91c1-bee988ffc9eb\" class=\"plotly-graph-div\" style=\"height:525px; width:100%;\"></div>            <script type=\"text/javascript\">                require([\"plotly\"], function(Plotly) {                    window.PLOTLYENV=window.PLOTLYENV || {};                                    if (document.getElementById(\"3ed9de94-a0d6-4859-91c1-bee988ffc9eb\")) {                    Plotly.newPlot(                        \"3ed9de94-a0d6-4859-91c1-bee988ffc9eb\",                        [{\"hovertemplate\":\"credit card debt=%{marker.color}\\u003cbr\\u003ecar purchase amount=%{y}\\u003cextra\\u003e\\u003c\\u002fextra\\u003e\",\"legendgroup\":\"\",\"marker\":{\"color\":[11609.38091,9572.957136,11160.35506,14426.16485,5358.712177,14179.47244,5958.460188,10985.69656,3440.823799,12884.07868,8270.707359,10014.96929,10218.32092,9466.995128,10597.63814,11326.03434,11495.54999,12514.52029,7377.820914,13272.94647,11878.03779,10905.36628,7698.552234,11960.85377,8125.598993,17805.57607,13102.15805,14270.00731,17452.92179,12522.94052,9371.511071,13417.02027,8092.475103,11417.30952,7988.753685,12252.73058,7405.534271,10917.14094,8838.759509,4499.921096,9183.327621,12491.01273,13338.32852,10816.8855,14245.53319,10155.34095,11675.28496,2230.096344,7094.896557,7915.758178,11023.00268,12378.54089,7813.602657,11216.88676,1851.979839,6998.46562,7772.444847,11331.20447,7592.019748,9976.434857,7829.565502,4225.328117,9842.842611,15189.08845,9046.182396,6841.540577,11785.87919,8634.376791,10886.91711,13685.88702,11350.49408,5627.803654,10676.21884,4630.544424,13000.41369,15791.61176,16732.30638,8740.723093,10059.55406,861.8166529,6147.918843,9522.576495,9724.031647,5449.471997,9565.830875,9719.192898,11024.02643,11041.17891,4204.920492,14261.80773,8244.470226,9871.403591,13865.09055,10562.90377,11794.73914,11030.2654,13872.5667,8870.714301,5831.118245,16767.2636,5189.083564,11811.25253,7357.787011,14562.64194,10614.85449,6280.929547,12416.84845,7335.524826,10366.50326,9010.648633,9656.806156,12887.54899,1696.989764,11211.72016,7903.103591,13258.46631,6039.594519,12719.64415,14250.52398,10008.76797,8493.098575,12416.79083,4820.839445,7248.54142,7329.22851,2620.079459,10077.49592,6206.922109,8458.749819,13860.43821,18361.24915,8088.344365,12507.19736,14871.36126,9026.061543,14720.53399,9851.578109,7583.753853,12348.67783,6062.60136,14392.28833,6994.617316,12860.65824,4397.947571,6181.970908,15164.87506,12296.34158,12758.89583,10799.1381,15796.31838,13686.96935,11347.62967,8132.073716,9396.008371,14862.84011,5088.239017,5316.010491,6940.056371,7594.363993,10992.33383,14938.50613,9851.689538,13122.45694,14421.48298,7146.192574,8707.511532,12071.41684,13167.65763,921.5340234,13923.96207,12557.08133,11505.89906,7917.65097,7500.778414,13962.95284,4701.316175,4980.668295,12413.0319,10221.15388,9837.222432,8628.434025,11417.46257,6904.420412,11431.22966,9810.75269,7171.466112,5205.008323,9683.735879,5817.153854,2418.86434,9181.06743,12026.57975,6445.784981,10027.53449,12438.85648,9347.50353,5969.666602,15467.78745,9465.090098,3657.863218,8920.385015,7793.073201,11544.93385,14817.70896,15353.25774,11302.88277,16305.78907,8491.586154,8884.11069,9686.119304,11672.72382,3247.887523,11207.01556,10743.793,12998.47232,8737.20319,8728.916803,14088.90642,9832.05731,10756.60888,13444.89631,20000.0,12066.26571,13501.92659,10835.25736,4295.225339,9624.908869,9631.974905,10813.75655,13421.36821,5011.615145,6922.152838,16127.56619,9536.899689,17462.07506,14709.65824,6810.555606,4198.839128,7437.211028,632.0528524,8233.280719,9242.775995,9653.26498,9399.342975,7903.33495,10461.98276,5025.365518,4684.556433,5699.184814,9823.218967,10474.44187,12024.48457,7039.540023,18693.14652,15436.79968,7631.687821,5614.004976,6887.248301,6130.305181,12024.72511,13658.34201,5827.820346,14822.79645,10128.76114,7787.204492,13580.87747,9046.18109,11398.82486,11212.43791,9644.41026,8570.611562,5055.43571,11315.59626,8501.49728,9822.426192,6354.833826,14300.12614,6913.05683,8907.661779,8774.069514,12848.20061,8732.143355,6932.950306,5841.612044,11498.03993,4975.144559,3932.838165,6619.929677,3066.939924,13701.79986,640.045378,7949.463649,9691.23462,6988.652757,13851.11162,12186.02793,3331.304747,10881.90102,10888.93494,7525.252104,1065.607589,10877.69223,8253.583457,10515.28135,7234.672092,6052.844775,8632.699007,9246.813159,12710.00309,11033.16277,5235.7599,14309.21115,11492.74174,11932.73881,7880.423663,9874.075327,11132.39299,9317.22195,6718.857016,8767.783547,11148.10325,7404.080751,12788.81573,9344.32377,7666.5303,11554.2723,10394.57246,11312.51035,8828.164449,9245.466786,7514.393035,8511.814921,10755.50842,9050.284083,11633.95265,12254.53943,6354.372629,8851.564939,8527.034281,11397.68601,5397.031602,4679.441732,5404.397644,7765.975483,14435.74305,7557.657205,8203.56263,7946.435929,3730.11972,13224.45167,15283.41752,6515.336778,9560.448204,11521.6189,12124.82386,8765.624109,15647.35449,9625.399586,11054.27478,9384.067625,10359.17579,10274.13558,10693.88704,11518.29175,15458.68867,9596.513091,7275.314728,9514.645028,9848.997857,10128.1151,13148.85597,2799.719601,12664.32052,9366.027561,13851.92122,2689.317953,8511.835275,16146.77016,11894.4244,4421.153379,7009.186038,9221.265417,7925.059589,10342.60917,6139.387823,9611.317626,10340.30041,7094.827,11620.1079,7840.293189,3854.733177,11652.2729,10175.74457,11715.3714,11211.99502,9913.194941,3093.707686,10462.35581,12967.284,8133.45931,8001.644302,11863.06428,8033.550461,10188.68685,17870.63765,6332.2019,17142.41332,4981.269146,5575.323416,8061.968487,10916.85532,12087.38116,12878.54582,16449.0665,15666.43155,12616.45622,1768.874438,10449.61818,1726.809885,11602.74297,7122.163863,9258.181529,7515.152476,13786.14942,9057.600508,7221.667169,8009.719809,6512.71102,10827.1614,8042.386734,10836.41709,7843.402994,8282.075073,6588.606462,9064.618618,8211.34092,5761.401538,3923.407178,8542.019129,6885.723977,19692.91262,13141.31969,7135.98755,13629.1104,100.0,6392.211408,14438.24233,9911.037592,10279.91264,6478.156506,3912.385616,3942.76762,4658.41454,11380.09288,7761.848528,8276.644566,10814.57915,9119.791422,12203.48778,2524.992105,9725.549901,12035.37079,10263.14899,8110.946984,9592.433147,9877.169366,10858.02526,8837.654857,8120.204455,5933.177726,9072.063059,7839.414396,4931.56016,15149.03426,11164.52652,6769.181833,4362.720324,12989.36784,6596.01369,11561.07365,9141.668545,10769.75059,14297.25366,10373.00856,16978.52745,8769.290288,8611.468093,893.2353408,594.8049491,6924.106833,10711.44472,10072.48298,9831.184792,13308.87932,6736.75168,6995.902524,12301.45679,10611.60686,14013.03451,9391.341628],\"coloraxis\":\"coloraxis\",\"symbol\":\"circle\"},\"mode\":\"markers\",\"name\":\"\",\"orientation\":\"v\",\"showlegend\":false,\"x\":[11609.38091,9572.957136,11160.35506,14426.16485,5358.712177,14179.47244,5958.460188,10985.69656,3440.823799,12884.07868,8270.707359,10014.96929,10218.32092,9466.995128,10597.63814,11326.03434,11495.54999,12514.52029,7377.820914,13272.94647,11878.03779,10905.36628,7698.552234,11960.85377,8125.598993,17805.57607,13102.15805,14270.00731,17452.92179,12522.94052,9371.511071,13417.02027,8092.475103,11417.30952,7988.753685,12252.73058,7405.534271,10917.14094,8838.759509,4499.921096,9183.327621,12491.01273,13338.32852,10816.8855,14245.53319,10155.34095,11675.28496,2230.096344,7094.896557,7915.758178,11023.00268,12378.54089,7813.602657,11216.88676,1851.979839,6998.46562,7772.444847,11331.20447,7592.019748,9976.434857,7829.565502,4225.328117,9842.842611,15189.08845,9046.182396,6841.540577,11785.87919,8634.376791,10886.91711,13685.88702,11350.49408,5627.803654,10676.21884,4630.544424,13000.41369,15791.61176,16732.30638,8740.723093,10059.55406,861.8166529,6147.918843,9522.576495,9724.031647,5449.471997,9565.830875,9719.192898,11024.02643,11041.17891,4204.920492,14261.80773,8244.470226,9871.403591,13865.09055,10562.90377,11794.73914,11030.2654,13872.5667,8870.714301,5831.118245,16767.2636,5189.083564,11811.25253,7357.787011,14562.64194,10614.85449,6280.929547,12416.84845,7335.524826,10366.50326,9010.648633,9656.806156,12887.54899,1696.989764,11211.72016,7903.103591,13258.46631,6039.594519,12719.64415,14250.52398,10008.76797,8493.098575,12416.79083,4820.839445,7248.54142,7329.22851,2620.079459,10077.49592,6206.922109,8458.749819,13860.43821,18361.24915,8088.344365,12507.19736,14871.36126,9026.061543,14720.53399,9851.578109,7583.753853,12348.67783,6062.60136,14392.28833,6994.617316,12860.65824,4397.947571,6181.970908,15164.87506,12296.34158,12758.89583,10799.1381,15796.31838,13686.96935,11347.62967,8132.073716,9396.008371,14862.84011,5088.239017,5316.010491,6940.056371,7594.363993,10992.33383,14938.50613,9851.689538,13122.45694,14421.48298,7146.192574,8707.511532,12071.41684,13167.65763,921.5340234,13923.96207,12557.08133,11505.89906,7917.65097,7500.778414,13962.95284,4701.316175,4980.668295,12413.0319,10221.15388,9837.222432,8628.434025,11417.46257,6904.420412,11431.22966,9810.75269,7171.466112,5205.008323,9683.735879,5817.153854,2418.86434,9181.06743,12026.57975,6445.784981,10027.53449,12438.85648,9347.50353,5969.666602,15467.78745,9465.090098,3657.863218,8920.385015,7793.073201,11544.93385,14817.70896,15353.25774,11302.88277,16305.78907,8491.586154,8884.11069,9686.119304,11672.72382,3247.887523,11207.01556,10743.793,12998.47232,8737.20319,8728.916803,14088.90642,9832.05731,10756.60888,13444.89631,20000.0,12066.26571,13501.92659,10835.25736,4295.225339,9624.908869,9631.974905,10813.75655,13421.36821,5011.615145,6922.152838,16127.56619,9536.899689,17462.07506,14709.65824,6810.555606,4198.839128,7437.211028,632.0528524,8233.280719,9242.775995,9653.26498,9399.342975,7903.33495,10461.98276,5025.365518,4684.556433,5699.184814,9823.218967,10474.44187,12024.48457,7039.540023,18693.14652,15436.79968,7631.687821,5614.004976,6887.248301,6130.305181,12024.72511,13658.34201,5827.820346,14822.79645,10128.76114,7787.204492,13580.87747,9046.18109,11398.82486,11212.43791,9644.41026,8570.611562,5055.43571,11315.59626,8501.49728,9822.426192,6354.833826,14300.12614,6913.05683,8907.661779,8774.069514,12848.20061,8732.143355,6932.950306,5841.612044,11498.03993,4975.144559,3932.838165,6619.929677,3066.939924,13701.79986,640.045378,7949.463649,9691.23462,6988.652757,13851.11162,12186.02793,3331.304747,10881.90102,10888.93494,7525.252104,1065.607589,10877.69223,8253.583457,10515.28135,7234.672092,6052.844775,8632.699007,9246.813159,12710.00309,11033.16277,5235.7599,14309.21115,11492.74174,11932.73881,7880.423663,9874.075327,11132.39299,9317.22195,6718.857016,8767.783547,11148.10325,7404.080751,12788.81573,9344.32377,7666.5303,11554.2723,10394.57246,11312.51035,8828.164449,9245.466786,7514.393035,8511.814921,10755.50842,9050.284083,11633.95265,12254.53943,6354.372629,8851.564939,8527.034281,11397.68601,5397.031602,4679.441732,5404.397644,7765.975483,14435.74305,7557.657205,8203.56263,7946.435929,3730.11972,13224.45167,15283.41752,6515.336778,9560.448204,11521.6189,12124.82386,8765.624109,15647.35449,9625.399586,11054.27478,9384.067625,10359.17579,10274.13558,10693.88704,11518.29175,15458.68867,9596.513091,7275.314728,9514.645028,9848.997857,10128.1151,13148.85597,2799.719601,12664.32052,9366.027561,13851.92122,2689.317953,8511.835275,16146.77016,11894.4244,4421.153379,7009.186038,9221.265417,7925.059589,10342.60917,6139.387823,9611.317626,10340.30041,7094.827,11620.1079,7840.293189,3854.733177,11652.2729,10175.74457,11715.3714,11211.99502,9913.194941,3093.707686,10462.35581,12967.284,8133.45931,8001.644302,11863.06428,8033.550461,10188.68685,17870.63765,6332.2019,17142.41332,4981.269146,5575.323416,8061.968487,10916.85532,12087.38116,12878.54582,16449.0665,15666.43155,12616.45622,1768.874438,10449.61818,1726.809885,11602.74297,7122.163863,9258.181529,7515.152476,13786.14942,9057.600508,7221.667169,8009.719809,6512.71102,10827.1614,8042.386734,10836.41709,7843.402994,8282.075073,6588.606462,9064.618618,8211.34092,5761.401538,3923.407178,8542.019129,6885.723977,19692.91262,13141.31969,7135.98755,13629.1104,100.0,6392.211408,14438.24233,9911.037592,10279.91264,6478.156506,3912.385616,3942.76762,4658.41454,11380.09288,7761.848528,8276.644566,10814.57915,9119.791422,12203.48778,2524.992105,9725.549901,12035.37079,10263.14899,8110.946984,9592.433147,9877.169366,10858.02526,8837.654857,8120.204455,5933.177726,9072.063059,7839.414396,4931.56016,15149.03426,11164.52652,6769.181833,4362.720324,12989.36784,6596.01369,11561.07365,9141.668545,10769.75059,14297.25366,10373.00856,16978.52745,8769.290288,8611.468093,893.2353408,594.8049491,6924.106833,10711.44472,10072.48298,9831.184792,13308.87932,6736.75168,6995.902524,12301.45679,10611.60686,14013.03451,9391.341628],\"xaxis\":\"x\",\"y\":[35321.45877,45115.52566,42925.70921,67422.36313,55915.46248,56611.99784,28925.70549,47434.98265,48013.6141,38189.50601,59045.51309,42288.81046,28700.0334,49258.87571,49510.03356,53017.26723,41814.72067,43901.71244,44633.99241,54827.52403,51130.95379,43402.31525,47240.86004,46635.49432,45078.40193,44387.58412,37161.55393,49091.97185,58350.31809,43994.35972,17584.56963,44650.36073,66363.89316,53489.46214,39810.34817,51612.14311,38978.67458,10092.22509,35928.52404,54823.19221,45805.67186,41567.47033,28031.20985,27815.73813,68678.4352,68925.09447,34215.7615,37843.46619,37883.24231,48734.35708,27187.23914,63738.39065,48266.75516,46381.13111,31978.9799,48100.29052,47380.91224,41425.00116,38147.81018,32737.80177,37348.13737,47483.85316,49730.53339,40093.61981,42297.5062,52954.93121,48104.11184,43680.91327,52707.96816,49392.8897,30841.00154,49373.37555,41903.65171,45058.8969,52991.52667,50958.08115,41357.17897,44434.71917,38502.42392,41221.24918,38399.46139,41456.68097,30394.82494,42384.05128,39002.0771,19553.2739,45167.32542,36019.9556,50937.93844,12895.71468,38955.21919,51221.04249,25971.95673,60670.33672,54075.12064,40004.87142,61593.52058,39503.38829,52474.71839,42187.6828,57441.44414,22681.71667,33640.73697,31540.77868,60461.24268,45738.3343,34803.82395,34642.6024,27586.71854,54973.02495,49142.51174,58840.53964,57306.32866,51941.6756,30240.60975,67120.89878,42408.02625,41451.71843,42592.88647,34521.17618,42213.69644,41913.53713,59416.18101,51402.61506,54755.42038,47143.44008,64391.68906,37252.55194,52665.36511,44001.20706,51551.67997,38243.66481,39766.64804,40077.57289,33131.52734,48622.66097,47693.23482,39410.4616,33428.40183,32700.27871,62864.43011,29425.83001,44418.60955,36645.5609,53655.53859,45977.12502,38504.39444,47935.9394,60222.22672,38930.55234,27810.21814,47604.34591,42356.6895,31300.54347,42369.64247,31837.22537,26499.31418,38172.83602,39433.40631,37714.31659,57125.41541,46453.34819,43855.06077,55592.70383,42484.02283,40879.19107,20653.21409,35438.80549,36112.79346,38182.30465,41026.02421,27889.95197,43724.4896,57430.76903,41104.07108,49050.85378,41265.52929,64545.16339,29052.09521,30719.8156,38763.11306,39331.20127,32608.45468,58045.56257,54387.27727,36638.20688,39522.13129,42978.34626,60865.76396,46380.44732,56579.90338,42774.35579,37879.65385,45208.42539,56229.4127,50455.11935,49721.31082,31696.99679,49220.0218,46188.83514,36086.93161,43264.04965,40660.38317,51683.60859,44525.02085,48518.90163,45805.30588,54850.38742,32478.44758,42209.28948,55125.93237,47984.42062,43405.89086,44577.44829,37744.54285,47805.25605,44846.68557,46643.26581,56563.98675,41673.44617,61118.46947,37303.56701,46892.26617,56457.74038,45509.69732,27625.44144,46389.50237,29002.05665,51355.7106,42011.19965,52654.40455,44432.71747,46054.60253,58235.41454,42990.29255,50702.18103,47009.57741,49399.97041,42997.16761,44434.98419,46325.50959,46846.7305,56499.10202,42773.75905,52313.98392,34139.6373,60763.24731,66158.69494,31215.6421,46135.27233,56973.18105,24184.07443,49079.61942,37093.92033,43401.56612,29092.1311,48349.16457,33261.00057,41327.16554,49336.11628,51405.55229,31249.98803,43598.96993,48300.02057,54013.47595,38674.66038,37076.82508,37947.85125,41320.07256,66888.93694,12536.93842,39549.13039,52709.08196,53502.97742,52116.90791,38705.65839,48025.02542,59483.91183,35911.64559,41034.28343,51730.17434,53021.86074,32828.03477,29417.64694,57461.51158,50441.62427,41575.34739,46412.47781,47610.11718,70878.29664,55543.38497,53848.7555,39904.81613,44736.41097,46937.17422,28440.81268,38148.00163,42747.53925,29670.83337,63038.20422,63248.76188,42321.56548,44463.30502,67092.23276,22091.11839,40022.17406,56071.61377,49442.12107,42497.72862,37084.77621,51866.48719,35716.31133,39892.93343,35781.16156,42866.21274,80000.0,60526.97788,59758.73247,39606.24598,58641.71051,52983.89411,50666.88173,59625.02618,22630.25982,41137.89459,53496.48183,36543.93642,43503.97349,31146.71078,31526.04931,31083.70271,45366.35963,25252.93221,39888.59789,52240.72866,39911.6116,45857.75365,30826.10903,39422.79389,34678.83226,23517.91983,28733.68779,59096.26978,50188.86612,35659.12237,46398.35204,32291.18978,49079.29461,49348.88394,41427.59797,24221.99937,44424.07681,60390.06616,42793.9932,46935.72774,58667.06865,38042.80065,39270.57909,54606.18769,39083.94268,47984.12043,46082.80993,30964.07804,35726.95299,49065.1634,48955.85816,37183.10293,46710.52519,52889.56257,29754.66271,60960.83428,39975.43302,38545.80328,56764.44728,63079.84329,55700.83389,36367.18452,52477.83479,50296.67496,37259.84386,47715.96049,29540.87013,60567.18837,36125.48846,57303.87131,51922.07691,35848.82935,42704.3221,55174.98946,26599.90843,53993.44322,47970.76767,43641.65727,41679.7929,63140.05082,30757.65726,65592.22012,37871.7082,42919.5196,22599.45863,70598.96768,43242.58224,38138.57511,30419.8,63868.94051,45112.94547,44361.87507,19525.29827,49991.60697,61731.71426,41769.38288,46402.53583,37376.63439,33766.6413,30667.60927,52056.41478,30736.5798,39439.45349,38174.87433,40589.8625,62028.71192,48465.27211,40095.0498,49568.47685,31408.62631,47719.47741,35784.42411,42905.53815,48516.84335,45593.6849,32061.6467,32208.37522,35475.00344,29519.56184,55420.56668,42139.64528,50539.90169,34922.42846,43898.2733,39135.03023,41147.46679,24134.59205,42705.11311,38901.60925,28645.39425,52150.41786,66648.25077,42909.27129,49248.10595,27303.17104,47869.82593,59984.16361,45271.46081,9000.0,46012.10616,32967.20191,48785.15839,45824.5656,40102.11417,35457.1486,29556.7932,38243.06228,44430.63323,51046.42226,52570.36517,61404.22578,28463.64326,27586.20078,47979.48549,28164.86039,69669.47402,48052.65091,37364.23474,44500.81936,35139.24793,55167.37361,48383.69071,35823.55471,36517.70996,53110.88052,53049.44567,21471.11367,45015.67953,55377.87697,56510.13294,47443.74443,41489.64123,32553.53423,41984.62412,59538.40327,41352.47071,52785.16947,60117.67886,47760.66427,64188.26862,48901.44342,31491.41457,64147.28888,45442.15353,45107.22566],\"yaxis\":\"y\",\"type\":\"scatter\"}],                        {\"template\":{\"data\":{\"histogram2dcontour\":[{\"type\":\"histogram2dcontour\",\"colorbar\":{\"outlinewidth\":0,\"ticks\":\"\"},\"colorscale\":[[0.0,\"#0d0887\"],[0.1111111111111111,\"#46039f\"],[0.2222222222222222,\"#7201a8\"],[0.3333333333333333,\"#9c179e\"],[0.4444444444444444,\"#bd3786\"],[0.5555555555555556,\"#d8576b\"],[0.6666666666666666,\"#ed7953\"],[0.7777777777777778,\"#fb9f3a\"],[0.8888888888888888,\"#fdca26\"],[1.0,\"#f0f921\"]]}],\"choropleth\":[{\"type\":\"choropleth\",\"colorbar\":{\"outlinewidth\":0,\"ticks\":\"\"}}],\"histogram2d\":[{\"type\":\"histogram2d\",\"colorbar\":{\"outlinewidth\":0,\"ticks\":\"\"},\"colorscale\":[[0.0,\"#0d0887\"],[0.1111111111111111,\"#46039f\"],[0.2222222222222222,\"#7201a8\"],[0.3333333333333333,\"#9c179e\"],[0.4444444444444444,\"#bd3786\"],[0.5555555555555556,\"#d8576b\"],[0.6666666666666666,\"#ed7953\"],[0.7777777777777778,\"#fb9f3a\"],[0.8888888888888888,\"#fdca26\"],[1.0,\"#f0f921\"]]}],\"heatmap\":[{\"type\":\"heatmap\",\"colorbar\":{\"outlinewidth\":0,\"ticks\":\"\"},\"colorscale\":[[0.0,\"#0d0887\"],[0.1111111111111111,\"#46039f\"],[0.2222222222222222,\"#7201a8\"],[0.3333333333333333,\"#9c179e\"],[0.4444444444444444,\"#bd3786\"],[0.5555555555555556,\"#d8576b\"],[0.6666666666666666,\"#ed7953\"],[0.7777777777777778,\"#fb9f3a\"],[0.8888888888888888,\"#fdca26\"],[1.0,\"#f0f921\"]]}],\"heatmapgl\":[{\"type\":\"heatmapgl\",\"colorbar\":{\"outlinewidth\":0,\"ticks\":\"\"},\"colorscale\":[[0.0,\"#0d0887\"],[0.1111111111111111,\"#46039f\"],[0.2222222222222222,\"#7201a8\"],[0.3333333333333333,\"#9c179e\"],[0.4444444444444444,\"#bd3786\"],[0.5555555555555556,\"#d8576b\"],[0.6666666666666666,\"#ed7953\"],[0.7777777777777778,\"#fb9f3a\"],[0.8888888888888888,\"#fdca26\"],[1.0,\"#f0f921\"]]}],\"contourcarpet\":[{\"type\":\"contourcarpet\",\"colorbar\":{\"outlinewidth\":0,\"ticks\":\"\"}}],\"contour\":[{\"type\":\"contour\",\"colorbar\":{\"outlinewidth\":0,\"ticks\":\"\"},\"colorscale\":[[0.0,\"#0d0887\"],[0.1111111111111111,\"#46039f\"],[0.2222222222222222,\"#7201a8\"],[0.3333333333333333,\"#9c179e\"],[0.4444444444444444,\"#bd3786\"],[0.5555555555555556,\"#d8576b\"],[0.6666666666666666,\"#ed7953\"],[0.7777777777777778,\"#fb9f3a\"],[0.8888888888888888,\"#fdca26\"],[1.0,\"#f0f921\"]]}],\"surface\":[{\"type\":\"surface\",\"colorbar\":{\"outlinewidth\":0,\"ticks\":\"\"},\"colorscale\":[[0.0,\"#0d0887\"],[0.1111111111111111,\"#46039f\"],[0.2222222222222222,\"#7201a8\"],[0.3333333333333333,\"#9c179e\"],[0.4444444444444444,\"#bd3786\"],[0.5555555555555556,\"#d8576b\"],[0.6666666666666666,\"#ed7953\"],[0.7777777777777778,\"#fb9f3a\"],[0.8888888888888888,\"#fdca26\"],[1.0,\"#f0f921\"]]}],\"mesh3d\":[{\"type\":\"mesh3d\",\"colorbar\":{\"outlinewidth\":0,\"ticks\":\"\"}}],\"scatter\":[{\"fillpattern\":{\"fillmode\":\"overlay\",\"size\":10,\"solidity\":0.2},\"type\":\"scatter\"}],\"parcoords\":[{\"type\":\"parcoords\",\"line\":{\"colorbar\":{\"outlinewidth\":0,\"ticks\":\"\"}}}],\"scatterpolargl\":[{\"type\":\"scatterpolargl\",\"marker\":{\"colorbar\":{\"outlinewidth\":0,\"ticks\":\"\"}}}],\"bar\":[{\"error_x\":{\"color\":\"#2a3f5f\"},\"error_y\":{\"color\":\"#2a3f5f\"},\"marker\":{\"line\":{\"color\":\"#E5ECF6\",\"width\":0.5},\"pattern\":{\"fillmode\":\"overlay\",\"size\":10,\"solidity\":0.2}},\"type\":\"bar\"}],\"scattergeo\":[{\"type\":\"scattergeo\",\"marker\":{\"colorbar\":{\"outlinewidth\":0,\"ticks\":\"\"}}}],\"scatterpolar\":[{\"type\":\"scatterpolar\",\"marker\":{\"colorbar\":{\"outlinewidth\":0,\"ticks\":\"\"}}}],\"histogram\":[{\"marker\":{\"pattern\":{\"fillmode\":\"overlay\",\"size\":10,\"solidity\":0.2}},\"type\":\"histogram\"}],\"scattergl\":[{\"type\":\"scattergl\",\"marker\":{\"colorbar\":{\"outlinewidth\":0,\"ticks\":\"\"}}}],\"scatter3d\":[{\"type\":\"scatter3d\",\"line\":{\"colorbar\":{\"outlinewidth\":0,\"ticks\":\"\"}},\"marker\":{\"colorbar\":{\"outlinewidth\":0,\"ticks\":\"\"}}}],\"scattermapbox\":[{\"type\":\"scattermapbox\",\"marker\":{\"colorbar\":{\"outlinewidth\":0,\"ticks\":\"\"}}}],\"scatterternary\":[{\"type\":\"scatterternary\",\"marker\":{\"colorbar\":{\"outlinewidth\":0,\"ticks\":\"\"}}}],\"scattercarpet\":[{\"type\":\"scattercarpet\",\"marker\":{\"colorbar\":{\"outlinewidth\":0,\"ticks\":\"\"}}}],\"carpet\":[{\"aaxis\":{\"endlinecolor\":\"#2a3f5f\",\"gridcolor\":\"white\",\"linecolor\":\"white\",\"minorgridcolor\":\"white\",\"startlinecolor\":\"#2a3f5f\"},\"baxis\":{\"endlinecolor\":\"#2a3f5f\",\"gridcolor\":\"white\",\"linecolor\":\"white\",\"minorgridcolor\":\"white\",\"startlinecolor\":\"#2a3f5f\"},\"type\":\"carpet\"}],\"table\":[{\"cells\":{\"fill\":{\"color\":\"#EBF0F8\"},\"line\":{\"color\":\"white\"}},\"header\":{\"fill\":{\"color\":\"#C8D4E3\"},\"line\":{\"color\":\"white\"}},\"type\":\"table\"}],\"barpolar\":[{\"marker\":{\"line\":{\"color\":\"#E5ECF6\",\"width\":0.5},\"pattern\":{\"fillmode\":\"overlay\",\"size\":10,\"solidity\":0.2}},\"type\":\"barpolar\"}],\"pie\":[{\"automargin\":true,\"type\":\"pie\"}]},\"layout\":{\"autotypenumbers\":\"strict\",\"colorway\":[\"#636efa\",\"#EF553B\",\"#00cc96\",\"#ab63fa\",\"#FFA15A\",\"#19d3f3\",\"#FF6692\",\"#B6E880\",\"#FF97FF\",\"#FECB52\"],\"font\":{\"color\":\"#2a3f5f\"},\"hovermode\":\"closest\",\"hoverlabel\":{\"align\":\"left\"},\"paper_bgcolor\":\"white\",\"plot_bgcolor\":\"#E5ECF6\",\"polar\":{\"bgcolor\":\"#E5ECF6\",\"angularaxis\":{\"gridcolor\":\"white\",\"linecolor\":\"white\",\"ticks\":\"\"},\"radialaxis\":{\"gridcolor\":\"white\",\"linecolor\":\"white\",\"ticks\":\"\"}},\"ternary\":{\"bgcolor\":\"#E5ECF6\",\"aaxis\":{\"gridcolor\":\"white\",\"linecolor\":\"white\",\"ticks\":\"\"},\"baxis\":{\"gridcolor\":\"white\",\"linecolor\":\"white\",\"ticks\":\"\"},\"caxis\":{\"gridcolor\":\"white\",\"linecolor\":\"white\",\"ticks\":\"\"}},\"coloraxis\":{\"colorbar\":{\"outlinewidth\":0,\"ticks\":\"\"}},\"colorscale\":{\"sequential\":[[0.0,\"#0d0887\"],[0.1111111111111111,\"#46039f\"],[0.2222222222222222,\"#7201a8\"],[0.3333333333333333,\"#9c179e\"],[0.4444444444444444,\"#bd3786\"],[0.5555555555555556,\"#d8576b\"],[0.6666666666666666,\"#ed7953\"],[0.7777777777777778,\"#fb9f3a\"],[0.8888888888888888,\"#fdca26\"],[1.0,\"#f0f921\"]],\"sequentialminus\":[[0.0,\"#0d0887\"],[0.1111111111111111,\"#46039f\"],[0.2222222222222222,\"#7201a8\"],[0.3333333333333333,\"#9c179e\"],[0.4444444444444444,\"#bd3786\"],[0.5555555555555556,\"#d8576b\"],[0.6666666666666666,\"#ed7953\"],[0.7777777777777778,\"#fb9f3a\"],[0.8888888888888888,\"#fdca26\"],[1.0,\"#f0f921\"]],\"diverging\":[[0,\"#8e0152\"],[0.1,\"#c51b7d\"],[0.2,\"#de77ae\"],[0.3,\"#f1b6da\"],[0.4,\"#fde0ef\"],[0.5,\"#f7f7f7\"],[0.6,\"#e6f5d0\"],[0.7,\"#b8e186\"],[0.8,\"#7fbc41\"],[0.9,\"#4d9221\"],[1,\"#276419\"]]},\"xaxis\":{\"gridcolor\":\"white\",\"linecolor\":\"white\",\"ticks\":\"\",\"title\":{\"standoff\":15},\"zerolinecolor\":\"white\",\"automargin\":true,\"zerolinewidth\":2},\"yaxis\":{\"gridcolor\":\"white\",\"linecolor\":\"white\",\"ticks\":\"\",\"title\":{\"standoff\":15},\"zerolinecolor\":\"white\",\"automargin\":true,\"zerolinewidth\":2},\"scene\":{\"xaxis\":{\"backgroundcolor\":\"#E5ECF6\",\"gridcolor\":\"white\",\"linecolor\":\"white\",\"showbackground\":true,\"ticks\":\"\",\"zerolinecolor\":\"white\",\"gridwidth\":2},\"yaxis\":{\"backgroundcolor\":\"#E5ECF6\",\"gridcolor\":\"white\",\"linecolor\":\"white\",\"showbackground\":true,\"ticks\":\"\",\"zerolinecolor\":\"white\",\"gridwidth\":2},\"zaxis\":{\"backgroundcolor\":\"#E5ECF6\",\"gridcolor\":\"white\",\"linecolor\":\"white\",\"showbackground\":true,\"ticks\":\"\",\"zerolinecolor\":\"white\",\"gridwidth\":2}},\"shapedefaults\":{\"line\":{\"color\":\"#2a3f5f\"}},\"annotationdefaults\":{\"arrowcolor\":\"#2a3f5f\",\"arrowhead\":0,\"arrowwidth\":1},\"geo\":{\"bgcolor\":\"white\",\"landcolor\":\"#E5ECF6\",\"subunitcolor\":\"white\",\"showland\":true,\"showlakes\":true,\"lakecolor\":\"white\"},\"title\":{\"x\":0.05},\"mapbox\":{\"style\":\"light\"}}},\"xaxis\":{\"anchor\":\"y\",\"domain\":[0.0,1.0],\"title\":{\"text\":\"credit card debt\"}},\"yaxis\":{\"anchor\":\"x\",\"domain\":[0.0,1.0],\"title\":{\"text\":\"car purchase amount\"}},\"coloraxis\":{\"colorbar\":{\"title\":{\"text\":\"credit card debt\"}},\"colorscale\":[[0.0,\"#0d0887\"],[0.1111111111111111,\"#46039f\"],[0.2222222222222222,\"#7201a8\"],[0.3333333333333333,\"#9c179e\"],[0.4444444444444444,\"#bd3786\"],[0.5555555555555556,\"#d8576b\"],[0.6666666666666666,\"#ed7953\"],[0.7777777777777778,\"#fb9f3a\"],[0.8888888888888888,\"#fdca26\"],[1.0,\"#f0f921\"]]},\"legend\":{\"tracegroupgap\":0},\"title\":{\"text\":\"\\u003cb\\u003ecredit card debt Versus purchase amount\"}},                        {\"responsive\": true}                    ).then(function(){\n",
       "                            \n",
       "var gd = document.getElementById('3ed9de94-a0d6-4859-91c1-bee988ffc9eb');\n",
       "var x = new MutationObserver(function (mutations, observer) {{\n",
       "        var display = window.getComputedStyle(gd).display;\n",
       "        if (!display || display === 'none') {{\n",
       "            console.log([gd, 'removed!']);\n",
       "            Plotly.purge(gd);\n",
       "            observer.disconnect();\n",
       "        }}\n",
       "}});\n",
       "\n",
       "// Listen for the removal of the full notebook cells\n",
       "var notebookContainer = gd.closest('#notebook-container');\n",
       "if (notebookContainer) {{\n",
       "    x.observe(notebookContainer, {childList: true});\n",
       "}}\n",
       "\n",
       "// Listen for the clearing of the current output cell\n",
       "var outputEl = gd.closest('.output');\n",
       "if (outputEl) {{\n",
       "    x.observe(outputEl, {childList: true});\n",
       "}}\n",
       "\n",
       "                        })                };                });            </script>        </div>"
      ]
     },
     "metadata": {},
     "output_type": "display_data"
    }
   ],
   "source": [
    "px.scatter(df,x='credit card debt',y='car purchase amount',color='credit card debt',title='<b>credit card debt Versus purchase amount')"
   ]
  },
  {
   "cell_type": "code",
   "execution_count": 10,
   "id": "39a65185",
   "metadata": {
    "execution": {
     "iopub.execute_input": "2023-12-10T07:09:15.068754Z",
     "iopub.status.busy": "2023-12-10T07:09:15.067966Z",
     "iopub.status.idle": "2023-12-10T07:09:15.172672Z",
     "shell.execute_reply": "2023-12-10T07:09:15.171791Z"
    },
    "papermill": {
     "duration": 0.121718,
     "end_time": "2023-12-10T07:09:15.175036",
     "exception": false,
     "start_time": "2023-12-10T07:09:15.053318",
     "status": "completed"
    },
    "tags": []
   },
   "outputs": [
    {
     "data": {
      "text/html": [
       "<div>                            <div id=\"470f69d6-ad1b-411d-8493-518d49b625f3\" class=\"plotly-graph-div\" style=\"height:525px; width:100%;\"></div>            <script type=\"text/javascript\">                require([\"plotly\"], function(Plotly) {                    window.PLOTLYENV=window.PLOTLYENV || {};                                    if (document.getElementById(\"470f69d6-ad1b-411d-8493-518d49b625f3\")) {                    Plotly.newPlot(                        \"470f69d6-ad1b-411d-8493-518d49b625f3\",                        [{\"hovertemplate\":\"net worth=%{marker.color}\\u003cbr\\u003ecar purchase amount=%{y}\\u003cextra\\u003e\\u003c\\u002fextra\\u003e\",\"legendgroup\":\"\",\"marker\":{\"color\":[238961.2505,530973.9078,638467.1773,548599.0524,560304.0671,428485.3604,326373.1812,629312.4041,630059.0274,476643.3544,612738.6171,293862.5123,430907.1673,420322.0702,146344.8965,481433.4324,370356.2223,549443.5886,431098.9998,566022.1306,480588.2345,307226.0977,497526.4566,688466.0503,499086.3442,429440.3297,315775.3207,341691.9337,188032.0778,583230.976,319837.6593,486069.073,655934.4666,487435.964,215673.5384,612242.7755,430624.8142,326742.7352,213040.9606,379749.9152,513340.0097,410655.9947,348833.8403,299734.1278,497950.2933,853913.8532,320228.6451,158979.7102,390312.1715,527420.7269,451846.1995,779925.7892,455609.1429,583523.0762,353757.5057,438067.7506,468238.7915,636407.1148,409419.5797,286062.5162,615765.9289,476088.3996,242495.9886,246321.8916,456634.2073,662176.4851,301026.2206,573054.3808,662382.6623,356553.3996,230728.3008,411831.0371,481335.3582,473845.8546,355157.6417,506986.9824,344916.1768,309113.0627,278799.6958,540805.494,441527.0144,523251.2663,407401.3776,409293.2658,386128.1333,245664.3652,496856.4912,448601.9484,388498.5102,579181.6552,173079.1798,536665.0464,259049.2824,635512.3606,398746.8458,391848.6041,479586.9387,165866.2,515084.1891,759479.4596,706977.053,242292.92,404457.3099,537744.1324,891439.8761,296972.4085,450402.2932,386057.421,323453.2022,778537.2095,386287.0208,416540.299,562605.0655,565932.1861,238529.6336,659279.2011,325701.4083,244310.5736,790526.5507,573052.0119,411070.4828,408147.0405,692401.4668,588570.8903,586368.9293,407733.5229,651215.6435,53366.13861,167031.5554,567357.0264,339207.2774,291360.0291,271430.0543,502946.8819,362564.346,701782.528,580950.3967,401955.501,293999.9427,510039.1484,560593.416,174525.8426,260269.0963,262959.2506,316064.0338,254617.2609,510811.3695,581497.8874,378357.9385,375889.6381,85520.85055,633383.4925,562663.8116,475126.1252,449895.3046,20000.0,216355.3406,191168.4476,543789.7212,363561.1972,352507.9012,368344.0637,411045.8332,517480.0937,445745.5544,399124.4489,97706.89181,473101.0273,405550.1689,315183.5688,362707.0273,255922.473,416817.4673,278181.8354,498441.5687,613706.5421,357639.0334,546630.5284,427011.4954,340663.3261,211765.2494,415005.3584,478422.7973,613242.1668,350157.8394,322905.4592,520997.2385,251702.1158,623033.482,615672.4681,335652.6234,462613.8587,298246.0609,543313.3454,346555.1716,474763.4696,232607.3907,587010.5521,629764.2743,664431.3966,347017.8331,322150.3542,275389.0701,607395.0183,152012.353,490444.4111,619707.4203,571564.7901,491193.3773,261152.8211,299854.2186,371240.2413,465709.8937,196421.7402,396793.4734,478853.3217,279393.491,383693.2041,830430.3692,112127.2567,331460.4727,335809.6171,509543.0859,761935.5177,620522.3842,539365.9366,565814.725,74257.82785,234159.0793,358615.9327,563498.6636,48620.32123,494985.5363,545946.9996,734443.6969,568947.7487,252220.2937,513974.6812,168703.3385,455589.7973,492113.0067,586717.4715,333543.693,466988.2602,418764.5061,249182.7848,284991.7415,720423.8157,124979.0501,632600.4718,623487.5952,133226.0617,610942.1408,316906.6441,308445.8598,152883.3519,573441.9724,134188.4492,426488.7459,575500.7687,286849.7875,479685.9824,336867.7147,613372.8917,589669.6573,202710.1294,515305.4841,572037.8859,229070.5491,779143.6005,211168.6293,438491.876,521404.2386,811594.0392,552454.0263,613104.784,202576.6196,397700.1404,505897.3041,210573.7042,581620.4824,481513.5074,371355.6935,136346.3069,679435.1745,793986.6155,353929.5495,630411.2698,491904.1899,819002.1748,626163.832,239217.6732,221290.9818,222341.0342,266765.477,159727.8753,392177.789,587858.6295,606851.1696,684273.5913,577272.6805,225670.1288,625484.0917,474485.6659,275762.4836,579220.0393,472761.6208,556014.9704,315058.7167,149761.1281,497876.2478,364858.7148,579059.3132,69821.6376,244188.0008,1000000.0,765711.6025,493592.1764,305253.2658,787984.2882,427287.6277,521815.7353,622324.7499,290711.867,516738.1724,542777.4892,398011.5804,642335.1021,719846.9824,374777.6929,160487.0006,356213.0776,615720.0425,414034.6096,521061.1115,59630.07789,169714.2655,385250.7163,454791.7251,188327.5831,322891.7787,375654.1472,515717.7476,555993.1081,411932.8191,854283.5574,537572.1338,685541.6501,608019.6308,192514.6431,320834.0102,228434.0508,401916.0981,475263.2759,187821.0958,408679.8596,388898.069,377424.6157,236420.9695,366327.7432,253181.9789,551344.3365,549212.4268,589180.4485,600685.1915,27888.74525,432447.5324,137601.844,480468.247,62149.94034,387538.2487,508962.4874,360457.0496,712233.8241,657178.4135,856287.1522,528087.5277,749016.565,290608.3977,558001.0241,173272.8954,457116.1945,545125.9592,447393.4883,674190.6949,255285.4063,128387.9293,321431.279,627086.6563,281690.8431,762832.2606,595028.8431,466128.9118,416748.7309,660897.0146,291897.4057,724025.4097,388284.2974,343290.677,129635.6343,805075.5197,298920.0067,344060.1754,141587.6498,684209.551,456524.7944,201228.0206,283241.2769,266531.2969,365862.7818,151946.3089,472403.1231,376886.359,116407.5289,271414.7592,237185.1714,630120.001,355175.3677,552267.6361,205006.2161,762601.0836,482866.5457,297964.2638,267555.1178,461366.7829,365871.4992,394229.8972,357468.1866,790116.4252,601744.9607,258194.8443,392003.2864,205439.3663,228388.5491,508555.1592,421318.9764,622569.5959,217188.4056,320525.7282,265717.2542,601210.2803,284155.4155,487564.5541,297540.8814,494606.6334,245216.1691,622831.922,478428.7174,314885.1345,201636.866,419556.6198,621309.5863,507572.635,158758.3577,505048.7599,169475.9968,485563.7363,400703.2655,577058.1773,399437.5235,508528.9957,516817.3173,556945.8742,177878.1758,567842.1267,285326.3544,218808.7553,312927.9187,515012.2804,517110.9454,544291.9504,579640.7982,341330.7344,649323.7878,301245.7708,557098.9636,432850.4157,340720.5185,266939.1746,421891.846,531840.3342,276466.6203,247421.9185,620355.2658,360787.6401,571245.3714,522814.817,347177.8367,497197.264,664862.0102,316128.4002,294506.0844,523680.7699,349588.5608,665099.139,541670.1016,360419.0988,764531.3203,337826.6382,462946.4924],\"coloraxis\":\"coloraxis\",\"symbol\":\"circle\"},\"mode\":\"markers\",\"name\":\"\",\"orientation\":\"v\",\"showlegend\":false,\"x\":[238961.2505,530973.9078,638467.1773,548599.0524,560304.0671,428485.3604,326373.1812,629312.4041,630059.0274,476643.3544,612738.6171,293862.5123,430907.1673,420322.0702,146344.8965,481433.4324,370356.2223,549443.5886,431098.9998,566022.1306,480588.2345,307226.0977,497526.4566,688466.0503,499086.3442,429440.3297,315775.3207,341691.9337,188032.0778,583230.976,319837.6593,486069.073,655934.4666,487435.964,215673.5384,612242.7755,430624.8142,326742.7352,213040.9606,379749.9152,513340.0097,410655.9947,348833.8403,299734.1278,497950.2933,853913.8532,320228.6451,158979.7102,390312.1715,527420.7269,451846.1995,779925.7892,455609.1429,583523.0762,353757.5057,438067.7506,468238.7915,636407.1148,409419.5797,286062.5162,615765.9289,476088.3996,242495.9886,246321.8916,456634.2073,662176.4851,301026.2206,573054.3808,662382.6623,356553.3996,230728.3008,411831.0371,481335.3582,473845.8546,355157.6417,506986.9824,344916.1768,309113.0627,278799.6958,540805.494,441527.0144,523251.2663,407401.3776,409293.2658,386128.1333,245664.3652,496856.4912,448601.9484,388498.5102,579181.6552,173079.1798,536665.0464,259049.2824,635512.3606,398746.8458,391848.6041,479586.9387,165866.2,515084.1891,759479.4596,706977.053,242292.92,404457.3099,537744.1324,891439.8761,296972.4085,450402.2932,386057.421,323453.2022,778537.2095,386287.0208,416540.299,562605.0655,565932.1861,238529.6336,659279.2011,325701.4083,244310.5736,790526.5507,573052.0119,411070.4828,408147.0405,692401.4668,588570.8903,586368.9293,407733.5229,651215.6435,53366.13861,167031.5554,567357.0264,339207.2774,291360.0291,271430.0543,502946.8819,362564.346,701782.528,580950.3967,401955.501,293999.9427,510039.1484,560593.416,174525.8426,260269.0963,262959.2506,316064.0338,254617.2609,510811.3695,581497.8874,378357.9385,375889.6381,85520.85055,633383.4925,562663.8116,475126.1252,449895.3046,20000.0,216355.3406,191168.4476,543789.7212,363561.1972,352507.9012,368344.0637,411045.8332,517480.0937,445745.5544,399124.4489,97706.89181,473101.0273,405550.1689,315183.5688,362707.0273,255922.473,416817.4673,278181.8354,498441.5687,613706.5421,357639.0334,546630.5284,427011.4954,340663.3261,211765.2494,415005.3584,478422.7973,613242.1668,350157.8394,322905.4592,520997.2385,251702.1158,623033.482,615672.4681,335652.6234,462613.8587,298246.0609,543313.3454,346555.1716,474763.4696,232607.3907,587010.5521,629764.2743,664431.3966,347017.8331,322150.3542,275389.0701,607395.0183,152012.353,490444.4111,619707.4203,571564.7901,491193.3773,261152.8211,299854.2186,371240.2413,465709.8937,196421.7402,396793.4734,478853.3217,279393.491,383693.2041,830430.3692,112127.2567,331460.4727,335809.6171,509543.0859,761935.5177,620522.3842,539365.9366,565814.725,74257.82785,234159.0793,358615.9327,563498.6636,48620.32123,494985.5363,545946.9996,734443.6969,568947.7487,252220.2937,513974.6812,168703.3385,455589.7973,492113.0067,586717.4715,333543.693,466988.2602,418764.5061,249182.7848,284991.7415,720423.8157,124979.0501,632600.4718,623487.5952,133226.0617,610942.1408,316906.6441,308445.8598,152883.3519,573441.9724,134188.4492,426488.7459,575500.7687,286849.7875,479685.9824,336867.7147,613372.8917,589669.6573,202710.1294,515305.4841,572037.8859,229070.5491,779143.6005,211168.6293,438491.876,521404.2386,811594.0392,552454.0263,613104.784,202576.6196,397700.1404,505897.3041,210573.7042,581620.4824,481513.5074,371355.6935,136346.3069,679435.1745,793986.6155,353929.5495,630411.2698,491904.1899,819002.1748,626163.832,239217.6732,221290.9818,222341.0342,266765.477,159727.8753,392177.789,587858.6295,606851.1696,684273.5913,577272.6805,225670.1288,625484.0917,474485.6659,275762.4836,579220.0393,472761.6208,556014.9704,315058.7167,149761.1281,497876.2478,364858.7148,579059.3132,69821.6376,244188.0008,1000000.0,765711.6025,493592.1764,305253.2658,787984.2882,427287.6277,521815.7353,622324.7499,290711.867,516738.1724,542777.4892,398011.5804,642335.1021,719846.9824,374777.6929,160487.0006,356213.0776,615720.0425,414034.6096,521061.1115,59630.07789,169714.2655,385250.7163,454791.7251,188327.5831,322891.7787,375654.1472,515717.7476,555993.1081,411932.8191,854283.5574,537572.1338,685541.6501,608019.6308,192514.6431,320834.0102,228434.0508,401916.0981,475263.2759,187821.0958,408679.8596,388898.069,377424.6157,236420.9695,366327.7432,253181.9789,551344.3365,549212.4268,589180.4485,600685.1915,27888.74525,432447.5324,137601.844,480468.247,62149.94034,387538.2487,508962.4874,360457.0496,712233.8241,657178.4135,856287.1522,528087.5277,749016.565,290608.3977,558001.0241,173272.8954,457116.1945,545125.9592,447393.4883,674190.6949,255285.4063,128387.9293,321431.279,627086.6563,281690.8431,762832.2606,595028.8431,466128.9118,416748.7309,660897.0146,291897.4057,724025.4097,388284.2974,343290.677,129635.6343,805075.5197,298920.0067,344060.1754,141587.6498,684209.551,456524.7944,201228.0206,283241.2769,266531.2969,365862.7818,151946.3089,472403.1231,376886.359,116407.5289,271414.7592,237185.1714,630120.001,355175.3677,552267.6361,205006.2161,762601.0836,482866.5457,297964.2638,267555.1178,461366.7829,365871.4992,394229.8972,357468.1866,790116.4252,601744.9607,258194.8443,392003.2864,205439.3663,228388.5491,508555.1592,421318.9764,622569.5959,217188.4056,320525.7282,265717.2542,601210.2803,284155.4155,487564.5541,297540.8814,494606.6334,245216.1691,622831.922,478428.7174,314885.1345,201636.866,419556.6198,621309.5863,507572.635,158758.3577,505048.7599,169475.9968,485563.7363,400703.2655,577058.1773,399437.5235,508528.9957,516817.3173,556945.8742,177878.1758,567842.1267,285326.3544,218808.7553,312927.9187,515012.2804,517110.9454,544291.9504,579640.7982,341330.7344,649323.7878,301245.7708,557098.9636,432850.4157,340720.5185,266939.1746,421891.846,531840.3342,276466.6203,247421.9185,620355.2658,360787.6401,571245.3714,522814.817,347177.8367,497197.264,664862.0102,316128.4002,294506.0844,523680.7699,349588.5608,665099.139,541670.1016,360419.0988,764531.3203,337826.6382,462946.4924],\"xaxis\":\"x\",\"y\":[35321.45877,45115.52566,42925.70921,67422.36313,55915.46248,56611.99784,28925.70549,47434.98265,48013.6141,38189.50601,59045.51309,42288.81046,28700.0334,49258.87571,49510.03356,53017.26723,41814.72067,43901.71244,44633.99241,54827.52403,51130.95379,43402.31525,47240.86004,46635.49432,45078.40193,44387.58412,37161.55393,49091.97185,58350.31809,43994.35972,17584.56963,44650.36073,66363.89316,53489.46214,39810.34817,51612.14311,38978.67458,10092.22509,35928.52404,54823.19221,45805.67186,41567.47033,28031.20985,27815.73813,68678.4352,68925.09447,34215.7615,37843.46619,37883.24231,48734.35708,27187.23914,63738.39065,48266.75516,46381.13111,31978.9799,48100.29052,47380.91224,41425.00116,38147.81018,32737.80177,37348.13737,47483.85316,49730.53339,40093.61981,42297.5062,52954.93121,48104.11184,43680.91327,52707.96816,49392.8897,30841.00154,49373.37555,41903.65171,45058.8969,52991.52667,50958.08115,41357.17897,44434.71917,38502.42392,41221.24918,38399.46139,41456.68097,30394.82494,42384.05128,39002.0771,19553.2739,45167.32542,36019.9556,50937.93844,12895.71468,38955.21919,51221.04249,25971.95673,60670.33672,54075.12064,40004.87142,61593.52058,39503.38829,52474.71839,42187.6828,57441.44414,22681.71667,33640.73697,31540.77868,60461.24268,45738.3343,34803.82395,34642.6024,27586.71854,54973.02495,49142.51174,58840.53964,57306.32866,51941.6756,30240.60975,67120.89878,42408.02625,41451.71843,42592.88647,34521.17618,42213.69644,41913.53713,59416.18101,51402.61506,54755.42038,47143.44008,64391.68906,37252.55194,52665.36511,44001.20706,51551.67997,38243.66481,39766.64804,40077.57289,33131.52734,48622.66097,47693.23482,39410.4616,33428.40183,32700.27871,62864.43011,29425.83001,44418.60955,36645.5609,53655.53859,45977.12502,38504.39444,47935.9394,60222.22672,38930.55234,27810.21814,47604.34591,42356.6895,31300.54347,42369.64247,31837.22537,26499.31418,38172.83602,39433.40631,37714.31659,57125.41541,46453.34819,43855.06077,55592.70383,42484.02283,40879.19107,20653.21409,35438.80549,36112.79346,38182.30465,41026.02421,27889.95197,43724.4896,57430.76903,41104.07108,49050.85378,41265.52929,64545.16339,29052.09521,30719.8156,38763.11306,39331.20127,32608.45468,58045.56257,54387.27727,36638.20688,39522.13129,42978.34626,60865.76396,46380.44732,56579.90338,42774.35579,37879.65385,45208.42539,56229.4127,50455.11935,49721.31082,31696.99679,49220.0218,46188.83514,36086.93161,43264.04965,40660.38317,51683.60859,44525.02085,48518.90163,45805.30588,54850.38742,32478.44758,42209.28948,55125.93237,47984.42062,43405.89086,44577.44829,37744.54285,47805.25605,44846.68557,46643.26581,56563.98675,41673.44617,61118.46947,37303.56701,46892.26617,56457.74038,45509.69732,27625.44144,46389.50237,29002.05665,51355.7106,42011.19965,52654.40455,44432.71747,46054.60253,58235.41454,42990.29255,50702.18103,47009.57741,49399.97041,42997.16761,44434.98419,46325.50959,46846.7305,56499.10202,42773.75905,52313.98392,34139.6373,60763.24731,66158.69494,31215.6421,46135.27233,56973.18105,24184.07443,49079.61942,37093.92033,43401.56612,29092.1311,48349.16457,33261.00057,41327.16554,49336.11628,51405.55229,31249.98803,43598.96993,48300.02057,54013.47595,38674.66038,37076.82508,37947.85125,41320.07256,66888.93694,12536.93842,39549.13039,52709.08196,53502.97742,52116.90791,38705.65839,48025.02542,59483.91183,35911.64559,41034.28343,51730.17434,53021.86074,32828.03477,29417.64694,57461.51158,50441.62427,41575.34739,46412.47781,47610.11718,70878.29664,55543.38497,53848.7555,39904.81613,44736.41097,46937.17422,28440.81268,38148.00163,42747.53925,29670.83337,63038.20422,63248.76188,42321.56548,44463.30502,67092.23276,22091.11839,40022.17406,56071.61377,49442.12107,42497.72862,37084.77621,51866.48719,35716.31133,39892.93343,35781.16156,42866.21274,80000.0,60526.97788,59758.73247,39606.24598,58641.71051,52983.89411,50666.88173,59625.02618,22630.25982,41137.89459,53496.48183,36543.93642,43503.97349,31146.71078,31526.04931,31083.70271,45366.35963,25252.93221,39888.59789,52240.72866,39911.6116,45857.75365,30826.10903,39422.79389,34678.83226,23517.91983,28733.68779,59096.26978,50188.86612,35659.12237,46398.35204,32291.18978,49079.29461,49348.88394,41427.59797,24221.99937,44424.07681,60390.06616,42793.9932,46935.72774,58667.06865,38042.80065,39270.57909,54606.18769,39083.94268,47984.12043,46082.80993,30964.07804,35726.95299,49065.1634,48955.85816,37183.10293,46710.52519,52889.56257,29754.66271,60960.83428,39975.43302,38545.80328,56764.44728,63079.84329,55700.83389,36367.18452,52477.83479,50296.67496,37259.84386,47715.96049,29540.87013,60567.18837,36125.48846,57303.87131,51922.07691,35848.82935,42704.3221,55174.98946,26599.90843,53993.44322,47970.76767,43641.65727,41679.7929,63140.05082,30757.65726,65592.22012,37871.7082,42919.5196,22599.45863,70598.96768,43242.58224,38138.57511,30419.8,63868.94051,45112.94547,44361.87507,19525.29827,49991.60697,61731.71426,41769.38288,46402.53583,37376.63439,33766.6413,30667.60927,52056.41478,30736.5798,39439.45349,38174.87433,40589.8625,62028.71192,48465.27211,40095.0498,49568.47685,31408.62631,47719.47741,35784.42411,42905.53815,48516.84335,45593.6849,32061.6467,32208.37522,35475.00344,29519.56184,55420.56668,42139.64528,50539.90169,34922.42846,43898.2733,39135.03023,41147.46679,24134.59205,42705.11311,38901.60925,28645.39425,52150.41786,66648.25077,42909.27129,49248.10595,27303.17104,47869.82593,59984.16361,45271.46081,9000.0,46012.10616,32967.20191,48785.15839,45824.5656,40102.11417,35457.1486,29556.7932,38243.06228,44430.63323,51046.42226,52570.36517,61404.22578,28463.64326,27586.20078,47979.48549,28164.86039,69669.47402,48052.65091,37364.23474,44500.81936,35139.24793,55167.37361,48383.69071,35823.55471,36517.70996,53110.88052,53049.44567,21471.11367,45015.67953,55377.87697,56510.13294,47443.74443,41489.64123,32553.53423,41984.62412,59538.40327,41352.47071,52785.16947,60117.67886,47760.66427,64188.26862,48901.44342,31491.41457,64147.28888,45442.15353,45107.22566],\"yaxis\":\"y\",\"type\":\"scatter\"}],                        {\"template\":{\"data\":{\"histogram2dcontour\":[{\"type\":\"histogram2dcontour\",\"colorbar\":{\"outlinewidth\":0,\"ticks\":\"\"},\"colorscale\":[[0.0,\"#0d0887\"],[0.1111111111111111,\"#46039f\"],[0.2222222222222222,\"#7201a8\"],[0.3333333333333333,\"#9c179e\"],[0.4444444444444444,\"#bd3786\"],[0.5555555555555556,\"#d8576b\"],[0.6666666666666666,\"#ed7953\"],[0.7777777777777778,\"#fb9f3a\"],[0.8888888888888888,\"#fdca26\"],[1.0,\"#f0f921\"]]}],\"choropleth\":[{\"type\":\"choropleth\",\"colorbar\":{\"outlinewidth\":0,\"ticks\":\"\"}}],\"histogram2d\":[{\"type\":\"histogram2d\",\"colorbar\":{\"outlinewidth\":0,\"ticks\":\"\"},\"colorscale\":[[0.0,\"#0d0887\"],[0.1111111111111111,\"#46039f\"],[0.2222222222222222,\"#7201a8\"],[0.3333333333333333,\"#9c179e\"],[0.4444444444444444,\"#bd3786\"],[0.5555555555555556,\"#d8576b\"],[0.6666666666666666,\"#ed7953\"],[0.7777777777777778,\"#fb9f3a\"],[0.8888888888888888,\"#fdca26\"],[1.0,\"#f0f921\"]]}],\"heatmap\":[{\"type\":\"heatmap\",\"colorbar\":{\"outlinewidth\":0,\"ticks\":\"\"},\"colorscale\":[[0.0,\"#0d0887\"],[0.1111111111111111,\"#46039f\"],[0.2222222222222222,\"#7201a8\"],[0.3333333333333333,\"#9c179e\"],[0.4444444444444444,\"#bd3786\"],[0.5555555555555556,\"#d8576b\"],[0.6666666666666666,\"#ed7953\"],[0.7777777777777778,\"#fb9f3a\"],[0.8888888888888888,\"#fdca26\"],[1.0,\"#f0f921\"]]}],\"heatmapgl\":[{\"type\":\"heatmapgl\",\"colorbar\":{\"outlinewidth\":0,\"ticks\":\"\"},\"colorscale\":[[0.0,\"#0d0887\"],[0.1111111111111111,\"#46039f\"],[0.2222222222222222,\"#7201a8\"],[0.3333333333333333,\"#9c179e\"],[0.4444444444444444,\"#bd3786\"],[0.5555555555555556,\"#d8576b\"],[0.6666666666666666,\"#ed7953\"],[0.7777777777777778,\"#fb9f3a\"],[0.8888888888888888,\"#fdca26\"],[1.0,\"#f0f921\"]]}],\"contourcarpet\":[{\"type\":\"contourcarpet\",\"colorbar\":{\"outlinewidth\":0,\"ticks\":\"\"}}],\"contour\":[{\"type\":\"contour\",\"colorbar\":{\"outlinewidth\":0,\"ticks\":\"\"},\"colorscale\":[[0.0,\"#0d0887\"],[0.1111111111111111,\"#46039f\"],[0.2222222222222222,\"#7201a8\"],[0.3333333333333333,\"#9c179e\"],[0.4444444444444444,\"#bd3786\"],[0.5555555555555556,\"#d8576b\"],[0.6666666666666666,\"#ed7953\"],[0.7777777777777778,\"#fb9f3a\"],[0.8888888888888888,\"#fdca26\"],[1.0,\"#f0f921\"]]}],\"surface\":[{\"type\":\"surface\",\"colorbar\":{\"outlinewidth\":0,\"ticks\":\"\"},\"colorscale\":[[0.0,\"#0d0887\"],[0.1111111111111111,\"#46039f\"],[0.2222222222222222,\"#7201a8\"],[0.3333333333333333,\"#9c179e\"],[0.4444444444444444,\"#bd3786\"],[0.5555555555555556,\"#d8576b\"],[0.6666666666666666,\"#ed7953\"],[0.7777777777777778,\"#fb9f3a\"],[0.8888888888888888,\"#fdca26\"],[1.0,\"#f0f921\"]]}],\"mesh3d\":[{\"type\":\"mesh3d\",\"colorbar\":{\"outlinewidth\":0,\"ticks\":\"\"}}],\"scatter\":[{\"fillpattern\":{\"fillmode\":\"overlay\",\"size\":10,\"solidity\":0.2},\"type\":\"scatter\"}],\"parcoords\":[{\"type\":\"parcoords\",\"line\":{\"colorbar\":{\"outlinewidth\":0,\"ticks\":\"\"}}}],\"scatterpolargl\":[{\"type\":\"scatterpolargl\",\"marker\":{\"colorbar\":{\"outlinewidth\":0,\"ticks\":\"\"}}}],\"bar\":[{\"error_x\":{\"color\":\"#2a3f5f\"},\"error_y\":{\"color\":\"#2a3f5f\"},\"marker\":{\"line\":{\"color\":\"#E5ECF6\",\"width\":0.5},\"pattern\":{\"fillmode\":\"overlay\",\"size\":10,\"solidity\":0.2}},\"type\":\"bar\"}],\"scattergeo\":[{\"type\":\"scattergeo\",\"marker\":{\"colorbar\":{\"outlinewidth\":0,\"ticks\":\"\"}}}],\"scatterpolar\":[{\"type\":\"scatterpolar\",\"marker\":{\"colorbar\":{\"outlinewidth\":0,\"ticks\":\"\"}}}],\"histogram\":[{\"marker\":{\"pattern\":{\"fillmode\":\"overlay\",\"size\":10,\"solidity\":0.2}},\"type\":\"histogram\"}],\"scattergl\":[{\"type\":\"scattergl\",\"marker\":{\"colorbar\":{\"outlinewidth\":0,\"ticks\":\"\"}}}],\"scatter3d\":[{\"type\":\"scatter3d\",\"line\":{\"colorbar\":{\"outlinewidth\":0,\"ticks\":\"\"}},\"marker\":{\"colorbar\":{\"outlinewidth\":0,\"ticks\":\"\"}}}],\"scattermapbox\":[{\"type\":\"scattermapbox\",\"marker\":{\"colorbar\":{\"outlinewidth\":0,\"ticks\":\"\"}}}],\"scatterternary\":[{\"type\":\"scatterternary\",\"marker\":{\"colorbar\":{\"outlinewidth\":0,\"ticks\":\"\"}}}],\"scattercarpet\":[{\"type\":\"scattercarpet\",\"marker\":{\"colorbar\":{\"outlinewidth\":0,\"ticks\":\"\"}}}],\"carpet\":[{\"aaxis\":{\"endlinecolor\":\"#2a3f5f\",\"gridcolor\":\"white\",\"linecolor\":\"white\",\"minorgridcolor\":\"white\",\"startlinecolor\":\"#2a3f5f\"},\"baxis\":{\"endlinecolor\":\"#2a3f5f\",\"gridcolor\":\"white\",\"linecolor\":\"white\",\"minorgridcolor\":\"white\",\"startlinecolor\":\"#2a3f5f\"},\"type\":\"carpet\"}],\"table\":[{\"cells\":{\"fill\":{\"color\":\"#EBF0F8\"},\"line\":{\"color\":\"white\"}},\"header\":{\"fill\":{\"color\":\"#C8D4E3\"},\"line\":{\"color\":\"white\"}},\"type\":\"table\"}],\"barpolar\":[{\"marker\":{\"line\":{\"color\":\"#E5ECF6\",\"width\":0.5},\"pattern\":{\"fillmode\":\"overlay\",\"size\":10,\"solidity\":0.2}},\"type\":\"barpolar\"}],\"pie\":[{\"automargin\":true,\"type\":\"pie\"}]},\"layout\":{\"autotypenumbers\":\"strict\",\"colorway\":[\"#636efa\",\"#EF553B\",\"#00cc96\",\"#ab63fa\",\"#FFA15A\",\"#19d3f3\",\"#FF6692\",\"#B6E880\",\"#FF97FF\",\"#FECB52\"],\"font\":{\"color\":\"#2a3f5f\"},\"hovermode\":\"closest\",\"hoverlabel\":{\"align\":\"left\"},\"paper_bgcolor\":\"white\",\"plot_bgcolor\":\"#E5ECF6\",\"polar\":{\"bgcolor\":\"#E5ECF6\",\"angularaxis\":{\"gridcolor\":\"white\",\"linecolor\":\"white\",\"ticks\":\"\"},\"radialaxis\":{\"gridcolor\":\"white\",\"linecolor\":\"white\",\"ticks\":\"\"}},\"ternary\":{\"bgcolor\":\"#E5ECF6\",\"aaxis\":{\"gridcolor\":\"white\",\"linecolor\":\"white\",\"ticks\":\"\"},\"baxis\":{\"gridcolor\":\"white\",\"linecolor\":\"white\",\"ticks\":\"\"},\"caxis\":{\"gridcolor\":\"white\",\"linecolor\":\"white\",\"ticks\":\"\"}},\"coloraxis\":{\"colorbar\":{\"outlinewidth\":0,\"ticks\":\"\"}},\"colorscale\":{\"sequential\":[[0.0,\"#0d0887\"],[0.1111111111111111,\"#46039f\"],[0.2222222222222222,\"#7201a8\"],[0.3333333333333333,\"#9c179e\"],[0.4444444444444444,\"#bd3786\"],[0.5555555555555556,\"#d8576b\"],[0.6666666666666666,\"#ed7953\"],[0.7777777777777778,\"#fb9f3a\"],[0.8888888888888888,\"#fdca26\"],[1.0,\"#f0f921\"]],\"sequentialminus\":[[0.0,\"#0d0887\"],[0.1111111111111111,\"#46039f\"],[0.2222222222222222,\"#7201a8\"],[0.3333333333333333,\"#9c179e\"],[0.4444444444444444,\"#bd3786\"],[0.5555555555555556,\"#d8576b\"],[0.6666666666666666,\"#ed7953\"],[0.7777777777777778,\"#fb9f3a\"],[0.8888888888888888,\"#fdca26\"],[1.0,\"#f0f921\"]],\"diverging\":[[0,\"#8e0152\"],[0.1,\"#c51b7d\"],[0.2,\"#de77ae\"],[0.3,\"#f1b6da\"],[0.4,\"#fde0ef\"],[0.5,\"#f7f7f7\"],[0.6,\"#e6f5d0\"],[0.7,\"#b8e186\"],[0.8,\"#7fbc41\"],[0.9,\"#4d9221\"],[1,\"#276419\"]]},\"xaxis\":{\"gridcolor\":\"white\",\"linecolor\":\"white\",\"ticks\":\"\",\"title\":{\"standoff\":15},\"zerolinecolor\":\"white\",\"automargin\":true,\"zerolinewidth\":2},\"yaxis\":{\"gridcolor\":\"white\",\"linecolor\":\"white\",\"ticks\":\"\",\"title\":{\"standoff\":15},\"zerolinecolor\":\"white\",\"automargin\":true,\"zerolinewidth\":2},\"scene\":{\"xaxis\":{\"backgroundcolor\":\"#E5ECF6\",\"gridcolor\":\"white\",\"linecolor\":\"white\",\"showbackground\":true,\"ticks\":\"\",\"zerolinecolor\":\"white\",\"gridwidth\":2},\"yaxis\":{\"backgroundcolor\":\"#E5ECF6\",\"gridcolor\":\"white\",\"linecolor\":\"white\",\"showbackground\":true,\"ticks\":\"\",\"zerolinecolor\":\"white\",\"gridwidth\":2},\"zaxis\":{\"backgroundcolor\":\"#E5ECF6\",\"gridcolor\":\"white\",\"linecolor\":\"white\",\"showbackground\":true,\"ticks\":\"\",\"zerolinecolor\":\"white\",\"gridwidth\":2}},\"shapedefaults\":{\"line\":{\"color\":\"#2a3f5f\"}},\"annotationdefaults\":{\"arrowcolor\":\"#2a3f5f\",\"arrowhead\":0,\"arrowwidth\":1},\"geo\":{\"bgcolor\":\"white\",\"landcolor\":\"#E5ECF6\",\"subunitcolor\":\"white\",\"showland\":true,\"showlakes\":true,\"lakecolor\":\"white\"},\"title\":{\"x\":0.05},\"mapbox\":{\"style\":\"light\"}}},\"xaxis\":{\"anchor\":\"y\",\"domain\":[0.0,1.0],\"title\":{\"text\":\"net worth\"}},\"yaxis\":{\"anchor\":\"x\",\"domain\":[0.0,1.0],\"title\":{\"text\":\"car purchase amount\"}},\"coloraxis\":{\"colorbar\":{\"title\":{\"text\":\"net worth\"}},\"colorscale\":[[0.0,\"#0d0887\"],[0.1111111111111111,\"#46039f\"],[0.2222222222222222,\"#7201a8\"],[0.3333333333333333,\"#9c179e\"],[0.4444444444444444,\"#bd3786\"],[0.5555555555555556,\"#d8576b\"],[0.6666666666666666,\"#ed7953\"],[0.7777777777777778,\"#fb9f3a\"],[0.8888888888888888,\"#fdca26\"],[1.0,\"#f0f921\"]]},\"legend\":{\"tracegroupgap\":0},\"title\":{\"text\":\"\\u003cb\\u003enet worth Versus purchase amount\"}},                        {\"responsive\": true}                    ).then(function(){\n",
       "                            \n",
       "var gd = document.getElementById('470f69d6-ad1b-411d-8493-518d49b625f3');\n",
       "var x = new MutationObserver(function (mutations, observer) {{\n",
       "        var display = window.getComputedStyle(gd).display;\n",
       "        if (!display || display === 'none') {{\n",
       "            console.log([gd, 'removed!']);\n",
       "            Plotly.purge(gd);\n",
       "            observer.disconnect();\n",
       "        }}\n",
       "}});\n",
       "\n",
       "// Listen for the removal of the full notebook cells\n",
       "var notebookContainer = gd.closest('#notebook-container');\n",
       "if (notebookContainer) {{\n",
       "    x.observe(notebookContainer, {childList: true});\n",
       "}}\n",
       "\n",
       "// Listen for the clearing of the current output cell\n",
       "var outputEl = gd.closest('.output');\n",
       "if (outputEl) {{\n",
       "    x.observe(outputEl, {childList: true});\n",
       "}}\n",
       "\n",
       "                        })                };                });            </script>        </div>"
      ]
     },
     "metadata": {},
     "output_type": "display_data"
    }
   ],
   "source": [
    "px.scatter(df,x='net worth',y='car purchase amount',color='net worth',title='<b>net worth Versus purchase amount')"
   ]
  },
  {
   "cell_type": "code",
   "execution_count": 11,
   "id": "3239c57e",
   "metadata": {
    "execution": {
     "iopub.execute_input": "2023-12-10T07:09:15.199665Z",
     "iopub.status.busy": "2023-12-10T07:09:15.199187Z",
     "iopub.status.idle": "2023-12-10T07:09:15.277443Z",
     "shell.execute_reply": "2023-12-10T07:09:15.276613Z"
    },
    "papermill": {
     "duration": 0.094092,
     "end_time": "2023-12-10T07:09:15.280378",
     "exception": false,
     "start_time": "2023-12-10T07:09:15.186286",
     "status": "completed"
    },
    "tags": []
   },
   "outputs": [
    {
     "data": {
      "text/html": [
       "<div>                            <div id=\"0d174da0-865c-4015-8c82-1520763cb152\" class=\"plotly-graph-div\" style=\"height:525px; width:100%;\"></div>            <script type=\"text/javascript\">                require([\"plotly\"], function(Plotly) {                    window.PLOTLYENV=window.PLOTLYENV || {};                                    if (document.getElementById(\"0d174da0-865c-4015-8c82-1520763cb152\")) {                    Plotly.newPlot(                        \"0d174da0-865c-4015-8c82-1520763cb152\",                        [{\"hovertemplate\":\"annual Salary=%{marker.color}\\u003cbr\\u003ecar purchase amount=%{y}\\u003cextra\\u003e\\u003c\\u002fextra\\u003e\",\"legendgroup\":\"\",\"marker\":{\"color\":[62812.09301,66646.89292,53798.55112,79370.03798,59729.1513,68499.85162,39814.522,51752.23445,58139.2591,53457.10132,73348.70745,55421.65733,37336.3383,68304.47298,72776.00382,64662.30061,63259.87837,52682.06401,54503.14423,55368.23716,63435.86304,64347.34531,65176.69055,52027.63837,69612.0123,53065.57175,82842.53385,61388.62709,100000.0,62891.86556,39627.1248,68859.56489,82358.22683,67904.39895,65311.68225,59593.2624,47460.54809,43131.78411,52263.69806,80959.5331,66417.66597,58457.41492,50571.45969,50943.16256,79792.13096,70787.27764,56098.50773,57478.37922,60181.40633,74445.08168,38406.7789,64616.6881,68107.93144,72471.81532,35069.41886,52422.94691,84467.78988,51419.50777,46609.51626,55207.45679,46689.4159,71847.2544,69236.68608,54006.77851,47228.35999,70187.50328,62262.94845,59195.82899,48716.67271,66478.00967,50280.0045,57393.82872,63429.93141,59139.2108,67015.19372,69157.4521,50867.94007,53450.90036,70463.99084,52697.15192,71055.41924,55406.46215,48567.07462,69506.62127,69453.71659,36929.35124,63087.95261,50889.34054,58065.25694,20000.0,60536.20406,50667.69759,44376.62221,75958.28349,70896.72853,56009.73073,90556.62686,71716.45662,68502.10943,46261.42666,61858.19077,49483.83262,68289.18229,47399.22827,63975.0609,75460.52362,51075.46118,42433.54619,61922.8971,69946.93924,73476.42249,75571.20188,82573.01132,50649.64492,53427.46192,75247.18061,69175.19403,84171.16719,45721.66835,54355.7595,77206.48386,57005.18595,65809.10782,65468.1442,60991.82443,61809.07451,66905.47644,65131.25015,83626.30783,64328.27892,69255.98753,60575.12604,63729.12568,64315.73671,51419.01644,53870.48483,56895.23153,52534.20778,52632.97124,42375.21424,65617.29175,49398.74439,63869.64928,60871.18248,68090.5087,54122.87827,59316.93704,38779.18396,88292.73205,68688.40199,51906.85022,52373.79446,73768.12453,55576.84068,59689.81438,55381.53225,34154.77654,54382.7481,65919.59731,39488.45582,72637.84482,67247.07698,71271.84407,71693.44742,57860.53103,69142.08412,52477.66494,47592.04749,48123.36983,76916.41515,65714.46469,40346.06491,71148.20248,81757.66856,64867.14911,70051.94033,62043.16623,85186.48921,47127.41632,61177.08698,57770.36488,60432.40367,58999.88858,62645.95516,68782.15718,67545.96382,42415.48867,44617.98314,72226.5603,48958.90535,86067.83527,65554.4018,69248.4953,59331.23555,52323.2448,63552.85175,75116.10613,38284.02013,55293.50777,63210.76235,54918.38749,57262.79581,72299.9501,50241.48985,65834.56889,60382.17885,68691.17086,65446.65687,42978.34284,58143.06285,61666.2852,64854.33966,45757.15568,73096.50927,67249.05932,77165.81297,72316.18286,68431.27055,62311.11641,53229.14547,77662.1109,69494.69783,61063.35631,79368.91741,61693.44352,47211.66812,69897.75291,63675.93263,72302.03223,63687.4988,63678.15468,77435.46545,62721.40514,70842.83518,55285.98625,72002.0552,41434.51258,60404.38394,65239.06468,62939.12851,60608.40313,56118.39601,86706.33333,41236.36497,77146.27598,56437.30404,70703.85013,69810.46265,54279.39597,70334.42787,59168.00751,61889.61618,66013.95174,55434.04046,68499.69447,54749.88645,74590.25495,67772.66646,62563.57825,70361.01504,74810.89471,49346.405,73426.08521,47684.46306,72939.83195,72277.82609,53921.33351,65312.96755,55619.34152,70914.59993,33422.99683,53382.42693,74173.39239,53587.12801,58011.6339,69171.95281,66779.91374,79173.0767,63065.12164,65530.36401,63732.3931,62689.53964,51539.93045,59060.08664,62713.78149,44747.66132,65529.70333,62426.52379,73498.30715,86565.15641,46549.16329,70111.5398,66747.66857,72025.6768,70737.29383,57455.7609,60657.59355,50694.42707,55369.72784,82425.64679,82094.10712,74090.51299,73935.74201,75719.22986,47054.14246,42003.01617,74418.55717,52786.1971,78804.99824,66932.47176,56066.07685,48591.57177,38213.88844,56444.76848,67080.6142,83333.81054,73502.12458,88816.02695,70381.37499,67647.74764,79781.90126,64665.39122,58837.97088,49607.23466,67032.16445,65245.57379,56174.3433,47227.01542,40300.49467,45504.74866,50017.38154,66226.72902,41361.95045,56687.41273,68114.60169,51086.88482,71921.45038,56807.01728,43019.8475,63875.20999,41587.39238,49661.96712,92471.17612,70136.82862,52664.71719,55618.06942,54912.44043,56692.78044,63561.04525,62788.93529,38453.86033,59486.27073,68149.63056,49393.46784,72262.20245,64494.39535,54362.70307,55657.65681,73512.41269,70621.52393,70275.68706,74420.10254,54395.05356,60384.34541,66813.664,84120.95497,54236.62092,64426.59613,71150.19894,60325.20676,91083.73918,60380.22868,72948.11812,74834.57117,67752.38329,59205.89035,64874.03368,63305.84963,74176.2079,47230.92278,65980.95617,51428.66337,75381.07571,54742.3946,76245.2434,60409.75787,57600.59673,71371.92544,79444.01301,47569.44212,71193.72803,46412.82136,57368.05622,65826.12291,61824.8798,61723.00613,72310.39623,67548.77415,62175.68945,60584.85458,66655.4142,63718.8812,60862.97749,67508.12293,61639.76386,63172.95729,58653.6591,40558.75456,76870.00765,71948.80529,67629.84819,67121.32166,57376.4803,56944.87077,60174.05765,81997.33071,36960.76994,64412.43101,70076.22764,72016.92459,63186.12783,76086.84122,74445.72702,85475.64202,51111.76605,79064.9559,55514.9934,75901.81829,56687.93949,59801.06311,57303.83325,43412.86301,58948.93261,56086.45033,80015.83115,41409.2939,40387.9207,48746.71666,70230.15498,64961.39305,57777.15558,54447.15275,59712.31101,65605.41798,70467.29492,76318.87883,77657.56243,60487.90116,67729.9725,49463.0635,65850.47688,66505.38124,58260.57232,45092.74073,63845.77186,55293.575,87598.01501,71753.30877,45368.15561,45362.66982,40727.39196,58632.58875,66680.2741,75892.3053,59297.41631,92455.72807,32697.98161,55418.75606,68921.40213,43739.97829,81565.95967,65364.06334,65019.15701,58243.17992,73558.87334,66088.02369,54441.72437,60101.79725,50153.43545,61430.93415,65846.5096,55433.61187,62979.60196,76523.33258,63956.1618,39460.00348,66923.43536,50051.14039,61575.9502,64430.07398,63722.00164,78518.21527,72424.80112,77665.17195,77345.61633,71942.40291,56039.49793,68888.77805,49811.99062,61370.67766],\"coloraxis\":\"coloraxis\",\"symbol\":\"circle\"},\"mode\":\"markers\",\"name\":\"\",\"orientation\":\"v\",\"showlegend\":false,\"x\":[62812.09301,66646.89292,53798.55112,79370.03798,59729.1513,68499.85162,39814.522,51752.23445,58139.2591,53457.10132,73348.70745,55421.65733,37336.3383,68304.47298,72776.00382,64662.30061,63259.87837,52682.06401,54503.14423,55368.23716,63435.86304,64347.34531,65176.69055,52027.63837,69612.0123,53065.57175,82842.53385,61388.62709,100000.0,62891.86556,39627.1248,68859.56489,82358.22683,67904.39895,65311.68225,59593.2624,47460.54809,43131.78411,52263.69806,80959.5331,66417.66597,58457.41492,50571.45969,50943.16256,79792.13096,70787.27764,56098.50773,57478.37922,60181.40633,74445.08168,38406.7789,64616.6881,68107.93144,72471.81532,35069.41886,52422.94691,84467.78988,51419.50777,46609.51626,55207.45679,46689.4159,71847.2544,69236.68608,54006.77851,47228.35999,70187.50328,62262.94845,59195.82899,48716.67271,66478.00967,50280.0045,57393.82872,63429.93141,59139.2108,67015.19372,69157.4521,50867.94007,53450.90036,70463.99084,52697.15192,71055.41924,55406.46215,48567.07462,69506.62127,69453.71659,36929.35124,63087.95261,50889.34054,58065.25694,20000.0,60536.20406,50667.69759,44376.62221,75958.28349,70896.72853,56009.73073,90556.62686,71716.45662,68502.10943,46261.42666,61858.19077,49483.83262,68289.18229,47399.22827,63975.0609,75460.52362,51075.46118,42433.54619,61922.8971,69946.93924,73476.42249,75571.20188,82573.01132,50649.64492,53427.46192,75247.18061,69175.19403,84171.16719,45721.66835,54355.7595,77206.48386,57005.18595,65809.10782,65468.1442,60991.82443,61809.07451,66905.47644,65131.25015,83626.30783,64328.27892,69255.98753,60575.12604,63729.12568,64315.73671,51419.01644,53870.48483,56895.23153,52534.20778,52632.97124,42375.21424,65617.29175,49398.74439,63869.64928,60871.18248,68090.5087,54122.87827,59316.93704,38779.18396,88292.73205,68688.40199,51906.85022,52373.79446,73768.12453,55576.84068,59689.81438,55381.53225,34154.77654,54382.7481,65919.59731,39488.45582,72637.84482,67247.07698,71271.84407,71693.44742,57860.53103,69142.08412,52477.66494,47592.04749,48123.36983,76916.41515,65714.46469,40346.06491,71148.20248,81757.66856,64867.14911,70051.94033,62043.16623,85186.48921,47127.41632,61177.08698,57770.36488,60432.40367,58999.88858,62645.95516,68782.15718,67545.96382,42415.48867,44617.98314,72226.5603,48958.90535,86067.83527,65554.4018,69248.4953,59331.23555,52323.2448,63552.85175,75116.10613,38284.02013,55293.50777,63210.76235,54918.38749,57262.79581,72299.9501,50241.48985,65834.56889,60382.17885,68691.17086,65446.65687,42978.34284,58143.06285,61666.2852,64854.33966,45757.15568,73096.50927,67249.05932,77165.81297,72316.18286,68431.27055,62311.11641,53229.14547,77662.1109,69494.69783,61063.35631,79368.91741,61693.44352,47211.66812,69897.75291,63675.93263,72302.03223,63687.4988,63678.15468,77435.46545,62721.40514,70842.83518,55285.98625,72002.0552,41434.51258,60404.38394,65239.06468,62939.12851,60608.40313,56118.39601,86706.33333,41236.36497,77146.27598,56437.30404,70703.85013,69810.46265,54279.39597,70334.42787,59168.00751,61889.61618,66013.95174,55434.04046,68499.69447,54749.88645,74590.25495,67772.66646,62563.57825,70361.01504,74810.89471,49346.405,73426.08521,47684.46306,72939.83195,72277.82609,53921.33351,65312.96755,55619.34152,70914.59993,33422.99683,53382.42693,74173.39239,53587.12801,58011.6339,69171.95281,66779.91374,79173.0767,63065.12164,65530.36401,63732.3931,62689.53964,51539.93045,59060.08664,62713.78149,44747.66132,65529.70333,62426.52379,73498.30715,86565.15641,46549.16329,70111.5398,66747.66857,72025.6768,70737.29383,57455.7609,60657.59355,50694.42707,55369.72784,82425.64679,82094.10712,74090.51299,73935.74201,75719.22986,47054.14246,42003.01617,74418.55717,52786.1971,78804.99824,66932.47176,56066.07685,48591.57177,38213.88844,56444.76848,67080.6142,83333.81054,73502.12458,88816.02695,70381.37499,67647.74764,79781.90126,64665.39122,58837.97088,49607.23466,67032.16445,65245.57379,56174.3433,47227.01542,40300.49467,45504.74866,50017.38154,66226.72902,41361.95045,56687.41273,68114.60169,51086.88482,71921.45038,56807.01728,43019.8475,63875.20999,41587.39238,49661.96712,92471.17612,70136.82862,52664.71719,55618.06942,54912.44043,56692.78044,63561.04525,62788.93529,38453.86033,59486.27073,68149.63056,49393.46784,72262.20245,64494.39535,54362.70307,55657.65681,73512.41269,70621.52393,70275.68706,74420.10254,54395.05356,60384.34541,66813.664,84120.95497,54236.62092,64426.59613,71150.19894,60325.20676,91083.73918,60380.22868,72948.11812,74834.57117,67752.38329,59205.89035,64874.03368,63305.84963,74176.2079,47230.92278,65980.95617,51428.66337,75381.07571,54742.3946,76245.2434,60409.75787,57600.59673,71371.92544,79444.01301,47569.44212,71193.72803,46412.82136,57368.05622,65826.12291,61824.8798,61723.00613,72310.39623,67548.77415,62175.68945,60584.85458,66655.4142,63718.8812,60862.97749,67508.12293,61639.76386,63172.95729,58653.6591,40558.75456,76870.00765,71948.80529,67629.84819,67121.32166,57376.4803,56944.87077,60174.05765,81997.33071,36960.76994,64412.43101,70076.22764,72016.92459,63186.12783,76086.84122,74445.72702,85475.64202,51111.76605,79064.9559,55514.9934,75901.81829,56687.93949,59801.06311,57303.83325,43412.86301,58948.93261,56086.45033,80015.83115,41409.2939,40387.9207,48746.71666,70230.15498,64961.39305,57777.15558,54447.15275,59712.31101,65605.41798,70467.29492,76318.87883,77657.56243,60487.90116,67729.9725,49463.0635,65850.47688,66505.38124,58260.57232,45092.74073,63845.77186,55293.575,87598.01501,71753.30877,45368.15561,45362.66982,40727.39196,58632.58875,66680.2741,75892.3053,59297.41631,92455.72807,32697.98161,55418.75606,68921.40213,43739.97829,81565.95967,65364.06334,65019.15701,58243.17992,73558.87334,66088.02369,54441.72437,60101.79725,50153.43545,61430.93415,65846.5096,55433.61187,62979.60196,76523.33258,63956.1618,39460.00348,66923.43536,50051.14039,61575.9502,64430.07398,63722.00164,78518.21527,72424.80112,77665.17195,77345.61633,71942.40291,56039.49793,68888.77805,49811.99062,61370.67766],\"xaxis\":\"x\",\"y\":[35321.45877,45115.52566,42925.70921,67422.36313,55915.46248,56611.99784,28925.70549,47434.98265,48013.6141,38189.50601,59045.51309,42288.81046,28700.0334,49258.87571,49510.03356,53017.26723,41814.72067,43901.71244,44633.99241,54827.52403,51130.95379,43402.31525,47240.86004,46635.49432,45078.40193,44387.58412,37161.55393,49091.97185,58350.31809,43994.35972,17584.56963,44650.36073,66363.89316,53489.46214,39810.34817,51612.14311,38978.67458,10092.22509,35928.52404,54823.19221,45805.67186,41567.47033,28031.20985,27815.73813,68678.4352,68925.09447,34215.7615,37843.46619,37883.24231,48734.35708,27187.23914,63738.39065,48266.75516,46381.13111,31978.9799,48100.29052,47380.91224,41425.00116,38147.81018,32737.80177,37348.13737,47483.85316,49730.53339,40093.61981,42297.5062,52954.93121,48104.11184,43680.91327,52707.96816,49392.8897,30841.00154,49373.37555,41903.65171,45058.8969,52991.52667,50958.08115,41357.17897,44434.71917,38502.42392,41221.24918,38399.46139,41456.68097,30394.82494,42384.05128,39002.0771,19553.2739,45167.32542,36019.9556,50937.93844,12895.71468,38955.21919,51221.04249,25971.95673,60670.33672,54075.12064,40004.87142,61593.52058,39503.38829,52474.71839,42187.6828,57441.44414,22681.71667,33640.73697,31540.77868,60461.24268,45738.3343,34803.82395,34642.6024,27586.71854,54973.02495,49142.51174,58840.53964,57306.32866,51941.6756,30240.60975,67120.89878,42408.02625,41451.71843,42592.88647,34521.17618,42213.69644,41913.53713,59416.18101,51402.61506,54755.42038,47143.44008,64391.68906,37252.55194,52665.36511,44001.20706,51551.67997,38243.66481,39766.64804,40077.57289,33131.52734,48622.66097,47693.23482,39410.4616,33428.40183,32700.27871,62864.43011,29425.83001,44418.60955,36645.5609,53655.53859,45977.12502,38504.39444,47935.9394,60222.22672,38930.55234,27810.21814,47604.34591,42356.6895,31300.54347,42369.64247,31837.22537,26499.31418,38172.83602,39433.40631,37714.31659,57125.41541,46453.34819,43855.06077,55592.70383,42484.02283,40879.19107,20653.21409,35438.80549,36112.79346,38182.30465,41026.02421,27889.95197,43724.4896,57430.76903,41104.07108,49050.85378,41265.52929,64545.16339,29052.09521,30719.8156,38763.11306,39331.20127,32608.45468,58045.56257,54387.27727,36638.20688,39522.13129,42978.34626,60865.76396,46380.44732,56579.90338,42774.35579,37879.65385,45208.42539,56229.4127,50455.11935,49721.31082,31696.99679,49220.0218,46188.83514,36086.93161,43264.04965,40660.38317,51683.60859,44525.02085,48518.90163,45805.30588,54850.38742,32478.44758,42209.28948,55125.93237,47984.42062,43405.89086,44577.44829,37744.54285,47805.25605,44846.68557,46643.26581,56563.98675,41673.44617,61118.46947,37303.56701,46892.26617,56457.74038,45509.69732,27625.44144,46389.50237,29002.05665,51355.7106,42011.19965,52654.40455,44432.71747,46054.60253,58235.41454,42990.29255,50702.18103,47009.57741,49399.97041,42997.16761,44434.98419,46325.50959,46846.7305,56499.10202,42773.75905,52313.98392,34139.6373,60763.24731,66158.69494,31215.6421,46135.27233,56973.18105,24184.07443,49079.61942,37093.92033,43401.56612,29092.1311,48349.16457,33261.00057,41327.16554,49336.11628,51405.55229,31249.98803,43598.96993,48300.02057,54013.47595,38674.66038,37076.82508,37947.85125,41320.07256,66888.93694,12536.93842,39549.13039,52709.08196,53502.97742,52116.90791,38705.65839,48025.02542,59483.91183,35911.64559,41034.28343,51730.17434,53021.86074,32828.03477,29417.64694,57461.51158,50441.62427,41575.34739,46412.47781,47610.11718,70878.29664,55543.38497,53848.7555,39904.81613,44736.41097,46937.17422,28440.81268,38148.00163,42747.53925,29670.83337,63038.20422,63248.76188,42321.56548,44463.30502,67092.23276,22091.11839,40022.17406,56071.61377,49442.12107,42497.72862,37084.77621,51866.48719,35716.31133,39892.93343,35781.16156,42866.21274,80000.0,60526.97788,59758.73247,39606.24598,58641.71051,52983.89411,50666.88173,59625.02618,22630.25982,41137.89459,53496.48183,36543.93642,43503.97349,31146.71078,31526.04931,31083.70271,45366.35963,25252.93221,39888.59789,52240.72866,39911.6116,45857.75365,30826.10903,39422.79389,34678.83226,23517.91983,28733.68779,59096.26978,50188.86612,35659.12237,46398.35204,32291.18978,49079.29461,49348.88394,41427.59797,24221.99937,44424.07681,60390.06616,42793.9932,46935.72774,58667.06865,38042.80065,39270.57909,54606.18769,39083.94268,47984.12043,46082.80993,30964.07804,35726.95299,49065.1634,48955.85816,37183.10293,46710.52519,52889.56257,29754.66271,60960.83428,39975.43302,38545.80328,56764.44728,63079.84329,55700.83389,36367.18452,52477.83479,50296.67496,37259.84386,47715.96049,29540.87013,60567.18837,36125.48846,57303.87131,51922.07691,35848.82935,42704.3221,55174.98946,26599.90843,53993.44322,47970.76767,43641.65727,41679.7929,63140.05082,30757.65726,65592.22012,37871.7082,42919.5196,22599.45863,70598.96768,43242.58224,38138.57511,30419.8,63868.94051,45112.94547,44361.87507,19525.29827,49991.60697,61731.71426,41769.38288,46402.53583,37376.63439,33766.6413,30667.60927,52056.41478,30736.5798,39439.45349,38174.87433,40589.8625,62028.71192,48465.27211,40095.0498,49568.47685,31408.62631,47719.47741,35784.42411,42905.53815,48516.84335,45593.6849,32061.6467,32208.37522,35475.00344,29519.56184,55420.56668,42139.64528,50539.90169,34922.42846,43898.2733,39135.03023,41147.46679,24134.59205,42705.11311,38901.60925,28645.39425,52150.41786,66648.25077,42909.27129,49248.10595,27303.17104,47869.82593,59984.16361,45271.46081,9000.0,46012.10616,32967.20191,48785.15839,45824.5656,40102.11417,35457.1486,29556.7932,38243.06228,44430.63323,51046.42226,52570.36517,61404.22578,28463.64326,27586.20078,47979.48549,28164.86039,69669.47402,48052.65091,37364.23474,44500.81936,35139.24793,55167.37361,48383.69071,35823.55471,36517.70996,53110.88052,53049.44567,21471.11367,45015.67953,55377.87697,56510.13294,47443.74443,41489.64123,32553.53423,41984.62412,59538.40327,41352.47071,52785.16947,60117.67886,47760.66427,64188.26862,48901.44342,31491.41457,64147.28888,45442.15353,45107.22566],\"yaxis\":\"y\",\"type\":\"scatter\"}],                        {\"template\":{\"data\":{\"histogram2dcontour\":[{\"type\":\"histogram2dcontour\",\"colorbar\":{\"outlinewidth\":0,\"ticks\":\"\"},\"colorscale\":[[0.0,\"#0d0887\"],[0.1111111111111111,\"#46039f\"],[0.2222222222222222,\"#7201a8\"],[0.3333333333333333,\"#9c179e\"],[0.4444444444444444,\"#bd3786\"],[0.5555555555555556,\"#d8576b\"],[0.6666666666666666,\"#ed7953\"],[0.7777777777777778,\"#fb9f3a\"],[0.8888888888888888,\"#fdca26\"],[1.0,\"#f0f921\"]]}],\"choropleth\":[{\"type\":\"choropleth\",\"colorbar\":{\"outlinewidth\":0,\"ticks\":\"\"}}],\"histogram2d\":[{\"type\":\"histogram2d\",\"colorbar\":{\"outlinewidth\":0,\"ticks\":\"\"},\"colorscale\":[[0.0,\"#0d0887\"],[0.1111111111111111,\"#46039f\"],[0.2222222222222222,\"#7201a8\"],[0.3333333333333333,\"#9c179e\"],[0.4444444444444444,\"#bd3786\"],[0.5555555555555556,\"#d8576b\"],[0.6666666666666666,\"#ed7953\"],[0.7777777777777778,\"#fb9f3a\"],[0.8888888888888888,\"#fdca26\"],[1.0,\"#f0f921\"]]}],\"heatmap\":[{\"type\":\"heatmap\",\"colorbar\":{\"outlinewidth\":0,\"ticks\":\"\"},\"colorscale\":[[0.0,\"#0d0887\"],[0.1111111111111111,\"#46039f\"],[0.2222222222222222,\"#7201a8\"],[0.3333333333333333,\"#9c179e\"],[0.4444444444444444,\"#bd3786\"],[0.5555555555555556,\"#d8576b\"],[0.6666666666666666,\"#ed7953\"],[0.7777777777777778,\"#fb9f3a\"],[0.8888888888888888,\"#fdca26\"],[1.0,\"#f0f921\"]]}],\"heatmapgl\":[{\"type\":\"heatmapgl\",\"colorbar\":{\"outlinewidth\":0,\"ticks\":\"\"},\"colorscale\":[[0.0,\"#0d0887\"],[0.1111111111111111,\"#46039f\"],[0.2222222222222222,\"#7201a8\"],[0.3333333333333333,\"#9c179e\"],[0.4444444444444444,\"#bd3786\"],[0.5555555555555556,\"#d8576b\"],[0.6666666666666666,\"#ed7953\"],[0.7777777777777778,\"#fb9f3a\"],[0.8888888888888888,\"#fdca26\"],[1.0,\"#f0f921\"]]}],\"contourcarpet\":[{\"type\":\"contourcarpet\",\"colorbar\":{\"outlinewidth\":0,\"ticks\":\"\"}}],\"contour\":[{\"type\":\"contour\",\"colorbar\":{\"outlinewidth\":0,\"ticks\":\"\"},\"colorscale\":[[0.0,\"#0d0887\"],[0.1111111111111111,\"#46039f\"],[0.2222222222222222,\"#7201a8\"],[0.3333333333333333,\"#9c179e\"],[0.4444444444444444,\"#bd3786\"],[0.5555555555555556,\"#d8576b\"],[0.6666666666666666,\"#ed7953\"],[0.7777777777777778,\"#fb9f3a\"],[0.8888888888888888,\"#fdca26\"],[1.0,\"#f0f921\"]]}],\"surface\":[{\"type\":\"surface\",\"colorbar\":{\"outlinewidth\":0,\"ticks\":\"\"},\"colorscale\":[[0.0,\"#0d0887\"],[0.1111111111111111,\"#46039f\"],[0.2222222222222222,\"#7201a8\"],[0.3333333333333333,\"#9c179e\"],[0.4444444444444444,\"#bd3786\"],[0.5555555555555556,\"#d8576b\"],[0.6666666666666666,\"#ed7953\"],[0.7777777777777778,\"#fb9f3a\"],[0.8888888888888888,\"#fdca26\"],[1.0,\"#f0f921\"]]}],\"mesh3d\":[{\"type\":\"mesh3d\",\"colorbar\":{\"outlinewidth\":0,\"ticks\":\"\"}}],\"scatter\":[{\"fillpattern\":{\"fillmode\":\"overlay\",\"size\":10,\"solidity\":0.2},\"type\":\"scatter\"}],\"parcoords\":[{\"type\":\"parcoords\",\"line\":{\"colorbar\":{\"outlinewidth\":0,\"ticks\":\"\"}}}],\"scatterpolargl\":[{\"type\":\"scatterpolargl\",\"marker\":{\"colorbar\":{\"outlinewidth\":0,\"ticks\":\"\"}}}],\"bar\":[{\"error_x\":{\"color\":\"#2a3f5f\"},\"error_y\":{\"color\":\"#2a3f5f\"},\"marker\":{\"line\":{\"color\":\"#E5ECF6\",\"width\":0.5},\"pattern\":{\"fillmode\":\"overlay\",\"size\":10,\"solidity\":0.2}},\"type\":\"bar\"}],\"scattergeo\":[{\"type\":\"scattergeo\",\"marker\":{\"colorbar\":{\"outlinewidth\":0,\"ticks\":\"\"}}}],\"scatterpolar\":[{\"type\":\"scatterpolar\",\"marker\":{\"colorbar\":{\"outlinewidth\":0,\"ticks\":\"\"}}}],\"histogram\":[{\"marker\":{\"pattern\":{\"fillmode\":\"overlay\",\"size\":10,\"solidity\":0.2}},\"type\":\"histogram\"}],\"scattergl\":[{\"type\":\"scattergl\",\"marker\":{\"colorbar\":{\"outlinewidth\":0,\"ticks\":\"\"}}}],\"scatter3d\":[{\"type\":\"scatter3d\",\"line\":{\"colorbar\":{\"outlinewidth\":0,\"ticks\":\"\"}},\"marker\":{\"colorbar\":{\"outlinewidth\":0,\"ticks\":\"\"}}}],\"scattermapbox\":[{\"type\":\"scattermapbox\",\"marker\":{\"colorbar\":{\"outlinewidth\":0,\"ticks\":\"\"}}}],\"scatterternary\":[{\"type\":\"scatterternary\",\"marker\":{\"colorbar\":{\"outlinewidth\":0,\"ticks\":\"\"}}}],\"scattercarpet\":[{\"type\":\"scattercarpet\",\"marker\":{\"colorbar\":{\"outlinewidth\":0,\"ticks\":\"\"}}}],\"carpet\":[{\"aaxis\":{\"endlinecolor\":\"#2a3f5f\",\"gridcolor\":\"white\",\"linecolor\":\"white\",\"minorgridcolor\":\"white\",\"startlinecolor\":\"#2a3f5f\"},\"baxis\":{\"endlinecolor\":\"#2a3f5f\",\"gridcolor\":\"white\",\"linecolor\":\"white\",\"minorgridcolor\":\"white\",\"startlinecolor\":\"#2a3f5f\"},\"type\":\"carpet\"}],\"table\":[{\"cells\":{\"fill\":{\"color\":\"#EBF0F8\"},\"line\":{\"color\":\"white\"}},\"header\":{\"fill\":{\"color\":\"#C8D4E3\"},\"line\":{\"color\":\"white\"}},\"type\":\"table\"}],\"barpolar\":[{\"marker\":{\"line\":{\"color\":\"#E5ECF6\",\"width\":0.5},\"pattern\":{\"fillmode\":\"overlay\",\"size\":10,\"solidity\":0.2}},\"type\":\"barpolar\"}],\"pie\":[{\"automargin\":true,\"type\":\"pie\"}]},\"layout\":{\"autotypenumbers\":\"strict\",\"colorway\":[\"#636efa\",\"#EF553B\",\"#00cc96\",\"#ab63fa\",\"#FFA15A\",\"#19d3f3\",\"#FF6692\",\"#B6E880\",\"#FF97FF\",\"#FECB52\"],\"font\":{\"color\":\"#2a3f5f\"},\"hovermode\":\"closest\",\"hoverlabel\":{\"align\":\"left\"},\"paper_bgcolor\":\"white\",\"plot_bgcolor\":\"#E5ECF6\",\"polar\":{\"bgcolor\":\"#E5ECF6\",\"angularaxis\":{\"gridcolor\":\"white\",\"linecolor\":\"white\",\"ticks\":\"\"},\"radialaxis\":{\"gridcolor\":\"white\",\"linecolor\":\"white\",\"ticks\":\"\"}},\"ternary\":{\"bgcolor\":\"#E5ECF6\",\"aaxis\":{\"gridcolor\":\"white\",\"linecolor\":\"white\",\"ticks\":\"\"},\"baxis\":{\"gridcolor\":\"white\",\"linecolor\":\"white\",\"ticks\":\"\"},\"caxis\":{\"gridcolor\":\"white\",\"linecolor\":\"white\",\"ticks\":\"\"}},\"coloraxis\":{\"colorbar\":{\"outlinewidth\":0,\"ticks\":\"\"}},\"colorscale\":{\"sequential\":[[0.0,\"#0d0887\"],[0.1111111111111111,\"#46039f\"],[0.2222222222222222,\"#7201a8\"],[0.3333333333333333,\"#9c179e\"],[0.4444444444444444,\"#bd3786\"],[0.5555555555555556,\"#d8576b\"],[0.6666666666666666,\"#ed7953\"],[0.7777777777777778,\"#fb9f3a\"],[0.8888888888888888,\"#fdca26\"],[1.0,\"#f0f921\"]],\"sequentialminus\":[[0.0,\"#0d0887\"],[0.1111111111111111,\"#46039f\"],[0.2222222222222222,\"#7201a8\"],[0.3333333333333333,\"#9c179e\"],[0.4444444444444444,\"#bd3786\"],[0.5555555555555556,\"#d8576b\"],[0.6666666666666666,\"#ed7953\"],[0.7777777777777778,\"#fb9f3a\"],[0.8888888888888888,\"#fdca26\"],[1.0,\"#f0f921\"]],\"diverging\":[[0,\"#8e0152\"],[0.1,\"#c51b7d\"],[0.2,\"#de77ae\"],[0.3,\"#f1b6da\"],[0.4,\"#fde0ef\"],[0.5,\"#f7f7f7\"],[0.6,\"#e6f5d0\"],[0.7,\"#b8e186\"],[0.8,\"#7fbc41\"],[0.9,\"#4d9221\"],[1,\"#276419\"]]},\"xaxis\":{\"gridcolor\":\"white\",\"linecolor\":\"white\",\"ticks\":\"\",\"title\":{\"standoff\":15},\"zerolinecolor\":\"white\",\"automargin\":true,\"zerolinewidth\":2},\"yaxis\":{\"gridcolor\":\"white\",\"linecolor\":\"white\",\"ticks\":\"\",\"title\":{\"standoff\":15},\"zerolinecolor\":\"white\",\"automargin\":true,\"zerolinewidth\":2},\"scene\":{\"xaxis\":{\"backgroundcolor\":\"#E5ECF6\",\"gridcolor\":\"white\",\"linecolor\":\"white\",\"showbackground\":true,\"ticks\":\"\",\"zerolinecolor\":\"white\",\"gridwidth\":2},\"yaxis\":{\"backgroundcolor\":\"#E5ECF6\",\"gridcolor\":\"white\",\"linecolor\":\"white\",\"showbackground\":true,\"ticks\":\"\",\"zerolinecolor\":\"white\",\"gridwidth\":2},\"zaxis\":{\"backgroundcolor\":\"#E5ECF6\",\"gridcolor\":\"white\",\"linecolor\":\"white\",\"showbackground\":true,\"ticks\":\"\",\"zerolinecolor\":\"white\",\"gridwidth\":2}},\"shapedefaults\":{\"line\":{\"color\":\"#2a3f5f\"}},\"annotationdefaults\":{\"arrowcolor\":\"#2a3f5f\",\"arrowhead\":0,\"arrowwidth\":1},\"geo\":{\"bgcolor\":\"white\",\"landcolor\":\"#E5ECF6\",\"subunitcolor\":\"white\",\"showland\":true,\"showlakes\":true,\"lakecolor\":\"white\"},\"title\":{\"x\":0.05},\"mapbox\":{\"style\":\"light\"}}},\"xaxis\":{\"anchor\":\"y\",\"domain\":[0.0,1.0],\"title\":{\"text\":\"annual Salary\"}},\"yaxis\":{\"anchor\":\"x\",\"domain\":[0.0,1.0],\"title\":{\"text\":\"car purchase amount\"}},\"coloraxis\":{\"colorbar\":{\"title\":{\"text\":\"annual Salary\"}},\"colorscale\":[[0.0,\"#0d0887\"],[0.1111111111111111,\"#46039f\"],[0.2222222222222222,\"#7201a8\"],[0.3333333333333333,\"#9c179e\"],[0.4444444444444444,\"#bd3786\"],[0.5555555555555556,\"#d8576b\"],[0.6666666666666666,\"#ed7953\"],[0.7777777777777778,\"#fb9f3a\"],[0.8888888888888888,\"#fdca26\"],[1.0,\"#f0f921\"]]},\"legend\":{\"tracegroupgap\":0},\"title\":{\"text\":\"\\u003cb\\u003eannual Salary Versus purchase amount\"}},                        {\"responsive\": true}                    ).then(function(){\n",
       "                            \n",
       "var gd = document.getElementById('0d174da0-865c-4015-8c82-1520763cb152');\n",
       "var x = new MutationObserver(function (mutations, observer) {{\n",
       "        var display = window.getComputedStyle(gd).display;\n",
       "        if (!display || display === 'none') {{\n",
       "            console.log([gd, 'removed!']);\n",
       "            Plotly.purge(gd);\n",
       "            observer.disconnect();\n",
       "        }}\n",
       "}});\n",
       "\n",
       "// Listen for the removal of the full notebook cells\n",
       "var notebookContainer = gd.closest('#notebook-container');\n",
       "if (notebookContainer) {{\n",
       "    x.observe(notebookContainer, {childList: true});\n",
       "}}\n",
       "\n",
       "// Listen for the clearing of the current output cell\n",
       "var outputEl = gd.closest('.output');\n",
       "if (outputEl) {{\n",
       "    x.observe(outputEl, {childList: true});\n",
       "}}\n",
       "\n",
       "                        })                };                });            </script>        </div>"
      ]
     },
     "metadata": {},
     "output_type": "display_data"
    }
   ],
   "source": [
    "px.scatter(df,x='annual Salary',y='car purchase amount',color='annual Salary',title='<b>annual Salary Versus purchase amount')"
   ]
  },
  {
   "cell_type": "markdown",
   "id": "b34fef23",
   "metadata": {
    "papermill": {
     "duration": 0.010977,
     "end_time": "2023-12-10T07:09:15.302664",
     "exception": false,
     "start_time": "2023-12-10T07:09:15.291687",
     "status": "completed"
    },
    "tags": []
   },
   "source": [
    "<div style=\"color:white;\n",
    "            display:fill;\n",
    "            border-radius:15px;\n",
    "            background-color:BLACK;\n",
    "            font-size:100%;\n",
    "            font-family:Verdana;\n",
    "            letter-spacing:1px\">\n",
    "    <h3 style='padding: 20px;\n",
    "              color:CYAN;\n",
    "              text-align:center;'>\n",
    "        Building Model\n",
    "    </h3>\n",
    "    </div>"
   ]
  },
  {
   "cell_type": "code",
   "execution_count": 12,
   "id": "4e292e0d",
   "metadata": {
    "execution": {
     "iopub.execute_input": "2023-12-10T07:09:15.327499Z",
     "iopub.status.busy": "2023-12-10T07:09:15.326972Z",
     "iopub.status.idle": "2023-12-10T07:09:15.334144Z",
     "shell.execute_reply": "2023-12-10T07:09:15.332830Z"
    },
    "papermill": {
     "duration": 0.022914,
     "end_time": "2023-12-10T07:09:15.336688",
     "exception": false,
     "start_time": "2023-12-10T07:09:15.313774",
     "status": "completed"
    },
    "tags": []
   },
   "outputs": [],
   "source": [
    "X = df.drop('car purchase amount', axis=1)\n",
    "y = df['car purchase amount']"
   ]
  },
  {
   "cell_type": "code",
   "execution_count": 13,
   "id": "923b5b73",
   "metadata": {
    "execution": {
     "iopub.execute_input": "2023-12-10T07:09:15.361432Z",
     "iopub.status.busy": "2023-12-10T07:09:15.360973Z",
     "iopub.status.idle": "2023-12-10T07:09:15.372502Z",
     "shell.execute_reply": "2023-12-10T07:09:15.371079Z"
    },
    "papermill": {
     "duration": 0.027194,
     "end_time": "2023-12-10T07:09:15.374936",
     "exception": false,
     "start_time": "2023-12-10T07:09:15.347742",
     "status": "completed"
    },
    "tags": []
   },
   "outputs": [],
   "source": [
    "scaler = MinMaxScaler()\n",
    "X = scaler.fit_transform(X)\n",
    "y = scaler.fit_transform(y.values.reshape(-1, 1))"
   ]
  },
  {
   "cell_type": "code",
   "execution_count": 14,
   "id": "7b7fdfbd",
   "metadata": {
    "execution": {
     "iopub.execute_input": "2023-12-10T07:09:15.399627Z",
     "iopub.status.busy": "2023-12-10T07:09:15.399118Z",
     "iopub.status.idle": "2023-12-10T07:09:15.408896Z",
     "shell.execute_reply": "2023-12-10T07:09:15.406826Z"
    },
    "papermill": {
     "duration": 0.025584,
     "end_time": "2023-12-10T07:09:15.411686",
     "exception": false,
     "start_time": "2023-12-10T07:09:15.386102",
     "status": "completed"
    },
    "tags": []
   },
   "outputs": [
    {
     "name": "stdout",
     "output_type": "stream",
     "text": [
      "(400, 5)\n",
      "(400, 1)\n",
      "(100, 5)\n",
      "(100, 1)\n"
     ]
    }
   ],
   "source": [
    "X_train, X_test, y_train, y_test = train_test_split(X, y, test_size=0.2, random_state=0)\n",
    "\n",
    "print(X_train.shape)\n",
    "print(y_train.shape)\n",
    "print(X_test.shape)\n",
    "print(y_test.shape)"
   ]
  },
  {
   "cell_type": "code",
   "execution_count": 15,
   "id": "fb584bdb",
   "metadata": {
    "execution": {
     "iopub.execute_input": "2023-12-10T07:09:15.437320Z",
     "iopub.status.busy": "2023-12-10T07:09:15.436774Z",
     "iopub.status.idle": "2023-12-10T07:09:15.668441Z",
     "shell.execute_reply": "2023-12-10T07:09:15.666687Z"
    },
    "papermill": {
     "duration": 0.249365,
     "end_time": "2023-12-10T07:09:15.672627",
     "exception": false,
     "start_time": "2023-12-10T07:09:15.423262",
     "status": "completed"
    },
    "tags": []
   },
   "outputs": [
    {
     "name": "stdout",
     "output_type": "stream",
     "text": [
      "Model: \"sequential\"\n",
      "_________________________________________________________________\n",
      " Layer (type)                Output Shape              Param #   \n",
      "=================================================================\n",
      " dense (Dense)               (None, 10)                60        \n",
      "                                                                 \n",
      " dense_1 (Dense)             (None, 10)                110       \n",
      "                                                                 \n",
      " dense_2 (Dense)             (None, 1)                 11        \n",
      "                                                                 \n",
      "=================================================================\n",
      "Total params: 181 (724.00 Byte)\n",
      "Trainable params: 181 (724.00 Byte)\n",
      "Non-trainable params: 0 (0.00 Byte)\n",
      "_________________________________________________________________\n"
     ]
    }
   ],
   "source": [
    "model = Sequential()\n",
    "model.add(Dense(10, activation='relu', input_dim=5))\n",
    "model.add(Dense(10, activation='relu'))\n",
    "model.add(Dense(1, activation='linear'))\n",
    "\n",
    "model.compile(optimizer='adam', loss='mean_squared_error', metrics=['mean_absolute_error'])\n",
    "model.summary()"
   ]
  },
  {
   "cell_type": "code",
   "execution_count": 16,
   "id": "1e44fd4d",
   "metadata": {
    "execution": {
     "iopub.execute_input": "2023-12-10T07:09:15.700451Z",
     "iopub.status.busy": "2023-12-10T07:09:15.700006Z",
     "iopub.status.idle": "2023-12-10T07:09:20.424574Z",
     "shell.execute_reply": "2023-12-10T07:09:20.423117Z"
    },
    "papermill": {
     "duration": 4.741943,
     "end_time": "2023-12-10T07:09:20.427419",
     "exception": false,
     "start_time": "2023-12-10T07:09:15.685476",
     "status": "completed"
    },
    "tags": []
   },
   "outputs": [
    {
     "name": "stdout",
     "output_type": "stream",
     "text": [
      "Epoch 1/50\n",
      "10/10 [==============================] - 1s 32ms/step - loss: 0.3985 - mean_absolute_error: 0.6054 - val_loss: 0.3798 - val_mean_absolute_error: 0.5865\n",
      "Epoch 2/50\n",
      "10/10 [==============================] - 0s 8ms/step - loss: 0.3224 - mean_absolute_error: 0.5411 - val_loss: 0.3101 - val_mean_absolute_error: 0.5262\n",
      "Epoch 3/50\n",
      "10/10 [==============================] - 0s 6ms/step - loss: 0.2617 - mean_absolute_error: 0.4829 - val_loss: 0.2555 - val_mean_absolute_error: 0.4748\n",
      "Epoch 4/50\n",
      "10/10 [==============================] - 0s 7ms/step - loss: 0.2143 - mean_absolute_error: 0.4345 - val_loss: 0.2158 - val_mean_absolute_error: 0.4337\n",
      "Epoch 5/50\n",
      "10/10 [==============================] - 0s 7ms/step - loss: 0.1810 - mean_absolute_error: 0.3973 - val_loss: 0.1857 - val_mean_absolute_error: 0.3990\n",
      "Epoch 6/50\n",
      "10/10 [==============================] - 0s 6ms/step - loss: 0.1547 - mean_absolute_error: 0.3649 - val_loss: 0.1590 - val_mean_absolute_error: 0.3646\n",
      "Epoch 7/50\n",
      "10/10 [==============================] - 0s 6ms/step - loss: 0.1311 - mean_absolute_error: 0.3322 - val_loss: 0.1326 - val_mean_absolute_error: 0.3272\n",
      "Epoch 8/50\n",
      "10/10 [==============================] - 0s 6ms/step - loss: 0.1087 - mean_absolute_error: 0.2976 - val_loss: 0.1077 - val_mean_absolute_error: 0.2882\n",
      "Epoch 9/50\n",
      "10/10 [==============================] - 0s 6ms/step - loss: 0.0875 - mean_absolute_error: 0.2618 - val_loss: 0.0859 - val_mean_absolute_error: 0.2497\n",
      "Epoch 10/50\n",
      "10/10 [==============================] - 0s 5ms/step - loss: 0.0694 - mean_absolute_error: 0.2261 - val_loss: 0.0672 - val_mean_absolute_error: 0.2139\n",
      "Epoch 11/50\n",
      "10/10 [==============================] - 0s 5ms/step - loss: 0.0547 - mean_absolute_error: 0.1948 - val_loss: 0.0526 - val_mean_absolute_error: 0.1839\n",
      "Epoch 12/50\n",
      "10/10 [==============================] - 0s 7ms/step - loss: 0.0436 - mean_absolute_error: 0.1696 - val_loss: 0.0423 - val_mean_absolute_error: 0.1653\n",
      "Epoch 13/50\n",
      "10/10 [==============================] - 0s 6ms/step - loss: 0.0356 - mean_absolute_error: 0.1496 - val_loss: 0.0356 - val_mean_absolute_error: 0.1523\n",
      "Epoch 14/50\n",
      "10/10 [==============================] - 0s 5ms/step - loss: 0.0303 - mean_absolute_error: 0.1365 - val_loss: 0.0316 - val_mean_absolute_error: 0.1439\n",
      "Epoch 15/50\n",
      "10/10 [==============================] - 0s 6ms/step - loss: 0.0271 - mean_absolute_error: 0.1291 - val_loss: 0.0291 - val_mean_absolute_error: 0.1392\n",
      "Epoch 16/50\n",
      "10/10 [==============================] - 0s 5ms/step - loss: 0.0247 - mean_absolute_error: 0.1234 - val_loss: 0.0269 - val_mean_absolute_error: 0.1337\n",
      "Epoch 17/50\n",
      "10/10 [==============================] - 0s 7ms/step - loss: 0.0227 - mean_absolute_error: 0.1185 - val_loss: 0.0247 - val_mean_absolute_error: 0.1283\n",
      "Epoch 18/50\n",
      "10/10 [==============================] - 0s 6ms/step - loss: 0.0211 - mean_absolute_error: 0.1141 - val_loss: 0.0227 - val_mean_absolute_error: 0.1231\n",
      "Epoch 19/50\n",
      "10/10 [==============================] - 0s 7ms/step - loss: 0.0197 - mean_absolute_error: 0.1101 - val_loss: 0.0211 - val_mean_absolute_error: 0.1183\n",
      "Epoch 20/50\n",
      "10/10 [==============================] - 0s 6ms/step - loss: 0.0183 - mean_absolute_error: 0.1064 - val_loss: 0.0196 - val_mean_absolute_error: 0.1139\n",
      "Epoch 21/50\n",
      "10/10 [==============================] - 0s 6ms/step - loss: 0.0173 - mean_absolute_error: 0.1029 - val_loss: 0.0182 - val_mean_absolute_error: 0.1103\n",
      "Epoch 22/50\n",
      "10/10 [==============================] - 0s 6ms/step - loss: 0.0162 - mean_absolute_error: 0.0995 - val_loss: 0.0171 - val_mean_absolute_error: 0.1065\n",
      "Epoch 23/50\n",
      "10/10 [==============================] - 0s 6ms/step - loss: 0.0153 - mean_absolute_error: 0.0966 - val_loss: 0.0162 - val_mean_absolute_error: 0.1031\n",
      "Epoch 24/50\n",
      "10/10 [==============================] - 0s 6ms/step - loss: 0.0145 - mean_absolute_error: 0.0940 - val_loss: 0.0153 - val_mean_absolute_error: 0.1005\n",
      "Epoch 25/50\n",
      "10/10 [==============================] - 0s 7ms/step - loss: 0.0140 - mean_absolute_error: 0.0925 - val_loss: 0.0146 - val_mean_absolute_error: 0.0983\n",
      "Epoch 26/50\n",
      "10/10 [==============================] - 0s 6ms/step - loss: 0.0134 - mean_absolute_error: 0.0906 - val_loss: 0.0142 - val_mean_absolute_error: 0.0965\n",
      "Epoch 27/50\n",
      "10/10 [==============================] - 0s 5ms/step - loss: 0.0129 - mean_absolute_error: 0.0889 - val_loss: 0.0136 - val_mean_absolute_error: 0.0943\n",
      "Epoch 28/50\n",
      "10/10 [==============================] - 0s 6ms/step - loss: 0.0123 - mean_absolute_error: 0.0869 - val_loss: 0.0134 - val_mean_absolute_error: 0.0926\n",
      "Epoch 29/50\n",
      "10/10 [==============================] - 0s 6ms/step - loss: 0.0117 - mean_absolute_error: 0.0849 - val_loss: 0.0129 - val_mean_absolute_error: 0.0907\n",
      "Epoch 30/50\n",
      "10/10 [==============================] - 0s 6ms/step - loss: 0.0112 - mean_absolute_error: 0.0827 - val_loss: 0.0126 - val_mean_absolute_error: 0.0895\n",
      "Epoch 31/50\n",
      "10/10 [==============================] - 0s 6ms/step - loss: 0.0107 - mean_absolute_error: 0.0809 - val_loss: 0.0121 - val_mean_absolute_error: 0.0878\n",
      "Epoch 32/50\n",
      "10/10 [==============================] - 0s 6ms/step - loss: 0.0103 - mean_absolute_error: 0.0796 - val_loss: 0.0115 - val_mean_absolute_error: 0.0864\n",
      "Epoch 33/50\n",
      "10/10 [==============================] - 0s 6ms/step - loss: 0.0098 - mean_absolute_error: 0.0781 - val_loss: 0.0115 - val_mean_absolute_error: 0.0853\n",
      "Epoch 34/50\n",
      "10/10 [==============================] - 0s 6ms/step - loss: 0.0094 - mean_absolute_error: 0.0762 - val_loss: 0.0109 - val_mean_absolute_error: 0.0836\n",
      "Epoch 35/50\n",
      "10/10 [==============================] - 0s 7ms/step - loss: 0.0089 - mean_absolute_error: 0.0741 - val_loss: 0.0105 - val_mean_absolute_error: 0.0821\n",
      "Epoch 36/50\n",
      "10/10 [==============================] - 0s 6ms/step - loss: 0.0084 - mean_absolute_error: 0.0722 - val_loss: 0.0102 - val_mean_absolute_error: 0.0804\n",
      "Epoch 37/50\n",
      "10/10 [==============================] - 0s 5ms/step - loss: 0.0080 - mean_absolute_error: 0.0706 - val_loss: 0.0096 - val_mean_absolute_error: 0.0786\n",
      "Epoch 38/50\n",
      "10/10 [==============================] - 0s 6ms/step - loss: 0.0076 - mean_absolute_error: 0.0688 - val_loss: 0.0093 - val_mean_absolute_error: 0.0770\n",
      "Epoch 39/50\n",
      "10/10 [==============================] - 0s 6ms/step - loss: 0.0070 - mean_absolute_error: 0.0661 - val_loss: 0.0086 - val_mean_absolute_error: 0.0748\n",
      "Epoch 40/50\n",
      "10/10 [==============================] - 0s 6ms/step - loss: 0.0064 - mean_absolute_error: 0.0630 - val_loss: 0.0081 - val_mean_absolute_error: 0.0723\n",
      "Epoch 41/50\n",
      "10/10 [==============================] - 0s 5ms/step - loss: 0.0059 - mean_absolute_error: 0.0606 - val_loss: 0.0075 - val_mean_absolute_error: 0.0693\n",
      "Epoch 42/50\n",
      "10/10 [==============================] - 0s 8ms/step - loss: 0.0053 - mean_absolute_error: 0.0578 - val_loss: 0.0067 - val_mean_absolute_error: 0.0658\n",
      "Epoch 43/50\n",
      "10/10 [==============================] - 0s 6ms/step - loss: 0.0047 - mean_absolute_error: 0.0548 - val_loss: 0.0064 - val_mean_absolute_error: 0.0633\n",
      "Epoch 44/50\n",
      "10/10 [==============================] - 0s 8ms/step - loss: 0.0042 - mean_absolute_error: 0.0518 - val_loss: 0.0057 - val_mean_absolute_error: 0.0600\n",
      "Epoch 45/50\n",
      "10/10 [==============================] - 0s 9ms/step - loss: 0.0037 - mean_absolute_error: 0.0487 - val_loss: 0.0052 - val_mean_absolute_error: 0.0571\n",
      "Epoch 46/50\n",
      "10/10 [==============================] - 0s 6ms/step - loss: 0.0033 - mean_absolute_error: 0.0457 - val_loss: 0.0047 - val_mean_absolute_error: 0.0542\n",
      "Epoch 47/50\n",
      "10/10 [==============================] - 0s 6ms/step - loss: 0.0030 - mean_absolute_error: 0.0434 - val_loss: 0.0043 - val_mean_absolute_error: 0.0514\n",
      "Epoch 48/50\n",
      "10/10 [==============================] - 0s 6ms/step - loss: 0.0026 - mean_absolute_error: 0.0400 - val_loss: 0.0039 - val_mean_absolute_error: 0.0487\n",
      "Epoch 49/50\n",
      "10/10 [==============================] - 0s 6ms/step - loss: 0.0022 - mean_absolute_error: 0.0374 - val_loss: 0.0036 - val_mean_absolute_error: 0.0465\n",
      "Epoch 50/50\n",
      "10/10 [==============================] - 0s 6ms/step - loss: 0.0020 - mean_absolute_error: 0.0346 - val_loss: 0.0033 - val_mean_absolute_error: 0.0442\n"
     ]
    }
   ],
   "source": [
    "past = model.fit(X_train, y_train, epochs=50, validation_split=0.2)"
   ]
  },
  {
   "cell_type": "code",
   "execution_count": 17,
   "id": "6eaa31ff",
   "metadata": {
    "execution": {
     "iopub.execute_input": "2023-12-10T07:09:20.484173Z",
     "iopub.status.busy": "2023-12-10T07:09:20.483711Z",
     "iopub.status.idle": "2023-12-10T07:09:20.723571Z",
     "shell.execute_reply": "2023-12-10T07:09:20.721892Z"
    },
    "papermill": {
     "duration": 0.272301,
     "end_time": "2023-12-10T07:09:20.726731",
     "exception": false,
     "start_time": "2023-12-10T07:09:20.454430",
     "status": "completed"
    },
    "tags": []
   },
   "outputs": [
    {
     "name": "stdout",
     "output_type": "stream",
     "text": [
      "4/4 [==============================] - 0s 3ms/step\n"
     ]
    }
   ],
   "source": [
    "y_pred = model.predict(X_test)"
   ]
  },
  {
   "cell_type": "code",
   "execution_count": 18,
   "id": "657907b4",
   "metadata": {
    "execution": {
     "iopub.execute_input": "2023-12-10T07:09:20.783145Z",
     "iopub.status.busy": "2023-12-10T07:09:20.782685Z",
     "iopub.status.idle": "2023-12-10T07:09:20.789063Z",
     "shell.execute_reply": "2023-12-10T07:09:20.788253Z"
    },
    "papermill": {
     "duration": 0.038321,
     "end_time": "2023-12-10T07:09:20.792471",
     "exception": false,
     "start_time": "2023-12-10T07:09:20.754150",
     "status": "completed"
    },
    "tags": []
   },
   "outputs": [
    {
     "name": "stdout",
     "output_type": "stream",
     "text": [
      "R2 Score= 0.8855303315685833\n"
     ]
    }
   ],
   "source": [
    "from sklearn.metrics import r2_score\n",
    "\n",
    "R2 = r2_score(y_test, y_pred)\n",
    "print(\"R2 Score=\",R2 )"
   ]
  }
 ],
 "metadata": {
  "kaggle": {
   "accelerator": "none",
   "dataSources": [
    {
     "datasetId": 2515235,
     "sourceId": 4268549,
     "sourceType": "datasetVersion"
    }
   ],
   "dockerImageVersionId": 30615,
   "isGpuEnabled": false,
   "isInternetEnabled": true,
   "language": "python",
   "sourceType": "notebook"
  },
  "kernelspec": {
   "display_name": "Python 3",
   "language": "python",
   "name": "python3"
  },
  "language_info": {
   "codemirror_mode": {
    "name": "ipython",
    "version": 3
   },
   "file_extension": ".py",
   "mimetype": "text/x-python",
   "name": "python",
   "nbconvert_exporter": "python",
   "pygments_lexer": "ipython3",
   "version": "3.10.12"
  },
  "papermill": {
   "default_parameters": {},
   "duration": 31.237138,
   "end_time": "2023-12-10T07:09:22.548516",
   "environment_variables": {},
   "exception": null,
   "input_path": "__notebook__.ipynb",
   "output_path": "__notebook__.ipynb",
   "parameters": {},
   "start_time": "2023-12-10T07:08:51.311378",
   "version": "2.4.0"
  }
 },
 "nbformat": 4,
 "nbformat_minor": 5
}
